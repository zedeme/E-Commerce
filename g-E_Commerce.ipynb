{
  "nbformat": 4,
  "nbformat_minor": 0,
  "metadata": {
    "colab": {
      "name": "g-SegmentacionDeClientes_E-commerce.ipynb",
      "provenance": [],
      "collapsed_sections": [],
      "authorship_tag": "ABX9TyPWiCbtj2QjMfFXFUxcRSF/",
      "include_colab_link": true
    },
    "kernelspec": {
      "name": "python3",
      "display_name": "Python 3"
    },
    "language_info": {
      "name": "python"
    }
  },
  "cells": [
    {
      "cell_type": "markdown",
      "metadata": {
        "id": "view-in-github",
        "colab_type": "text"
      },
      "source": [
        "<a href=\"https://colab.research.google.com/github/zedeme/E-Commerce/blob/main/g-E_Commerce.ipynb\" target=\"_parent\"><img src=\"https://colab.research.google.com/assets/colab-badge.svg\" alt=\"Open In Colab\"/></a>"
      ]
    },
    {
      "cell_type": "markdown",
      "source": [
        "# **Segmentacion de Clientes E-Commerce**\n",
        "\n",
        "---"
      ],
      "metadata": {
        "id": "V7QJucxxOm88"
      }
    },
    {
      "cell_type": "code",
      "execution_count": 118,
      "metadata": {
        "id": "t-Hxahy9OVsA"
      },
      "outputs": [],
      "source": [
        "import pandas as pd\n",
        "import seaborn as sns\n",
        "import numpy as np\n",
        "import sys\n",
        "from plotly import express as px\n",
        "from sklearn.preprocessing import StandardScaler\n",
        "from sklearn.cluster import KMeans\n",
        "from sklearn.decomposition import PCA"
      ]
    },
    {
      "cell_type": "code",
      "source": [
        "df = pd.read_csv(\"/content/sample_data/ventas-por-factura.csv\")"
      ],
      "metadata": {
        "id": "FtzOWD2JOhJo"
      },
      "execution_count": 13,
      "outputs": []
    },
    {
      "cell_type": "code",
      "source": [
        "df"
      ],
      "metadata": {
        "colab": {
          "base_uri": "https://localhost:8080/",
          "height": 419
        },
        "id": "dWGbAqnrOiS7",
        "outputId": "8151e3ce-6319-48d9-e012-fc7080cf37e2"
      },
      "execution_count": 14,
      "outputs": [
        {
          "output_type": "execute_result",
          "data": {
            "text/html": [
              "\n",
              "  <div id=\"df-f88654be-df67-4b10-b271-40dc6cd6cdb8\">\n",
              "    <div class=\"colab-df-container\">\n",
              "      <div>\n",
              "<style scoped>\n",
              "    .dataframe tbody tr th:only-of-type {\n",
              "        vertical-align: middle;\n",
              "    }\n",
              "\n",
              "    .dataframe tbody tr th {\n",
              "        vertical-align: top;\n",
              "    }\n",
              "\n",
              "    .dataframe thead th {\n",
              "        text-align: right;\n",
              "    }\n",
              "</style>\n",
              "<table border=\"1\" class=\"dataframe\">\n",
              "  <thead>\n",
              "    <tr style=\"text-align: right;\">\n",
              "      <th></th>\n",
              "      <th>N° de factura</th>\n",
              "      <th>Fecha de factura</th>\n",
              "      <th>ID Cliente</th>\n",
              "      <th>País</th>\n",
              "      <th>Cantidad</th>\n",
              "      <th>Monto</th>\n",
              "    </tr>\n",
              "  </thead>\n",
              "  <tbody>\n",
              "    <tr>\n",
              "      <th>0</th>\n",
              "      <td>548370</td>\n",
              "      <td>3/30/2021 16:14:00</td>\n",
              "      <td>15528.0</td>\n",
              "      <td>United Kingdom</td>\n",
              "      <td>123</td>\n",
              "      <td>229.33</td>\n",
              "    </tr>\n",
              "    <tr>\n",
              "      <th>1</th>\n",
              "      <td>575767</td>\n",
              "      <td>11/11/2021 11:11:00</td>\n",
              "      <td>17348.0</td>\n",
              "      <td>United Kingdom</td>\n",
              "      <td>163</td>\n",
              "      <td>209.73</td>\n",
              "    </tr>\n",
              "    <tr>\n",
              "      <th>2</th>\n",
              "      <td>C570727</td>\n",
              "      <td>10/12/2021 11:32:00</td>\n",
              "      <td>12471.0</td>\n",
              "      <td>Germany</td>\n",
              "      <td>-1</td>\n",
              "      <td>-1.45</td>\n",
              "    </tr>\n",
              "    <tr>\n",
              "      <th>3</th>\n",
              "      <td>549106</td>\n",
              "      <td>4/6/2021 12:08:00</td>\n",
              "      <td>17045.0</td>\n",
              "      <td>United Kingdom</td>\n",
              "      <td>1</td>\n",
              "      <td>39.95</td>\n",
              "    </tr>\n",
              "    <tr>\n",
              "      <th>4</th>\n",
              "      <td>573112</td>\n",
              "      <td>10/27/2021 15:33:00</td>\n",
              "      <td>16416.0</td>\n",
              "      <td>United Kingdom</td>\n",
              "      <td>357</td>\n",
              "      <td>344.83</td>\n",
              "    </tr>\n",
              "    <tr>\n",
              "      <th>...</th>\n",
              "      <td>...</td>\n",
              "      <td>...</td>\n",
              "      <td>...</td>\n",
              "      <td>...</td>\n",
              "      <td>...</td>\n",
              "      <td>...</td>\n",
              "    </tr>\n",
              "    <tr>\n",
              "      <th>25948</th>\n",
              "      <td>C556518</td>\n",
              "      <td>6/13/2021 10:53:00</td>\n",
              "      <td>16794.0</td>\n",
              "      <td>United Kingdom</td>\n",
              "      <td>-2</td>\n",
              "      <td>-12.70</td>\n",
              "    </tr>\n",
              "    <tr>\n",
              "      <th>25949</th>\n",
              "      <td>553060</td>\n",
              "      <td>5/13/2021 10:44:00</td>\n",
              "      <td>15826.0</td>\n",
              "      <td>United Kingdom</td>\n",
              "      <td>488</td>\n",
              "      <td>720.00</td>\n",
              "    </tr>\n",
              "    <tr>\n",
              "      <th>25950</th>\n",
              "      <td>577049</td>\n",
              "      <td>11/17/2021 13:58:00</td>\n",
              "      <td>17397.0</td>\n",
              "      <td>United Kingdom</td>\n",
              "      <td>104</td>\n",
              "      <td>298.78</td>\n",
              "    </tr>\n",
              "    <tr>\n",
              "      <th>25951</th>\n",
              "      <td>550122</td>\n",
              "      <td>4/14/2021 12:39:00</td>\n",
              "      <td>12931.0</td>\n",
              "      <td>United Kingdom</td>\n",
              "      <td>1,176</td>\n",
              "      <td>1,488.00</td>\n",
              "    </tr>\n",
              "    <tr>\n",
              "      <th>25952</th>\n",
              "      <td>537999</td>\n",
              "      <td>12/9/2020 11:44:00</td>\n",
              "      <td>NaN</td>\n",
              "      <td>United Kingdom</td>\n",
              "      <td>-223</td>\n",
              "      <td>0.00</td>\n",
              "    </tr>\n",
              "  </tbody>\n",
              "</table>\n",
              "<p>25953 rows × 6 columns</p>\n",
              "</div>\n",
              "      <button class=\"colab-df-convert\" onclick=\"convertToInteractive('df-f88654be-df67-4b10-b271-40dc6cd6cdb8')\"\n",
              "              title=\"Convert this dataframe to an interactive table.\"\n",
              "              style=\"display:none;\">\n",
              "        \n",
              "  <svg xmlns=\"http://www.w3.org/2000/svg\" height=\"24px\"viewBox=\"0 0 24 24\"\n",
              "       width=\"24px\">\n",
              "    <path d=\"M0 0h24v24H0V0z\" fill=\"none\"/>\n",
              "    <path d=\"M18.56 5.44l.94 2.06.94-2.06 2.06-.94-2.06-.94-.94-2.06-.94 2.06-2.06.94zm-11 1L8.5 8.5l.94-2.06 2.06-.94-2.06-.94L8.5 2.5l-.94 2.06-2.06.94zm10 10l.94 2.06.94-2.06 2.06-.94-2.06-.94-.94-2.06-.94 2.06-2.06.94z\"/><path d=\"M17.41 7.96l-1.37-1.37c-.4-.4-.92-.59-1.43-.59-.52 0-1.04.2-1.43.59L10.3 9.45l-7.72 7.72c-.78.78-.78 2.05 0 2.83L4 21.41c.39.39.9.59 1.41.59.51 0 1.02-.2 1.41-.59l7.78-7.78 2.81-2.81c.8-.78.8-2.07 0-2.86zM5.41 20L4 18.59l7.72-7.72 1.47 1.35L5.41 20z\"/>\n",
              "  </svg>\n",
              "      </button>\n",
              "      \n",
              "  <style>\n",
              "    .colab-df-container {\n",
              "      display:flex;\n",
              "      flex-wrap:wrap;\n",
              "      gap: 12px;\n",
              "    }\n",
              "\n",
              "    .colab-df-convert {\n",
              "      background-color: #E8F0FE;\n",
              "      border: none;\n",
              "      border-radius: 50%;\n",
              "      cursor: pointer;\n",
              "      display: none;\n",
              "      fill: #1967D2;\n",
              "      height: 32px;\n",
              "      padding: 0 0 0 0;\n",
              "      width: 32px;\n",
              "    }\n",
              "\n",
              "    .colab-df-convert:hover {\n",
              "      background-color: #E2EBFA;\n",
              "      box-shadow: 0px 1px 2px rgba(60, 64, 67, 0.3), 0px 1px 3px 1px rgba(60, 64, 67, 0.15);\n",
              "      fill: #174EA6;\n",
              "    }\n",
              "\n",
              "    [theme=dark] .colab-df-convert {\n",
              "      background-color: #3B4455;\n",
              "      fill: #D2E3FC;\n",
              "    }\n",
              "\n",
              "    [theme=dark] .colab-df-convert:hover {\n",
              "      background-color: #434B5C;\n",
              "      box-shadow: 0px 1px 3px 1px rgba(0, 0, 0, 0.15);\n",
              "      filter: drop-shadow(0px 1px 2px rgba(0, 0, 0, 0.3));\n",
              "      fill: #FFFFFF;\n",
              "    }\n",
              "  </style>\n",
              "\n",
              "      <script>\n",
              "        const buttonEl =\n",
              "          document.querySelector('#df-f88654be-df67-4b10-b271-40dc6cd6cdb8 button.colab-df-convert');\n",
              "        buttonEl.style.display =\n",
              "          google.colab.kernel.accessAllowed ? 'block' : 'none';\n",
              "\n",
              "        async function convertToInteractive(key) {\n",
              "          const element = document.querySelector('#df-f88654be-df67-4b10-b271-40dc6cd6cdb8');\n",
              "          const dataTable =\n",
              "            await google.colab.kernel.invokeFunction('convertToInteractive',\n",
              "                                                     [key], {});\n",
              "          if (!dataTable) return;\n",
              "\n",
              "          const docLinkHtml = 'Like what you see? Visit the ' +\n",
              "            '<a target=\"_blank\" href=https://colab.research.google.com/notebooks/data_table.ipynb>data table notebook</a>'\n",
              "            + ' to learn more about interactive tables.';\n",
              "          element.innerHTML = '';\n",
              "          dataTable['output_type'] = 'display_data';\n",
              "          await google.colab.output.renderOutput(dataTable, element);\n",
              "          const docLink = document.createElement('div');\n",
              "          docLink.innerHTML = docLinkHtml;\n",
              "          element.appendChild(docLink);\n",
              "        }\n",
              "      </script>\n",
              "    </div>\n",
              "  </div>\n",
              "  "
            ],
            "text/plain": [
              "      N° de factura     Fecha de factura  ...  Cantidad     Monto\n",
              "0            548370   3/30/2021 16:14:00  ...       123    229.33\n",
              "1            575767  11/11/2021 11:11:00  ...       163    209.73\n",
              "2           C570727  10/12/2021 11:32:00  ...        -1     -1.45\n",
              "3            549106    4/6/2021 12:08:00  ...         1     39.95\n",
              "4            573112  10/27/2021 15:33:00  ...       357    344.83\n",
              "...             ...                  ...  ...       ...       ...\n",
              "25948       C556518   6/13/2021 10:53:00  ...        -2    -12.70\n",
              "25949        553060   5/13/2021 10:44:00  ...       488    720.00\n",
              "25950        577049  11/17/2021 13:58:00  ...       104    298.78\n",
              "25951        550122   4/14/2021 12:39:00  ...     1,176  1,488.00\n",
              "25952        537999   12/9/2020 11:44:00  ...      -223      0.00\n",
              "\n",
              "[25953 rows x 6 columns]"
            ]
          },
          "metadata": {},
          "execution_count": 14
        }
      ]
    },
    {
      "cell_type": "markdown",
      "source": [
        "### **Entendiendo el dataframe**\n",
        "Vamos a limpiar, analizar y manipular el dataframe para contestar preguntas que nos puedan llevar a hipotesis para nuestro posterior modelo."
      ],
      "metadata": {
        "id": "USQS8h--OzUY"
      }
    },
    {
      "cell_type": "code",
      "source": [
        "df.dtypes"
      ],
      "metadata": {
        "colab": {
          "base_uri": "https://localhost:8080/"
        },
        "id": "TxVyxePsOkzj",
        "outputId": "be2fe434-45ad-4d4d-9602-832dbfc5322b"
      },
      "execution_count": 15,
      "outputs": [
        {
          "output_type": "execute_result",
          "data": {
            "text/plain": [
              "N° de factura        object\n",
              "Fecha de factura     object\n",
              "ID Cliente          float64\n",
              "País                 object\n",
              "Cantidad             object\n",
              "Monto                object\n",
              "dtype: object"
            ]
          },
          "metadata": {},
          "execution_count": 15
        }
      ]
    },
    {
      "cell_type": "code",
      "source": [
        "df.describe()"
      ],
      "metadata": {
        "colab": {
          "base_uri": "https://localhost:8080/",
          "height": 297
        },
        "id": "MO1XQXEdPCBJ",
        "outputId": "d7f4de6f-ae2e-4a94-9615-f5acd1106e15"
      },
      "execution_count": 16,
      "outputs": [
        {
          "output_type": "execute_result",
          "data": {
            "text/html": [
              "\n",
              "  <div id=\"df-9cddb0a0-2486-405b-9135-8344a1564237\">\n",
              "    <div class=\"colab-df-container\">\n",
              "      <div>\n",
              "<style scoped>\n",
              "    .dataframe tbody tr th:only-of-type {\n",
              "        vertical-align: middle;\n",
              "    }\n",
              "\n",
              "    .dataframe tbody tr th {\n",
              "        vertical-align: top;\n",
              "    }\n",
              "\n",
              "    .dataframe thead th {\n",
              "        text-align: right;\n",
              "    }\n",
              "</style>\n",
              "<table border=\"1\" class=\"dataframe\">\n",
              "  <thead>\n",
              "    <tr style=\"text-align: right;\">\n",
              "      <th></th>\n",
              "      <th>ID Cliente</th>\n",
              "    </tr>\n",
              "  </thead>\n",
              "  <tbody>\n",
              "    <tr>\n",
              "      <th>count</th>\n",
              "      <td>22229.000000</td>\n",
              "    </tr>\n",
              "    <tr>\n",
              "      <th>mean</th>\n",
              "      <td>15238.289892</td>\n",
              "    </tr>\n",
              "    <tr>\n",
              "      <th>std</th>\n",
              "      <td>1732.981685</td>\n",
              "    </tr>\n",
              "    <tr>\n",
              "      <th>min</th>\n",
              "      <td>12346.000000</td>\n",
              "    </tr>\n",
              "    <tr>\n",
              "      <th>25%</th>\n",
              "      <td>13755.000000</td>\n",
              "    </tr>\n",
              "    <tr>\n",
              "      <th>50%</th>\n",
              "      <td>15136.000000</td>\n",
              "    </tr>\n",
              "    <tr>\n",
              "      <th>75%</th>\n",
              "      <td>16746.000000</td>\n",
              "    </tr>\n",
              "    <tr>\n",
              "      <th>max</th>\n",
              "      <td>18287.000000</td>\n",
              "    </tr>\n",
              "  </tbody>\n",
              "</table>\n",
              "</div>\n",
              "      <button class=\"colab-df-convert\" onclick=\"convertToInteractive('df-9cddb0a0-2486-405b-9135-8344a1564237')\"\n",
              "              title=\"Convert this dataframe to an interactive table.\"\n",
              "              style=\"display:none;\">\n",
              "        \n",
              "  <svg xmlns=\"http://www.w3.org/2000/svg\" height=\"24px\"viewBox=\"0 0 24 24\"\n",
              "       width=\"24px\">\n",
              "    <path d=\"M0 0h24v24H0V0z\" fill=\"none\"/>\n",
              "    <path d=\"M18.56 5.44l.94 2.06.94-2.06 2.06-.94-2.06-.94-.94-2.06-.94 2.06-2.06.94zm-11 1L8.5 8.5l.94-2.06 2.06-.94-2.06-.94L8.5 2.5l-.94 2.06-2.06.94zm10 10l.94 2.06.94-2.06 2.06-.94-2.06-.94-.94-2.06-.94 2.06-2.06.94z\"/><path d=\"M17.41 7.96l-1.37-1.37c-.4-.4-.92-.59-1.43-.59-.52 0-1.04.2-1.43.59L10.3 9.45l-7.72 7.72c-.78.78-.78 2.05 0 2.83L4 21.41c.39.39.9.59 1.41.59.51 0 1.02-.2 1.41-.59l7.78-7.78 2.81-2.81c.8-.78.8-2.07 0-2.86zM5.41 20L4 18.59l7.72-7.72 1.47 1.35L5.41 20z\"/>\n",
              "  </svg>\n",
              "      </button>\n",
              "      \n",
              "  <style>\n",
              "    .colab-df-container {\n",
              "      display:flex;\n",
              "      flex-wrap:wrap;\n",
              "      gap: 12px;\n",
              "    }\n",
              "\n",
              "    .colab-df-convert {\n",
              "      background-color: #E8F0FE;\n",
              "      border: none;\n",
              "      border-radius: 50%;\n",
              "      cursor: pointer;\n",
              "      display: none;\n",
              "      fill: #1967D2;\n",
              "      height: 32px;\n",
              "      padding: 0 0 0 0;\n",
              "      width: 32px;\n",
              "    }\n",
              "\n",
              "    .colab-df-convert:hover {\n",
              "      background-color: #E2EBFA;\n",
              "      box-shadow: 0px 1px 2px rgba(60, 64, 67, 0.3), 0px 1px 3px 1px rgba(60, 64, 67, 0.15);\n",
              "      fill: #174EA6;\n",
              "    }\n",
              "\n",
              "    [theme=dark] .colab-df-convert {\n",
              "      background-color: #3B4455;\n",
              "      fill: #D2E3FC;\n",
              "    }\n",
              "\n",
              "    [theme=dark] .colab-df-convert:hover {\n",
              "      background-color: #434B5C;\n",
              "      box-shadow: 0px 1px 3px 1px rgba(0, 0, 0, 0.15);\n",
              "      filter: drop-shadow(0px 1px 2px rgba(0, 0, 0, 0.3));\n",
              "      fill: #FFFFFF;\n",
              "    }\n",
              "  </style>\n",
              "\n",
              "      <script>\n",
              "        const buttonEl =\n",
              "          document.querySelector('#df-9cddb0a0-2486-405b-9135-8344a1564237 button.colab-df-convert');\n",
              "        buttonEl.style.display =\n",
              "          google.colab.kernel.accessAllowed ? 'block' : 'none';\n",
              "\n",
              "        async function convertToInteractive(key) {\n",
              "          const element = document.querySelector('#df-9cddb0a0-2486-405b-9135-8344a1564237');\n",
              "          const dataTable =\n",
              "            await google.colab.kernel.invokeFunction('convertToInteractive',\n",
              "                                                     [key], {});\n",
              "          if (!dataTable) return;\n",
              "\n",
              "          const docLinkHtml = 'Like what you see? Visit the ' +\n",
              "            '<a target=\"_blank\" href=https://colab.research.google.com/notebooks/data_table.ipynb>data table notebook</a>'\n",
              "            + ' to learn more about interactive tables.';\n",
              "          element.innerHTML = '';\n",
              "          dataTable['output_type'] = 'display_data';\n",
              "          await google.colab.output.renderOutput(dataTable, element);\n",
              "          const docLink = document.createElement('div');\n",
              "          docLink.innerHTML = docLinkHtml;\n",
              "          element.appendChild(docLink);\n",
              "        }\n",
              "      </script>\n",
              "    </div>\n",
              "  </div>\n",
              "  "
            ],
            "text/plain": [
              "         ID Cliente\n",
              "count  22229.000000\n",
              "mean   15238.289892\n",
              "std     1732.981685\n",
              "min    12346.000000\n",
              "25%    13755.000000\n",
              "50%    15136.000000\n",
              "75%    16746.000000\n",
              "max    18287.000000"
            ]
          },
          "metadata": {},
          "execution_count": 16
        }
      ]
    },
    {
      "cell_type": "code",
      "source": [
        "df.info()"
      ],
      "metadata": {
        "colab": {
          "base_uri": "https://localhost:8080/"
        },
        "id": "_tXiEKFGPHDA",
        "outputId": "33aeb35a-c5cd-4564-f82b-8aa37952c357"
      },
      "execution_count": 17,
      "outputs": [
        {
          "output_type": "stream",
          "name": "stdout",
          "text": [
            "<class 'pandas.core.frame.DataFrame'>\n",
            "RangeIndex: 25953 entries, 0 to 25952\n",
            "Data columns (total 6 columns):\n",
            " #   Column            Non-Null Count  Dtype  \n",
            "---  ------            --------------  -----  \n",
            " 0   N° de factura     25953 non-null  object \n",
            " 1   Fecha de factura  25953 non-null  object \n",
            " 2   ID Cliente        22229 non-null  float64\n",
            " 3   País              25953 non-null  object \n",
            " 4   Cantidad          25953 non-null  object \n",
            " 5   Monto             25953 non-null  object \n",
            "dtypes: float64(1), object(5)\n",
            "memory usage: 1.2+ MB\n"
          ]
        }
      ]
    },
    {
      "cell_type": "code",
      "source": [
        "df.isnull().sum()"
      ],
      "metadata": {
        "colab": {
          "base_uri": "https://localhost:8080/"
        },
        "id": "7d-lKqB6PRTx",
        "outputId": "fbaf7f3b-791d-43aa-c4b9-20026ad64956"
      },
      "execution_count": 18,
      "outputs": [
        {
          "output_type": "execute_result",
          "data": {
            "text/plain": [
              "N° de factura          0\n",
              "Fecha de factura       0\n",
              "ID Cliente          3724\n",
              "País                   0\n",
              "Cantidad               0\n",
              "Monto                  0\n",
              "dtype: int64"
            ]
          },
          "metadata": {},
          "execution_count": 18
        }
      ]
    },
    {
      "cell_type": "code",
      "source": [
        "df_i_c = pd.read_csv(\"/content/sample_data/countries_codes_and_coordinates.csv\")"
      ],
      "metadata": {
        "id": "LPYzPuO-0wN6"
      },
      "execution_count": 19,
      "outputs": []
    },
    {
      "cell_type": "code",
      "source": [
        "df_i_c"
      ],
      "metadata": {
        "colab": {
          "base_uri": "https://localhost:8080/",
          "height": 419
        },
        "id": "sanXiK-_04Qw",
        "outputId": "b9b906c2-0152-4b8a-e917-d2521f82b01f"
      },
      "execution_count": 20,
      "outputs": [
        {
          "output_type": "execute_result",
          "data": {
            "text/html": [
              "\n",
              "  <div id=\"df-327c20be-c676-4f22-b3b1-04eb33c10456\">\n",
              "    <div class=\"colab-df-container\">\n",
              "      <div>\n",
              "<style scoped>\n",
              "    .dataframe tbody tr th:only-of-type {\n",
              "        vertical-align: middle;\n",
              "    }\n",
              "\n",
              "    .dataframe tbody tr th {\n",
              "        vertical-align: top;\n",
              "    }\n",
              "\n",
              "    .dataframe thead th {\n",
              "        text-align: right;\n",
              "    }\n",
              "</style>\n",
              "<table border=\"1\" class=\"dataframe\">\n",
              "  <thead>\n",
              "    <tr style=\"text-align: right;\">\n",
              "      <th></th>\n",
              "      <th>Country</th>\n",
              "      <th>Alpha-2 code</th>\n",
              "      <th>Alpha-3 code</th>\n",
              "      <th>Numeric code</th>\n",
              "      <th>Latitude (average)</th>\n",
              "      <th>Longitude (average)</th>\n",
              "    </tr>\n",
              "  </thead>\n",
              "  <tbody>\n",
              "    <tr>\n",
              "      <th>0</th>\n",
              "      <td>Afghanistan</td>\n",
              "      <td>\"AF\"</td>\n",
              "      <td>\"AFG\"</td>\n",
              "      <td>\"4\"</td>\n",
              "      <td>\"33\"</td>\n",
              "      <td>\"65\"</td>\n",
              "    </tr>\n",
              "    <tr>\n",
              "      <th>1</th>\n",
              "      <td>Albania</td>\n",
              "      <td>\"AL\"</td>\n",
              "      <td>\"ALB\"</td>\n",
              "      <td>\"8\"</td>\n",
              "      <td>\"41\"</td>\n",
              "      <td>\"20\"</td>\n",
              "    </tr>\n",
              "    <tr>\n",
              "      <th>2</th>\n",
              "      <td>Algeria</td>\n",
              "      <td>\"DZ\"</td>\n",
              "      <td>\"DZA\"</td>\n",
              "      <td>\"12\"</td>\n",
              "      <td>\"28\"</td>\n",
              "      <td>\"3\"</td>\n",
              "    </tr>\n",
              "    <tr>\n",
              "      <th>3</th>\n",
              "      <td>American Samoa</td>\n",
              "      <td>\"AS\"</td>\n",
              "      <td>\"ASM\"</td>\n",
              "      <td>\"16\"</td>\n",
              "      <td>\"-14.3333\"</td>\n",
              "      <td>\"-170\"</td>\n",
              "    </tr>\n",
              "    <tr>\n",
              "      <th>4</th>\n",
              "      <td>Andorra</td>\n",
              "      <td>\"AD\"</td>\n",
              "      <td>\"AND\"</td>\n",
              "      <td>\"20\"</td>\n",
              "      <td>\"42.5\"</td>\n",
              "      <td>\"1.6\"</td>\n",
              "    </tr>\n",
              "    <tr>\n",
              "      <th>...</th>\n",
              "      <td>...</td>\n",
              "      <td>...</td>\n",
              "      <td>...</td>\n",
              "      <td>...</td>\n",
              "      <td>...</td>\n",
              "      <td>...</td>\n",
              "    </tr>\n",
              "    <tr>\n",
              "      <th>251</th>\n",
              "      <td>Wallis and Futuna</td>\n",
              "      <td>\"WF\"</td>\n",
              "      <td>\"WLF\"</td>\n",
              "      <td>\"876\"</td>\n",
              "      <td>\"-13.3\"</td>\n",
              "      <td>\"-176.2\"</td>\n",
              "    </tr>\n",
              "    <tr>\n",
              "      <th>252</th>\n",
              "      <td>Western Sahara</td>\n",
              "      <td>\"EH\"</td>\n",
              "      <td>\"ESH\"</td>\n",
              "      <td>\"732\"</td>\n",
              "      <td>\"24.5\"</td>\n",
              "      <td>\"-13\"</td>\n",
              "    </tr>\n",
              "    <tr>\n",
              "      <th>253</th>\n",
              "      <td>Yemen</td>\n",
              "      <td>\"YE\"</td>\n",
              "      <td>\"YEM\"</td>\n",
              "      <td>\"887\"</td>\n",
              "      <td>\"15\"</td>\n",
              "      <td>\"48\"</td>\n",
              "    </tr>\n",
              "    <tr>\n",
              "      <th>254</th>\n",
              "      <td>Zambia</td>\n",
              "      <td>\"ZM\"</td>\n",
              "      <td>\"ZMB\"</td>\n",
              "      <td>\"894\"</td>\n",
              "      <td>\"-15\"</td>\n",
              "      <td>\"30\"</td>\n",
              "    </tr>\n",
              "    <tr>\n",
              "      <th>255</th>\n",
              "      <td>Zimbabwe</td>\n",
              "      <td>\"ZW\"</td>\n",
              "      <td>\"ZWE\"</td>\n",
              "      <td>\"716\"</td>\n",
              "      <td>\"-20\"</td>\n",
              "      <td>\"30\"</td>\n",
              "    </tr>\n",
              "  </tbody>\n",
              "</table>\n",
              "<p>256 rows × 6 columns</p>\n",
              "</div>\n",
              "      <button class=\"colab-df-convert\" onclick=\"convertToInteractive('df-327c20be-c676-4f22-b3b1-04eb33c10456')\"\n",
              "              title=\"Convert this dataframe to an interactive table.\"\n",
              "              style=\"display:none;\">\n",
              "        \n",
              "  <svg xmlns=\"http://www.w3.org/2000/svg\" height=\"24px\"viewBox=\"0 0 24 24\"\n",
              "       width=\"24px\">\n",
              "    <path d=\"M0 0h24v24H0V0z\" fill=\"none\"/>\n",
              "    <path d=\"M18.56 5.44l.94 2.06.94-2.06 2.06-.94-2.06-.94-.94-2.06-.94 2.06-2.06.94zm-11 1L8.5 8.5l.94-2.06 2.06-.94-2.06-.94L8.5 2.5l-.94 2.06-2.06.94zm10 10l.94 2.06.94-2.06 2.06-.94-2.06-.94-.94-2.06-.94 2.06-2.06.94z\"/><path d=\"M17.41 7.96l-1.37-1.37c-.4-.4-.92-.59-1.43-.59-.52 0-1.04.2-1.43.59L10.3 9.45l-7.72 7.72c-.78.78-.78 2.05 0 2.83L4 21.41c.39.39.9.59 1.41.59.51 0 1.02-.2 1.41-.59l7.78-7.78 2.81-2.81c.8-.78.8-2.07 0-2.86zM5.41 20L4 18.59l7.72-7.72 1.47 1.35L5.41 20z\"/>\n",
              "  </svg>\n",
              "      </button>\n",
              "      \n",
              "  <style>\n",
              "    .colab-df-container {\n",
              "      display:flex;\n",
              "      flex-wrap:wrap;\n",
              "      gap: 12px;\n",
              "    }\n",
              "\n",
              "    .colab-df-convert {\n",
              "      background-color: #E8F0FE;\n",
              "      border: none;\n",
              "      border-radius: 50%;\n",
              "      cursor: pointer;\n",
              "      display: none;\n",
              "      fill: #1967D2;\n",
              "      height: 32px;\n",
              "      padding: 0 0 0 0;\n",
              "      width: 32px;\n",
              "    }\n",
              "\n",
              "    .colab-df-convert:hover {\n",
              "      background-color: #E2EBFA;\n",
              "      box-shadow: 0px 1px 2px rgba(60, 64, 67, 0.3), 0px 1px 3px 1px rgba(60, 64, 67, 0.15);\n",
              "      fill: #174EA6;\n",
              "    }\n",
              "\n",
              "    [theme=dark] .colab-df-convert {\n",
              "      background-color: #3B4455;\n",
              "      fill: #D2E3FC;\n",
              "    }\n",
              "\n",
              "    [theme=dark] .colab-df-convert:hover {\n",
              "      background-color: #434B5C;\n",
              "      box-shadow: 0px 1px 3px 1px rgba(0, 0, 0, 0.15);\n",
              "      filter: drop-shadow(0px 1px 2px rgba(0, 0, 0, 0.3));\n",
              "      fill: #FFFFFF;\n",
              "    }\n",
              "  </style>\n",
              "\n",
              "      <script>\n",
              "        const buttonEl =\n",
              "          document.querySelector('#df-327c20be-c676-4f22-b3b1-04eb33c10456 button.colab-df-convert');\n",
              "        buttonEl.style.display =\n",
              "          google.colab.kernel.accessAllowed ? 'block' : 'none';\n",
              "\n",
              "        async function convertToInteractive(key) {\n",
              "          const element = document.querySelector('#df-327c20be-c676-4f22-b3b1-04eb33c10456');\n",
              "          const dataTable =\n",
              "            await google.colab.kernel.invokeFunction('convertToInteractive',\n",
              "                                                     [key], {});\n",
              "          if (!dataTable) return;\n",
              "\n",
              "          const docLinkHtml = 'Like what you see? Visit the ' +\n",
              "            '<a target=\"_blank\" href=https://colab.research.google.com/notebooks/data_table.ipynb>data table notebook</a>'\n",
              "            + ' to learn more about interactive tables.';\n",
              "          element.innerHTML = '';\n",
              "          dataTable['output_type'] = 'display_data';\n",
              "          await google.colab.output.renderOutput(dataTable, element);\n",
              "          const docLink = document.createElement('div');\n",
              "          docLink.innerHTML = docLinkHtml;\n",
              "          element.appendChild(docLink);\n",
              "        }\n",
              "      </script>\n",
              "    </div>\n",
              "  </div>\n",
              "  "
            ],
            "text/plain": [
              "               Country Alpha-2 code  ... Latitude (average) Longitude (average)\n",
              "0          Afghanistan         \"AF\"  ...               \"33\"                \"65\"\n",
              "1              Albania         \"AL\"  ...               \"41\"                \"20\"\n",
              "2              Algeria         \"DZ\"  ...               \"28\"                 \"3\"\n",
              "3       American Samoa         \"AS\"  ...         \"-14.3333\"              \"-170\"\n",
              "4              Andorra         \"AD\"  ...             \"42.5\"               \"1.6\"\n",
              "..                 ...          ...  ...                ...                 ...\n",
              "251  Wallis and Futuna         \"WF\"  ...            \"-13.3\"            \"-176.2\"\n",
              "252     Western Sahara         \"EH\"  ...             \"24.5\"               \"-13\"\n",
              "253              Yemen         \"YE\"  ...               \"15\"                \"48\"\n",
              "254             Zambia         \"ZM\"  ...              \"-15\"                \"30\"\n",
              "255           Zimbabwe         \"ZW\"  ...              \"-20\"                \"30\"\n",
              "\n",
              "[256 rows x 6 columns]"
            ]
          },
          "metadata": {},
          "execution_count": 20
        }
      ]
    },
    {
      "cell_type": "markdown",
      "source": [
        "###### ***Pregunta 1: ¿Cuanto es lo que venden en promedio al mes?***"
      ],
      "metadata": {
        "id": "kTHGL_0lPnJm"
      }
    },
    {
      "cell_type": "code",
      "source": [
        "df = df.dropna(axis=\"rows\")"
      ],
      "metadata": {
        "id": "7eqSGXB5PT5Z"
      },
      "execution_count": 21,
      "outputs": []
    },
    {
      "cell_type": "code",
      "source": [
        "df[\"Fecha de factura\"] = df[\"Fecha de factura\"].apply(lambda x: pd.to_datetime(x))"
      ],
      "metadata": {
        "colab": {
          "base_uri": "https://localhost:8080/"
        },
        "id": "wg9rF7WJQTli",
        "outputId": "d0327089-4ad2-4aa4-d699-85e35511a4fc"
      },
      "execution_count": 22,
      "outputs": [
        {
          "output_type": "stream",
          "name": "stderr",
          "text": [
            "/usr/local/lib/python3.7/dist-packages/ipykernel_launcher.py:1: SettingWithCopyWarning: \n",
            "A value is trying to be set on a copy of a slice from a DataFrame.\n",
            "Try using .loc[row_indexer,col_indexer] = value instead\n",
            "\n",
            "See the caveats in the documentation: https://pandas.pydata.org/pandas-docs/stable/user_guide/indexing.html#returning-a-view-versus-a-copy\n",
            "  \"\"\"Entry point for launching an IPython kernel.\n"
          ]
        }
      ]
    },
    {
      "cell_type": "code",
      "source": [
        "def n_p(x):\n",
        "  if \",\" in x:\n",
        "    return float(x.replace(\",\", \"\"))\n",
        "  return float(x)"
      ],
      "metadata": {
        "id": "N1gUp9DwQXrB"
      },
      "execution_count": 23,
      "outputs": []
    },
    {
      "cell_type": "code",
      "source": [
        "df[\"Cantidad\"] = df[\"Cantidad\"].apply(lambda x: n_p(x) if n_p(x) > 0 else None)"
      ],
      "metadata": {
        "colab": {
          "base_uri": "https://localhost:8080/"
        },
        "id": "L3xInBbeQu9O",
        "outputId": "1cdfdbe9-2dc9-4767-88b5-29022640d234"
      },
      "execution_count": 24,
      "outputs": [
        {
          "output_type": "stream",
          "name": "stderr",
          "text": [
            "/usr/local/lib/python3.7/dist-packages/ipykernel_launcher.py:1: SettingWithCopyWarning: \n",
            "A value is trying to be set on a copy of a slice from a DataFrame.\n",
            "Try using .loc[row_indexer,col_indexer] = value instead\n",
            "\n",
            "See the caveats in the documentation: https://pandas.pydata.org/pandas-docs/stable/user_guide/indexing.html#returning-a-view-versus-a-copy\n",
            "  \"\"\"Entry point for launching an IPython kernel.\n"
          ]
        }
      ]
    },
    {
      "cell_type": "code",
      "source": [
        "df = df.dropna(axis=\"rows\")"
      ],
      "metadata": {
        "id": "tznNWMFv4vcE"
      },
      "execution_count": 25,
      "outputs": []
    },
    {
      "cell_type": "code",
      "source": [
        "df[\"Cantidad\"]"
      ],
      "metadata": {
        "colab": {
          "base_uri": "https://localhost:8080/"
        },
        "id": "OlHcczTM438I",
        "outputId": "c0afde3f-d160-4113-f8fd-3ff610cb8071"
      },
      "execution_count": 26,
      "outputs": [
        {
          "output_type": "execute_result",
          "data": {
            "text/plain": [
              "0         123.0\n",
              "1         163.0\n",
              "3           1.0\n",
              "4         357.0\n",
              "5          91.0\n",
              "          ...  \n",
              "25945     432.0\n",
              "25946      28.0\n",
              "25949     488.0\n",
              "25950     104.0\n",
              "25951    1176.0\n",
              "Name: Cantidad, Length: 18570, dtype: float64"
            ]
          },
          "metadata": {},
          "execution_count": 26
        }
      ]
    },
    {
      "cell_type": "code",
      "source": [
        "df[\"Monto\"] = df[\"Monto\"].apply(lambda x: n_p(x) if n_p(x) > 0 else None)"
      ],
      "metadata": {
        "id": "ZfhRbF3a_c8P"
      },
      "execution_count": 27,
      "outputs": []
    },
    {
      "cell_type": "code",
      "source": [
        "df = df.dropna(axis=\"rows\")"
      ],
      "metadata": {
        "id": "tIKhq0lzAG-B"
      },
      "execution_count": 28,
      "outputs": []
    },
    {
      "cell_type": "code",
      "source": [
        "df[\"month\"] = df[\"Fecha de factura\"].apply(lambda x: (x.month) if x.year != 2020 else 0)\n",
        "df[\"year\"] = df[\"Fecha de factura\"].apply(lambda x: x.year)"
      ],
      "metadata": {
        "id": "ksOFpSjjAepX"
      },
      "execution_count": 29,
      "outputs": []
    },
    {
      "cell_type": "code",
      "source": [
        "df_t = pd.pivot_table(df, index=[\"month\", \"year\"], aggfunc=\"mean\")\n",
        "df_t = df_t.reset_index()"
      ],
      "metadata": {
        "id": "llT4tQCzBP20"
      },
      "execution_count": 30,
      "outputs": []
    },
    {
      "cell_type": "code",
      "source": [
        "sns.set(rc={\"figure.figsize\": (15, 9)})\n",
        "sns.barplot(data=df_t,x=\"month\", y=\"Monto\")"
      ],
      "metadata": {
        "colab": {
          "base_uri": "https://localhost:8080/",
          "height": 574
        },
        "id": "yGlWwsB8CQuG",
        "outputId": "78955f3b-413e-46ef-9232-bcc94024c221"
      },
      "execution_count": 31,
      "outputs": [
        {
          "output_type": "execute_result",
          "data": {
            "text/plain": [
              "<matplotlib.axes._subplots.AxesSubplot at 0x7f2261dc7150>"
            ]
          },
          "metadata": {},
          "execution_count": 31
        },
        {
          "output_type": "display_data",
          "data": {
            "image/png": "[encoded data removed]",
            "text/plain": [
              "<Figure size 1080x648 with 1 Axes>"
            ]
          },
          "metadata": {}
        }
      ]
    },
    {
      "cell_type": "code",
      "source": [
        "df_t[\"Monto\"].mean()"
      ],
      "metadata": {
        "colab": {
          "base_uri": "https://localhost:8080/"
        },
        "id": "EIR5Tb8yDhDI",
        "outputId": "5ac0a143-5752-4f11-9d30-5477456b87ce"
      },
      "execution_count": 32,
      "outputs": [
        {
          "output_type": "execute_result",
          "data": {
            "text/plain": [
              "487.1737498660076"
            ]
          },
          "metadata": {},
          "execution_count": 32
        }
      ]
    },
    {
      "cell_type": "code",
      "source": [
        "df_n = df[df[\"País\"] != \"United Kingdom\"]"
      ],
      "metadata": {
        "id": "P6zuoo5f55XB"
      },
      "execution_count": 33,
      "outputs": []
    },
    {
      "cell_type": "markdown",
      "source": [
        "***Respuesta: El mes que mas gana es el diciembre de 2021, el promedio de ventas en el mes es de 487.1737498660076***\n",
        "\n",
        "---"
      ],
      "metadata": {
        "id": "RE6EjH9z4mJU"
      }
    },
    {
      "cell_type": "markdown",
      "source": [
        "###### ***Pregunta 2: ¿Cuantas ventas tienen cada mes?***"
      ],
      "metadata": {
        "id": "yU6l6_aq47a9"
      }
    },
    {
      "cell_type": "code",
      "source": [
        "df.dtypes"
      ],
      "metadata": {
        "colab": {
          "base_uri": "https://localhost:8080/"
        },
        "id": "PfxX7IbCDz7p",
        "outputId": "1493d575-2a01-4203-84a4-231a950072b6"
      },
      "execution_count": 34,
      "outputs": [
        {
          "output_type": "execute_result",
          "data": {
            "text/plain": [
              "N° de factura               object\n",
              "Fecha de factura    datetime64[ns]\n",
              "ID Cliente                 float64\n",
              "País                        object\n",
              "Cantidad                   float64\n",
              "Monto                      float64\n",
              "month                        int64\n",
              "year                         int64\n",
              "dtype: object"
            ]
          },
          "metadata": {},
          "execution_count": 34
        }
      ]
    },
    {
      "cell_type": "code",
      "source": [
        "df[\"ID Cliente\"] = df[\"ID Cliente\"].astype(str)"
      ],
      "metadata": {
        "id": "A4FkQLnU5UqV"
      },
      "execution_count": 35,
      "outputs": []
    },
    {
      "cell_type": "code",
      "source": [
        "df"
      ],
      "metadata": {
        "colab": {
          "base_uri": "https://localhost:8080/",
          "height": 419
        },
        "id": "yFJWdXoZ5qzE",
        "outputId": "328cabd4-c8ca-494a-8f0b-f43a770895f4"
      },
      "execution_count": 36,
      "outputs": [
        {
          "output_type": "execute_result",
          "data": {
            "text/html": [
              "\n",
              "  <div id=\"df-c1cdccad-3010-4830-8bc5-7156ff0f6037\">\n",
              "    <div class=\"colab-df-container\">\n",
              "      <div>\n",
              "<style scoped>\n",
              "    .dataframe tbody tr th:only-of-type {\n",
              "        vertical-align: middle;\n",
              "    }\n",
              "\n",
              "    .dataframe tbody tr th {\n",
              "        vertical-align: top;\n",
              "    }\n",
              "\n",
              "    .dataframe thead th {\n",
              "        text-align: right;\n",
              "    }\n",
              "</style>\n",
              "<table border=\"1\" class=\"dataframe\">\n",
              "  <thead>\n",
              "    <tr style=\"text-align: right;\">\n",
              "      <th></th>\n",
              "      <th>N° de factura</th>\n",
              "      <th>Fecha de factura</th>\n",
              "      <th>ID Cliente</th>\n",
              "      <th>País</th>\n",
              "      <th>Cantidad</th>\n",
              "      <th>Monto</th>\n",
              "      <th>month</th>\n",
              "      <th>year</th>\n",
              "    </tr>\n",
              "  </thead>\n",
              "  <tbody>\n",
              "    <tr>\n",
              "      <th>0</th>\n",
              "      <td>548370</td>\n",
              "      <td>2021-03-30 16:14:00</td>\n",
              "      <td>15528.0</td>\n",
              "      <td>United Kingdom</td>\n",
              "      <td>123.0</td>\n",
              "      <td>229.33</td>\n",
              "      <td>3</td>\n",
              "      <td>2021</td>\n",
              "    </tr>\n",
              "    <tr>\n",
              "      <th>1</th>\n",
              "      <td>575767</td>\n",
              "      <td>2021-11-11 11:11:00</td>\n",
              "      <td>17348.0</td>\n",
              "      <td>United Kingdom</td>\n",
              "      <td>163.0</td>\n",
              "      <td>209.73</td>\n",
              "      <td>11</td>\n",
              "      <td>2021</td>\n",
              "    </tr>\n",
              "    <tr>\n",
              "      <th>3</th>\n",
              "      <td>549106</td>\n",
              "      <td>2021-04-06 12:08:00</td>\n",
              "      <td>17045.0</td>\n",
              "      <td>United Kingdom</td>\n",
              "      <td>1.0</td>\n",
              "      <td>39.95</td>\n",
              "      <td>4</td>\n",
              "      <td>2021</td>\n",
              "    </tr>\n",
              "    <tr>\n",
              "      <th>4</th>\n",
              "      <td>573112</td>\n",
              "      <td>2021-10-27 15:33:00</td>\n",
              "      <td>16416.0</td>\n",
              "      <td>United Kingdom</td>\n",
              "      <td>357.0</td>\n",
              "      <td>344.83</td>\n",
              "      <td>10</td>\n",
              "      <td>2021</td>\n",
              "    </tr>\n",
              "    <tr>\n",
              "      <th>5</th>\n",
              "      <td>576630</td>\n",
              "      <td>2021-11-16 08:38:00</td>\n",
              "      <td>13816.0</td>\n",
              "      <td>Germany</td>\n",
              "      <td>91.0</td>\n",
              "      <td>199.98</td>\n",
              "      <td>11</td>\n",
              "      <td>2021</td>\n",
              "    </tr>\n",
              "    <tr>\n",
              "      <th>...</th>\n",
              "      <td>...</td>\n",
              "      <td>...</td>\n",
              "      <td>...</td>\n",
              "      <td>...</td>\n",
              "      <td>...</td>\n",
              "      <td>...</td>\n",
              "      <td>...</td>\n",
              "      <td>...</td>\n",
              "    </tr>\n",
              "    <tr>\n",
              "      <th>25945</th>\n",
              "      <td>579252</td>\n",
              "      <td>2021-11-28 16:47:00</td>\n",
              "      <td>17450.0</td>\n",
              "      <td>United Kingdom</td>\n",
              "      <td>432.0</td>\n",
              "      <td>1034.40</td>\n",
              "      <td>11</td>\n",
              "      <td>2021</td>\n",
              "    </tr>\n",
              "    <tr>\n",
              "      <th>25946</th>\n",
              "      <td>574908</td>\n",
              "      <td>2021-11-07 15:37:00</td>\n",
              "      <td>16009.0</td>\n",
              "      <td>United Kingdom</td>\n",
              "      <td>28.0</td>\n",
              "      <td>82.76</td>\n",
              "      <td>11</td>\n",
              "      <td>2021</td>\n",
              "    </tr>\n",
              "    <tr>\n",
              "      <th>25949</th>\n",
              "      <td>553060</td>\n",
              "      <td>2021-05-13 10:44:00</td>\n",
              "      <td>15826.0</td>\n",
              "      <td>United Kingdom</td>\n",
              "      <td>488.0</td>\n",
              "      <td>720.00</td>\n",
              "      <td>5</td>\n",
              "      <td>2021</td>\n",
              "    </tr>\n",
              "    <tr>\n",
              "      <th>25950</th>\n",
              "      <td>577049</td>\n",
              "      <td>2021-11-17 13:58:00</td>\n",
              "      <td>17397.0</td>\n",
              "      <td>United Kingdom</td>\n",
              "      <td>104.0</td>\n",
              "      <td>298.78</td>\n",
              "      <td>11</td>\n",
              "      <td>2021</td>\n",
              "    </tr>\n",
              "    <tr>\n",
              "      <th>25951</th>\n",
              "      <td>550122</td>\n",
              "      <td>2021-04-14 12:39:00</td>\n",
              "      <td>12931.0</td>\n",
              "      <td>United Kingdom</td>\n",
              "      <td>1176.0</td>\n",
              "      <td>1488.00</td>\n",
              "      <td>4</td>\n",
              "      <td>2021</td>\n",
              "    </tr>\n",
              "  </tbody>\n",
              "</table>\n",
              "<p>18565 rows × 8 columns</p>\n",
              "</div>\n",
              "      <button class=\"colab-df-convert\" onclick=\"convertToInteractive('df-c1cdccad-3010-4830-8bc5-7156ff0f6037')\"\n",
              "              title=\"Convert this dataframe to an interactive table.\"\n",
              "              style=\"display:none;\">\n",
              "        \n",
              "  <svg xmlns=\"http://www.w3.org/2000/svg\" height=\"24px\"viewBox=\"0 0 24 24\"\n",
              "       width=\"24px\">\n",
              "    <path d=\"M0 0h24v24H0V0z\" fill=\"none\"/>\n",
              "    <path d=\"M18.56 5.44l.94 2.06.94-2.06 2.06-.94-2.06-.94-.94-2.06-.94 2.06-2.06.94zm-11 1L8.5 8.5l.94-2.06 2.06-.94-2.06-.94L8.5 2.5l-.94 2.06-2.06.94zm10 10l.94 2.06.94-2.06 2.06-.94-2.06-.94-.94-2.06-.94 2.06-2.06.94z\"/><path d=\"M17.41 7.96l-1.37-1.37c-.4-.4-.92-.59-1.43-.59-.52 0-1.04.2-1.43.59L10.3 9.45l-7.72 7.72c-.78.78-.78 2.05 0 2.83L4 21.41c.39.39.9.59 1.41.59.51 0 1.02-.2 1.41-.59l7.78-7.78 2.81-2.81c.8-.78.8-2.07 0-2.86zM5.41 20L4 18.59l7.72-7.72 1.47 1.35L5.41 20z\"/>\n",
              "  </svg>\n",
              "      </button>\n",
              "      \n",
              "  <style>\n",
              "    .colab-df-container {\n",
              "      display:flex;\n",
              "      flex-wrap:wrap;\n",
              "      gap: 12px;\n",
              "    }\n",
              "\n",
              "    .colab-df-convert {\n",
              "      background-color: #E8F0FE;\n",
              "      border: none;\n",
              "      border-radius: 50%;\n",
              "      cursor: pointer;\n",
              "      display: none;\n",
              "      fill: #1967D2;\n",
              "      height: 32px;\n",
              "      padding: 0 0 0 0;\n",
              "      width: 32px;\n",
              "    }\n",
              "\n",
              "    .colab-df-convert:hover {\n",
              "      background-color: #E2EBFA;\n",
              "      box-shadow: 0px 1px 2px rgba(60, 64, 67, 0.3), 0px 1px 3px 1px rgba(60, 64, 67, 0.15);\n",
              "      fill: #174EA6;\n",
              "    }\n",
              "\n",
              "    [theme=dark] .colab-df-convert {\n",
              "      background-color: #3B4455;\n",
              "      fill: #D2E3FC;\n",
              "    }\n",
              "\n",
              "    [theme=dark] .colab-df-convert:hover {\n",
              "      background-color: #434B5C;\n",
              "      box-shadow: 0px 1px 3px 1px rgba(0, 0, 0, 0.15);\n",
              "      filter: drop-shadow(0px 1px 2px rgba(0, 0, 0, 0.3));\n",
              "      fill: #FFFFFF;\n",
              "    }\n",
              "  </style>\n",
              "\n",
              "      <script>\n",
              "        const buttonEl =\n",
              "          document.querySelector('#df-c1cdccad-3010-4830-8bc5-7156ff0f6037 button.colab-df-convert');\n",
              "        buttonEl.style.display =\n",
              "          google.colab.kernel.accessAllowed ? 'block' : 'none';\n",
              "\n",
              "        async function convertToInteractive(key) {\n",
              "          const element = document.querySelector('#df-c1cdccad-3010-4830-8bc5-7156ff0f6037');\n",
              "          const dataTable =\n",
              "            await google.colab.kernel.invokeFunction('convertToInteractive',\n",
              "                                                     [key], {});\n",
              "          if (!dataTable) return;\n",
              "\n",
              "          const docLinkHtml = 'Like what you see? Visit the ' +\n",
              "            '<a target=\"_blank\" href=https://colab.research.google.com/notebooks/data_table.ipynb>data table notebook</a>'\n",
              "            + ' to learn more about interactive tables.';\n",
              "          element.innerHTML = '';\n",
              "          dataTable['output_type'] = 'display_data';\n",
              "          await google.colab.output.renderOutput(dataTable, element);\n",
              "          const docLink = document.createElement('div');\n",
              "          docLink.innerHTML = docLinkHtml;\n",
              "          element.appendChild(docLink);\n",
              "        }\n",
              "      </script>\n",
              "    </div>\n",
              "  </div>\n",
              "  "
            ],
            "text/plain": [
              "      N° de factura    Fecha de factura ID Cliente  ...    Monto  month  year\n",
              "0            548370 2021-03-30 16:14:00    15528.0  ...   229.33      3  2021\n",
              "1            575767 2021-11-11 11:11:00    17348.0  ...   209.73     11  2021\n",
              "3            549106 2021-04-06 12:08:00    17045.0  ...    39.95      4  2021\n",
              "4            573112 2021-10-27 15:33:00    16416.0  ...   344.83     10  2021\n",
              "5            576630 2021-11-16 08:38:00    13816.0  ...   199.98     11  2021\n",
              "...             ...                 ...        ...  ...      ...    ...   ...\n",
              "25945        579252 2021-11-28 16:47:00    17450.0  ...  1034.40     11  2021\n",
              "25946        574908 2021-11-07 15:37:00    16009.0  ...    82.76     11  2021\n",
              "25949        553060 2021-05-13 10:44:00    15826.0  ...   720.00      5  2021\n",
              "25950        577049 2021-11-17 13:58:00    17397.0  ...   298.78     11  2021\n",
              "25951        550122 2021-04-14 12:39:00    12931.0  ...  1488.00      4  2021\n",
              "\n",
              "[18565 rows x 8 columns]"
            ]
          },
          "metadata": {},
          "execution_count": 36
        }
      ]
    },
    {
      "cell_type": "code",
      "source": [
        "df_t = pd.pivot_table(df, index=[\"month\"], aggfunc=\"count\")"
      ],
      "metadata": {
        "id": "9wtoAoAF50Hl"
      },
      "execution_count": 37,
      "outputs": []
    },
    {
      "cell_type": "code",
      "source": [
        "df_t = df_t.reset_index()"
      ],
      "metadata": {
        "id": "UXDpZiEK6i66"
      },
      "execution_count": 38,
      "outputs": []
    },
    {
      "cell_type": "code",
      "source": [
        "sns.lineplot(x=df_t[\"month\"], y=df_t[\"Fecha de factura\"])"
      ],
      "metadata": {
        "colab": {
          "base_uri": "https://localhost:8080/",
          "height": 577
        },
        "id": "KZ1flzgD7c60",
        "outputId": "b0fe4714-c6a1-480f-946f-d7f9501b1028"
      },
      "execution_count": 39,
      "outputs": [
        {
          "output_type": "execute_result",
          "data": {
            "text/plain": [
              "<matplotlib.axes._subplots.AxesSubplot at 0x7f2261807cd0>"
            ]
          },
          "metadata": {},
          "execution_count": 39
        },
        {
          "output_type": "display_data",
          "data": {
            "image/png": "[encoded data removed]",
            "text/plain": [
              "<Figure size 1080x648 with 1 Axes>"
            ]
          },
          "metadata": {}
        }
      ]
    },
    {
      "cell_type": "code",
      "source": [
        "df_t[\"ID Cliente\"].mean()"
      ],
      "metadata": {
        "colab": {
          "base_uri": "https://localhost:8080/"
        },
        "id": "OV_NQkhu8Bx1",
        "outputId": "823a69e8-5a43-413e-b6cb-0a1716e43eea"
      },
      "execution_count": 40,
      "outputs": [
        {
          "output_type": "execute_result",
          "data": {
            "text/plain": [
              "1428.076923076923"
            ]
          },
          "metadata": {},
          "execution_count": 40
        }
      ]
    },
    {
      "cell_type": "markdown",
      "source": [
        "***Respuesta: las ventas promedio por mes son de 1428.076923076923, presentan una subida con respecto a los primeros meses del año.***\n",
        "\n",
        "---"
      ],
      "metadata": {
        "id": "wv3kY4vhqBwD"
      }
    },
    {
      "cell_type": "markdown",
      "source": [
        "###### ***Pregunta 3: ¿Cuales son sus clientes mas importantes?***"
      ],
      "metadata": {
        "id": "7dmQIYpWrHLE"
      }
    },
    {
      "cell_type": "code",
      "source": [
        "df_c = pd.pivot_table(df, index=[\"ID Cliente\"], aggfunc=\"sum\")"
      ],
      "metadata": {
        "id": "Y_Qba5lG8LwW"
      },
      "execution_count": 41,
      "outputs": []
    },
    {
      "cell_type": "code",
      "source": [
        "df_c = df_c.reset_index()"
      ],
      "metadata": {
        "id": "SWfbF9iyr60T"
      },
      "execution_count": 42,
      "outputs": []
    },
    {
      "cell_type": "code",
      "source": [
        "df_c  = df_c.sort_values(by=\"Monto\", ascending=False)"
      ],
      "metadata": {
        "id": "fEvc7cCMr8FM"
      },
      "execution_count": 43,
      "outputs": []
    },
    {
      "cell_type": "code",
      "source": [
        "sns.barplot(x=df_c[\"ID Cliente\"].head(10), y=df_c[\"Monto\"].head(10))"
      ],
      "metadata": {
        "colab": {
          "base_uri": "https://localhost:8080/",
          "height": 574
        },
        "id": "1VZlnUBYsUlE",
        "outputId": "44ffd68f-e713-43c8-8710-da1ba3319479"
      },
      "execution_count": 44,
      "outputs": [
        {
          "output_type": "execute_result",
          "data": {
            "text/plain": [
              "<matplotlib.axes._subplots.AxesSubplot at 0x7f2261142410>"
            ]
          },
          "metadata": {},
          "execution_count": 44
        },
        {
          "output_type": "display_data",
          "data": {
            "image/png": "[encoded data removed]",
            "text/plain": [
              "<Figure size 1080x648 with 1 Axes>"
            ]
          },
          "metadata": {}
        }
      ]
    },
    {
      "cell_type": "code",
      "source": [
        "df_c = pd.pivot_table(df, index=[\"ID Cliente\"], aggfunc=\"sum\")\n",
        "df_c = df_c.reset_index()"
      ],
      "metadata": {
        "id": "aR1ZGiS6swve"
      },
      "execution_count": 45,
      "outputs": []
    },
    {
      "cell_type": "code",
      "source": [
        "df_c = df_c.sort_values(by=\"Cantidad\", ascending=False)"
      ],
      "metadata": {
        "id": "h2bunMPgutcE"
      },
      "execution_count": 46,
      "outputs": []
    },
    {
      "cell_type": "code",
      "source": [
        "sns.barplot(x=df_c[\"ID Cliente\"].head(10), y=df_c[\"Cantidad\"].head(10))"
      ],
      "metadata": {
        "colab": {
          "base_uri": "https://localhost:8080/",
          "height": 574
        },
        "id": "PD0qL7ixtwJL",
        "outputId": "7b7f4c5e-04d5-46e8-9fb3-7f0c94a1db84"
      },
      "execution_count": 47,
      "outputs": [
        {
          "output_type": "execute_result",
          "data": {
            "text/plain": [
              "<matplotlib.axes._subplots.AxesSubplot at 0x7f2261073e50>"
            ]
          },
          "metadata": {},
          "execution_count": 47
        },
        {
          "output_type": "display_data",
          "data": {
            "image/png": "[encoded data removed]",
            "text/plain": [
              "<Figure size 1080x648 with 1 Axes>"
            ]
          },
          "metadata": {}
        }
      ]
    },
    {
      "cell_type": "code",
      "source": [
        "df_c"
      ],
      "metadata": {
        "colab": {
          "base_uri": "https://localhost:8080/",
          "height": 419
        },
        "id": "95bwTDvft8Fz",
        "outputId": "e54da20b-7471-4c65-99f3-739cdfa8bbd9"
      },
      "execution_count": 48,
      "outputs": [
        {
          "output_type": "execute_result",
          "data": {
            "text/html": [
              "\n",
              "  <div id=\"df-bf07fd45-b187-4290-ac7c-cc90bb81efea\">\n",
              "    <div class=\"colab-df-container\">\n",
              "      <div>\n",
              "<style scoped>\n",
              "    .dataframe tbody tr th:only-of-type {\n",
              "        vertical-align: middle;\n",
              "    }\n",
              "\n",
              "    .dataframe tbody tr th {\n",
              "        vertical-align: top;\n",
              "    }\n",
              "\n",
              "    .dataframe thead th {\n",
              "        text-align: right;\n",
              "    }\n",
              "</style>\n",
              "<table border=\"1\" class=\"dataframe\">\n",
              "  <thead>\n",
              "    <tr style=\"text-align: right;\">\n",
              "      <th></th>\n",
              "      <th>ID Cliente</th>\n",
              "      <th>Cantidad</th>\n",
              "      <th>Monto</th>\n",
              "      <th>month</th>\n",
              "      <th>year</th>\n",
              "    </tr>\n",
              "  </thead>\n",
              "  <tbody>\n",
              "    <tr>\n",
              "      <th>1689</th>\n",
              "      <td>14646.0</td>\n",
              "      <td>196915.0</td>\n",
              "      <td>280206.02</td>\n",
              "      <td>523</td>\n",
              "      <td>147531</td>\n",
              "    </tr>\n",
              "    <tr>\n",
              "      <th>3008</th>\n",
              "      <td>16446.0</td>\n",
              "      <td>80997.0</td>\n",
              "      <td>168472.50</td>\n",
              "      <td>17</td>\n",
              "      <td>4042</td>\n",
              "    </tr>\n",
              "    <tr>\n",
              "      <th>1879</th>\n",
              "      <td>14911.0</td>\n",
              "      <td>80717.0</td>\n",
              "      <td>144601.36</td>\n",
              "      <td>1464</td>\n",
              "      <td>410250</td>\n",
              "    </tr>\n",
              "    <tr>\n",
              "      <th>55</th>\n",
              "      <td>12415.0</td>\n",
              "      <td>77670.0</td>\n",
              "      <td>124914.53</td>\n",
              "      <td>144</td>\n",
              "      <td>42441</td>\n",
              "    </tr>\n",
              "    <tr>\n",
              "      <th>0</th>\n",
              "      <td>12346.0</td>\n",
              "      <td>74215.0</td>\n",
              "      <td>77183.60</td>\n",
              "      <td>1</td>\n",
              "      <td>2021</td>\n",
              "    </tr>\n",
              "    <tr>\n",
              "      <th>...</th>\n",
              "      <td>...</td>\n",
              "      <td>...</td>\n",
              "      <td>...</td>\n",
              "      <td>...</td>\n",
              "      <td>...</td>\n",
              "    </tr>\n",
              "    <tr>\n",
              "      <th>4098</th>\n",
              "      <td>17956.0</td>\n",
              "      <td>1.0</td>\n",
              "      <td>12.75</td>\n",
              "      <td>4</td>\n",
              "      <td>2021</td>\n",
              "    </tr>\n",
              "    <tr>\n",
              "      <th>2558</th>\n",
              "      <td>15823.0</td>\n",
              "      <td>1.0</td>\n",
              "      <td>15.00</td>\n",
              "      <td>0</td>\n",
              "      <td>2020</td>\n",
              "    </tr>\n",
              "    <tr>\n",
              "      <th>3219</th>\n",
              "      <td>16742.0</td>\n",
              "      <td>1.0</td>\n",
              "      <td>464.90</td>\n",
              "      <td>10</td>\n",
              "      <td>2021</td>\n",
              "    </tr>\n",
              "    <tr>\n",
              "      <th>4013</th>\n",
              "      <td>17846.0</td>\n",
              "      <td>1.0</td>\n",
              "      <td>2033.10</td>\n",
              "      <td>9</td>\n",
              "      <td>2021</td>\n",
              "    </tr>\n",
              "    <tr>\n",
              "      <th>2540</th>\n",
              "      <td>15802.0</td>\n",
              "      <td>1.0</td>\n",
              "      <td>451.42</td>\n",
              "      <td>7</td>\n",
              "      <td>2021</td>\n",
              "    </tr>\n",
              "  </tbody>\n",
              "</table>\n",
              "<p>4338 rows × 5 columns</p>\n",
              "</div>\n",
              "      <button class=\"colab-df-convert\" onclick=\"convertToInteractive('df-bf07fd45-b187-4290-ac7c-cc90bb81efea')\"\n",
              "              title=\"Convert this dataframe to an interactive table.\"\n",
              "              style=\"display:none;\">\n",
              "        \n",
              "  <svg xmlns=\"http://www.w3.org/2000/svg\" height=\"24px\"viewBox=\"0 0 24 24\"\n",
              "       width=\"24px\">\n",
              "    <path d=\"M0 0h24v24H0V0z\" fill=\"none\"/>\n",
              "    <path d=\"M18.56 5.44l.94 2.06.94-2.06 2.06-.94-2.06-.94-.94-2.06-.94 2.06-2.06.94zm-11 1L8.5 8.5l.94-2.06 2.06-.94-2.06-.94L8.5 2.5l-.94 2.06-2.06.94zm10 10l.94 2.06.94-2.06 2.06-.94-2.06-.94-.94-2.06-.94 2.06-2.06.94z\"/><path d=\"M17.41 7.96l-1.37-1.37c-.4-.4-.92-.59-1.43-.59-.52 0-1.04.2-1.43.59L10.3 9.45l-7.72 7.72c-.78.78-.78 2.05 0 2.83L4 21.41c.39.39.9.59 1.41.59.51 0 1.02-.2 1.41-.59l7.78-7.78 2.81-2.81c.8-.78.8-2.07 0-2.86zM5.41 20L4 18.59l7.72-7.72 1.47 1.35L5.41 20z\"/>\n",
              "  </svg>\n",
              "      </button>\n",
              "      \n",
              "  <style>\n",
              "    .colab-df-container {\n",
              "      display:flex;\n",
              "      flex-wrap:wrap;\n",
              "      gap: 12px;\n",
              "    }\n",
              "\n",
              "    .colab-df-convert {\n",
              "      background-color: #E8F0FE;\n",
              "      border: none;\n",
              "      border-radius: 50%;\n",
              "      cursor: pointer;\n",
              "      display: none;\n",
              "      fill: #1967D2;\n",
              "      height: 32px;\n",
              "      padding: 0 0 0 0;\n",
              "      width: 32px;\n",
              "    }\n",
              "\n",
              "    .colab-df-convert:hover {\n",
              "      background-color: #E2EBFA;\n",
              "      box-shadow: 0px 1px 2px rgba(60, 64, 67, 0.3), 0px 1px 3px 1px rgba(60, 64, 67, 0.15);\n",
              "      fill: #174EA6;\n",
              "    }\n",
              "\n",
              "    [theme=dark] .colab-df-convert {\n",
              "      background-color: #3B4455;\n",
              "      fill: #D2E3FC;\n",
              "    }\n",
              "\n",
              "    [theme=dark] .colab-df-convert:hover {\n",
              "      background-color: #434B5C;\n",
              "      box-shadow: 0px 1px 3px 1px rgba(0, 0, 0, 0.15);\n",
              "      filter: drop-shadow(0px 1px 2px rgba(0, 0, 0, 0.3));\n",
              "      fill: #FFFFFF;\n",
              "    }\n",
              "  </style>\n",
              "\n",
              "      <script>\n",
              "        const buttonEl =\n",
              "          document.querySelector('#df-bf07fd45-b187-4290-ac7c-cc90bb81efea button.colab-df-convert');\n",
              "        buttonEl.style.display =\n",
              "          google.colab.kernel.accessAllowed ? 'block' : 'none';\n",
              "\n",
              "        async function convertToInteractive(key) {\n",
              "          const element = document.querySelector('#df-bf07fd45-b187-4290-ac7c-cc90bb81efea');\n",
              "          const dataTable =\n",
              "            await google.colab.kernel.invokeFunction('convertToInteractive',\n",
              "                                                     [key], {});\n",
              "          if (!dataTable) return;\n",
              "\n",
              "          const docLinkHtml = 'Like what you see? Visit the ' +\n",
              "            '<a target=\"_blank\" href=https://colab.research.google.com/notebooks/data_table.ipynb>data table notebook</a>'\n",
              "            + ' to learn more about interactive tables.';\n",
              "          element.innerHTML = '';\n",
              "          dataTable['output_type'] = 'display_data';\n",
              "          await google.colab.output.renderOutput(dataTable, element);\n",
              "          const docLink = document.createElement('div');\n",
              "          docLink.innerHTML = docLinkHtml;\n",
              "          element.appendChild(docLink);\n",
              "        }\n",
              "      </script>\n",
              "    </div>\n",
              "  </div>\n",
              "  "
            ],
            "text/plain": [
              "     ID Cliente  Cantidad      Monto  month    year\n",
              "1689    14646.0  196915.0  280206.02    523  147531\n",
              "3008    16446.0   80997.0  168472.50     17    4042\n",
              "1879    14911.0   80717.0  144601.36   1464  410250\n",
              "55      12415.0   77670.0  124914.53    144   42441\n",
              "0       12346.0   74215.0   77183.60      1    2021\n",
              "...         ...       ...        ...    ...     ...\n",
              "4098    17956.0       1.0      12.75      4    2021\n",
              "2558    15823.0       1.0      15.00      0    2020\n",
              "3219    16742.0       1.0     464.90     10    2021\n",
              "4013    17846.0       1.0    2033.10      9    2021\n",
              "2540    15802.0       1.0     451.42      7    2021\n",
              "\n",
              "[4338 rows x 5 columns]"
            ]
          },
          "metadata": {},
          "execution_count": 48
        }
      ]
    },
    {
      "cell_type": "markdown",
      "source": [
        "***Respuesta: El cliente mas importante segun el monto gastado y la cantidad de compras es el de la ID 14646.***\n",
        "\n",
        "---"
      ],
      "metadata": {
        "id": "GO3GpyjJu6J-"
      }
    },
    {
      "cell_type": "markdown",
      "source": [
        "###### ***Pregunta 4: ¿Cual es el monto promedio que gastan sus clientes?***"
      ],
      "metadata": {
        "id": "8j-etTu472Uq"
      }
    },
    {
      "cell_type": "code",
      "source": [
        "df_c = pd.pivot_table(df, index=[\"ID Cliente\"], aggfunc=\"mean\")\n",
        "df_c = df_c.reset_index()"
      ],
      "metadata": {
        "id": "Fx1tXU_St_hT"
      },
      "execution_count": 49,
      "outputs": []
    },
    {
      "cell_type": "code",
      "source": [
        "df_c"
      ],
      "metadata": {
        "colab": {
          "base_uri": "https://localhost:8080/",
          "height": 419
        },
        "id": "6Y7fNLMh8TAz",
        "outputId": "2c25b053-2bfa-407d-91a1-13bb10f8c78c"
      },
      "execution_count": 50,
      "outputs": [
        {
          "output_type": "execute_result",
          "data": {
            "text/html": [
              "\n",
              "  <div id=\"df-7f576df3-0105-4a46-b2d5-cc377befa16e\">\n",
              "    <div class=\"colab-df-container\">\n",
              "      <div>\n",
              "<style scoped>\n",
              "    .dataframe tbody tr th:only-of-type {\n",
              "        vertical-align: middle;\n",
              "    }\n",
              "\n",
              "    .dataframe tbody tr th {\n",
              "        vertical-align: top;\n",
              "    }\n",
              "\n",
              "    .dataframe thead th {\n",
              "        text-align: right;\n",
              "    }\n",
              "</style>\n",
              "<table border=\"1\" class=\"dataframe\">\n",
              "  <thead>\n",
              "    <tr style=\"text-align: right;\">\n",
              "      <th></th>\n",
              "      <th>ID Cliente</th>\n",
              "      <th>Cantidad</th>\n",
              "      <th>Monto</th>\n",
              "      <th>month</th>\n",
              "      <th>year</th>\n",
              "    </tr>\n",
              "  </thead>\n",
              "  <tbody>\n",
              "    <tr>\n",
              "      <th>0</th>\n",
              "      <td>12346.0</td>\n",
              "      <td>74215.000000</td>\n",
              "      <td>77183.600000</td>\n",
              "      <td>1.000000</td>\n",
              "      <td>2021.000000</td>\n",
              "    </tr>\n",
              "    <tr>\n",
              "      <th>1</th>\n",
              "      <td>12347.0</td>\n",
              "      <td>351.142857</td>\n",
              "      <td>615.714286</td>\n",
              "      <td>5.857143</td>\n",
              "      <td>2020.857143</td>\n",
              "    </tr>\n",
              "    <tr>\n",
              "      <th>2</th>\n",
              "      <td>12348.0</td>\n",
              "      <td>585.250000</td>\n",
              "      <td>449.310000</td>\n",
              "      <td>3.500000</td>\n",
              "      <td>2020.750000</td>\n",
              "    </tr>\n",
              "    <tr>\n",
              "      <th>3</th>\n",
              "      <td>12349.0</td>\n",
              "      <td>631.000000</td>\n",
              "      <td>1757.550000</td>\n",
              "      <td>11.000000</td>\n",
              "      <td>2021.000000</td>\n",
              "    </tr>\n",
              "    <tr>\n",
              "      <th>4</th>\n",
              "      <td>12350.0</td>\n",
              "      <td>197.000000</td>\n",
              "      <td>334.400000</td>\n",
              "      <td>2.000000</td>\n",
              "      <td>2021.000000</td>\n",
              "    </tr>\n",
              "    <tr>\n",
              "      <th>...</th>\n",
              "      <td>...</td>\n",
              "      <td>...</td>\n",
              "      <td>...</td>\n",
              "      <td>...</td>\n",
              "      <td>...</td>\n",
              "    </tr>\n",
              "    <tr>\n",
              "      <th>4333</th>\n",
              "      <td>18280.0</td>\n",
              "      <td>45.000000</td>\n",
              "      <td>180.600000</td>\n",
              "      <td>3.000000</td>\n",
              "      <td>2021.000000</td>\n",
              "    </tr>\n",
              "    <tr>\n",
              "      <th>4334</th>\n",
              "      <td>18281.0</td>\n",
              "      <td>54.000000</td>\n",
              "      <td>80.820000</td>\n",
              "      <td>6.000000</td>\n",
              "      <td>2021.000000</td>\n",
              "    </tr>\n",
              "    <tr>\n",
              "      <th>4335</th>\n",
              "      <td>18282.0</td>\n",
              "      <td>51.500000</td>\n",
              "      <td>89.025000</td>\n",
              "      <td>10.000000</td>\n",
              "      <td>2021.000000</td>\n",
              "    </tr>\n",
              "    <tr>\n",
              "      <th>4336</th>\n",
              "      <td>18283.0</td>\n",
              "      <td>87.312500</td>\n",
              "      <td>130.930000</td>\n",
              "      <td>7.125000</td>\n",
              "      <td>2021.000000</td>\n",
              "    </tr>\n",
              "    <tr>\n",
              "      <th>4337</th>\n",
              "      <td>18287.0</td>\n",
              "      <td>528.666667</td>\n",
              "      <td>612.426667</td>\n",
              "      <td>8.333333</td>\n",
              "      <td>2021.000000</td>\n",
              "    </tr>\n",
              "  </tbody>\n",
              "</table>\n",
              "<p>4338 rows × 5 columns</p>\n",
              "</div>\n",
              "      <button class=\"colab-df-convert\" onclick=\"convertToInteractive('df-7f576df3-0105-4a46-b2d5-cc377befa16e')\"\n",
              "              title=\"Convert this dataframe to an interactive table.\"\n",
              "              style=\"display:none;\">\n",
              "        \n",
              "  <svg xmlns=\"http://www.w3.org/2000/svg\" height=\"24px\"viewBox=\"0 0 24 24\"\n",
              "       width=\"24px\">\n",
              "    <path d=\"M0 0h24v24H0V0z\" fill=\"none\"/>\n",
              "    <path d=\"M18.56 5.44l.94 2.06.94-2.06 2.06-.94-2.06-.94-.94-2.06-.94 2.06-2.06.94zm-11 1L8.5 8.5l.94-2.06 2.06-.94-2.06-.94L8.5 2.5l-.94 2.06-2.06.94zm10 10l.94 2.06.94-2.06 2.06-.94-2.06-.94-.94-2.06-.94 2.06-2.06.94z\"/><path d=\"M17.41 7.96l-1.37-1.37c-.4-.4-.92-.59-1.43-.59-.52 0-1.04.2-1.43.59L10.3 9.45l-7.72 7.72c-.78.78-.78 2.05 0 2.83L4 21.41c.39.39.9.59 1.41.59.51 0 1.02-.2 1.41-.59l7.78-7.78 2.81-2.81c.8-.78.8-2.07 0-2.86zM5.41 20L4 18.59l7.72-7.72 1.47 1.35L5.41 20z\"/>\n",
              "  </svg>\n",
              "      </button>\n",
              "      \n",
              "  <style>\n",
              "    .colab-df-container {\n",
              "      display:flex;\n",
              "      flex-wrap:wrap;\n",
              "      gap: 12px;\n",
              "    }\n",
              "\n",
              "    .colab-df-convert {\n",
              "      background-color: #E8F0FE;\n",
              "      border: none;\n",
              "      border-radius: 50%;\n",
              "      cursor: pointer;\n",
              "      display: none;\n",
              "      fill: #1967D2;\n",
              "      height: 32px;\n",
              "      padding: 0 0 0 0;\n",
              "      width: 32px;\n",
              "    }\n",
              "\n",
              "    .colab-df-convert:hover {\n",
              "      background-color: #E2EBFA;\n",
              "      box-shadow: 0px 1px 2px rgba(60, 64, 67, 0.3), 0px 1px 3px 1px rgba(60, 64, 67, 0.15);\n",
              "      fill: #174EA6;\n",
              "    }\n",
              "\n",
              "    [theme=dark] .colab-df-convert {\n",
              "      background-color: #3B4455;\n",
              "      fill: #D2E3FC;\n",
              "    }\n",
              "\n",
              "    [theme=dark] .colab-df-convert:hover {\n",
              "      background-color: #434B5C;\n",
              "      box-shadow: 0px 1px 3px 1px rgba(0, 0, 0, 0.15);\n",
              "      filter: drop-shadow(0px 1px 2px rgba(0, 0, 0, 0.3));\n",
              "      fill: #FFFFFF;\n",
              "    }\n",
              "  </style>\n",
              "\n",
              "      <script>\n",
              "        const buttonEl =\n",
              "          document.querySelector('#df-7f576df3-0105-4a46-b2d5-cc377befa16e button.colab-df-convert');\n",
              "        buttonEl.style.display =\n",
              "          google.colab.kernel.accessAllowed ? 'block' : 'none';\n",
              "\n",
              "        async function convertToInteractive(key) {\n",
              "          const element = document.querySelector('#df-7f576df3-0105-4a46-b2d5-cc377befa16e');\n",
              "          const dataTable =\n",
              "            await google.colab.kernel.invokeFunction('convertToInteractive',\n",
              "                                                     [key], {});\n",
              "          if (!dataTable) return;\n",
              "\n",
              "          const docLinkHtml = 'Like what you see? Visit the ' +\n",
              "            '<a target=\"_blank\" href=https://colab.research.google.com/notebooks/data_table.ipynb>data table notebook</a>'\n",
              "            + ' to learn more about interactive tables.';\n",
              "          element.innerHTML = '';\n",
              "          dataTable['output_type'] = 'display_data';\n",
              "          await google.colab.output.renderOutput(dataTable, element);\n",
              "          const docLink = document.createElement('div');\n",
              "          docLink.innerHTML = docLinkHtml;\n",
              "          element.appendChild(docLink);\n",
              "        }\n",
              "      </script>\n",
              "    </div>\n",
              "  </div>\n",
              "  "
            ],
            "text/plain": [
              "     ID Cliente      Cantidad         Monto      month         year\n",
              "0       12346.0  74215.000000  77183.600000   1.000000  2021.000000\n",
              "1       12347.0    351.142857    615.714286   5.857143  2020.857143\n",
              "2       12348.0    585.250000    449.310000   3.500000  2020.750000\n",
              "3       12349.0    631.000000   1757.550000  11.000000  2021.000000\n",
              "4       12350.0    197.000000    334.400000   2.000000  2021.000000\n",
              "...         ...           ...           ...        ...          ...\n",
              "4333    18280.0     45.000000    180.600000   3.000000  2021.000000\n",
              "4334    18281.0     54.000000     80.820000   6.000000  2021.000000\n",
              "4335    18282.0     51.500000     89.025000  10.000000  2021.000000\n",
              "4336    18283.0     87.312500    130.930000   7.125000  2021.000000\n",
              "4337    18287.0    528.666667    612.426667   8.333333  2021.000000\n",
              "\n",
              "[4338 rows x 5 columns]"
            ]
          },
          "metadata": {},
          "execution_count": 50
        }
      ]
    },
    {
      "cell_type": "code",
      "source": [
        "df_c[\"Monto\"].mean()"
      ],
      "metadata": {
        "colab": {
          "base_uri": "https://localhost:8080/"
        },
        "id": "zQmQnUrF8T5H",
        "outputId": "1b2a5bbc-be63-48ac-f431-2240c7a73490"
      },
      "execution_count": 51,
      "outputs": [
        {
          "output_type": "execute_result",
          "data": {
            "text/plain": [
              "418.7159133391849"
            ]
          },
          "metadata": {},
          "execution_count": 51
        }
      ]
    },
    {
      "cell_type": "markdown",
      "source": [
        "***Respuesta: El monto promedio que gastan los clientes es de 418.7159133391849***\n",
        "\n",
        "---"
      ],
      "metadata": {
        "id": "GnlyUSs180QS"
      }
    },
    {
      "cell_type": "markdown",
      "source": [
        "###### ***Pregunta 5: ¿Que porcentaje de sus clientes han vuelto a comprarles?***"
      ],
      "metadata": {
        "id": "qJwfpKF4d8Z-"
      }
    },
    {
      "cell_type": "code",
      "source": [
        "df_n = df.sort_values(by=\"Fecha de factura\")"
      ],
      "metadata": {
        "id": "2Ckz8dvFd86-"
      },
      "execution_count": 97,
      "outputs": []
    },
    {
      "cell_type": "code",
      "source": [
        "df_n = df_n[[\"Fecha de factura\", \"ID Cliente\"]].drop_duplicates(subset=[\"ID Cliente\"])"
      ],
      "metadata": {
        "id": "q_sQcGizeUx0"
      },
      "execution_count": 98,
      "outputs": []
    },
    {
      "cell_type": "code",
      "source": [
        "df"
      ],
      "metadata": {
        "id": "Ysh02U-DfRjN",
        "colab": {
          "base_uri": "https://localhost:8080/",
          "height": 419
        },
        "outputId": "f8e0cc13-0986-4c09-a3fb-9f4b71c2ed74"
      },
      "execution_count": 99,
      "outputs": [
        {
          "output_type": "execute_result",
          "data": {
            "text/html": [
              "\n",
              "  <div id=\"df-09c6d0e0-1cd6-4b99-b881-37b0e0e36e0e\">\n",
              "    <div class=\"colab-df-container\">\n",
              "      <div>\n",
              "<style scoped>\n",
              "    .dataframe tbody tr th:only-of-type {\n",
              "        vertical-align: middle;\n",
              "    }\n",
              "\n",
              "    .dataframe tbody tr th {\n",
              "        vertical-align: top;\n",
              "    }\n",
              "\n",
              "    .dataframe thead th {\n",
              "        text-align: right;\n",
              "    }\n",
              "</style>\n",
              "<table border=\"1\" class=\"dataframe\">\n",
              "  <thead>\n",
              "    <tr style=\"text-align: right;\">\n",
              "      <th></th>\n",
              "      <th>N° de factura</th>\n",
              "      <th>Fecha de factura</th>\n",
              "      <th>ID Cliente</th>\n",
              "      <th>País</th>\n",
              "      <th>Cantidad</th>\n",
              "      <th>Monto</th>\n",
              "      <th>month</th>\n",
              "      <th>year</th>\n",
              "      <th>pais_codigo</th>\n",
              "    </tr>\n",
              "  </thead>\n",
              "  <tbody>\n",
              "    <tr>\n",
              "      <th>0</th>\n",
              "      <td>548370</td>\n",
              "      <td>2021-03-30 16:14:00</td>\n",
              "      <td>15528.0</td>\n",
              "      <td>United Kingdom</td>\n",
              "      <td>123.0</td>\n",
              "      <td>229.33</td>\n",
              "      <td>3</td>\n",
              "      <td>2021</td>\n",
              "      <td>GBR</td>\n",
              "    </tr>\n",
              "    <tr>\n",
              "      <th>1</th>\n",
              "      <td>575767</td>\n",
              "      <td>2021-11-11 11:11:00</td>\n",
              "      <td>17348.0</td>\n",
              "      <td>United Kingdom</td>\n",
              "      <td>163.0</td>\n",
              "      <td>209.73</td>\n",
              "      <td>11</td>\n",
              "      <td>2021</td>\n",
              "      <td>GBR</td>\n",
              "    </tr>\n",
              "    <tr>\n",
              "      <th>3</th>\n",
              "      <td>549106</td>\n",
              "      <td>2021-04-06 12:08:00</td>\n",
              "      <td>17045.0</td>\n",
              "      <td>United Kingdom</td>\n",
              "      <td>1.0</td>\n",
              "      <td>39.95</td>\n",
              "      <td>4</td>\n",
              "      <td>2021</td>\n",
              "      <td>GBR</td>\n",
              "    </tr>\n",
              "    <tr>\n",
              "      <th>4</th>\n",
              "      <td>573112</td>\n",
              "      <td>2021-10-27 15:33:00</td>\n",
              "      <td>16416.0</td>\n",
              "      <td>United Kingdom</td>\n",
              "      <td>357.0</td>\n",
              "      <td>344.83</td>\n",
              "      <td>10</td>\n",
              "      <td>2021</td>\n",
              "      <td>GBR</td>\n",
              "    </tr>\n",
              "    <tr>\n",
              "      <th>5</th>\n",
              "      <td>576630</td>\n",
              "      <td>2021-11-16 08:38:00</td>\n",
              "      <td>13816.0</td>\n",
              "      <td>Germany</td>\n",
              "      <td>91.0</td>\n",
              "      <td>199.98</td>\n",
              "      <td>11</td>\n",
              "      <td>2021</td>\n",
              "      <td>DEU</td>\n",
              "    </tr>\n",
              "    <tr>\n",
              "      <th>...</th>\n",
              "      <td>...</td>\n",
              "      <td>...</td>\n",
              "      <td>...</td>\n",
              "      <td>...</td>\n",
              "      <td>...</td>\n",
              "      <td>...</td>\n",
              "      <td>...</td>\n",
              "      <td>...</td>\n",
              "      <td>...</td>\n",
              "    </tr>\n",
              "    <tr>\n",
              "      <th>25945</th>\n",
              "      <td>579252</td>\n",
              "      <td>2021-11-28 16:47:00</td>\n",
              "      <td>17450.0</td>\n",
              "      <td>United Kingdom</td>\n",
              "      <td>432.0</td>\n",
              "      <td>1034.40</td>\n",
              "      <td>11</td>\n",
              "      <td>2021</td>\n",
              "      <td>GBR</td>\n",
              "    </tr>\n",
              "    <tr>\n",
              "      <th>25946</th>\n",
              "      <td>574908</td>\n",
              "      <td>2021-11-07 15:37:00</td>\n",
              "      <td>16009.0</td>\n",
              "      <td>United Kingdom</td>\n",
              "      <td>28.0</td>\n",
              "      <td>82.76</td>\n",
              "      <td>11</td>\n",
              "      <td>2021</td>\n",
              "      <td>GBR</td>\n",
              "    </tr>\n",
              "    <tr>\n",
              "      <th>25949</th>\n",
              "      <td>553060</td>\n",
              "      <td>2021-05-13 10:44:00</td>\n",
              "      <td>15826.0</td>\n",
              "      <td>United Kingdom</td>\n",
              "      <td>488.0</td>\n",
              "      <td>720.00</td>\n",
              "      <td>5</td>\n",
              "      <td>2021</td>\n",
              "      <td>GBR</td>\n",
              "    </tr>\n",
              "    <tr>\n",
              "      <th>25950</th>\n",
              "      <td>577049</td>\n",
              "      <td>2021-11-17 13:58:00</td>\n",
              "      <td>17397.0</td>\n",
              "      <td>United Kingdom</td>\n",
              "      <td>104.0</td>\n",
              "      <td>298.78</td>\n",
              "      <td>11</td>\n",
              "      <td>2021</td>\n",
              "      <td>GBR</td>\n",
              "    </tr>\n",
              "    <tr>\n",
              "      <th>25951</th>\n",
              "      <td>550122</td>\n",
              "      <td>2021-04-14 12:39:00</td>\n",
              "      <td>12931.0</td>\n",
              "      <td>United Kingdom</td>\n",
              "      <td>1176.0</td>\n",
              "      <td>1488.00</td>\n",
              "      <td>4</td>\n",
              "      <td>2021</td>\n",
              "      <td>GBR</td>\n",
              "    </tr>\n",
              "  </tbody>\n",
              "</table>\n",
              "<p>18565 rows × 9 columns</p>\n",
              "</div>\n",
              "      <button class=\"colab-df-convert\" onclick=\"convertToInteractive('df-09c6d0e0-1cd6-4b99-b881-37b0e0e36e0e')\"\n",
              "              title=\"Convert this dataframe to an interactive table.\"\n",
              "              style=\"display:none;\">\n",
              "        \n",
              "  <svg xmlns=\"http://www.w3.org/2000/svg\" height=\"24px\"viewBox=\"0 0 24 24\"\n",
              "       width=\"24px\">\n",
              "    <path d=\"M0 0h24v24H0V0z\" fill=\"none\"/>\n",
              "    <path d=\"M18.56 5.44l.94 2.06.94-2.06 2.06-.94-2.06-.94-.94-2.06-.94 2.06-2.06.94zm-11 1L8.5 8.5l.94-2.06 2.06-.94-2.06-.94L8.5 2.5l-.94 2.06-2.06.94zm10 10l.94 2.06.94-2.06 2.06-.94-2.06-.94-.94-2.06-.94 2.06-2.06.94z\"/><path d=\"M17.41 7.96l-1.37-1.37c-.4-.4-.92-.59-1.43-.59-.52 0-1.04.2-1.43.59L10.3 9.45l-7.72 7.72c-.78.78-.78 2.05 0 2.83L4 21.41c.39.39.9.59 1.41.59.51 0 1.02-.2 1.41-.59l7.78-7.78 2.81-2.81c.8-.78.8-2.07 0-2.86zM5.41 20L4 18.59l7.72-7.72 1.47 1.35L5.41 20z\"/>\n",
              "  </svg>\n",
              "      </button>\n",
              "      \n",
              "  <style>\n",
              "    .colab-df-container {\n",
              "      display:flex;\n",
              "      flex-wrap:wrap;\n",
              "      gap: 12px;\n",
              "    }\n",
              "\n",
              "    .colab-df-convert {\n",
              "      background-color: #E8F0FE;\n",
              "      border: none;\n",
              "      border-radius: 50%;\n",
              "      cursor: pointer;\n",
              "      display: none;\n",
              "      fill: #1967D2;\n",
              "      height: 32px;\n",
              "      padding: 0 0 0 0;\n",
              "      width: 32px;\n",
              "    }\n",
              "\n",
              "    .colab-df-convert:hover {\n",
              "      background-color: #E2EBFA;\n",
              "      box-shadow: 0px 1px 2px rgba(60, 64, 67, 0.3), 0px 1px 3px 1px rgba(60, 64, 67, 0.15);\n",
              "      fill: #174EA6;\n",
              "    }\n",
              "\n",
              "    [theme=dark] .colab-df-convert {\n",
              "      background-color: #3B4455;\n",
              "      fill: #D2E3FC;\n",
              "    }\n",
              "\n",
              "    [theme=dark] .colab-df-convert:hover {\n",
              "      background-color: #434B5C;\n",
              "      box-shadow: 0px 1px 3px 1px rgba(0, 0, 0, 0.15);\n",
              "      filter: drop-shadow(0px 1px 2px rgba(0, 0, 0, 0.3));\n",
              "      fill: #FFFFFF;\n",
              "    }\n",
              "  </style>\n",
              "\n",
              "      <script>\n",
              "        const buttonEl =\n",
              "          document.querySelector('#df-09c6d0e0-1cd6-4b99-b881-37b0e0e36e0e button.colab-df-convert');\n",
              "        buttonEl.style.display =\n",
              "          google.colab.kernel.accessAllowed ? 'block' : 'none';\n",
              "\n",
              "        async function convertToInteractive(key) {\n",
              "          const element = document.querySelector('#df-09c6d0e0-1cd6-4b99-b881-37b0e0e36e0e');\n",
              "          const dataTable =\n",
              "            await google.colab.kernel.invokeFunction('convertToInteractive',\n",
              "                                                     [key], {});\n",
              "          if (!dataTable) return;\n",
              "\n",
              "          const docLinkHtml = 'Like what you see? Visit the ' +\n",
              "            '<a target=\"_blank\" href=https://colab.research.google.com/notebooks/data_table.ipynb>data table notebook</a>'\n",
              "            + ' to learn more about interactive tables.';\n",
              "          element.innerHTML = '';\n",
              "          dataTable['output_type'] = 'display_data';\n",
              "          await google.colab.output.renderOutput(dataTable, element);\n",
              "          const docLink = document.createElement('div');\n",
              "          docLink.innerHTML = docLinkHtml;\n",
              "          element.appendChild(docLink);\n",
              "        }\n",
              "      </script>\n",
              "    </div>\n",
              "  </div>\n",
              "  "
            ],
            "text/plain": [
              "      N° de factura    Fecha de factura ID Cliente  ... month  year  pais_codigo\n",
              "0            548370 2021-03-30 16:14:00    15528.0  ...     3  2021          GBR\n",
              "1            575767 2021-11-11 11:11:00    17348.0  ...    11  2021          GBR\n",
              "3            549106 2021-04-06 12:08:00    17045.0  ...     4  2021          GBR\n",
              "4            573112 2021-10-27 15:33:00    16416.0  ...    10  2021          GBR\n",
              "5            576630 2021-11-16 08:38:00    13816.0  ...    11  2021          DEU\n",
              "...             ...                 ...        ...  ...   ...   ...          ...\n",
              "25945        579252 2021-11-28 16:47:00    17450.0  ...    11  2021          GBR\n",
              "25946        574908 2021-11-07 15:37:00    16009.0  ...    11  2021          GBR\n",
              "25949        553060 2021-05-13 10:44:00    15826.0  ...     5  2021          GBR\n",
              "25950        577049 2021-11-17 13:58:00    17397.0  ...    11  2021          GBR\n",
              "25951        550122 2021-04-14 12:39:00    12931.0  ...     4  2021          GBR\n",
              "\n",
              "[18565 rows x 9 columns]"
            ]
          },
          "metadata": {},
          "execution_count": 99
        }
      ]
    },
    {
      "cell_type": "code",
      "source": [
        "df_n[\"month_cohort\"] = df[\"Fecha de factura\"].apply(lambda x: x.month if x.year != 2020 else 0)"
      ],
      "metadata": {
        "id": "uBCtUhYAgGHa"
      },
      "execution_count": 100,
      "outputs": []
    },
    {
      "cell_type": "code",
      "source": [
        "df_n"
      ],
      "metadata": {
        "colab": {
          "base_uri": "https://localhost:8080/",
          "height": 419
        },
        "id": "YL0ObRsdgK8i",
        "outputId": "ca3a139d-9ce6-4445-b1bf-5f13ca42c8d8"
      },
      "execution_count": 101,
      "outputs": [
        {
          "output_type": "execute_result",
          "data": {
            "text/html": [
              "\n",
              "  <div id=\"df-44604951-a2db-495f-86c0-24c81ff971f2\">\n",
              "    <div class=\"colab-df-container\">\n",
              "      <div>\n",
              "<style scoped>\n",
              "    .dataframe tbody tr th:only-of-type {\n",
              "        vertical-align: middle;\n",
              "    }\n",
              "\n",
              "    .dataframe tbody tr th {\n",
              "        vertical-align: top;\n",
              "    }\n",
              "\n",
              "    .dataframe thead th {\n",
              "        text-align: right;\n",
              "    }\n",
              "</style>\n",
              "<table border=\"1\" class=\"dataframe\">\n",
              "  <thead>\n",
              "    <tr style=\"text-align: right;\">\n",
              "      <th></th>\n",
              "      <th>Fecha de factura</th>\n",
              "      <th>ID Cliente</th>\n",
              "      <th>month_cohort</th>\n",
              "    </tr>\n",
              "  </thead>\n",
              "  <tbody>\n",
              "    <tr>\n",
              "      <th>9367</th>\n",
              "      <td>2020-12-01 08:26:00</td>\n",
              "      <td>17850.0</td>\n",
              "      <td>0</td>\n",
              "    </tr>\n",
              "    <tr>\n",
              "      <th>6876</th>\n",
              "      <td>2020-12-01 08:34:00</td>\n",
              "      <td>13047.0</td>\n",
              "      <td>0</td>\n",
              "    </tr>\n",
              "    <tr>\n",
              "      <th>505</th>\n",
              "      <td>2020-12-01 08:45:00</td>\n",
              "      <td>12583.0</td>\n",
              "      <td>0</td>\n",
              "    </tr>\n",
              "    <tr>\n",
              "      <th>12932</th>\n",
              "      <td>2020-12-01 09:00:00</td>\n",
              "      <td>13748.0</td>\n",
              "      <td>0</td>\n",
              "    </tr>\n",
              "    <tr>\n",
              "      <th>24617</th>\n",
              "      <td>2020-12-01 09:09:00</td>\n",
              "      <td>15100.0</td>\n",
              "      <td>0</td>\n",
              "    </tr>\n",
              "    <tr>\n",
              "      <th>...</th>\n",
              "      <td>...</td>\n",
              "      <td>...</td>\n",
              "      <td>...</td>\n",
              "    </tr>\n",
              "    <tr>\n",
              "      <th>11210</th>\n",
              "      <td>2021-12-08 10:33:00</td>\n",
              "      <td>13436.0</td>\n",
              "      <td>12</td>\n",
              "    </tr>\n",
              "    <tr>\n",
              "      <th>13190</th>\n",
              "      <td>2021-12-08 10:58:00</td>\n",
              "      <td>15520.0</td>\n",
              "      <td>12</td>\n",
              "    </tr>\n",
              "    <tr>\n",
              "      <th>18394</th>\n",
              "      <td>2021-12-08 13:11:00</td>\n",
              "      <td>13298.0</td>\n",
              "      <td>12</td>\n",
              "    </tr>\n",
              "    <tr>\n",
              "      <th>12056</th>\n",
              "      <td>2021-12-08 14:58:00</td>\n",
              "      <td>14569.0</td>\n",
              "      <td>12</td>\n",
              "    </tr>\n",
              "    <tr>\n",
              "      <th>20914</th>\n",
              "      <td>2021-12-09 12:16:00</td>\n",
              "      <td>12713.0</td>\n",
              "      <td>12</td>\n",
              "    </tr>\n",
              "  </tbody>\n",
              "</table>\n",
              "<p>4338 rows × 3 columns</p>\n",
              "</div>\n",
              "      <button class=\"colab-df-convert\" onclick=\"convertToInteractive('df-44604951-a2db-495f-86c0-24c81ff971f2')\"\n",
              "              title=\"Convert this dataframe to an interactive table.\"\n",
              "              style=\"display:none;\">\n",
              "        \n",
              "  <svg xmlns=\"http://www.w3.org/2000/svg\" height=\"24px\"viewBox=\"0 0 24 24\"\n",
              "       width=\"24px\">\n",
              "    <path d=\"M0 0h24v24H0V0z\" fill=\"none\"/>\n",
              "    <path d=\"M18.56 5.44l.94 2.06.94-2.06 2.06-.94-2.06-.94-.94-2.06-.94 2.06-2.06.94zm-11 1L8.5 8.5l.94-2.06 2.06-.94-2.06-.94L8.5 2.5l-.94 2.06-2.06.94zm10 10l.94 2.06.94-2.06 2.06-.94-2.06-.94-.94-2.06-.94 2.06-2.06.94z\"/><path d=\"M17.41 7.96l-1.37-1.37c-.4-.4-.92-.59-1.43-.59-.52 0-1.04.2-1.43.59L10.3 9.45l-7.72 7.72c-.78.78-.78 2.05 0 2.83L4 21.41c.39.39.9.59 1.41.59.51 0 1.02-.2 1.41-.59l7.78-7.78 2.81-2.81c.8-.78.8-2.07 0-2.86zM5.41 20L4 18.59l7.72-7.72 1.47 1.35L5.41 20z\"/>\n",
              "  </svg>\n",
              "      </button>\n",
              "      \n",
              "  <style>\n",
              "    .colab-df-container {\n",
              "      display:flex;\n",
              "      flex-wrap:wrap;\n",
              "      gap: 12px;\n",
              "    }\n",
              "\n",
              "    .colab-df-convert {\n",
              "      background-color: #E8F0FE;\n",
              "      border: none;\n",
              "      border-radius: 50%;\n",
              "      cursor: pointer;\n",
              "      display: none;\n",
              "      fill: #1967D2;\n",
              "      height: 32px;\n",
              "      padding: 0 0 0 0;\n",
              "      width: 32px;\n",
              "    }\n",
              "\n",
              "    .colab-df-convert:hover {\n",
              "      background-color: #E2EBFA;\n",
              "      box-shadow: 0px 1px 2px rgba(60, 64, 67, 0.3), 0px 1px 3px 1px rgba(60, 64, 67, 0.15);\n",
              "      fill: #174EA6;\n",
              "    }\n",
              "\n",
              "    [theme=dark] .colab-df-convert {\n",
              "      background-color: #3B4455;\n",
              "      fill: #D2E3FC;\n",
              "    }\n",
              "\n",
              "    [theme=dark] .colab-df-convert:hover {\n",
              "      background-color: #434B5C;\n",
              "      box-shadow: 0px 1px 3px 1px rgba(0, 0, 0, 0.15);\n",
              "      filter: drop-shadow(0px 1px 2px rgba(0, 0, 0, 0.3));\n",
              "      fill: #FFFFFF;\n",
              "    }\n",
              "  </style>\n",
              "\n",
              "      <script>\n",
              "        const buttonEl =\n",
              "          document.querySelector('#df-44604951-a2db-495f-86c0-24c81ff971f2 button.colab-df-convert');\n",
              "        buttonEl.style.display =\n",
              "          google.colab.kernel.accessAllowed ? 'block' : 'none';\n",
              "\n",
              "        async function convertToInteractive(key) {\n",
              "          const element = document.querySelector('#df-44604951-a2db-495f-86c0-24c81ff971f2');\n",
              "          const dataTable =\n",
              "            await google.colab.kernel.invokeFunction('convertToInteractive',\n",
              "                                                     [key], {});\n",
              "          if (!dataTable) return;\n",
              "\n",
              "          const docLinkHtml = 'Like what you see? Visit the ' +\n",
              "            '<a target=\"_blank\" href=https://colab.research.google.com/notebooks/data_table.ipynb>data table notebook</a>'\n",
              "            + ' to learn more about interactive tables.';\n",
              "          element.innerHTML = '';\n",
              "          dataTable['output_type'] = 'display_data';\n",
              "          await google.colab.output.renderOutput(dataTable, element);\n",
              "          const docLink = document.createElement('div');\n",
              "          docLink.innerHTML = docLinkHtml;\n",
              "          element.appendChild(docLink);\n",
              "        }\n",
              "      </script>\n",
              "    </div>\n",
              "  </div>\n",
              "  "
            ],
            "text/plain": [
              "         Fecha de factura ID Cliente  month_cohort\n",
              "9367  2020-12-01 08:26:00    17850.0             0\n",
              "6876  2020-12-01 08:34:00    13047.0             0\n",
              "505   2020-12-01 08:45:00    12583.0             0\n",
              "12932 2020-12-01 09:00:00    13748.0             0\n",
              "24617 2020-12-01 09:09:00    15100.0             0\n",
              "...                   ...        ...           ...\n",
              "11210 2021-12-08 10:33:00    13436.0            12\n",
              "13190 2021-12-08 10:58:00    15520.0            12\n",
              "18394 2021-12-08 13:11:00    13298.0            12\n",
              "12056 2021-12-08 14:58:00    14569.0            12\n",
              "20914 2021-12-09 12:16:00    12713.0            12\n",
              "\n",
              "[4338 rows x 3 columns]"
            ]
          },
          "metadata": {},
          "execution_count": 101
        }
      ]
    },
    {
      "cell_type": "code",
      "source": [
        "df_t = df.sort_values(by=\"Fecha de factura\")"
      ],
      "metadata": {
        "id": "f2IyktUqhY6e"
      },
      "execution_count": 102,
      "outputs": []
    },
    {
      "cell_type": "code",
      "source": [
        "df_n = df_n.pivot_table(df_n, index=[\"ID Cliente\"])"
      ],
      "metadata": {
        "id": "ds6sNH_qs5nK"
      },
      "execution_count": 103,
      "outputs": []
    },
    {
      "cell_type": "code",
      "source": [
        "df_c = pd.merge(right=df, left=df_n, on=\"ID Cliente\")"
      ],
      "metadata": {
        "id": "OPjF5ly1imgo"
      },
      "execution_count": 104,
      "outputs": []
    },
    {
      "cell_type": "code",
      "source": [
        "df_c[df_c[\"ID Cliente\"] == \"14646.0\"]"
      ],
      "metadata": {
        "id": "MjGt5ussjSH_",
        "colab": {
          "base_uri": "https://localhost:8080/",
          "height": 419
        },
        "outputId": "1b66a336-deb9-4889-ef97-dc3b680da565"
      },
      "execution_count": 105,
      "outputs": [
        {
          "output_type": "execute_result",
          "data": {
            "text/html": [
              "\n",
              "  <div id=\"df-27107662-e9dc-4644-9145-0dffbcd510a6\">\n",
              "    <div class=\"colab-df-container\">\n",
              "      <div>\n",
              "<style scoped>\n",
              "    .dataframe tbody tr th:only-of-type {\n",
              "        vertical-align: middle;\n",
              "    }\n",
              "\n",
              "    .dataframe tbody tr th {\n",
              "        vertical-align: top;\n",
              "    }\n",
              "\n",
              "    .dataframe thead th {\n",
              "        text-align: right;\n",
              "    }\n",
              "</style>\n",
              "<table border=\"1\" class=\"dataframe\">\n",
              "  <thead>\n",
              "    <tr style=\"text-align: right;\">\n",
              "      <th></th>\n",
              "      <th>ID Cliente</th>\n",
              "      <th>month_cohort</th>\n",
              "      <th>N° de factura</th>\n",
              "      <th>Fecha de factura</th>\n",
              "      <th>País</th>\n",
              "      <th>Cantidad</th>\n",
              "      <th>Monto</th>\n",
              "      <th>month</th>\n",
              "      <th>year</th>\n",
              "      <th>pais_codigo</th>\n",
              "    </tr>\n",
              "  </thead>\n",
              "  <tbody>\n",
              "    <tr>\n",
              "      <th>7399</th>\n",
              "      <td>14646.0</td>\n",
              "      <td>0</td>\n",
              "      <td>562789</td>\n",
              "      <td>2021-08-09 13:50:00</td>\n",
              "      <td>Netherlands</td>\n",
              "      <td>7807.0</td>\n",
              "      <td>12341.21</td>\n",
              "      <td>8</td>\n",
              "      <td>2021</td>\n",
              "      <td>NLD</td>\n",
              "    </tr>\n",
              "    <tr>\n",
              "      <th>7400</th>\n",
              "      <td>14646.0</td>\n",
              "      <td>0</td>\n",
              "      <td>547796</td>\n",
              "      <td>2021-03-25 12:34:00</td>\n",
              "      <td>Netherlands</td>\n",
              "      <td>731.0</td>\n",
              "      <td>1407.86</td>\n",
              "      <td>3</td>\n",
              "      <td>2021</td>\n",
              "      <td>NLD</td>\n",
              "    </tr>\n",
              "    <tr>\n",
              "      <th>7401</th>\n",
              "      <td>14646.0</td>\n",
              "      <td>0</td>\n",
              "      <td>578140</td>\n",
              "      <td>2021-11-23 10:58:00</td>\n",
              "      <td>Netherlands</td>\n",
              "      <td>5760.0</td>\n",
              "      <td>7952.68</td>\n",
              "      <td>11</td>\n",
              "      <td>2021</td>\n",
              "      <td>NLD</td>\n",
              "    </tr>\n",
              "    <tr>\n",
              "      <th>7402</th>\n",
              "      <td>14646.0</td>\n",
              "      <td>0</td>\n",
              "      <td>569719</td>\n",
              "      <td>2021-10-06 09:10:00</td>\n",
              "      <td>Netherlands</td>\n",
              "      <td>340.0</td>\n",
              "      <td>788.16</td>\n",
              "      <td>10</td>\n",
              "      <td>2021</td>\n",
              "      <td>NLD</td>\n",
              "    </tr>\n",
              "    <tr>\n",
              "      <th>7403</th>\n",
              "      <td>14646.0</td>\n",
              "      <td>0</td>\n",
              "      <td>574058</td>\n",
              "      <td>2021-11-02 14:10:00</td>\n",
              "      <td>Netherlands</td>\n",
              "      <td>216.0</td>\n",
              "      <td>449.28</td>\n",
              "      <td>11</td>\n",
              "      <td>2021</td>\n",
              "      <td>NLD</td>\n",
              "    </tr>\n",
              "    <tr>\n",
              "      <th>...</th>\n",
              "      <td>...</td>\n",
              "      <td>...</td>\n",
              "      <td>...</td>\n",
              "      <td>...</td>\n",
              "      <td>...</td>\n",
              "      <td>...</td>\n",
              "      <td>...</td>\n",
              "      <td>...</td>\n",
              "      <td>...</td>\n",
              "      <td>...</td>\n",
              "    </tr>\n",
              "    <tr>\n",
              "      <th>7467</th>\n",
              "      <td>14646.0</td>\n",
              "      <td>0</td>\n",
              "      <td>572051</td>\n",
              "      <td>2021-10-20 12:24:00</td>\n",
              "      <td>Netherlands</td>\n",
              "      <td>3020.0</td>\n",
              "      <td>4311.48</td>\n",
              "      <td>10</td>\n",
              "      <td>2021</td>\n",
              "      <td>NLD</td>\n",
              "    </tr>\n",
              "    <tr>\n",
              "      <th>7468</th>\n",
              "      <td>14646.0</td>\n",
              "      <td>0</td>\n",
              "      <td>575510</td>\n",
              "      <td>2021-11-10 10:33:00</td>\n",
              "      <td>Netherlands</td>\n",
              "      <td>1040.0</td>\n",
              "      <td>1549.12</td>\n",
              "      <td>11</td>\n",
              "      <td>2021</td>\n",
              "      <td>NLD</td>\n",
              "    </tr>\n",
              "    <tr>\n",
              "      <th>7469</th>\n",
              "      <td>14646.0</td>\n",
              "      <td>0</td>\n",
              "      <td>578141</td>\n",
              "      <td>2021-11-23 11:04:00</td>\n",
              "      <td>Netherlands</td>\n",
              "      <td>200.0</td>\n",
              "      <td>290.00</td>\n",
              "      <td>11</td>\n",
              "      <td>2021</td>\n",
              "      <td>NLD</td>\n",
              "    </tr>\n",
              "    <tr>\n",
              "      <th>7470</th>\n",
              "      <td>14646.0</td>\n",
              "      <td>0</td>\n",
              "      <td>558311</td>\n",
              "      <td>2021-06-28 11:22:00</td>\n",
              "      <td>Netherlands</td>\n",
              "      <td>1588.0</td>\n",
              "      <td>2739.92</td>\n",
              "      <td>6</td>\n",
              "      <td>2021</td>\n",
              "      <td>NLD</td>\n",
              "    </tr>\n",
              "    <tr>\n",
              "      <th>7471</th>\n",
              "      <td>14646.0</td>\n",
              "      <td>0</td>\n",
              "      <td>544479</td>\n",
              "      <td>2021-02-21 10:28:00</td>\n",
              "      <td>Netherlands</td>\n",
              "      <td>8174.0</td>\n",
              "      <td>11956.10</td>\n",
              "      <td>2</td>\n",
              "      <td>2021</td>\n",
              "      <td>NLD</td>\n",
              "    </tr>\n",
              "  </tbody>\n",
              "</table>\n",
              "<p>73 rows × 10 columns</p>\n",
              "</div>\n",
              "      <button class=\"colab-df-convert\" onclick=\"convertToInteractive('df-27107662-e9dc-4644-9145-0dffbcd510a6')\"\n",
              "              title=\"Convert this dataframe to an interactive table.\"\n",
              "              style=\"display:none;\">\n",
              "        \n",
              "  <svg xmlns=\"http://www.w3.org/2000/svg\" height=\"24px\"viewBox=\"0 0 24 24\"\n",
              "       width=\"24px\">\n",
              "    <path d=\"M0 0h24v24H0V0z\" fill=\"none\"/>\n",
              "    <path d=\"M18.56 5.44l.94 2.06.94-2.06 2.06-.94-2.06-.94-.94-2.06-.94 2.06-2.06.94zm-11 1L8.5 8.5l.94-2.06 2.06-.94-2.06-.94L8.5 2.5l-.94 2.06-2.06.94zm10 10l.94 2.06.94-2.06 2.06-.94-2.06-.94-.94-2.06-.94 2.06-2.06.94z\"/><path d=\"M17.41 7.96l-1.37-1.37c-.4-.4-.92-.59-1.43-.59-.52 0-1.04.2-1.43.59L10.3 9.45l-7.72 7.72c-.78.78-.78 2.05 0 2.83L4 21.41c.39.39.9.59 1.41.59.51 0 1.02-.2 1.41-.59l7.78-7.78 2.81-2.81c.8-.78.8-2.07 0-2.86zM5.41 20L4 18.59l7.72-7.72 1.47 1.35L5.41 20z\"/>\n",
              "  </svg>\n",
              "      </button>\n",
              "      \n",
              "  <style>\n",
              "    .colab-df-container {\n",
              "      display:flex;\n",
              "      flex-wrap:wrap;\n",
              "      gap: 12px;\n",
              "    }\n",
              "\n",
              "    .colab-df-convert {\n",
              "      background-color: #E8F0FE;\n",
              "      border: none;\n",
              "      border-radius: 50%;\n",
              "      cursor: pointer;\n",
              "      display: none;\n",
              "      fill: #1967D2;\n",
              "      height: 32px;\n",
              "      padding: 0 0 0 0;\n",
              "      width: 32px;\n",
              "    }\n",
              "\n",
              "    .colab-df-convert:hover {\n",
              "      background-color: #E2EBFA;\n",
              "      box-shadow: 0px 1px 2px rgba(60, 64, 67, 0.3), 0px 1px 3px 1px rgba(60, 64, 67, 0.15);\n",
              "      fill: #174EA6;\n",
              "    }\n",
              "\n",
              "    [theme=dark] .colab-df-convert {\n",
              "      background-color: #3B4455;\n",
              "      fill: #D2E3FC;\n",
              "    }\n",
              "\n",
              "    [theme=dark] .colab-df-convert:hover {\n",
              "      background-color: #434B5C;\n",
              "      box-shadow: 0px 1px 3px 1px rgba(0, 0, 0, 0.15);\n",
              "      filter: drop-shadow(0px 1px 2px rgba(0, 0, 0, 0.3));\n",
              "      fill: #FFFFFF;\n",
              "    }\n",
              "  </style>\n",
              "\n",
              "      <script>\n",
              "        const buttonEl =\n",
              "          document.querySelector('#df-27107662-e9dc-4644-9145-0dffbcd510a6 button.colab-df-convert');\n",
              "        buttonEl.style.display =\n",
              "          google.colab.kernel.accessAllowed ? 'block' : 'none';\n",
              "\n",
              "        async function convertToInteractive(key) {\n",
              "          const element = document.querySelector('#df-27107662-e9dc-4644-9145-0dffbcd510a6');\n",
              "          const dataTable =\n",
              "            await google.colab.kernel.invokeFunction('convertToInteractive',\n",
              "                                                     [key], {});\n",
              "          if (!dataTable) return;\n",
              "\n",
              "          const docLinkHtml = 'Like what you see? Visit the ' +\n",
              "            '<a target=\"_blank\" href=https://colab.research.google.com/notebooks/data_table.ipynb>data table notebook</a>'\n",
              "            + ' to learn more about interactive tables.';\n",
              "          element.innerHTML = '';\n",
              "          dataTable['output_type'] = 'display_data';\n",
              "          await google.colab.output.renderOutput(dataTable, element);\n",
              "          const docLink = document.createElement('div');\n",
              "          docLink.innerHTML = docLinkHtml;\n",
              "          element.appendChild(docLink);\n",
              "        }\n",
              "      </script>\n",
              "    </div>\n",
              "  </div>\n",
              "  "
            ],
            "text/plain": [
              "     ID Cliente  month_cohort N° de factura  ... month  year  pais_codigo\n",
              "7399    14646.0             0        562789  ...     8  2021          NLD\n",
              "7400    14646.0             0        547796  ...     3  2021          NLD\n",
              "7401    14646.0             0        578140  ...    11  2021          NLD\n",
              "7402    14646.0             0        569719  ...    10  2021          NLD\n",
              "7403    14646.0             0        574058  ...    11  2021          NLD\n",
              "...         ...           ...           ...  ...   ...   ...          ...\n",
              "7467    14646.0             0        572051  ...    10  2021          NLD\n",
              "7468    14646.0             0        575510  ...    11  2021          NLD\n",
              "7469    14646.0             0        578141  ...    11  2021          NLD\n",
              "7470    14646.0             0        558311  ...     6  2021          NLD\n",
              "7471    14646.0             0        544479  ...     2  2021          NLD\n",
              "\n",
              "[73 rows x 10 columns]"
            ]
          },
          "metadata": {},
          "execution_count": 105
        }
      ]
    },
    {
      "cell_type": "code",
      "source": [
        "df_c = pd.pivot_table(df_c, index=[\"month_cohort\"],columns=[\"month\"],aggfunc=\"count\")"
      ],
      "metadata": {
        "id": "tzgVNMoWtljv"
      },
      "execution_count": 106,
      "outputs": []
    },
    {
      "cell_type": "code",
      "source": [
        "df_c[\"Cantidad\"]"
      ],
      "metadata": {
        "colab": {
          "base_uri": "https://localhost:8080/",
          "height": 483
        },
        "id": "Uw0jF2LWt4nQ",
        "outputId": "ea9d71c7-13ce-49d2-db6e-15847b353287"
      },
      "execution_count": 107,
      "outputs": [
        {
          "output_type": "execute_result",
          "data": {
            "text/html": [
              "\n",
              "  <div id=\"df-539c7963-87a3-403b-b21e-798bfe3a7e62\">\n",
              "    <div class=\"colab-df-container\">\n",
              "      <div>\n",
              "<style scoped>\n",
              "    .dataframe tbody tr th:only-of-type {\n",
              "        vertical-align: middle;\n",
              "    }\n",
              "\n",
              "    .dataframe tbody tr th {\n",
              "        vertical-align: top;\n",
              "    }\n",
              "\n",
              "    .dataframe thead th {\n",
              "        text-align: right;\n",
              "    }\n",
              "</style>\n",
              "<table border=\"1\" class=\"dataframe\">\n",
              "  <thead>\n",
              "    <tr style=\"text-align: right;\">\n",
              "      <th>month</th>\n",
              "      <th>0</th>\n",
              "      <th>1</th>\n",
              "      <th>2</th>\n",
              "      <th>3</th>\n",
              "      <th>4</th>\n",
              "      <th>5</th>\n",
              "      <th>6</th>\n",
              "      <th>7</th>\n",
              "      <th>8</th>\n",
              "      <th>9</th>\n",
              "      <th>10</th>\n",
              "      <th>11</th>\n",
              "      <th>12</th>\n",
              "    </tr>\n",
              "    <tr>\n",
              "      <th>month_cohort</th>\n",
              "      <th></th>\n",
              "      <th></th>\n",
              "      <th></th>\n",
              "      <th></th>\n",
              "      <th></th>\n",
              "      <th></th>\n",
              "      <th></th>\n",
              "      <th></th>\n",
              "      <th></th>\n",
              "      <th></th>\n",
              "      <th></th>\n",
              "      <th></th>\n",
              "      <th></th>\n",
              "    </tr>\n",
              "  </thead>\n",
              "  <tbody>\n",
              "    <tr>\n",
              "      <th>0</th>\n",
              "      <td>1401.0</td>\n",
              "      <td>520.0</td>\n",
              "      <td>460.0</td>\n",
              "      <td>583.0</td>\n",
              "      <td>507.0</td>\n",
              "      <td>653.0</td>\n",
              "      <td>572.0</td>\n",
              "      <td>547.0</td>\n",
              "      <td>539.0</td>\n",
              "      <td>643.0</td>\n",
              "      <td>628.0</td>\n",
              "      <td>945.0</td>\n",
              "      <td>335.0</td>\n",
              "    </tr>\n",
              "    <tr>\n",
              "      <th>1</th>\n",
              "      <td>NaN</td>\n",
              "      <td>473.0</td>\n",
              "      <td>117.0</td>\n",
              "      <td>149.0</td>\n",
              "      <td>125.0</td>\n",
              "      <td>187.0</td>\n",
              "      <td>161.0</td>\n",
              "      <td>145.0</td>\n",
              "      <td>135.0</td>\n",
              "      <td>163.0</td>\n",
              "      <td>192.0</td>\n",
              "      <td>246.0</td>\n",
              "      <td>65.0</td>\n",
              "    </tr>\n",
              "    <tr>\n",
              "      <th>2</th>\n",
              "      <td>NaN</td>\n",
              "      <td>NaN</td>\n",
              "      <td>425.0</td>\n",
              "      <td>91.0</td>\n",
              "      <td>94.0</td>\n",
              "      <td>147.0</td>\n",
              "      <td>124.0</td>\n",
              "      <td>118.0</td>\n",
              "      <td>110.0</td>\n",
              "      <td>140.0</td>\n",
              "      <td>120.0</td>\n",
              "      <td>166.0</td>\n",
              "      <td>30.0</td>\n",
              "    </tr>\n",
              "    <tr>\n",
              "      <th>3</th>\n",
              "      <td>NaN</td>\n",
              "      <td>NaN</td>\n",
              "      <td>NaN</td>\n",
              "      <td>501.0</td>\n",
              "      <td>88.0</td>\n",
              "      <td>153.0</td>\n",
              "      <td>124.0</td>\n",
              "      <td>123.0</td>\n",
              "      <td>99.0</td>\n",
              "      <td>145.0</td>\n",
              "      <td>140.0</td>\n",
              "      <td>195.0</td>\n",
              "      <td>47.0</td>\n",
              "    </tr>\n",
              "    <tr>\n",
              "      <th>4</th>\n",
              "      <td>NaN</td>\n",
              "      <td>NaN</td>\n",
              "      <td>NaN</td>\n",
              "      <td>NaN</td>\n",
              "      <td>339.0</td>\n",
              "      <td>91.0</td>\n",
              "      <td>72.0</td>\n",
              "      <td>72.0</td>\n",
              "      <td>69.0</td>\n",
              "      <td>77.0</td>\n",
              "      <td>75.0</td>\n",
              "      <td>104.0</td>\n",
              "      <td>27.0</td>\n",
              "    </tr>\n",
              "    <tr>\n",
              "      <th>5</th>\n",
              "      <td>NaN</td>\n",
              "      <td>NaN</td>\n",
              "      <td>NaN</td>\n",
              "      <td>NaN</td>\n",
              "      <td>NaN</td>\n",
              "      <td>328.0</td>\n",
              "      <td>71.0</td>\n",
              "      <td>60.0</td>\n",
              "      <td>64.0</td>\n",
              "      <td>82.0</td>\n",
              "      <td>80.0</td>\n",
              "      <td>105.0</td>\n",
              "      <td>30.0</td>\n",
              "    </tr>\n",
              "    <tr>\n",
              "      <th>6</th>\n",
              "      <td>NaN</td>\n",
              "      <td>NaN</td>\n",
              "      <td>NaN</td>\n",
              "      <td>NaN</td>\n",
              "      <td>NaN</td>\n",
              "      <td>NaN</td>\n",
              "      <td>270.0</td>\n",
              "      <td>53.0</td>\n",
              "      <td>45.0</td>\n",
              "      <td>79.0</td>\n",
              "      <td>70.0</td>\n",
              "      <td>117.0</td>\n",
              "      <td>27.0</td>\n",
              "    </tr>\n",
              "    <tr>\n",
              "      <th>7</th>\n",
              "      <td>NaN</td>\n",
              "      <td>NaN</td>\n",
              "      <td>NaN</td>\n",
              "      <td>NaN</td>\n",
              "      <td>NaN</td>\n",
              "      <td>NaN</td>\n",
              "      <td>NaN</td>\n",
              "      <td>213.0</td>\n",
              "      <td>38.0</td>\n",
              "      <td>51.0</td>\n",
              "      <td>48.0</td>\n",
              "      <td>70.0</td>\n",
              "      <td>22.0</td>\n",
              "    </tr>\n",
              "    <tr>\n",
              "      <th>8</th>\n",
              "      <td>NaN</td>\n",
              "      <td>NaN</td>\n",
              "      <td>NaN</td>\n",
              "      <td>NaN</td>\n",
              "      <td>NaN</td>\n",
              "      <td>NaN</td>\n",
              "      <td>NaN</td>\n",
              "      <td>NaN</td>\n",
              "      <td>183.0</td>\n",
              "      <td>42.0</td>\n",
              "      <td>59.0</td>\n",
              "      <td>53.0</td>\n",
              "      <td>22.0</td>\n",
              "    </tr>\n",
              "    <tr>\n",
              "      <th>9</th>\n",
              "      <td>NaN</td>\n",
              "      <td>NaN</td>\n",
              "      <td>NaN</td>\n",
              "      <td>NaN</td>\n",
              "      <td>NaN</td>\n",
              "      <td>NaN</td>\n",
              "      <td>NaN</td>\n",
              "      <td>NaN</td>\n",
              "      <td>NaN</td>\n",
              "      <td>337.0</td>\n",
              "      <td>94.0</td>\n",
              "      <td>127.0</td>\n",
              "      <td>38.0</td>\n",
              "    </tr>\n",
              "    <tr>\n",
              "      <th>10</th>\n",
              "      <td>NaN</td>\n",
              "      <td>NaN</td>\n",
              "      <td>NaN</td>\n",
              "      <td>NaN</td>\n",
              "      <td>NaN</td>\n",
              "      <td>NaN</td>\n",
              "      <td>NaN</td>\n",
              "      <td>NaN</td>\n",
              "      <td>NaN</td>\n",
              "      <td>NaN</td>\n",
              "      <td>424.0</td>\n",
              "      <td>134.0</td>\n",
              "      <td>50.0</td>\n",
              "    </tr>\n",
              "    <tr>\n",
              "      <th>11</th>\n",
              "      <td>NaN</td>\n",
              "      <td>NaN</td>\n",
              "      <td>NaN</td>\n",
              "      <td>NaN</td>\n",
              "      <td>NaN</td>\n",
              "      <td>NaN</td>\n",
              "      <td>NaN</td>\n",
              "      <td>NaN</td>\n",
              "      <td>NaN</td>\n",
              "      <td>NaN</td>\n",
              "      <td>NaN</td>\n",
              "      <td>397.0</td>\n",
              "      <td>42.0</td>\n",
              "    </tr>\n",
              "    <tr>\n",
              "      <th>12</th>\n",
              "      <td>NaN</td>\n",
              "      <td>NaN</td>\n",
              "      <td>NaN</td>\n",
              "      <td>NaN</td>\n",
              "      <td>NaN</td>\n",
              "      <td>NaN</td>\n",
              "      <td>NaN</td>\n",
              "      <td>NaN</td>\n",
              "      <td>NaN</td>\n",
              "      <td>NaN</td>\n",
              "      <td>NaN</td>\n",
              "      <td>NaN</td>\n",
              "      <td>43.0</td>\n",
              "    </tr>\n",
              "  </tbody>\n",
              "</table>\n",
              "</div>\n",
              "      <button class=\"colab-df-convert\" onclick=\"convertToInteractive('df-539c7963-87a3-403b-b21e-798bfe3a7e62')\"\n",
              "              title=\"Convert this dataframe to an interactive table.\"\n",
              "              style=\"display:none;\">\n",
              "        \n",
              "  <svg xmlns=\"http://www.w3.org/2000/svg\" height=\"24px\"viewBox=\"0 0 24 24\"\n",
              "       width=\"24px\">\n",
              "    <path d=\"M0 0h24v24H0V0z\" fill=\"none\"/>\n",
              "    <path d=\"M18.56 5.44l.94 2.06.94-2.06 2.06-.94-2.06-.94-.94-2.06-.94 2.06-2.06.94zm-11 1L8.5 8.5l.94-2.06 2.06-.94-2.06-.94L8.5 2.5l-.94 2.06-2.06.94zm10 10l.94 2.06.94-2.06 2.06-.94-2.06-.94-.94-2.06-.94 2.06-2.06.94z\"/><path d=\"M17.41 7.96l-1.37-1.37c-.4-.4-.92-.59-1.43-.59-.52 0-1.04.2-1.43.59L10.3 9.45l-7.72 7.72c-.78.78-.78 2.05 0 2.83L4 21.41c.39.39.9.59 1.41.59.51 0 1.02-.2 1.41-.59l7.78-7.78 2.81-2.81c.8-.78.8-2.07 0-2.86zM5.41 20L4 18.59l7.72-7.72 1.47 1.35L5.41 20z\"/>\n",
              "  </svg>\n",
              "      </button>\n",
              "      \n",
              "  <style>\n",
              "    .colab-df-container {\n",
              "      display:flex;\n",
              "      flex-wrap:wrap;\n",
              "      gap: 12px;\n",
              "    }\n",
              "\n",
              "    .colab-df-convert {\n",
              "      background-color: #E8F0FE;\n",
              "      border: none;\n",
              "      border-radius: 50%;\n",
              "      cursor: pointer;\n",
              "      display: none;\n",
              "      fill: #1967D2;\n",
              "      height: 32px;\n",
              "      padding: 0 0 0 0;\n",
              "      width: 32px;\n",
              "    }\n",
              "\n",
              "    .colab-df-convert:hover {\n",
              "      background-color: #E2EBFA;\n",
              "      box-shadow: 0px 1px 2px rgba(60, 64, 67, 0.3), 0px 1px 3px 1px rgba(60, 64, 67, 0.15);\n",
              "      fill: #174EA6;\n",
              "    }\n",
              "\n",
              "    [theme=dark] .colab-df-convert {\n",
              "      background-color: #3B4455;\n",
              "      fill: #D2E3FC;\n",
              "    }\n",
              "\n",
              "    [theme=dark] .colab-df-convert:hover {\n",
              "      background-color: #434B5C;\n",
              "      box-shadow: 0px 1px 3px 1px rgba(0, 0, 0, 0.15);\n",
              "      filter: drop-shadow(0px 1px 2px rgba(0, 0, 0, 0.3));\n",
              "      fill: #FFFFFF;\n",
              "    }\n",
              "  </style>\n",
              "\n",
              "      <script>\n",
              "        const buttonEl =\n",
              "          document.querySelector('#df-539c7963-87a3-403b-b21e-798bfe3a7e62 button.colab-df-convert');\n",
              "        buttonEl.style.display =\n",
              "          google.colab.kernel.accessAllowed ? 'block' : 'none';\n",
              "\n",
              "        async function convertToInteractive(key) {\n",
              "          const element = document.querySelector('#df-539c7963-87a3-403b-b21e-798bfe3a7e62');\n",
              "          const dataTable =\n",
              "            await google.colab.kernel.invokeFunction('convertToInteractive',\n",
              "                                                     [key], {});\n",
              "          if (!dataTable) return;\n",
              "\n",
              "          const docLinkHtml = 'Like what you see? Visit the ' +\n",
              "            '<a target=\"_blank\" href=https://colab.research.google.com/notebooks/data_table.ipynb>data table notebook</a>'\n",
              "            + ' to learn more about interactive tables.';\n",
              "          element.innerHTML = '';\n",
              "          dataTable['output_type'] = 'display_data';\n",
              "          await google.colab.output.renderOutput(dataTable, element);\n",
              "          const docLink = document.createElement('div');\n",
              "          docLink.innerHTML = docLinkHtml;\n",
              "          element.appendChild(docLink);\n",
              "        }\n",
              "      </script>\n",
              "    </div>\n",
              "  </div>\n",
              "  "
            ],
            "text/plain": [
              "month             0      1      2      3   ...     9      10     11     12\n",
              "month_cohort                               ...                            \n",
              "0             1401.0  520.0  460.0  583.0  ...  643.0  628.0  945.0  335.0\n",
              "1                NaN  473.0  117.0  149.0  ...  163.0  192.0  246.0   65.0\n",
              "2                NaN    NaN  425.0   91.0  ...  140.0  120.0  166.0   30.0\n",
              "3                NaN    NaN    NaN  501.0  ...  145.0  140.0  195.0   47.0\n",
              "4                NaN    NaN    NaN    NaN  ...   77.0   75.0  104.0   27.0\n",
              "5                NaN    NaN    NaN    NaN  ...   82.0   80.0  105.0   30.0\n",
              "6                NaN    NaN    NaN    NaN  ...   79.0   70.0  117.0   27.0\n",
              "7                NaN    NaN    NaN    NaN  ...   51.0   48.0   70.0   22.0\n",
              "8                NaN    NaN    NaN    NaN  ...   42.0   59.0   53.0   22.0\n",
              "9                NaN    NaN    NaN    NaN  ...  337.0   94.0  127.0   38.0\n",
              "10               NaN    NaN    NaN    NaN  ...    NaN  424.0  134.0   50.0\n",
              "11               NaN    NaN    NaN    NaN  ...    NaN    NaN  397.0   42.0\n",
              "12               NaN    NaN    NaN    NaN  ...    NaN    NaN    NaN   43.0\n",
              "\n",
              "[13 rows x 13 columns]"
            ]
          },
          "metadata": {},
          "execution_count": 107
        }
      ]
    },
    {
      "cell_type": "code",
      "source": [
        "sns.heatmap(df_c[\"Fecha de factura\"], annot=True, fmt=\".2f\")"
      ],
      "metadata": {
        "colab": {
          "base_uri": "https://localhost:8080/",
          "height": 577
        },
        "id": "bQomEUhxurqp",
        "outputId": "c95fd2dd-3458-440e-ec8f-f39a31948488"
      },
      "execution_count": 110,
      "outputs": [
        {
          "output_type": "execute_result",
          "data": {
            "text/plain": [
              "<matplotlib.axes._subplots.AxesSubplot at 0x7f2255dffed0>"
            ]
          },
          "metadata": {},
          "execution_count": 110
        },
        {
          "output_type": "display_data",
          "data": {
            "image/png": "[encoded data removed]",
            "text/plain": [
              "<Figure size 1080x648 with 2 Axes>"
            ]
          },
          "metadata": {}
        }
      ]
    },
    {
      "cell_type": "markdown",
      "source": [
        "***Respuesta: Es una tasa muy baja de retencion sobre todo en los ultimos meses.***\n",
        "\n",
        "---"
      ],
      "metadata": {
        "id": "uyjpNvJCxIy8"
      }
    },
    {
      "cell_type": "markdown",
      "source": [
        "###### ***Pregunta 6: ¿Cuanto de las ventas corresponde a cada pais? ¿De donde son los compradores?***"
      ],
      "metadata": {
        "id": "w3tc-cjC8kJU"
      }
    },
    {
      "cell_type": "code",
      "source": [
        "df[\"pais_codigo\"] = df[\"País\"].apply(lambda x: str(df_i_c[df_i_c[\"Country\"] == x][\"Alpha-3 code\"]).replace('\"', \"\").split(\" \")[5].split(\"\\n\")[0])"
      ],
      "metadata": {
        "id": "855C6_z82nz9"
      },
      "execution_count": 111,
      "outputs": []
    },
    {
      "cell_type": "code",
      "source": [
        "df_c = df.pivot_table(df, index=[\"pais_codigo\", \"País\"], aggfunc=\"count\")\n",
        "df_c = df_c.reset_index()"
      ],
      "metadata": {
        "id": "cf-YxjKBzJ0m"
      },
      "execution_count": 112,
      "outputs": []
    },
    {
      "cell_type": "code",
      "source": [
        "df_c[\"Cantidad\"]"
      ],
      "metadata": {
        "colab": {
          "base_uri": "https://localhost:8080/"
        },
        "id": "iKZ9IdkN1AI4",
        "outputId": "26351a11-37bd-49c1-f57f-edc1f2ce2da2"
      },
      "execution_count": 113,
      "outputs": [
        {
          "output_type": "execute_result",
          "data": {
            "text/plain": [
              "0         3\n",
              "1        57\n",
              "2        17\n",
              "3        98\n",
              "4         2\n",
              "5         1\n",
              "6         6\n",
              "7        51\n",
              "8        16\n",
              "9         2\n",
              "10      457\n",
              "11       18\n",
              "12       90\n",
              "13       41\n",
              "14      390\n",
              "15    16675\n",
              "16        5\n",
              "17        7\n",
              "18        5\n",
              "19       38\n",
              "20       20\n",
              "21        1\n",
              "22        4\n",
              "23        5\n",
              "24       94\n",
              "25       36\n",
              "26       19\n",
              "27       57\n",
              "28        1\n",
              "29        7\n",
              "30       36\n",
              "31       26\n",
              "32      262\n",
              "33        4\n",
              "34        1\n",
              "35        5\n",
              "36        8\n",
              "Name: Cantidad, dtype: int64"
            ]
          },
          "metadata": {},
          "execution_count": 113
        }
      ]
    },
    {
      "cell_type": "code",
      "source": [
        "df"
      ],
      "metadata": {
        "colab": {
          "base_uri": "https://localhost:8080/",
          "height": 419
        },
        "id": "pKqdLmGa6hza",
        "outputId": "07f46514-502b-417b-cf7c-5c7ed83ce42e"
      },
      "execution_count": 114,
      "outputs": [
        {
          "output_type": "execute_result",
          "data": {
            "text/html": [
              "\n",
              "  <div id=\"df-b50d262e-7136-4cb1-a092-ec5f3c854d7a\">\n",
              "    <div class=\"colab-df-container\">\n",
              "      <div>\n",
              "<style scoped>\n",
              "    .dataframe tbody tr th:only-of-type {\n",
              "        vertical-align: middle;\n",
              "    }\n",
              "\n",
              "    .dataframe tbody tr th {\n",
              "        vertical-align: top;\n",
              "    }\n",
              "\n",
              "    .dataframe thead th {\n",
              "        text-align: right;\n",
              "    }\n",
              "</style>\n",
              "<table border=\"1\" class=\"dataframe\">\n",
              "  <thead>\n",
              "    <tr style=\"text-align: right;\">\n",
              "      <th></th>\n",
              "      <th>N° de factura</th>\n",
              "      <th>Fecha de factura</th>\n",
              "      <th>ID Cliente</th>\n",
              "      <th>País</th>\n",
              "      <th>Cantidad</th>\n",
              "      <th>Monto</th>\n",
              "      <th>month</th>\n",
              "      <th>year</th>\n",
              "      <th>pais_codigo</th>\n",
              "    </tr>\n",
              "  </thead>\n",
              "  <tbody>\n",
              "    <tr>\n",
              "      <th>0</th>\n",
              "      <td>548370</td>\n",
              "      <td>2021-03-30 16:14:00</td>\n",
              "      <td>15528.0</td>\n",
              "      <td>United Kingdom</td>\n",
              "      <td>123.0</td>\n",
              "      <td>229.33</td>\n",
              "      <td>3</td>\n",
              "      <td>2021</td>\n",
              "      <td>GBR</td>\n",
              "    </tr>\n",
              "    <tr>\n",
              "      <th>1</th>\n",
              "      <td>575767</td>\n",
              "      <td>2021-11-11 11:11:00</td>\n",
              "      <td>17348.0</td>\n",
              "      <td>United Kingdom</td>\n",
              "      <td>163.0</td>\n",
              "      <td>209.73</td>\n",
              "      <td>11</td>\n",
              "      <td>2021</td>\n",
              "      <td>GBR</td>\n",
              "    </tr>\n",
              "    <tr>\n",
              "      <th>3</th>\n",
              "      <td>549106</td>\n",
              "      <td>2021-04-06 12:08:00</td>\n",
              "      <td>17045.0</td>\n",
              "      <td>United Kingdom</td>\n",
              "      <td>1.0</td>\n",
              "      <td>39.95</td>\n",
              "      <td>4</td>\n",
              "      <td>2021</td>\n",
              "      <td>GBR</td>\n",
              "    </tr>\n",
              "    <tr>\n",
              "      <th>4</th>\n",
              "      <td>573112</td>\n",
              "      <td>2021-10-27 15:33:00</td>\n",
              "      <td>16416.0</td>\n",
              "      <td>United Kingdom</td>\n",
              "      <td>357.0</td>\n",
              "      <td>344.83</td>\n",
              "      <td>10</td>\n",
              "      <td>2021</td>\n",
              "      <td>GBR</td>\n",
              "    </tr>\n",
              "    <tr>\n",
              "      <th>5</th>\n",
              "      <td>576630</td>\n",
              "      <td>2021-11-16 08:38:00</td>\n",
              "      <td>13816.0</td>\n",
              "      <td>Germany</td>\n",
              "      <td>91.0</td>\n",
              "      <td>199.98</td>\n",
              "      <td>11</td>\n",
              "      <td>2021</td>\n",
              "      <td>DEU</td>\n",
              "    </tr>\n",
              "    <tr>\n",
              "      <th>...</th>\n",
              "      <td>...</td>\n",
              "      <td>...</td>\n",
              "      <td>...</td>\n",
              "      <td>...</td>\n",
              "      <td>...</td>\n",
              "      <td>...</td>\n",
              "      <td>...</td>\n",
              "      <td>...</td>\n",
              "      <td>...</td>\n",
              "    </tr>\n",
              "    <tr>\n",
              "      <th>25945</th>\n",
              "      <td>579252</td>\n",
              "      <td>2021-11-28 16:47:00</td>\n",
              "      <td>17450.0</td>\n",
              "      <td>United Kingdom</td>\n",
              "      <td>432.0</td>\n",
              "      <td>1034.40</td>\n",
              "      <td>11</td>\n",
              "      <td>2021</td>\n",
              "      <td>GBR</td>\n",
              "    </tr>\n",
              "    <tr>\n",
              "      <th>25946</th>\n",
              "      <td>574908</td>\n",
              "      <td>2021-11-07 15:37:00</td>\n",
              "      <td>16009.0</td>\n",
              "      <td>United Kingdom</td>\n",
              "      <td>28.0</td>\n",
              "      <td>82.76</td>\n",
              "      <td>11</td>\n",
              "      <td>2021</td>\n",
              "      <td>GBR</td>\n",
              "    </tr>\n",
              "    <tr>\n",
              "      <th>25949</th>\n",
              "      <td>553060</td>\n",
              "      <td>2021-05-13 10:44:00</td>\n",
              "      <td>15826.0</td>\n",
              "      <td>United Kingdom</td>\n",
              "      <td>488.0</td>\n",
              "      <td>720.00</td>\n",
              "      <td>5</td>\n",
              "      <td>2021</td>\n",
              "      <td>GBR</td>\n",
              "    </tr>\n",
              "    <tr>\n",
              "      <th>25950</th>\n",
              "      <td>577049</td>\n",
              "      <td>2021-11-17 13:58:00</td>\n",
              "      <td>17397.0</td>\n",
              "      <td>United Kingdom</td>\n",
              "      <td>104.0</td>\n",
              "      <td>298.78</td>\n",
              "      <td>11</td>\n",
              "      <td>2021</td>\n",
              "      <td>GBR</td>\n",
              "    </tr>\n",
              "    <tr>\n",
              "      <th>25951</th>\n",
              "      <td>550122</td>\n",
              "      <td>2021-04-14 12:39:00</td>\n",
              "      <td>12931.0</td>\n",
              "      <td>United Kingdom</td>\n",
              "      <td>1176.0</td>\n",
              "      <td>1488.00</td>\n",
              "      <td>4</td>\n",
              "      <td>2021</td>\n",
              "      <td>GBR</td>\n",
              "    </tr>\n",
              "  </tbody>\n",
              "</table>\n",
              "<p>18565 rows × 9 columns</p>\n",
              "</div>\n",
              "      <button class=\"colab-df-convert\" onclick=\"convertToInteractive('df-b50d262e-7136-4cb1-a092-ec5f3c854d7a')\"\n",
              "              title=\"Convert this dataframe to an interactive table.\"\n",
              "              style=\"display:none;\">\n",
              "        \n",
              "  <svg xmlns=\"http://www.w3.org/2000/svg\" height=\"24px\"viewBox=\"0 0 24 24\"\n",
              "       width=\"24px\">\n",
              "    <path d=\"M0 0h24v24H0V0z\" fill=\"none\"/>\n",
              "    <path d=\"M18.56 5.44l.94 2.06.94-2.06 2.06-.94-2.06-.94-.94-2.06-.94 2.06-2.06.94zm-11 1L8.5 8.5l.94-2.06 2.06-.94-2.06-.94L8.5 2.5l-.94 2.06-2.06.94zm10 10l.94 2.06.94-2.06 2.06-.94-2.06-.94-.94-2.06-.94 2.06-2.06.94z\"/><path d=\"M17.41 7.96l-1.37-1.37c-.4-.4-.92-.59-1.43-.59-.52 0-1.04.2-1.43.59L10.3 9.45l-7.72 7.72c-.78.78-.78 2.05 0 2.83L4 21.41c.39.39.9.59 1.41.59.51 0 1.02-.2 1.41-.59l7.78-7.78 2.81-2.81c.8-.78.8-2.07 0-2.86zM5.41 20L4 18.59l7.72-7.72 1.47 1.35L5.41 20z\"/>\n",
              "  </svg>\n",
              "      </button>\n",
              "      \n",
              "  <style>\n",
              "    .colab-df-container {\n",
              "      display:flex;\n",
              "      flex-wrap:wrap;\n",
              "      gap: 12px;\n",
              "    }\n",
              "\n",
              "    .colab-df-convert {\n",
              "      background-color: #E8F0FE;\n",
              "      border: none;\n",
              "      border-radius: 50%;\n",
              "      cursor: pointer;\n",
              "      display: none;\n",
              "      fill: #1967D2;\n",
              "      height: 32px;\n",
              "      padding: 0 0 0 0;\n",
              "      width: 32px;\n",
              "    }\n",
              "\n",
              "    .colab-df-convert:hover {\n",
              "      background-color: #E2EBFA;\n",
              "      box-shadow: 0px 1px 2px rgba(60, 64, 67, 0.3), 0px 1px 3px 1px rgba(60, 64, 67, 0.15);\n",
              "      fill: #174EA6;\n",
              "    }\n",
              "\n",
              "    [theme=dark] .colab-df-convert {\n",
              "      background-color: #3B4455;\n",
              "      fill: #D2E3FC;\n",
              "    }\n",
              "\n",
              "    [theme=dark] .colab-df-convert:hover {\n",
              "      background-color: #434B5C;\n",
              "      box-shadow: 0px 1px 3px 1px rgba(0, 0, 0, 0.15);\n",
              "      filter: drop-shadow(0px 1px 2px rgba(0, 0, 0, 0.3));\n",
              "      fill: #FFFFFF;\n",
              "    }\n",
              "  </style>\n",
              "\n",
              "      <script>\n",
              "        const buttonEl =\n",
              "          document.querySelector('#df-b50d262e-7136-4cb1-a092-ec5f3c854d7a button.colab-df-convert');\n",
              "        buttonEl.style.display =\n",
              "          google.colab.kernel.accessAllowed ? 'block' : 'none';\n",
              "\n",
              "        async function convertToInteractive(key) {\n",
              "          const element = document.querySelector('#df-b50d262e-7136-4cb1-a092-ec5f3c854d7a');\n",
              "          const dataTable =\n",
              "            await google.colab.kernel.invokeFunction('convertToInteractive',\n",
              "                                                     [key], {});\n",
              "          if (!dataTable) return;\n",
              "\n",
              "          const docLinkHtml = 'Like what you see? Visit the ' +\n",
              "            '<a target=\"_blank\" href=https://colab.research.google.com/notebooks/data_table.ipynb>data table notebook</a>'\n",
              "            + ' to learn more about interactive tables.';\n",
              "          element.innerHTML = '';\n",
              "          dataTable['output_type'] = 'display_data';\n",
              "          await google.colab.output.renderOutput(dataTable, element);\n",
              "          const docLink = document.createElement('div');\n",
              "          docLink.innerHTML = docLinkHtml;\n",
              "          element.appendChild(docLink);\n",
              "        }\n",
              "      </script>\n",
              "    </div>\n",
              "  </div>\n",
              "  "
            ],
            "text/plain": [
              "      N° de factura    Fecha de factura ID Cliente  ... month  year  pais_codigo\n",
              "0            548370 2021-03-30 16:14:00    15528.0  ...     3  2021          GBR\n",
              "1            575767 2021-11-11 11:11:00    17348.0  ...    11  2021          GBR\n",
              "3            549106 2021-04-06 12:08:00    17045.0  ...     4  2021          GBR\n",
              "4            573112 2021-10-27 15:33:00    16416.0  ...    10  2021          GBR\n",
              "5            576630 2021-11-16 08:38:00    13816.0  ...    11  2021          DEU\n",
              "...             ...                 ...        ...  ...   ...   ...          ...\n",
              "25945        579252 2021-11-28 16:47:00    17450.0  ...    11  2021          GBR\n",
              "25946        574908 2021-11-07 15:37:00    16009.0  ...    11  2021          GBR\n",
              "25949        553060 2021-05-13 10:44:00    15826.0  ...     5  2021          GBR\n",
              "25950        577049 2021-11-17 13:58:00    17397.0  ...    11  2021          GBR\n",
              "25951        550122 2021-04-14 12:39:00    12931.0  ...     4  2021          GBR\n",
              "\n",
              "[18565 rows x 9 columns]"
            ]
          },
          "metadata": {},
          "execution_count": 114
        }
      ]
    },
    {
      "cell_type": "code",
      "source": [
        "# El grafico no puede verse por github ya que no soporta la libreria plotly, igualmente dejo una foto, si queres ver e interactuar con el grafico entra al proyecto en colab.\n",
        "# https://colab.research.google.com/drive/1FLDDs4Xr_NU6aDfS_FEWYLzclKWCmzBh?usp=sharing\n",
        "\n",
        "fig = px.choropleth(df_c, locations=\"pais_codigo\",\n",
        "                    color=\"Fecha de factura\",\n",
        "                    hover_name=\"País\",\n",
        "                    color_continuous_scale=px.colors.sequential.Plasma)\n",
        "fig.show()"
      ],
      "metadata": {
        "colab": {
          "base_uri": "https://localhost:8080/",
          "height": 542
        },
        "id": "NQK6Dr-bwC5Z",
        "outputId": "e9805f32-0b11-4c08-bf10-3a546e72e078"
      },
      "execution_count": 115,
      "outputs": [
        {
          "output_type": "display_data",
          "data": {
            "text/html": [
              "<html>\n",
              "<head><meta charset=\"utf-8\" /></head>\n",
              "<body>\n",
              "    <div>            <script src=\"https://cdnjs.cloudflare.com/ajax/libs/mathjax/2.7.5/MathJax.js?config=TeX-AMS-MML_SVG\"></script><script type=\"text/javascript\">if (window.MathJax) {MathJax.Hub.Config({SVG: {font: \"STIX-Web\"}});}</script>                <script type=\"text/javascript\">window.PlotlyConfig = {MathJaxConfig: 'local'};</script>\n",
              "        <script src=\"https://cdn.plot.ly/plotly-2.8.3.min.js\"></script>                <div id=\"54488d72-ad7e-4152-ab5a-13952bbef482\" class=\"plotly-graph-div\" style=\"height:525px; width:100%;\"></div>            <script type=\"text/javascript\">                                    window.PLOTLYENV=window.PLOTLYENV || {};                                    if (document.getElementById(\"54488d72-ad7e-4152-ab5a-13952bbef482\")) {                    Plotly.newPlot(                        \"54488d72-ad7e-4152-ab5a-13952bbef482\",                        [{\"coloraxis\":\"coloraxis\",\"geo\":\"geo\",\"hovertemplate\":\"<b>%{hovertext}</b><br><br>pais_codigo=%{location}<br>Fecha de factura=%{z}<extra></extra>\",\"hovertext\":[\"United Arab Emirates\",\"Australia\",\"Austria\",\"Belgium\",\"Bahrain\",\"Brazil\",\"Canada\",\"Switzerland\",\"Cyprus\",\"Czech Republic\",\"Germany\",\"Denmark\",\"Spain\",\"Finland\",\"France\",\"United Kingdom\",\"Greece\",\"Iceland\",\"Israel\",\"Italy\",\"Japan\",\"Lebanon\",\"Lithuania\",\"Malta\",\"Netherlands\",\"Norway\",\"Poland\",\"Portugal\",\"Saudi Arabia\",\"Singapore\",\"Sweden\",\"Channel Islands\",\"EIRE\",\"European Community\",\"RSA\",\"USA\",\"Unspecified\"],\"locations\":[\"ARE\",\"AUS\",\"AUT\",\"BEL\",\"BHR\",\"BRA\",\"CAN\",\"CHE\",\"CYP\",\"CZE\",\"DEU\",\"DNK\",\"ESP\",\"FIN\",\"FRA\",\"GBR\",\"GRC\",\"ISL\",\"ISR\",\"ITA\",\"JPN\",\"LBN\",\"LTU\",\"MLT\",\"NLD\",\"NOR\",\"POL\",\"PRT\",\"SAU\",\"SGP\",\"SWE\",\"object)\",\"object)\",\"object)\",\"object)\",\"object)\",\"object)\"],\"name\":\"\",\"z\":[3,57,17,98,2,1,6,51,16,2,457,18,90,41,390,16675,5,7,5,38,20,1,4,5,94,36,19,57,1,7,36,26,262,4,1,5,8],\"type\":\"choropleth\"}],                        {\"template\":{\"data\":{\"bar\":[{\"error_x\":{\"color\":\"#2a3f5f\"},\"error_y\":{\"color\":\"#2a3f5f\"},\"marker\":{\"line\":{\"color\":\"#E5ECF6\",\"width\":0.5},\"pattern\":{\"fillmode\":\"overlay\",\"size\":10,\"solidity\":0.2}},\"type\":\"bar\"}],\"barpolar\":[{\"marker\":{\"line\":{\"color\":\"#E5ECF6\",\"width\":0.5},\"pattern\":{\"fillmode\":\"overlay\",\"size\":10,\"solidity\":0.2}},\"type\":\"barpolar\"}],\"carpet\":[{\"aaxis\":{\"endlinecolor\":\"#2a3f5f\",\"gridcolor\":\"white\",\"linecolor\":\"white\",\"minorgridcolor\":\"white\",\"startlinecolor\":\"#2a3f5f\"},\"baxis\":{\"endlinecolor\":\"#2a3f5f\",\"gridcolor\":\"white\",\"linecolor\":\"white\",\"minorgridcolor\":\"white\",\"startlinecolor\":\"#2a3f5f\"},\"type\":\"carpet\"}],\"choropleth\":[{\"colorbar\":{\"outlinewidth\":0,\"ticks\":\"\"},\"type\":\"choropleth\"}],\"contour\":[{\"colorbar\":{\"outlinewidth\":0,\"ticks\":\"\"},\"colorscale\":[[0.0,\"#0d0887\"],[0.1111111111111111,\"#46039f\"],[0.2222222222222222,\"#7201a8\"],[0.3333333333333333,\"#9c179e\"],[0.4444444444444444,\"#bd3786\"],[0.5555555555555556,\"#d8576b\"],[0.6666666666666666,\"#ed7953\"],[0.7777777777777778,\"#fb9f3a\"],[0.8888888888888888,\"#fdca26\"],[1.0,\"#f0f921\"]],\"type\":\"contour\"}],\"contourcarpet\":[{\"colorbar\":{\"outlinewidth\":0,\"ticks\":\"\"},\"type\":\"contourcarpet\"}],\"heatmap\":[{\"colorbar\":{\"outlinewidth\":0,\"ticks\":\"\"},\"colorscale\":[[0.0,\"#0d0887\"],[0.1111111111111111,\"#46039f\"],[0.2222222222222222,\"#7201a8\"],[0.3333333333333333,\"#9c179e\"],[0.4444444444444444,\"#bd3786\"],[0.5555555555555556,\"#d8576b\"],[0.6666666666666666,\"#ed7953\"],[0.7777777777777778,\"#fb9f3a\"],[0.8888888888888888,\"#fdca26\"],[1.0,\"#f0f921\"]],\"type\":\"heatmap\"}],\"heatmapgl\":[{\"colorbar\":{\"outlinewidth\":0,\"ticks\":\"\"},\"colorscale\":[[0.0,\"#0d0887\"],[0.1111111111111111,\"#46039f\"],[0.2222222222222222,\"#7201a8\"],[0.3333333333333333,\"#9c179e\"],[0.4444444444444444,\"#bd3786\"],[0.5555555555555556,\"#d8576b\"],[0.6666666666666666,\"#ed7953\"],[0.7777777777777778,\"#fb9f3a\"],[0.8888888888888888,\"#fdca26\"],[1.0,\"#f0f921\"]],\"type\":\"heatmapgl\"}],\"histogram\":[{\"marker\":{\"pattern\":{\"fillmode\":\"overlay\",\"size\":10,\"solidity\":0.2}},\"type\":\"histogram\"}],\"histogram2d\":[{\"colorbar\":{\"outlinewidth\":0,\"ticks\":\"\"},\"colorscale\":[[0.0,\"#0d0887\"],[0.1111111111111111,\"#46039f\"],[0.2222222222222222,\"#7201a8\"],[0.3333333333333333,\"#9c179e\"],[0.4444444444444444,\"#bd3786\"],[0.5555555555555556,\"#d8576b\"],[0.6666666666666666,\"#ed7953\"],[0.7777777777777778,\"#fb9f3a\"],[0.8888888888888888,\"#fdca26\"],[1.0,\"#f0f921\"]],\"type\":\"histogram2d\"}],\"histogram2dcontour\":[{\"colorbar\":{\"outlinewidth\":0,\"ticks\":\"\"},\"colorscale\":[[0.0,\"#0d0887\"],[0.1111111111111111,\"#46039f\"],[0.2222222222222222,\"#7201a8\"],[0.3333333333333333,\"#9c179e\"],[0.4444444444444444,\"#bd3786\"],[0.5555555555555556,\"#d8576b\"],[0.6666666666666666,\"#ed7953\"],[0.7777777777777778,\"#fb9f3a\"],[0.8888888888888888,\"#fdca26\"],[1.0,\"#f0f921\"]],\"type\":\"histogram2dcontour\"}],\"mesh3d\":[{\"colorbar\":{\"outlinewidth\":0,\"ticks\":\"\"},\"type\":\"mesh3d\"}],\"parcoords\":[{\"line\":{\"colorbar\":{\"outlinewidth\":0,\"ticks\":\"\"}},\"type\":\"parcoords\"}],\"pie\":[{\"automargin\":true,\"type\":\"pie\"}],\"scatter\":[{\"marker\":{\"colorbar\":{\"outlinewidth\":0,\"ticks\":\"\"}},\"type\":\"scatter\"}],\"scatter3d\":[{\"line\":{\"colorbar\":{\"outlinewidth\":0,\"ticks\":\"\"}},\"marker\":{\"colorbar\":{\"outlinewidth\":0,\"ticks\":\"\"}},\"type\":\"scatter3d\"}],\"scattercarpet\":[{\"marker\":{\"colorbar\":{\"outlinewidth\":0,\"ticks\":\"\"}},\"type\":\"scattercarpet\"}],\"scattergeo\":[{\"marker\":{\"colorbar\":{\"outlinewidth\":0,\"ticks\":\"\"}},\"type\":\"scattergeo\"}],\"scattergl\":[{\"marker\":{\"colorbar\":{\"outlinewidth\":0,\"ticks\":\"\"}},\"type\":\"scattergl\"}],\"scattermapbox\":[{\"marker\":{\"colorbar\":{\"outlinewidth\":0,\"ticks\":\"\"}},\"type\":\"scattermapbox\"}],\"scatterpolar\":[{\"marker\":{\"colorbar\":{\"outlinewidth\":0,\"ticks\":\"\"}},\"type\":\"scatterpolar\"}],\"scatterpolargl\":[{\"marker\":{\"colorbar\":{\"outlinewidth\":0,\"ticks\":\"\"}},\"type\":\"scatterpolargl\"}],\"scatterternary\":[{\"marker\":{\"colorbar\":{\"outlinewidth\":0,\"ticks\":\"\"}},\"type\":\"scatterternary\"}],\"surface\":[{\"colorbar\":{\"outlinewidth\":0,\"ticks\":\"\"},\"colorscale\":[[0.0,\"#0d0887\"],[0.1111111111111111,\"#46039f\"],[0.2222222222222222,\"#7201a8\"],[0.3333333333333333,\"#9c179e\"],[0.4444444444444444,\"#bd3786\"],[0.5555555555555556,\"#d8576b\"],[0.6666666666666666,\"#ed7953\"],[0.7777777777777778,\"#fb9f3a\"],[0.8888888888888888,\"#fdca26\"],[1.0,\"#f0f921\"]],\"type\":\"surface\"}],\"table\":[{\"cells\":{\"fill\":{\"color\":\"#EBF0F8\"},\"line\":{\"color\":\"white\"}},\"header\":{\"fill\":{\"color\":\"#C8D4E3\"},\"line\":{\"color\":\"white\"}},\"type\":\"table\"}]},\"layout\":{\"annotationdefaults\":{\"arrowcolor\":\"#2a3f5f\",\"arrowhead\":0,\"arrowwidth\":1},\"autotypenumbers\":\"strict\",\"coloraxis\":{\"colorbar\":{\"outlinewidth\":0,\"ticks\":\"\"}},\"colorscale\":{\"diverging\":[[0,\"#8e0152\"],[0.1,\"#c51b7d\"],[0.2,\"#de77ae\"],[0.3,\"#f1b6da\"],[0.4,\"#fde0ef\"],[0.5,\"#f7f7f7\"],[0.6,\"#e6f5d0\"],[0.7,\"#b8e186\"],[0.8,\"#7fbc41\"],[0.9,\"#4d9221\"],[1,\"#276419\"]],\"sequential\":[[0.0,\"#0d0887\"],[0.1111111111111111,\"#46039f\"],[0.2222222222222222,\"#7201a8\"],[0.3333333333333333,\"#9c179e\"],[0.4444444444444444,\"#bd3786\"],[0.5555555555555556,\"#d8576b\"],[0.6666666666666666,\"#ed7953\"],[0.7777777777777778,\"#fb9f3a\"],[0.8888888888888888,\"#fdca26\"],[1.0,\"#f0f921\"]],\"sequentialminus\":[[0.0,\"#0d0887\"],[0.1111111111111111,\"#46039f\"],[0.2222222222222222,\"#7201a8\"],[0.3333333333333333,\"#9c179e\"],[0.4444444444444444,\"#bd3786\"],[0.5555555555555556,\"#d8576b\"],[0.6666666666666666,\"#ed7953\"],[0.7777777777777778,\"#fb9f3a\"],[0.8888888888888888,\"#fdca26\"],[1.0,\"#f0f921\"]]},\"colorway\":[\"#636efa\",\"#EF553B\",\"#00cc96\",\"#ab63fa\",\"#FFA15A\",\"#19d3f3\",\"#FF6692\",\"#B6E880\",\"#FF97FF\",\"#FECB52\"],\"font\":{\"color\":\"#2a3f5f\"},\"geo\":{\"bgcolor\":\"white\",\"lakecolor\":\"white\",\"landcolor\":\"#E5ECF6\",\"showlakes\":true,\"showland\":true,\"subunitcolor\":\"white\"},\"hoverlabel\":{\"align\":\"left\"},\"hovermode\":\"closest\",\"mapbox\":{\"style\":\"light\"},\"paper_bgcolor\":\"white\",\"plot_bgcolor\":\"#E5ECF6\",\"polar\":{\"angularaxis\":{\"gridcolor\":\"white\",\"linecolor\":\"white\",\"ticks\":\"\"},\"bgcolor\":\"#E5ECF6\",\"radialaxis\":{\"gridcolor\":\"white\",\"linecolor\":\"white\",\"ticks\":\"\"}},\"scene\":{\"xaxis\":{\"backgroundcolor\":\"#E5ECF6\",\"gridcolor\":\"white\",\"gridwidth\":2,\"linecolor\":\"white\",\"showbackground\":true,\"ticks\":\"\",\"zerolinecolor\":\"white\"},\"yaxis\":{\"backgroundcolor\":\"#E5ECF6\",\"gridcolor\":\"white\",\"gridwidth\":2,\"linecolor\":\"white\",\"showbackground\":true,\"ticks\":\"\",\"zerolinecolor\":\"white\"},\"zaxis\":{\"backgroundcolor\":\"#E5ECF6\",\"gridcolor\":\"white\",\"gridwidth\":2,\"linecolor\":\"white\",\"showbackground\":true,\"ticks\":\"\",\"zerolinecolor\":\"white\"}},\"shapedefaults\":{\"line\":{\"color\":\"#2a3f5f\"}},\"ternary\":{\"aaxis\":{\"gridcolor\":\"white\",\"linecolor\":\"white\",\"ticks\":\"\"},\"baxis\":{\"gridcolor\":\"white\",\"linecolor\":\"white\",\"ticks\":\"\"},\"bgcolor\":\"#E5ECF6\",\"caxis\":{\"gridcolor\":\"white\",\"linecolor\":\"white\",\"ticks\":\"\"}},\"title\":{\"x\":0.05},\"xaxis\":{\"automargin\":true,\"gridcolor\":\"white\",\"linecolor\":\"white\",\"ticks\":\"\",\"title\":{\"standoff\":15},\"zerolinecolor\":\"white\",\"zerolinewidth\":2},\"yaxis\":{\"automargin\":true,\"gridcolor\":\"white\",\"linecolor\":\"white\",\"ticks\":\"\",\"title\":{\"standoff\":15},\"zerolinecolor\":\"white\",\"zerolinewidth\":2}}},\"geo\":{\"domain\":{\"x\":[0.0,1.0],\"y\":[0.0,1.0]},\"center\":{}},\"coloraxis\":{\"colorbar\":{\"title\":{\"text\":\"Fecha de factura\"}},\"colorscale\":[[0.0,\"#0d0887\"],[0.1111111111111111,\"#46039f\"],[0.2222222222222222,\"#7201a8\"],[0.3333333333333333,\"#9c179e\"],[0.4444444444444444,\"#bd3786\"],[0.5555555555555556,\"#d8576b\"],[0.6666666666666666,\"#ed7953\"],[0.7777777777777778,\"#fb9f3a\"],[0.8888888888888888,\"#fdca26\"],[1.0,\"#f0f921\"]]},\"legend\":{\"tracegroupgap\":0},\"margin\":{\"t\":60}},                        {\"responsive\": true}                    ).then(function(){\n",
              "                            \n",
              "var gd = document.getElementById('54488d72-ad7e-4152-ab5a-13952bbef482');\n",
              "var x = new MutationObserver(function (mutations, observer) {{\n",
              "        var display = window.getComputedStyle(gd).display;\n",
              "        if (!display || display === 'none') {{\n",
              "            console.log([gd, 'removed!']);\n",
              "            Plotly.purge(gd);\n",
              "            observer.disconnect();\n",
              "        }}\n",
              "}});\n",
              "\n",
              "// Listen for the removal of the full notebook cells\n",
              "var notebookContainer = gd.closest('#notebook-container');\n",
              "if (notebookContainer) {{\n",
              "    x.observe(notebookContainer, {childList: true});\n",
              "}}\n",
              "\n",
              "// Listen for the clearing of the current output cell\n",
              "var outputEl = gd.closest('.output');\n",
              "if (outputEl) {{\n",
              "    x.observe(outputEl, {childList: true});\n",
              "}}\n",
              "\n",
              "                        })                };                            </script>        </div>\n",
              "</body>\n",
              "</html>"
            ]
          },
          "metadata": {}
        }
      ]
    },
    {
      "cell_type": "markdown",
      "source": [
        "![newplot (2).png](data:image/png;base64,iVBORw0KGgoAAAANSUhEUgAABdkAAAINCAYAAADC2XYkAAAgAElEQVR4XuzdB3SUxdcG8Cfb0nvvDRJ6byIiihQpFhQLlg+7Ijbsf3sXxC4q2FFQbCgqKogiitJ7DyEhvfdkN7ub3e/ciYkEAkmWBBN45pw9G8hb5v29m93kzp07Tna73Q42ClCAAhSgAAUoQAEKUIACFKAABShAAQpQgAIUoAAFWizgxCB7i824AwUoQAEKUIACFKAABShAAQpQgAIUoAAFKEABClBACTDIzhcCBShAAQpQgAIUoAAFKEABClCAAhSgAAUoQAEKUMBBAQbZHYTjbhSgAAUoQAEKUIACFKAABShAAQpQgAIUoAAFKEABBtn5GqAABShAAQpQgAIUoAAFKEABClCAAhSgAAUoQAEKOCjAILuDcNyNAhSgAAUoQAEKUIACFKAABShAAQpQgAIUoAAFKMAgO18DFKAABShAAQpQgAIUoAAFKEABClCAAhSgAAUoQAEHBRhkdxCOu1GAAhSgAAUoQAEKUIACFKAABShAAQpQgAIUoAAFGGTna4ACFKAABShAAQpQgAIUoAAFKEABClCAAhSgAAUo4KAAg+wOwnE3ClCAAhSgAAUoQAEKUIACFKAABShAAQpQgAIUoACD7HwNUIACFKAABShAAQpQgAIUoAAFKEABClCAAhSgAAUcFGCQ3UE47kYBClCAAhSgAAUoQAEKUIACFKAABShAAQpQgAIUYJCdrwEKUIACFKAABShAAQpQgAIUoAAFKEABClCAAhSggIMCDLI7CMfdKEABClCAAhSgAAUoQAEKUIACFKAABShAAQpQgAIMsvM1QAEKUIACFKAABShAAQpQgAIUoAAFKEABClCAAhRwUIBBdgfhuBsFKEABClCAAhSgAAUoQAEKUIACFKAABShAAQpQgEF2vgYoQAEKUIACFKAABShAAQpQgAIUoAAFKEABClCAAg4KMMjuIBx3owAFKEABClCAAhSgAAUoQAEKUIACFKAABShAAQowyM7XAAUoQAEKUIACFKAABShAAQpQgAIUoAAFKEABClDAQQEG2R2E424UoAAFKEABClCAAhSgAAUoQAEKUIACFKAABShAAQbZ+RqgAAUoQAEKUIACFKAABShAAQpQgAIUoAAFKEABCjgowCC7g3DcjQIUoAAFKEABClCAAhSgAAUoQAEKUIACFKAABSjAIDtfAxSgAAUoQAEKUIACFKAABShAAQpQgAIUoAAFKEABBwUYZHcQjrtRgAIUoAAFKEABClCAAhSgAAUoQAEKUIACFKAABRhk52uAAhSgAAUoQAEKUIACFKAABShAAQpQgAIUoAAFKOCgAIPsDsJxNwpQgAIUoAAFKEABClCAAhSgAAUoQAEKUIACFKAAg+x8DVCAAhSgAAUoQAEKUIACFKAABShAAQpQgAIUoAAFHBRgkN1BOO5GAQpQgAIUoAAFKEABClCAAhSgAAUoQAEKUIACFGCQna8BClCAAhSgAAUoQAEKUIACFKAABShAAQpQgAIUoICDAgyyOwjH3ShAAQpQgAIUoAAFKEABClCAAhSgAAUoQAEKUIACDLLzNUABClCAAhSgAAUoQAEKUIACFKAABShAAQpQgAIUcFCAQXYH4bgbBShAAQpQgAIUoAAFKEABClCAAhSgAAUoQAEKUIBBdr4GKEABClCAAhSgAAUoQAEKUIACFKAABShAAQpQgAIOCjDI7iAcd6MABShAAQpQgAIUoAAFKEABClCAAhSgAAUoQAEKMMjO1wAFKEABClCAAhSgAAUoQAEKUIACFKAABShAAQpQwEEBBtkdhONuFKAABShAAQpQgAIUoAAFKEABClCAAhSgAAUoQAEG2fkaoAAFKEABClCAAhSgAAUoQAEKUIACFKAABShAAQo4KMAgu4Nw3I0CFKAABShAAQpQgAIUoAAFKEABClCAAhSgAAUowCA7XwMUoAAFKEABClCAAhSgAAUoQAEKUIACFKAABShAAQcFGGR3EI67UYACFKAABShAAQpQgAIUoAAFKEABClCAAhSgAAUYZOdrgAIUoAAFKEABClCAAhSgAAUoQAEKUIACFKAABSjgoACD7A7CcTcKUIACFKAABShAAQpQgAIUoAAFKEABClCAAhSgAIPsfA1QgAIUoAAFKEABClCAAhSgAAUoQAEKUIACFKAABRwUYJDdQTjuRgEKUIACFKAABShAAQpQgAIUoAAFKEABClCAAhRgkJ2vAQpQgAIUoAAFKEABClCAAhSgAAUoQAEKUIACFKCAgwIMsjsIx90oQAEKUIACFKAABShAAQpQgAIUoAAFKEABClCAAgyy8zVAAQpQgAIUoAAFKEABClCAAhSgAAUoQAEKUIACFHBQgEF2B+G4GwUoQAEKUIACFKAABShAAQpQgAIUoAAFKEABClCAQXa+BihAAQpQgAIUoAAFKEABClCAAhSgAAUoQAEKUIACDgowyO4gHHejAAUoQAEKUIACFKAABShAAQpQgAIUoAAFKEABCjDIztcABShAAQpQgAIUoAAFKEABClCAAhSgAAUoQAEKUMBBAQbZHYTjbhSgAAUoQAEKUIACFKAABShAAQpQgAIUoAAFKEABBtn5GqAABShAAQpQgAIUoAAFKEABClCAAhSgAAUoQAEKOCjAILuDcNyNAhSgAAUoQAEKUIACFKAABShAAQpQgAIUoAAFKMAgO18DFKAABShAAQpQgAIUoAAFKEABClCAAhSgAAUoQAEHBRhkdxCOu1GAAhSgAAUoQAEKUIACFKAABShAAQpQgAIUoAAFGGTna4ACFKAABShAAQpQgAIUoAAFKEABClCAAhSgAAUo4KAAg+wOwnE3ClCAAhSgAAUoQAEKUIACFKAABShAAQpQgAIUoACD7HwNUIACFKAABShAAQpQgAIUoAAFKEABClCAAhSgAAUcFGCQ3UE47kYBCpwcAna7HZ988snJcTHt4Co2bdoErVbbZE9sNhuys7MxYsQIuLm5Nbl9Yxts3LgROp0OJSUl6tvdunVDYGCgQ8c6dKfi4mKsWbMGUVFR0Ov1qK6uVt/u2bOnel68eDF8fHzg5+fX7HMVFhbi9NNPh7Ozs9pny5YtcHJyavb+jmwo5ywrK8MFF1zgyO4N9tm/fz+io6OVB1vHE8jKykJRURF69OjR8Tp/gnosnwVsp6ZAeXk55P3Sy8ur0ff13Nxc9f98/zv260PeY1ryuXjo0eRzXH4v2LFjx1GPUVBQgK5duyIgIKBZv2ecmq9mXrWjAldffbWju3I/ClCAAhSgQL0Ag+x8MVCAAqe0gARWxowZg6uuuuqUdjiei5cg9N9//43U1ByYq51RWeEOk/HfwLlOb4HB2QRnFxOcnY3Qamv+OZ0G3t4eKsielVUMu90KrVYHZ2cDvL1d4eHhAW9vb1gsFvTt27dBFz/66BOYTG6oqvBQ/+/iWgVfvxpcdtlFLbqUlStXorS0VP3BXllphtEoAXUbzNWusNu1cHKyQaerDbJ7ernirLNOx6+/roTJVA2bzQl2mwZ2uxPsdg1qarSQ11NFuTfM1S71/dBoa+DhWQ4PzxJceeXl6lwLFiyC1WoB7E6w2SXYXnsMOZ7FooNOZ4HF7AytrkZ5OTnZASeb6o/a1ibn08Fs1qtnObdOZ4VGUwNXVyN0ejMALZyd9bj00sktMjl844qKCmzYsBHp6Wnw8w9AVHQsAgKD4OHhqYIi8qipqYHNVoOK8nK4uIqdvcGjvKwUnl7e6trrHvK68fb2Oa6+cefmCSTt3Y1dO7fBx8cXERHhCA0NRXBwcPN25lYU6IAC8p4kQV8ZIJTguXyOmM3mfx4WWCxm9X91g6g+vv4ICg5BTGy8ulqzxYzKigqkHUxBTlYmevbqicSEhA4o0bIuy3u31WpV7+nykIFaeb+oa2Kan5+PvLw8VFUZYTIZ1YCxPGT7rj16IywsokUnFes1f/6u7od8fvj4Nj6AXVxUqD5v5FkGuiXYLr8/yOChRqNp0Tk72sZiK4kJvr6+ylqut+4h/25OckNHu+YT2d/58+dj+fLlJ/KUPBcFKEABCpykAgyyn6Q3lpdFAQo0T6AuyL5s2bLm7cCtjhBYtGgR3n33XVitBljMnrDVaKDVWaDRmqHTaeDkVA1/Pz/06JmIoUOHYuDAgSro8eSTT2LVqtUoLgxBXm6QCsw7/xOMl6C8p6cE5qug09mgN5jRs2cCJkyYgLPOOgu33XYb9uzZg7SUzsjOjFJ96tVvI7x9jHB29kK1qRrWGgmOO2Ho0AF47LHHGr1zo0aNRVZGJKxWnQp4l5b4oaqyNnDfsNnRb/Bq3Hnn9fWZ4UuWLIG7uzsk8z0lJUX9wbt27VoUFVXCWOWOgykxKCupDRbIAEPPvuvg4uKM0NAgJCbGY/LkyaiqqoLRaIRkGkuTjEnJqJQsfcmcd3V1Vd+TgKhk7ctDsvnkYTAY1L5yjLIyK2w1ZnTtFo8BAwZg9OjRDmcUHu0lLtmeP/74Iw6kpKhM/OKiInXNkt2p1xugN+gRFBgE2U6j1UCr0dY/SyBLvq+CXNUS6KpGQEAQiouLEN85EXGdEhDfKVF93dYZ/qfyj/DuXduxc/sWFdDq168v7rnnnlOZg9d+kgjIe44E05OTk9Xz/v3JyMhIR3RMnAo+dkroClc3N7i5udc/S3DWZrdj2+YNCI+MRn5uDvLzcpCXm4Pc3GzUWGsQGhYKdzd3XHzxRTjttNM6vJa8/0qQWj4zDn389ttvSEraj5SUA+r78tliMDirZ28fX5iMVWoWVm5uDnz9/NEpoQs6de4KH19f+AcEqn3sNjtsdpsyd6QVFRXAzy+gWbvK720H9u9D8v59WLP6d3XPJk6cgGuuuaZZ+3eUjXbv3o133nkHubl5KCoqRHRMLMpKS2GtsaLGaoXVKgMhVsTGxaO0tAThYeGIjIxAWFgYwsPD1UO+ZmtaYNSoUQyyN83ELShAAQpQoBkCDLI3A4mbUIACJ68Ag+ytc28l8239+vVqqrfJZEJISIj6406Cq2effXaDk0hJmeeem43sLDP27+1ylKB2w355epUgMLgAfv450Ok10Ov0sMMOs9kIq1WDTWvPUDtERCerAHeNVbK8XeAfmIuIqBz8/PN3jV7ouHHnw2iUDHA7nFCD6movbN3Y/4htNRob+g3+E8OHD8Ljjz+OhQsXQq5j//4MVFSUwQnOiIoOxMiRIzBlyhRcdNElSNrrjtTkxPpjSUa/m3s5/Pzz4eVdAWcXKwATtFon6HQusNtt0Gr1KiNcmtlsAmCFxeylnlWmu11K8WgApxo1KODkVAONxqIy14OCQjFu3Dm48sorW+emNnEU+dk53oB4ZmYmJJAgj127dyPlwAFEREbjuptvdzhYc0IuvoOfJOXAfsx740V89NGHHfxK2P1TUUAGHuWzZvv2Hdi6dasqGRYTG4vI6Dg10yYqJk4FJGWQVdqObZtVIDgrMwM5WRnIzs5AdmaG+r+YmBgEBQcjPCxMfWZJ1rY8S6Z0R28SVN++fTu2bduGbdu2Qyoi7d+fpLK/JWPc1dUNrm6ucHVzx8QLJiMiMkYN5B7e0g+m4sCBJPTtNxBe7XD20YKP3kHSnp2YN29uR79l9f2XQZDp06eje6/+GDl6nJplcbQmr+PcnGzk5mSp57ycLOTlZiMnJwuFBQUID4/Ae++9q3afO+8dmKtNKtFBZgrK4Im85mVWgDxcXP6dhXfSYDbjQhhkbwYSN6EABShAgWYJMMjeLCZuRAEKnKwCDLKf+Dt72213Yc/unTCb3VFT46wy4HVSQkZKoUhJFNSWRakNIFvhpJFnG/JyopGaHIfA4CxUV7tCrzPDxa0Kri5VyM8LVWVVNFopOSPPNfDwKIOPXwFOP32wyppvrEkGn6enZ305gTvuuBtZ6VG1pViqndVxpHSLf1AuEhP98MEH72LWrFlYvuwXlJT4IT83TA0S2GwaBAZnIzQ8E2PHDldZgqtWrcP2LQNRbXRt9NySne8EuzqHm3sFLGaD6rvBuRomkwuqTa7q0ZxmMFQjICgb4VFpePbZxzB48ODm7NbutpFBmbvvvgee3r4qsNCtR+9218eO3qEbrr5YlWXo2bMX7r//PgQFBXX0S2L/TxGBn5ctw3vvvqdmyCQkdkPnxG7qOTI65giBfXt2YevmDdi6eT28PD1VMDE6OgqRkZFqvQ15drR+eHvl/umnn7Bixa+qBJrMcsrJyUbXbj3QuUt3JHbtjs4JXevXBWmv19BUv+QzIiU5ST22blmPjLSDqgzWtddeg2HDhjW1e4f5vgxAX3/99Rh82jD07T8Y/QYOVuX06lq1yYQd27cgLDyivlyPDCrVle6R56LCAnzy4Vz07NkDd9x+uxqYeuCBB9QglLu7B5xdXFBtNKqZZVKCR7LlZVaazKDT6bSQEiqnSmOQ/VS507xOClCAAm0vwCB72xvzDBSgQDsWYJD9+G6O1GuVcimSSSh/2Mu/JQOwV69eKnB9tJaRkaGyl6Xki9QalWnpkkElgRApP/LRR5+i2lQFs9kN5eUetZnp1S6qDI2vXwUMhgpVjkar0UOj1UOj0ak/QN3cDPD0dFbHkkf//v1x2WWXNfsiX331VRw8eBAHDmTBbnOCt48LvLzcVVmY++67D/7+/nj55Tn48celsNvNqDZJXXIDAB2s1mpIxv3IkSPVH7JXXvl/yMnOVQMHVqsLaqwuqKxwg7HKBTU2rQq+WyzSdxuqq11qcy6dJKPeDhdXo/qeVmeFTgYOVG12GUCwqqC8lNaRwL7UatfrLfD0qoKbexn0BiPmz3+/Q08R37dvH9atW4e1a9fBbLHg7FHjccaIkc2+h9zw2AKffvw+Vv22DDfeeCPGjx9PLgp0CAEJrr7wwgtIST2Ip2a+dkSf5XNEgupS/mXL5vXw8/XDkCGD1YCjLJZ5MjdZE2XBgoXQG1zQb+AQJCR2hd5ggH9AUIdfrLW0pBgb1q1B2sEDSD2QhPS0g0hISERil0RVMkVmjkkG9snYpP79X3/9hT9Xr8a2rVsREhqm1kKRbHVZKyUuPg4V5RX/rn8i8/v+WQ9Fpi1oNFpVRkdK09U1mfmRlpaGPXv2Yu/evap8UkZ6uprdYHB2Rn5eLuLjOyExMQHTpk07GVkbvSYG2U+ZW80LpQAFKNDmAgyytzkxT0ABCrRnAQbZW353zjlntJqGL9nmdYt+2mp0sNm0kpetFt/U6aTUSe0ilxqNHk5OtYt0qQW7nLQICPTChAljceGFFzbagSlTrlKLq8l+ci6dzhmeHm6IiQ1HYmIi+vTpg379+rW88624h/yRO3v2bBWAl8EC+YNYBhgkO1KuW6bdy3RsKZ0jgwdSUic9PR05OTnIyytBRbmUujHDZq+BXUrE1FY2qL9eVT5GI4F2Pby9XeDpKdP7XVXNc5PJgqLCCjhpNIiKCkBERITKTn7kkUda8Qr/+0NJjfs33piDYSPOUeUM2BwTkPe5O2+ZChc3N+i0WlRVVqKsrBQvvvgiunXr5thBuRcFToDAhg0b8Ouvv+G3lb+pciWDh56BgYNPb3Dm7xZ/ga2b18HD3Q1DhgxRgXWpR32qtOeffx47du7CJVOmYsCgjl87vu6+PfnwPZDSVkFBwWoWggwKHlobX9Ymkc/bk33RU/GQJIaPPvoIZ555phpEDwwMbJWXt/w+Ia2yslI9ZGHVk22GR3OgGGRvjhK3oQAFKECB5ggwyN4cJW5DAQqctAIMsrf81s6YMUPVws3KiEZ6avxRD1C7iGmVqiUuGddOGikBY4erixFavQVBwXkwGIBOnSNxxRWX4fTTGwZOWt6zf/dITU2FLEwqGfJSl1YW6vzf//6HTp06HfWw2dnZeOutt7Bx4061TXR0sCr7IsEa+UO0tLQCZnMNXn/9RZU5J4uUXnvtTTAaq1FZHgCzGTAa3Wuv1ckOrdYCvcEGd/cq6PVV0OrMiIiIwQcfvNOgD7LormT2y/EkaFBYWILs7Dw8+ODdGDFiRP228n2pAy8zAOT6JEg/7523VDBfFrBMSkqBQe8GH9/aGQGSyS/ZaQkJCSesTvvx3LOj7SuDLc888wz8AkNw/c13tMUpTvpjFuTn4YclX2Pv7u2wWi14YdasfxY3lJkfnif99fMCO57A6tWrMeuFF2DQ6zFm/AUYNvzsI+qB7929E59/+iFCggJVRnPnzp073oUe1mMZjP3888+Rl5eHvLx8NdhsNFZBJwtM/7P4tU4nM6A0qiRMeUW5ymo2V1erBaQfeXJWhzeou4AvPp2vrrO8rBSZGWkoLMiH0WREYEAATNXVKvA8/Iwz1OebDHTLjDqZWScZ2hKIls8/GZiWx6Ffy+d3fPzRf3eR88vMiXnz5qkZeYc+ZDBdyg3VNRlEl8D0iW4HDhzAl19+iaKiYpSVl0Gn1cHXzxf9+vZF79691VoDbM0XYJC9+VbckgIUoAAFji3AIDtfIRSgwCktwCB7y2//4sWL8eab76CwIBD79zg2DV8WAQ0JS4ObmwlePoWqDEpAgD/i4uIQHBysMtylZm5L2vLly1XNUQlObNmyHWazFeZqb9jtUs6lEi6uFZg69epGA86yr9RaLy0ORV5uAGw1Wri6V8DLuxjGSg9YrTpVlkXqrk88bxTuuusuTJ48BQf265HUhIGvfz5i4pIREOiC888fh6uvvhrffPMNfvxpOZL3J8NqMcBqdUNVpQtMRgO8fUrg4VmO8RPGqCzj11+fC2NVlSo7I+VzTEYPVFY4w9u7HG4e5Zg4cQy+W/IjSor9UFQYVFuTXlNbm97ZxQhPLyMMzuUIDAzByJFnYOrUqY0ubtcS6xO9rZSCuO/+++Hq5olbbr/3uBdcPdH9P9Hne/G5x6DT61Td3bzcXFV7V2rulhQXqRkgDz/88InuEs9HgRYJLFiwAN999x2qzWY89PhMVXu6rtXUWPHyrKeRlpqsyh6NHi2zq05Mk+CrDGK2Vfv222/x/dKfcOZZo+DnH6AeUvrDYHCGtcaqZkRJmZTk/fvQpVsP9TPu7uEBF5fmrd/RVv0+UcetqCjHwQPJ8AsIQGhYBB598E5Vlz2hSzdERMXA29tHBeNlAVyTyVj7MJrUsyz4KYuDyuLsTz/1pLqPMhBf9ywz0OqaDLrfeuutGDV2ohrIqJLBjPIyNfAO2NVmMnssOzsLXbt0xemnD1VZ9vL7S1s3KZu0cuVKhIVHwtfPHwGBwaisKIfe2YCcrEykH0zBhAkTcMMNN7R1V06a4zPIftLcSl4IBShAgf9cgEH2//wWsAMUoMB/KcAge8v03377bXy+aBlSkqNQmB/Sop09PMvg7VOIoJAc6A3yh6r8QWtDTY0BZaV+qLE6qcCwr38e+vfvC5vNhoyMPJWZFhoahIkTx2HSpEnqnK+88gp+X7kGoWGBmDTpfJV19vLLr6GsNAiwW+HqZlKZ4xqNBdUmNwAaBAQY8MacFxuUEZCF4mTxU3kd7Ny5F1VVVuRkRiIzvWEWmItrFXr1W4uAAF/1h6vUXR8z+nzs3NYVZaU+DRwksO0XkAdv70q4upfAxcWOyZPPV4uYSZP6uY888hSKCwOQcTAGRqP079/Wb9BfiIsPxrBhp2Hhws+QkxWFnKwIVZP+8ObtU4TYTvvh5m6GzWaHyeiCinI3lJd5qwC7r2+l5OTBWqNR5Xzc3SvQu093vPzyCy26d+1l49defx179ybhvIsuRc9e/225oPZicmg/5GdGMj/ffPUFbN64Dj16dFdZl4MGDVLrCchDShixUaC9CixcuBDff/89wiKicObZY9B/4JAGXV3z1yp89dnH6D+gPy6ZPFmVyjoR7eOPP8auXbtQVl6OrMxM+PnV/jzJQwaI5VnK1ISGhtZ358MPP1Szk2RdkOb2c8WKFfhj9RrceOuME3FZHf4cOdmZaraaBNWb296f9zqS9uxSa35YzNVqf3lIzTaDs0EF3jVOGgSHhOLBx5475mHldwd5r92yca0Kbl9yyWT1+0FbNpnRJjPgJKteSvBJk9l28t4uM9vkc0DKysjsQClnx9a0AIPsTRtxCwpQgAIUaJ4Ag+zNc+JWFKDASSrAIHvzb+zjjz8OmcK/e3s/lJU2f3p0WEQqQiMyVba6LOppsRqQnxuMijJvlJd7w2rR13ciMjoTQSEpMJl8UFriqgLkssCns7MRIWE50OnlD2E7jFVeKMjzh4urBX4BuejTJxFFRYXYtgVI3pdQfzw//1xEx++HwVCD5cuXHnGxEydejJJii1pIVKfXQm+ohLHKFXt39mqwrZR/kYC2X0ARfPzy1WKoPXrE4veVydi+uW/9toFB2YjttAeeXm4YOnSoykQ/44wz6heBlQGDyy67GgeSopGb3XhwSJwSu++Cq1sZ9u/titJi/yZvUucu25HYVYO+fXthw4ZtsFhqM/jMZgukXn5dqR7J1IuNjVJ9k4z6jtg++eQTfPPNt3ht7vyO2P026/OiBR9i66b1qrZ/XHxnleW4b+9uaJ3seO65Z9vsvDwwBVpLQBbOvuLKK/Hgo88gJrZhaS+ZifHJB3NRUlyI6667FgMGDGit0zZ5nMzMTNx0000476LLcPbIsbDZbWpWSO2jWD1L8H/0qJENFtq+4oor4OsXiIryUsyc+Xx9lrOUOZGyXxLMlWxoyU6XZylpIm3Om2/iwceeh5cXB8SavDmtuIHMkJBgu+WfoLs8hx4yg6KpU+3ZtQOzn38c77/3nlqLpbWblIh59tnnkJ+fh34DBkNvcFYzGaSckMlYBWNVpcq0r1LP/3xdWYkuXbujtLQYPt4+KhDv6+ujStzI17KOjDzqvpbBolOxMch+Kt51XjMFKECBthFgkL1tXHlUClCggwgwyN68G/XOO+9g0aIvVQ327Mx/65Eea2//wFxExyUjMNATPj5uSE7ORMbBWORktawMzKHncPcoU/XOK8r/DT4YDNXo1W89xhTNq3oAACAASURBVJ47HMuWrUDS7p4oLgpo0LU+A9ZjwsTBuO+++xr8/y+//IKff/4ZO7YnqcB0eVkg8vMCUFrsC4ul8ZIAUkKme+9d+Pnn73D++ZNRUV4Bq9VZZc0bDE6YfttNmDhxYqM0Uhf+j1W7sHVjw+zMxjaW7HkJ/jende2xFZ7exWpmgNXqAqvFHSajE9IPxsNYVZvJZnCuhodnqXr4+RfD4FylFpM777zxOP/885tzmv98G5kFIIv8TbrkSowaO+E/70976sDC+e9h2+b1KgDj5+8PH29vFXCRdQgeeuih9tRV9oUCRwhMmzYNmZlZ6NajF26b8eAR38/Py8FjD96lSm2dyCZ1vh955FH07j8Y4ybWzqRqrL008wnERkfh1lunqW+vWrUK8+d/jF59B2Lj+r/Rv19fVWRESprl5uQiMChIlTaRWuuSfSwZyfl5uaqsk79/AGTA4e4Hn0Bo2KmzgOuJvK+tfS5Z6+KxB2fAzc0FD9x/f6Pl7iTDPC0tzeF66bII8BNPPIEnnnsZIaHNf11I+Rzpnyx2XV5aWvtcVvssJXDkaxn4kSC9fF5Mn34rgoKCWpuoXR+PQfZ2fXvYOQpQgAIdSoBB9g51u9hZClCgtQUOD7JLpvF/sYhVa19Xax/vrbffx1dffqHKqhirfFBU4IPych9UVXqgxqo74nQuLkb06LsB1157OVau/AMHDqQhKz1aZcCbjO6qxnndAqFSn91cfXw1biVwnNhtuwq+793V84j+eHqXoEevJHz62Tvw8/NrlGffvn2QevN//70Z5eUWFOT6IzM9HBaLQfVVBai9ShEcko1OnYNx2mmDsGjR1zBXa1Xdd422GhonA3x89bjoovMgWYyHN1mAdcaMB7Hh7zNb9RZpdVbodFIap/l1eSWI7x+Qh5DwdJx+el/0799fBQCkFm1hYSGefvrpE1JftrkQEuySBe4GnXYGYuLiYTFbkJGWinPGjkdsXMdf8LC5Do1tl3JgP2Lj/s383bRhHXZs3YjfVvyM8ePHqzJLzS1XcTz94L4UcEQgOTkZd999N665cTri4hPgHxDY6GFuu+kq3HjDDRgzZowjp2nRPvIe+NVXX+Hrr7/G4NPOwE3TGy/fYjIa8ersZxAaIqXLJuGbb7/FunXrEBUVg8Gnn4nY2HjMevZRaDVa9B0wGGecORKx8Ud/v8rLzcGWTeuxYvlSDB4yDJMuOfJzpEUXwo1PiICsm/LW67ORnZmmSsOdddZZR5z30UcfxY4dO+Hh4aHKHUVHRakM8pycHKSlpePgwYPq3zL4LWW+5CHlhv766y9UVRnV9/LyctVg1OzX322T61ry9SIs/e5rSNBZSs706tVwVl+bnLQdHJRB9nZwE9gFClCAAieJAIPsJ8mN5GVQgAKOCUjQWBZNkz+OV/3xB/Q6PYpLitVUXy9PL1VfU+qsSu1LmVIr9Y5P5SbTlSX7e8OGLUhLy0C1CTiQJOVZ7HBzr4CPXwVcXMug1VYjKCgMCxd+CKmxKxnIOTlFKC0tgSxiqdHU1DPm5YQjZX+XNmft2mMnevd1xbx585o8186dOzFz5mxkZuaovtpq3GBwBuLjI9CnTx/88effSEvNxYGkLkdkzQeFZCE8KhXBwV745JP3VUmAQ9uYMefBXG1TWY1y7I1rhsNur62r+l+04NAMRMYkw2JxV0H6qkpnSP18eQwdOgiSfe/icmQ9+BPdV8kClFrNB1JSkJubh+ioSGRkZODgwTT4+vtjwKChKhjmeYqVWHjrtdmqVMXZo87FyFHjEBEVXX9rpIzFy7OewpnDhzW64O+Jvoc837EFtm/fDqnJLZnNer1ePSTzWUo4yILOubnFqKwwITYuBH379lWfXeHhzc9obc/+L730EjKzspGZmYGK8nJV8mjqDdMREhpW3+3ff12GVb8th9VSjXHjxqlHay9Cmpubi6++/hqLv/4aY8efj9HnnnfUoL90rLSkGHdOuwbnjBqFs886Cw888ADGjr8Al191rer3/n178MzjD9QO7jpp8GIbBUfb8709lfq2Y9tmfPHpfMiviueMHImePXuiS5cueO7552G22nHDLXciPS0VO7dtUTMcpCRQcGi4mrFgcHGBs8EZWZnpagHT7KwMVb6mZ+9+6ufAZpdZfGVIO5iCm6ff3Wasvy7/EcXFRdi5bTPycrMxYMBADBw4AAMHDlS/B8saOLJ4rNEoZelkUdmGX8v3ZQFYGRSoe8h7WntuDLK357vDvlGAAhToWAIMsnes+8XeUoACrSxQF2S/cPIUDBw0FOGRUZCMpPz8XPz150pV41jqcgYEBGLv3t0qyC7Tu3t0744pU6bUL3wmf2RIFrzUvA4LC1PPHbVJQFwCOM0JrM6aNQu//roGep0OcfGhSEhIQL9+/XDaaacdcflSg/a22+6AyeiBslKv2gVJnYDKck9VM1zzz0NqnxfkhaC62kUt9tlaAWhPr1J0StwFvaEa/n4BGDykn+rriBEjmrxVkuEtWWV17dxzL8C2TV3VAqNHa/EJ+xAcWoAnnnhIDdTUNclKmz37JZSWViAvJwwZaXGNzgZoslNtvIFk7sd1ToKrW6kUm4G7uyeio4MRFxenBkpmzPjvFuaTqe2zXngBe3bvQVh4OAry89VAjwyGhUdEonvPPrj8quvaWKh9HH7Dur/xwbzX1et4X1ISAgJDcfrws+Du4YmiwgLsT9qD35b/iCVLlrSPDrMXRwjIZ8dDDz2GpKTdqDZ5wWaTGSk2tYYFnKyorPCAscpZzfjRGSzQOtXAN6AErq4l0GgNCA8LRp++PTFs2DA1I6WjNwnezZ03D3//vQbRMbEqkK7XO0NvMMDg7Izy0hK13oC8vm+99dajludyxEEGkh959DE89Pjz8PFtfNbT4ceVwOezTzyIm268QZUJeffdd3HgQCquvv4WdOveS71fZmakQbLUBww68rPRkX5yn/YtsH7NauzdsxP79uxETnY2evXph+l3PdC+O91I7+RnbPvWTZDBA3kNZ2VlqmQU+f3Q2cUFLs7/PB/yb/l9uLrapEoelZeXwtfHF5FRkZh88cVITExslwYMsrfL28JOUYACxxB4ad4X2J+SgTefu6tNnL784Xd8+NlP+P7jYy8A3tjJcwuKccv9LyM1PRvffPA0osKD26SP7fWgDLK31zvDflGAAidEoK5czIeffnvU8/32y08YMXKMqplau0CZWWWHSu6x1E/19PRCXl4OvLx91OJl8od0SEioCraHhASr2pbyB4mrq6t6SPatZODJlGHJmpMMRQkqyCKZRytl0hYYe/bswbZt2yBlUiTYLH2SNnbseaipMcJg8MK5556F6dOnNzh9amqq6qeXl1eLuzV37lwsWfIjbDYn2O01sNsBu92mAqTybycnGZyo+387nJxsKsi+bvXZLT7X0XYwOJvUIqYBQYXw8CyEVmtAbFwkhp8xFBdddFGjgwtSOuXCCy9E9+7d1WFHjx6HrRv719c7P9q5QsLSERWbhCuvnIKpU6fWb/b222/jt99Wo6ioEjVWs6rpbrO5wGS015bUMcmir64wGV1ht7d89oRcn9WqR2WFZ6u4ubpVQj1cK+HlXQk393J4ehkwfPhg3HPPPa1yjpYcRLLrXd28cckVU1FVWQlTtRGF+XnIzcnGju1bEN8p4aQvs7Bn13ZIFruTxgmJCQno2rWrGtyTWRjp6RnqfcrNzR0BAf7qddtY+aKWmHPb4xPYtGmTKiMiz/JZIjNcJFM9PT0dxcXlKCoIQXpqjBpYbKy5ulUgMDhbLZh8aFmosMgU+AXmw8WlSg1ULl++7Pg62k72ls/mrVu31mfNSnbsoQ/57AwICFCv7dYeWLhl2jSMGHkuzhhxTrM1Pl/4IcpKCvDoI48gKysLN918M6bdfh969+34gx7NRuCGjQqUlZao3w87epMFViWo7uTAjM6fvv8Gq//4FU89+YT63bgtmmT9y/tp3WKuLUl2YZC9Le4Ij0kBCky46kGkpGcfAaHVaLDt1/ePC6g9B9nnf/EzPv3mVyyY8zC8vdwh1+toW7VmG6LCgxAT2foLijvap6b2Y5C9KSF+nwIUOKkFmhNkbwpAstQO/WVejpmbk6UCfqkHktWCU7WZPUaYq03IysxAUWGhCtj7+PqqLHnJ+pFsJwm6BAQGolvXLqpkjQTChw4dqgLwLV2I6o8//lCBNwlESJMM9Z9++gmbN+9CZWWlxLVhNkt9dLsKoLq46GA216CizBe7tvdEUEgmwiKy4O5hw+WXX6jq4D755LMqo1+CRMuX/6yOK1l7S5b8DHd3N3h4GODm5qYC0sfKEL/44kshNbYtZlfU1LihrMQFUptdarxLVrtWUwOLVQ+zyQU2uxbFhQ0XMm3qnrTk+5Lh7uVdhKDQHISH+6oSN3XtxRdfxMqVf6GiwqQC/jqdFsHBAarvVZXVKC4KhrHKBZnpMUecUkzjE/aogPT48WNw111HZhpIEEleL5Ipn5mZCSkXYTJZkJdXApOpHE5ONbDZNIBdBiU0sNl06mGxaFFe5oWaGp0q02OsdIfUZffwtMDgXAa9vlr1R2YLFBf5qu3EsKqydYLucuzQiDSER6SpBWcPX1C2Jf6ObHvnXXfhvIumoEvXHkfsvj9pr6ppnLJ/L6696fZjlnpw5NztZR8Jos9/fy6CgkJQU2NV7yfyXiSL2UmZARl0KC8vwyWXXIJrr60tXcF24gQk2CMLzhYWVqK6uhK2Gi1MJm9UlLrAVO1aP3NH3vcKckMbHRALCU9DYFABnF3LABlsc5IiU3b1vlmQG4TM9Fg12yQgOA2hoRF4/PFHIOs+bNy4Uc04kbrQ8nwqNlkgdc+evWqQST4DpeRO3UP+fawA3Pr16/He+x/grvsebXb5qV9+/gHF+Zm44447cNeMGejeawDGTbzwVKTnNVPgCAEpq3TfXTdj7ttvNwiyy6w0GRiWn035DJOHJH7IbEj5OT3ajEoZcDu0VJT8Tvbww4+gsKgINVarWsjVzd0NPt4+KuguZWukXKEkwEgyjHrI+Sxm9fv1ggULsHz5ct45ClCAAq0qIEH2kWf0w0Xjhzc4rvwdHRl2fAtMt+cg++vvfY3te1Mwb9bxlza7cvozuOGK8TjztD4tujfy97Uk82k0J74kK4PsLbpV3JgCFDjZBFojyN6aJgX5eVi54mf1h/3O7VuwZeM2WCw66A0mldHt4uKOrl1jMXbsWJxzTsMsO1k065lnnkFOTjGqqspgszlDo5Fgq3zIuMFus6KkOABFBf6oqPBqsNioRluD0PCDKCkKQGVFwwx1/8AcRMWkqCB4cWEwMtIi0bPvehgMzrCYq1Ut78J8H5XVrTeY4eZRpTLFtdoauLs7o3//vqqMjNQmrcsE/+KLL/Dx/EUoKnJCemoUrDV6+AfkqixNOU5rNDm/ZH/KYqhHawOHrlQ+srCptN69e0IC62vXrlXlG2RR15zscGSmxarvSx+dXY0IDsmDt48dsbFR2LkzCWWl/kjdH6cy0OuaVmtF7wFr4AQnaHVmNagR36kT5s6dozZ55513cMMNNxy1b2PHXoC0lCBYrAbodWY4u5ig1Vng5l4NrdYMOb6Hh5TTsaNz587w9PRUf0zKwr1XX321Ou7NN9+sBmfkj1gpT1OQG4nUA7Gw2VqnnJG7Rzm69tyMfv26Yfbs2a1x25p1jLfnzsUPP/yAXr37wcXVTQXSd2zdBPn58fL2UuWc/vzzT7w29+NmHa+jb7RuzWrkZGdi66Z1KCzIVwEKGZw7tExRR7/GjtJ/CdC+/fa7SEs7gKKCUJQU+6K0yF8toCyLDQeGZKK4MAgVxyg1Jdfq7GJEz35rUF7qi7SUhAbviz36roVGa0fynm7qmP5BRfDxzYePrwd69xmAyOhYlBQVYs3fqxAYGIiQ4GA16FmX4SnPMhh6srbVq1fj1Vdfw+Chw+Hp5YXioiKUlRapmWfytQTYnV2c0b1bN/WZJMG8Q7Phn3rqKexL2o/Ert3h4eGJS6b8OwvpaGYffzAXCfHRKpg3b947eGnO8WWonaz3htd16gq8NPMJZKanyW+kcHdzU8kKNptdJZZotTqVxCDPJpMRVVVV6udVrzeodScqKsphNEr999o68MHBIZgy5XL1u7A0SVB45JFHcduMB9C1e+1irbJPWWkpystK1ODzru1bEd+5C3R6OZderX2RkX4QVosFi7/8lEH2U/elySunQJsJSJD9ognDcc2l5x71HOs278asNz9DSlo2ggJ8MXniCEy9ZGx9cPjdhT9gwdfLUV5hRP9eCXjs7qkIC/aHBNlT07KR2ClKfV/a5AkjcNeNk9XXxaXleOKlj7B2026VhNOnR2c8NuP/EB7SeOLalh378cTLHyEtMxd9u3fGoL5dsOTnv+rLxTTVz7oLfPXdr/D+Z0tht9lhMOjx5TtPqGz2Y/UlNT1HfX/LjiT4+3nj2svOxZQLz8E1d82EnNfZoMfoMwfinlsuxZmT7sCPC2bWl6BZuPgXfPn9Knz93pP4bfVmZXnxhDMx54PFWPjmI0iIi8Qr73yB75b/hdKySsREhuL+Wy/H4H5d2+y+M8jeZrQ8MAUo0BEE2luQ/VCztX//gTmvfIF1q+PVf0uQ288/Dx6eRvj45UGnq1F/qISG+SMzMxsmU5UKKGdlRKO8zAdWi17tJxnYru6VqDrO0iGurlUwGmsDMwFB2apkgTwkeNRY3XTJ5I6IOgCbzQAPzwroDZXQaKzQaaWGp7vKGpc/sgoKStRIM6R8DLTq2Wj0xoGkzkctdyJBcQmiS6DZzaMcGiebyuj29S+HwVAOJ42UnpHBBS00GslacoXZ5AGjSauMxEYech0BQQX47rvFDTKmpH71p59+jvz8YlgtOlV6RQYi7DYdigp9UFHmhdCIdPj5m7F06Te48857sG3bLmxZf5ratrHm41eAbj324bzzx2Lx4h9QY7XD3cMN1157hcr8P7yde+6F2L45QZWPaaxJgDs4NEf1/803X1ADGcdqks2clpaJrPRoZGXE1GbIO9jc3cvh7lkG/4BiVXLH3cMDS5Z84eDRHNutoKBAZe3KjI3Y2FgVQBw0aJDKknvkkUdgs2twawesgdscDcn2kzq5qlbu1k3Q6rQqYCgLYcrCvGwnXkAGfebP/wwFBfkoyI1CZno4LGZn1ZEefTepBaElm11mnNhtTqis9EVFmbsamNNo7NBpLSguClSzeeR9KSLmAIxVbti7o1+Di9HorOg/+G/1vubnH42AAD/0G9gbnRK6olPnI+sdb928ASuWLYVep0VpWakKOslDZj+EhoYhNjZG/dzIQwLE7aXt3bsXv//+u6pxLn2TTNejNSm3tnnzZjXDSgaYJEv1kwUL8OnChThnzHhcOfXGI3Y9mJKMpH171JoFu3dsRWBgEIYOPQ1DhgxR2bTy2SS18mUR1IiIGEycdAlCwyKO2oeZTz+MuJgolcl+y7RbYTJVQ6/X4aJLr1ILV7JRgAK1AlJeMS8nB1HRMU2W0ZFAuSScRMfEwdnFtb4G/O6d2/DTD9+grKQYl1wyGb169cKiRYuwdOlSPPrUC4iJ69Qi7v+77DwG2Vskxo0pQIHmCDQVZC8qLsPYK+7D43dPxZgRA5Ganoub7n8R06+5EBeMHYZfVm1Uge85z96J6PBgPPf6AhzMyMGnbz2qguyLl67CtZePw2Xnn431W/Zi2oMv46t3n0RifCTuf2Yu8gpK8OKjt0Bv0OORme/CbLE2WsPdaq3ByEtmqIz7m646D3uT0zHj8TlwMRhUkL2pfh5u8dp7X2HH3tT6TPZj9UViMZOufxQDeydi2tQLcOBgFm6890W8/MStOGNwLwwZfwtmPnyTymQvKCo9ZpD9j7XbcO9Tb2PsWYNw81Xnwd/XC98uWw0J/H/0ygMICwnAwsUr8O7C7/H7V6+q39PaojHI3haqPCYFKNBhBNpzkH3N6lV487WvsG5149P9JcgqWYx6vVkF0SXbWhbGa89NguJe3sVw0tjh7GyC1Ed3drGg2qSHh1cZ3FTZGgk6WWA0mlFtkvImTqpsigToJUAlX6ta7ZKN7aSBVquBRtXLlyC9fN8Ou01KqZhhhwY6XTVcXZ0xePBAyOKr7u7uKCyQOt4mWCzV6Na9C155+ehZ2I8//jiSkpJQUlKpasq5uOpQXm6Gi4set912C84++2ysXLkSTz45Exv+PvOo/IHBWYjttA/majekJsepWQVBIVmIjkvC+eefi9tvv71+XynrM3v269i/JxFFhUefTiilbhK6bcf06deoevLHalLHfMeOPaocjd1WrerAm82uyMkKUcG9ukGZ5rx++g/5HVqtHQEBPhg5cuQxM/Kbc7zj3UYCbCkpKdi+fYfK2o+IisbdDzyugm4dvUk2X2FhPgoLCrB183oYqyqxdfMmNTNk0KCBGDBggBpkYPtvBD744AN8+eW3MFZZkZkeBWdnI/wDS2Cx2GG16mC1GODjW4g92/sBGpsaFPPzl/qcTjICCku1Dja7EwzONdA4WVU5KPlWblYoMtOOfO93ca3EoNN34PW576tFQB1tZnO1yuLMSDuIbVs2YuvmjUjskoghgwdj4MCBzXpNSUmWP/9cjS5dEtWMGcmar3uWMg9Sd745TT6Hd+zYoR7btm9XP8NBQcGoqKxASVERJLM8OjpazU6Rn2nJyJJAuNS3r6mxYceO7Yjr1BmV5eWIiopUC6H+vWaNGoA774JLMOrciU12Y/eu7diycb36GZOpxRKsP23IELVQ4+eff67KSbzy1ofw8mp8IOJAchK+/+YLFOTlYPz4cSpDXj47zh49HuMmTmry/NyAAhRouYC8d/38wzdITz+oFhkOCQ1XaynI7LaWNAbZW6LFbSlAgeYKNBVkf/+zH7Hq7y348NUH6w/53sIfIMFi+b+b738JnWLCVQa3NAkyr9m0C+eePVgFjn/9Y1ODhUnPvvgu3HvrZTj3rMGoqDSqfTzca2dZL1+1AU+9PB+rFr92RPfXb92D62a8gDXfz4Gba+3aQM++9gn+Wr9THb+pfh5+wMOD7Mfqy/bdB3DFrU/jr+/m1Pf1z3XbEeTvg4T4yBYF2WW/m+57EcsXvaiy/aVVmy2oMprg611bMrWkrAKnnzcd389/DrFRoc29lS3ajkH2FnFxYwpQ4GQTaM9B9r/+XIm3X/8G61afGgE0qQHvH1ACT+9cVcpg2LChahq/lEGRDEt5yNdSq37//v0q6+jee+9VgZxzzhmNqkovFOQFITc7skFmvWTUh4TlICgkFW5uHoiLi6mtSQ9g+PDhmDBhgsqCPlqbPPlSpKY4qdkBkonq41sON49ieHq6oWvXaBQVFSErKwcpyf+WlTnasWQh1JysyAbf7jtwDa67flJ9iZfvv/8er7zypsrkL8g7+oe/DFZ06bEZ5547Bnff3XTNu6uvvhbZ2bkAzCrDPzQ0BB4erigoKEVxcQGMVb7ITA9DUUHTK8DLAotePkXw8y+Gj28BdPpqNXjRrVuCCs7JWgAScOvSpUubv2VIxutTTz2N6NhO6DdgMDondkVA4PHVOWzzTh92AhlQW7fmT9htNSr4KrXUZbE8yYqW171k2Urw0t/fTwXvJAgq3mz/ncDzzz+PX39dDZNRj+IiP7i4VKrZEz6+RcjLDoXJ5AadzqJmIGk1WqTsr52RVNf8A3MRFpkBg3Mlyku9kbq/G8zm2pIypn9mDDV2dTI42WfQRiR27YJzJ0xAn34DWwVBPgslYLV9y0b1LCUVBg8apEpRHV6arO6ECxcuxMcff6z64O3ji2IZDCosUCWLwsMjMGvWzEbL0kg95bqgupR5kKB6TGy8+tntnNgNCYnd8PdfK/H1ogWIio6GLGiYdvCg2iauU6KauaHTatXA09AzRqBbj96q9IM0qY2+cf3fiI3rhAsuutyhgYjUA/vVug4ScFflZXRaJHbpjhum3Qknp2PPAHrr1RfgBKtaB+GOO+/Eo0++gNDwo2fAt8rN40EoQIHjEmCQ/bj4uDMFKHAUAQmyH8zMUaVDD22dYiNUeZPHX/wQX3wnpUsbNgkQS6B4/FUP4KqLR6tM9cObZLLvS07H2zNn1H9r7JT7cPPV56ks+KSUDLz23tdIOpAOa41NBZstZgvW/PDWEcf6/pe/MWvOpw0C8Au+/gWfLl6hguxN9fPwAx4eZD9WX5auWIPn3liIPxoJ/stxW5LJLkH2W//3Crb+8l59l6REzKvvfol1W/bAVG1W/5+dW6gy/rt0imqT1y6D7G3CyoNSgAIdRaA9B9lXr/oVc175BpvWNQzOdBTblvaz/5BV0Okkk1Oyz/XQaDRwctLCZrPCbrepjEW5X4ALbDaLCqTL9qNHn6UCjt99txSVlXps3TCk0VMbDNWqfE11teyvVZn03r4yG6AEOp0HDAYNaqxOsFhNsFq1cHIyqQVHZbHB7MxIpKf+O/1YMur7D16lgtWZadFqUdLC/GCY/ykP0dxrl5I3fQauxYgR/fHYY49hzpw5WLz4O+Rmh+HggWOXf5GazYnddsLXzwkvvvjMMcvFvPTSS/huya/Ys6uXKhskgbxuvTbh+uun4IorrlA1Tu+//37s3LkPKcmdkZ8T1txLUNvJjITwyFRVw97Lp1IFDvV6LYYN66Ouq61aWVmZKs8wZvwkDD+r4RoFbXXO1jzuzz98ix+WfInOnRMQExNdX+pFyl9I+R8ZqJDFkNnaj8CXX36J9977FMWFzsjKiEBpsR/6D1mNapMB5WXessID0g50bnaHPWQ2StftKCwIxMHk5g9K1c6MyYWXjx2vz/13seZmn7iJDVNTklWwfcvGtQgLDcF1112naiMf3mbOmoW8/EI1c0SalKYpKSnG5g1roNNqMG/ePPX/svC2BNZltsnevXuQ2KWbCqhLYD2hSzc1g+nQJjM4afhq/QAAIABJREFUVGmbshIUFRXWBvK9jz4Yeui+kuVeF3Q/Xo+c7CxVUmbY8CP/wD382N9+9Rk2rPsLs2Y+r8rbSAa+1ES958Enjrcb3J8CFGhDAQbZ2xCXh6bAKSwgQfYzh/ZWQe9Dm9QYjwoPxpMvfYT8olK8/vS/s5kP3U6C7FdOGoXLLxx5hGJjC5/WBdnPH3M6Rl12D4YP7oX7br0cLs4GVa/8wWfnNRpk/3rpKrz8zpcNAt3zv/gZny9ZqYLsTfXz8M4dGmSXv92P1RcJsj/72gL8+e3rjb5Smgqyy2DAVz/U1mSXIPudj76BDT/NrT+WXPPBjFy8+tRtCPT3URn+g8ffwiD7KfxzyUunAAXaWKA9B9n/WLkCzz3xOQ4kdWtjhfZ1eCl/Y3Cuhq9fvqpHXmPTqgxyCb6rmsbamvoFRj29SxDXKVmVl8lIi0J+bsuCw3LlUl5GssKdXapQXe2q6ihL6ZSaGgm0ywb2+nPXScnipz16r0fy3u4oKT56reDmyMrirJ277IWbeyXMZh327+2KspLG67AffjwJlvfuvwaffPIxgoOPnoH+8MMP4/eVO5CdGaVq13t4VsHL24w5c15AfPy/gziyUOqunbnYsmFQbTmL42hu7uWIT9gPPz8r7rxrmior09pt2rRpiI3vgiumHn0B2dY+Z2scz2q14IN35qC4MA9XX3UV+vVjzebWcG3rY0j2+i+//Kp+7utmfPQf8qcq/ZS8t/kB8sP7mdB9F6xmpxa918vPcY8++9Crbyfc/cDDbXrp7771GkqL89Si0Ic2mcVzy7RpuP7mO9G9Z2/1rZumXoILLrhArY3g5+enFt/NzMzEffc/gGFnjlQBdclUl8VHT5YmQf1PPpyHlOS9uG36dDWDR8pzabQGnDfpUsR1OvaA6cniwOugQEcVYJC9o9459psC7VugqXIxHy76CZ99+yt+Wjir/kIKi8tU2RQJxEvpk8jwIDx8x1Xq+1Ib/Yvvf1cLg77+wWLsT8loUGO9Lsg+pF83VWP90AVCX3//ayz4anmjQXYJTk978JUG5WIke33Dlr0qyN5UPw+/C4cG2XPyio7Zl227D2DKtKdUFr2fT21Jl2W/r4enhxtO69+9QSZ7eaVR/XvJh88iPqb2b/7Zby3CXxt2HjXIPnbKvbj+igm4eHxtSVdZCPbaGTMZZG/fPzrsHQUo0JEF2nOQ/ffflmPmk1/hQFLbrX7dVvfO29sFPXsFISraG2Wl1fj+u31tdaqT5rj+Abmq/nrdIrJSv76m5sgFWeT/pdREcGguXN3KVK3i9977d8T+aCBTpkyFi4sGzs7OiIqKwoMP/lv/T/Z55plnsHLl7ziQ1MWhwYqjnTc4NAMRUZnQaE2q1rEMXEiW9htvvHLc9+7Nt97CN4sX47GnX0RsfMsWOjvukzt4ACln8fuvy9C3Ty9Mnz7dwaO0/W7JyckNBmDa/ozt+ww33jQNe3dnYd+u7qiqrP0joHf/dbBYXLBrW6/j6nxMpz1q8DB5b49mH6dX/204d2I/TL1+2lH3qayswB+/r0BBXi4CA4MRFhmF8IhI+PkFNPs8suGKZT/ip++/xoIFnxyx348//ojXXnsNky//P4wdfz7efHWmWowwPj5OleHKzMxSNdP7DxqKy6+6rkXn7Qgb79qxDZ98OBf9+vbBVVddpUrffPHFF3D38Mb0GQ3fYzvC9bCPFDgVBRhkPxXvOq+ZAm0v0FSQXYLmoy+/V5V4kbIwUnP9jkdexznD+6uFOyXY/Ois9/HKU7chIS4SL839HPtTM/HZPwufHi3ILgt/Dp14K/53x5W4aNxwrPhzE97/dKlajPSvJW/U1z6vE6isMuHsyXfh8gtG4vop47Fzbyr+9/w7cHV2rl/49Fj9PFzy0CC7lGg5Vl/c3Vww6bpHVOmWu2++FGmZuZj2wMt44dFb1MKnZ066A9ddPg4XnnuGCrwPv/B21cerJ49BRnY+rr/7BVVH/miZ7FPveA6hwf545oEbkJKWjdlvS1B+B15/+g4MH3J8v78f7RXEcjFt/7PFM1CAAu1YoD0H2Veu+Bkzn/oGKfsdz5Bsa/pevYLh5e2MYcOjEB3trYLqvXoFwdundtGUtIOl+OTj7Q26IUH3N99Y39Zd69DHl8B0VOwBmIweMBr1MFZ5wMPDBFf3cjg7l8PHJxCjRo3AjTfe2CrXefllVyAz04h9u7uhqtKjWceUGQDST71B6rHLIrXOSEluvLSRq3sFaix6OGlsiIlPQmJXAz75uHVKXFx62WW49c770alz+/05kUUlN29ci80b1qoZB8OGnY7LLrusWc4t3UhKzUjGcX5+PnJzi1FaUoaevRJw2223ITLy3/UAqqqq8MorryAiIgKjRo1CaGgoDh48iE8//RR//bUBVZU2wKlClUKSxSY7d+6Et95qfCpnS/vYkbbPzs7GzTffidxsHfbu6qZm00jr0XcTYAd2bDn+WQjRcfvg41+AretPbzaNt28huvTYhltun4HBp53R6H5StmXGrdchIMBfLeBZWlauaptbrBZEREQhTB7hkQiPqA2+S111aVWVlcjMTMcfK5cjKyMdsNswevQoVVZq46bNqu66h7sHBgzorxbefe655zDuvItx5tmj1f7r1/6FtX+tUscNCglFUHAIQkLC4HmURUObfdHtbMOP3nsLq1f9hgkTxqtSZlu3bYeXtw86JXRFj159EBPbMQb+2hkru0OBEy7AIPsJJ+cJKXBKCDQVZBcEWchUsrGTUzPh5emO80YPxZ03XFw/42/ux9/h029WoLyyCv17JeKxGf+H8JAAHKtcjJSnWfzjH3jlnS9VLfazh/XDvbdcimvunKnK2P2y6EXo9Q0TuSTD+5nXPkZGVj769UzA2cP6QkrG/LTwBXWvmurnoTf08JrsTfVFguVPvPghtu5Khp+vF669bByumFRbBvSNDxbjg89+xNCBPVRZnV/+2Kjqx0tZ2ZjIEBWI/3zJb/j2w2caLRezY0+KGjDIzi1Ct4RoPH3/dXh7/hKs+GMj3po5A317NL/EY3NftAyyN1eK21GAAielQHsOsn/07ptY/MV67NnZp13ZS2B92m0DVEC9rg07o/kLhzxw7woG2Y9xRyV41jkxGRddPFL9gvX777+rAKgEZyVIKmVXjlUapqUvljvvvAcb1qdi26YBLdo1PCoFnRKy0KNHD1U3XOq5FxZWIjW5M4oKGl94NK7zfgSHFmDOnNno1On4A1CyAO59992Pm6bPQM/exx/sbBFAIxtLVqvRWIWM9IPYu2uHWksg7WCqqrd++umn47TTTmu0rvXxnrdu/9zcXFx33S0oKbajQNYIqHZWGdKeXhXwD8xEeHg04uKisGvXfhQU5KDaJAMqOji7lELjpIPNbkF5aTBycwJRXBioSilpNDWIiU9G1+42LFgwv7W62iGO88ILL2DZspXIywlD6iELl/bstxGADbu29lNlpRxpUupKbGVhZl//Yrh7FKGsJBDZmREoL21euShP72J0770D1910syrF0lizWMwqE/235UvV+8h1112r3j9kQEUeqampSEk9qILvMpgi7znyGo6MikZkRASioiKRkZGBFStWYPhZo1Rt9OCQUCTt3Y2szHRsWPc3hg0/CxdOvsIRhg69z/o1q7Fj+xZUlJdCpzdg8mVXd7hFlzv0DWDnKdBKAgyytxIkD0MBClCAAmCQnS8CClDglBZoz0H2X5f/iFlPL0FqCxbD+y9uppSGuWX6APzv4YaLutT15ZYbf1AZ7XXtj1Vp/0U3O8Q5/QNz0ClxJ1xcPVBZYYJWq8ekSedCah8/9NBDDl2DBMdqamrUw2azYdu2bapecnFxMUpKSrB27TqUlTpj++bBLTp+THwKQsIycO21V9VnZc+fPx8LFnyBslJ3ZGeEqfI30mTgID5hHyIjfTF79sxWHSRYtWoV3p47F336DcZlV17TagseNgdDMnY3rV+D7Kx0ZGakqwVM3T08EB8XC8kUl6C6t7d3qwwoNKc/N9xwA5KTM2Gu9kJlpQuMVS4q0F6QFwpZ6yAoJBN+/qXIyw1QAyEWi6H+sLIuQXmZT325okPPFxN/AEEhaRgzZiTuvffe5nSlw2/z9NNPY+XKVcou5ZCSXb0HrIXVasDubb3VWg2ONFm0NCruAFxdXRAVFYiYmBi4uLio2uVbtuyB1PiWxVObs8ZEt17bMHJMN0y7Y0aTXXn2iQdx7phRGD9+fKPbFhYWwmKxICQkRH3/iiuvhMHgjDNGnKMe7u7Nm+XSZEe4AQUoQIF2JMAgezu6GewKBShAgQ4uwCB7B7+B7D4FKHB8AgyyH5+f7P32O+NxxvAoSPBcHqUl1Zg5e6T6+vslSbX/V2o6/hOd5EeQmuydu6Zg+vRr8dprc7Blw2kIDMpGWEQabDYd9AYn9OnTRQXIzjyzdvGWptqMGfdj06bdan8pbVG7mKkdNrsB5mopQ6OH1SqLvOqQk/lvKZGmjlv3/YCgHETHJsPVDRgz5hxVk1gWO7z00ktRXGyE1WKD2WyAq6sRky46D7fccktzD92i7aSMxcsvv4zyiipMn/G/Fu3r6MafL/wIG9auxvDhZ6j7IXXuXV1dHT1cq+yXnp6uSndIkLa0tFQF+isrrdi0blh9mRNHT+TpVYLOXXciNjYYH3zwrqOHaff7id01196AgymlSDqsfFLfwWthrHTHnh3Nr51++AV36bEDvv5luP32mzFu3LgjPO6//37s3LkLudk+2Lfr2OcJDT+IoWc64elZs5vl+unH7yM4wBtXXnll/faLFi1SA209enRHr1691MNgMKjXkPy89u4/GJNOwSz1ZoFyIwpQ4KQQYJD9pLiNvAgKUIAC7UKAQfZ2cRvYCQpQ4L8SYJC99eWljMyhmeutf4aT74iSYRwVk4Grrj5PlWZYvmwLtmwY2OBCJaDm6m6Gn18uNFobIiJCMWhQf0yb1vjChxJsXb78D2zbNFhlMx/e9HoL4jrvQ0mxt8o4t5j/zWpuibDUWQ9QC7Hmwd2jAB4evnjiiYdVsO63337D0qVLcd999yEwMLAlh23xtpKlP2bMGHz46beq7EVbNlm89Ndl3+ONN96Ah0f7yu6dNGkSysvLUVOjh6nKDRUVnigt9kdxUcsWuzzUzy8gD5ExafDxtuPGm6Zi4sSJbcn7nx1bBmp++ulX5OcGIHlvYoN+xHXeDSnxsnXDacfVv76D/8TDD9+Jc86prTVZ12Tx0KVLV8BkdEJOVihKS/xRVVG7wOrRWmL3PUjspsXdD/wPQcGhTfZr2Y9LUJSXiRkzarPeP/vsMyz98SeMO+8iFObnYd+endi9awe6d+8BHx9vlcW+Zs3fePGN9+Dm5t7k8bkBBShAgY4owCB7R7xr7DMFKECB9inAIHv7vC/sFQUocIIEGGQ/QdA8Tb1AeGQKjEZ3aDQ2uLlVwNe/BD4+dtx08zWYMGECbrrpJqxeVYO01CNrlkvJDwn0mYxukPIeEdHJGDKkH4KCgjB16lT4+PjUn0cCwN99twwWSw0sZlc4aazQaqzQaK1wcrKp7fQ6N3j7eKn63CajJ3KywlQt7kPLiLTk1kn97/iEvQgILMNniz5s0J+WHMfRbW+7/Q6MHncB+g8c4ughmrXfwvnvwkXvhOnTpzdr+/9io2XLlqkganp6NkwmQ4uCw66uVfDwKoFfQCk8PItg0OsxZuyw+uDsf3E9bXnOtWvX4pVX3kRubh6yM6KRlR5Tf7qYTntQY9XBzb0cnl5l2L55EKr/n73zgG6yesP4k6RJmqZ7791SKKVlyQbZGwQZKiiggCBbBGX4V4YgorKHshQUkC0iSxDZFEoXHdC990japk3TjP+5X22htqXpTEvvPaenhN773nt/9yOkz/d+zyut/RMLWlpy2DokwMwyHsuWfczcECKN3Az7+/pdSKU6SIy1R25O7W5GkZtvzu6J+GrzNsYr/WXt7u0b+PXnfTAyNISnpyf09PQQFh4OByd3xmqJNGIX8yw8BEGB/rCwsERbzw5MUVTaKAFKgBJ4VQlQkf1VPVm6L0qAEqAEmp4AFdmbnjmdkRKgBJoRASqyN6PDeMWXItTNg4NzHHT1RBDqGIDH14K+Po/x616xYgX8/PywZet2pKelIyvDEmkpdiiUlGZJa2mVwMY+GRZWMWCxOCjIM0Byoh109fJgZpnGWMBwuVJYW9vg8OFDFUiSDFlbW1sYGRkxXyYmJsyXjo5OeT9iDbFo0SJkZYmRnZ0BaZE+k02bkWZT5am06+CP9FRrZGeWejf/txH/dZ+ObBz6qWltRa5cuYLjv53A8pXrYGCkXvHI2l52OdlZ2PDlZ5g58wMMGDCgtsObtP/gwUNB3uPkcj4Ucm1GHJYU8AGWCgV5hpDJ+MwNFT6/CJbWieDxAYFOLthsMNeIt3db9OnTB926dWMsRF619uTJE2zdsh3xCQlITnBkBHaV6rnPuoV1EuwcolAs1YcKbKQmWVZ7zVfHhssvhrVtCswt45jCxYsXL4C3tzd2796Nc2evIC9PB8kJ9sgTGdcJr4FhDry7RmLXvp/VrkeQmBCHkOAARD4LQ6D/Y7wx4S2MGTepTvPTQZQAJUAJtHQCVGRv6SdI108JUAKUQPMhQEX25nMWdCWUACWgAQJUZNcA9FY6ZXvvJ3Bro4Wff/65SgKPHz/GZ5+tBJerwwijhYVAXLQLLK3SoW+YDqGuIVauWIbXXnsNU6a8h9xcCWSyQgAKKBV8aAvY8PLywKZNm+pFmAjuw4ePgijXCJHh7aFUcirEY7FUaOcVAKGeiPn7PLEFMtLMGDsS1b+FIEmmfOfudzBt2mRMmzatXuup7eAv16xBREQEpk7/ED6dKlru1DbWf/tfu3IBf12+gGHDhmLKO+/UN1yTjCdFcyMjIxEXF8cU1kxLS0NUVAxKZGzISohvPgdcngoGBkL07NmNuXHg5eXVJGvTxCSpqalMhv/duw8hypUiK8MEiXEOTG2C/7bOPW4jPtqVKX5a2ybQkcDKNhkmZkkQCoVYvXolunbtynidz541FzGx6UhJtEd6Sv2yxE0tUuDhGYc33pyIgUNHMgVUa9MkkgJa0LQ2wGhfSoASeOUIUJH9lTtSuiFKgBKgBDRGgIrsGkNPJ6YEKIHmQICK7M3hFGq3hpGj3ODlbQGxSIq7txMRHJxeuwBN2NvQOAsk09TAUAoeX4QlS+aq7Wc9duwkyGRS9O3bAzNmzIClpSU+//xzBAVFMjtQKOQYMmQApk6djPv37zNWMw3ViNXMzZv3kJubhSKJAVKTbSAWG1fwbSdZ9MTTXUcogZYWDzJZEYqL9JGVacJkSDu5PsP582crZMw31PpqikN47NixE12798bkKdNr6v7Sn5P3iCsXz+OvS+fh4dEGb775Jtq3r3vhy3otphEGE9FXS0urESI3n5ChoaE4c+YMHj0MQmFRHgryTJGZYYZCiR4KC6r21Ld3ioSxWQYCH/aq1Ub0DXNgY5cMXf1seHh4YOHCj+Du7l4eY+rU6YiNyUNo4GtQqRqmdgB5SsbJNR26BikY/cZbGD9xYq3WTDtTApQAJdCaCVCRvTWfPt07JdA4BMQy58YJXENUA16MRualkz4nQEV2ejVQApRAqyZARXbNHz8plDpvflfkiqS4cysBd24nVLmoDh0ssPvHEejgbcH0EYuKGYH9z/ORzU5oJ5nczm5RMDVPg62tBXr06MFYRQwfPrzOwIcOHYn8PH1kZxlAKCRe7plwcLDHwYP7ymMuWbKEyZr93//+x9h7XLhwAefPX0RKSibYLDbsHczg4ODA+C4PGzaMsZG5efMmU5zUx8cH8+bNqyC4RkVF4bfffoOfXwjy83MgLxEwGesyGRs5WRaQFglg5xgDUrjV2toc7dq1YTKlIyMS4OBoi717d9Z5v/UdWFBQgB07dyIhIQmDho1Cj1796hTy9s3rOH38MNasWYO2bdvWKQYdpDkCsz/8CFERqSjI10NGmilE5ImLFyxhqluZtW08TMyz8cS/k9qLJ0WAO3W7Ay8vN5Aiqmziu/NCO3nyJPbsOYTH9+t2Lb5sIWyOAh27BmLqjHEYNvKNKruyWSwI+BxIZQoolCq190U7UgKUACXQmATIZ/H9e7aC2LHl5ubgte69MX7SlMacsjx2UmI8Vi1bgL/++qtJ5qOTUAKUQOsgIC52Bgss5ulk/JtT0RSv9fnRrQNwM94lFdmb8eHQpVEClEDjE6Aie+MzVmcGAwNt7N03EiNHuzEZ6hf+iMSF8xEwMNRGn772zFdCghhzZv2JhHixOiE11sfQOBsubuFwdLTEtu3fQ19fv0HWMmbMRBQViQCVHqxtjDBr1gz07t27PPaHH36Ep+FJIJ/l2ns5Yvfu7UwR1QB/EdJTbZl+pKClvoEEfEEhtDjFYHOIXzcPBXkC8LUVEOjkwcXFER99NJsR3f/bzp8/j1u3buHZ0wRIiyUAZFDIia+3ABytIujqauHChXMNst+GCvLVV18hK0eEZSvX1jnkZx/PwYL58xm7D9paBoFLly4xxUxzs40Q9dQdCkXtsvXNLFJgbZeAID/1i+ha28XBp3MRjh2r2hKKkBs8eCSehXpCnGvSYCBNzNLg3i4O7dp74JMV/6syLp/Lhr4OlxHYhQItZOQWQ0neLGijBCgBSqCRCYhEuTA0rL5Oyk/7diFfnI233noL+/cfQFuvjnjjzbcaZVVEVE+Ij8XT0GCEhQRDS4sDYiNGRfZGwU2DUgKtlkCe1BkvfsoiOntTvDbQppnsmr7oqMiu6ROg81MClIBGCVCRXaP4mcmJwE7E9ZWre4Nktf+3Jf4rrt++VXWGu+Z38HwFQt18tPPyRxsPJ6awYUM3pVKJe/fuVRDXy+ZYv349btzwBQsKLFu+CEOHDgUpenrsqC9Cg9Tz2NbTE8PUIhNmFokwM7XE91u+hpXVy/2oAwICEBYWhujoaOjp6YFk0ze3tnLlKugaGGP6zI/qtLTPP12I8ePewMiRI+s0ng5qegInTpzArl2/IPBhzzpNTqyeXNyfIi7GFdkZVRf4fTEwh2SSd7uNtWs/R69e1VvMLF++HHduJSM0qEOd1vXiIOL77uoRj/Zexli8dBHMLKxQXKKsNq6BkAuhdunNBiK25+TL6r0GGoASoAQogTICj3zvIjcnB5kZacjOykBGehrz5eDkjA/nLYWpmXkFWClJifjt6E8Qi7Lx4w8/MEL37+cvYOWXXzco1BvXr+Cx713ExkTDycmJSX7o1KkjOnbsyDxlOHjwYCqyNyhxGowSoATyCp0BVpm0zgKTBdUEr/UFNJNd01cfFdk1fQJ0fkqAEtAogfqK7Hdv/Y3Lf56DkbEpPv606gzCum7w778u4Zv15xEX7VHXEM1u3JR3vZisdCKsx8eJ0LuvPWP/UlUj4vqG9Xfw65EnzW4fVS2ICF6eHfwxbHg/ECFNE40U/CR2LX379mWm9/Pzw/JlX8LvwfOMd3XWRawn2noGQc8gH87ODkwxRR0dHeZr9erV6oRoVn0SExPx1VcbYGlti7FvvgULS2u113fh91N4eP8W9u97bsuj9mDaUWMEnjx5gkULP8PjB33qvAZzq2TYOUYjMswLeeLqszDJBPqGufBoH4iDB/czok11bd26dTh7OhrRz+pnPeTsFgczy1jMmbcAb4wZAWIFQxqxgSmUylFYXLUlDMloN9TlgcNmIVNcjBJ59aJ8ncHRgZQAJdCqCBCx/NgvB5AvFsHbuwNTQ4bcoCffyRepiREaHoEFH69guDwJ8sc/168g4lkYRo4YgZ49e0IkEuH7LVsw+6OP0a59/W9C5olEuH3rOq5fvQh3N1dGUCeFvQ0MKidzUJG9VV2udLOUQJMQyJO4lM7TVCns/+5KX0hF9iY54JdMQkV2TZ8AnZ8SoAQ0SqCuIjsR1i+eP8N4W8sVctjZO+J/6zZX2MuRQ3tBfvEgmTN6+np4rUcf+HTsCrc26okrr6LI/iIg4rE+coxbBWZPgjIgFksR/O93jV4ctZzcu7MfvH0sQYqGNqc2aNAYhAZ6QSLRq/WyiGUGydAlX2yOHFY2Cbh69XIlr+laB9bQgCO//AK/R48RHV1aPLas2Ts4YuCQUejRu7JX9qZ1q+DRxg1z587V0KrptHUlMGjQEDy+/zqUyore6OrG4/Gl8O5yD373+qtVpNTBJRY2dqmYM+cDjB07tsppJk16C9GRWkiMdUNxsbZaS2GxVCA3vthsBUzM0uHkmgafjj6YOmM6jE1Moc3jwFiPVyEWsYLJzpNVEtGJuK7FYYFYslOBXS38tBMlQAm8hMDVS3/g6OH9mD17NiZMmFBtzyUffww9fWOkpyUzNwVHjRrJPB1GasL8ceEClEoV+g0chtcHDFGLt6y4GDf+voKhw8dU6E+sYG7d+As3/77K1MOZOHEi2rRp89KYVGRXCzntRAlQArUgkFfgUu7JTvIgiFVMmSd7Y77W042qxSpp18YgQEX2xqBKY1IClECLIVAXkf3ShbO4fOEcTM1M4eruibfffb/K/S6aMw3Tp09Dnz59kJmZiRs3biAgIJDJ1iFCu6t7W7i5t4WdgyOKigpRKJEgOuoZU/CJNCKy/3zgMFQqU0ilxUhJMIFYZIySkopiSouB/QovlBQ49fBMwMWLZ5rdLmfOnINHvgrERv2bUVHHFRKBr0uPm7h27apaERYtWsr027btO7X6N1Un4r1qbGxcYTqS8X/ixEmAxUb/QcPh5OIGmawYgf5+CPS7j127mteNk6Zi1dLnGTx4FJ74+6CoULdOW3FpEwJtQQlCAzuqPd7FIwQmJhlwdHLBvn17Ko0jhYQvXryK5OQkiHIsEBnuWd6HxysGX7sIQt08GBrnQyAUgcNWgMUuAVQsqMAGj8eHRzt3DB89Du29ntdNIDYwxA6mrBHWOjYMAAAgAElEQVQBXSQpoUK62idHO1IClEBtCKSlpuD4LwegUsjx0UdzGRuWl7XIyEgQG68hQ4Yw9U1+//13nP/jD5iZW+H1gUPRwadzpeEKhYLJevfpVFoPJS01GcGB/ggJ9kdQwGPY2pY+NTR4+Bgmxo7vNyI2OhIjRgxnCs2bmZmptSUqsquFiXaiBCiBWhDIz6/f7121mKpCVz09msleV3YNNY6K7A1FksahBCiBFkmgNiI7eaz1yp+/o0Qmxdgxo7F12zbs+OFI+b7Dw0KQmpKIxPg4JCfFIz42BjNnzqyU0UisK0JDQxESEsp852trIyU5Cbq6ejAxMUEM8Yx0cYWDkyvSUpKZx2ZJoabMdBGSk9IRH8tHVIQjI7q82PjaUhgZZyI/zxCSgtpnLbfIA2wmi27vE4guXc0ZD/Tm1gIDA7F06Qr4+/aqdfHH/+6la89/8MMPO+Hq6lrtNskNpWnTZiE3WxsCnQIMH9EPy5Yta25YqlzP1atXce36daSkpIDP5zMZ++9OnVpuv9MiNkEXWU5g9OjJeBJgi9xs9YSWF9FZWifA1jEWGanWSIit+MRNTYj5fCm8Ovli1uxpTCG/6tq4cW9DlJsPhYILLq8IREbX4vJhbW2Btm3dYW9vz/z/Qeyayhr597V582bExSVg655DFUITkZ14shO/ddooAUqAEqgtgXu3b6Cdlw8MDAzB+teCqqoYxILl6OEDTCLJ5MmTazUNqeFCipuy2Fro3W8guvUstfQKCw3G31cvwtjEDDpCIfNZOjw0mPm/WKhLPtOqUFQoYQT6si/y3kjqwpw+fYb5PP1at9ew4rPParUe0pmK7LVGRgdQApRADQTy856L7EwG+wtlTxvztZ4+Fdk1fXFSkV3TJ0DnpwQoAY0SUEdkJwWcdm7ZxHy4nzhxAiN6kMzXnbt3Y8p7s+Hv9wApyYlIS0lC23bt4OPtDS6Xy/wSQERzDofz0j3m5ubCyOi5329hYSGItzbJ+nnw4AFyRSJwOFpwcnFH3/6DceHc7/B7GIrwJ46MoG5olA33dung8/NgZWOLpIQkhIe41ElY0uhh1GFyUih15KhSAexJcAbzPSFBjIR4cR2i1X1Ih06BmDV7OKZNm1b3II0wMicnB9OnzUZSkhBRT9WzKXrZMtr7BOOdKT0xf/78aruNHTsJifE6iHrmwWTktvUKQLduPti4cWMj7JCGpASqJ0DEn2fhAsRG1lzXgryPmltnIjHWFg4uEdDTFyH6mSdysqquGfEy7m08w+DpxcOhQ/trPJ5du3Yx/0+Qlp6ejqioaOZ7Xp4Y1ja2yBOLYWhoyHwRe7K4uFj06NUPQ0eOrVVtgRoXQjtQApTAK0GAFEgXi3IhFovKvwf4+aJde2/o6Agh+Le+ikBHyNRZkcvlCArww/07N8HlaiEzMwOi3Fym39Tps9C778BKXH79aR/8Ht7Fxx9/jG7duqnFTSaT4ccff8Tff9/AhLfeZTLPX2xbvlkHKwtTODg4gHx2IU99vvPOO7CxscGxY8cYT3UPj+rfy0kdDi8v9Yq8/3fBVGRX6whpJ0qAEqgFgQKxS5lHTJN+1zWkInstjqlRulKRvVGw0qCUACXQUggQkZ08uvre+3PQ5bUeMDCsXNwuJioCu7d9A0tLC6boI7GaKC4uxhdffIFimQyuLi6M3+OgQYMabdvkl41z587h1KlTTOaPmbklTh77BdIiAUzM+Bg4eCDemPA2M/9vvx7CpQu/IzvTHtERTnX2I260zTRAYCKsjx7rDiKyE0E9/l9Rnfy5TGAnf9dUYrtPl4dwctaDt7c3bG1tmcemyU0WTTaSLbZ06adISbKst1VM2T4srRPh2iYOAwb0Z7Lcli4ttYQpa9OmvY/wsBI8DXlugWFqkQpn13C8/fZkfPDBB5pEQuduZQQuXbqETZv2IMC3Z7U71xYUwtElhilcamtrjoSEVBAP9Phod2Sk2TDjvDpYYOPmgSCJnSOHHK0ylpZWCYR65EZnAswsSnDhgnrWURKJBIsWL4GVtS1c3NpAINCBl3cnGBqVWhqJRLl4cO8WHBycwOZwIC+Rw9PLu5WdJN0uJUAJVEeAiORnTvyKJ0GPIRaJmBt0JHHDyMgYhkZGMDE2Rnp6GvO5JL+gAAUFEsaeUFIoAXn/MTM1g7WNNQYPGgQfn1ILKvLZ+Ntvv0WxHOjctTtjaRjw+CFMTc2Qk52FrKwMpCYnM/McOFDzzcTg4GDs2LETfIEOFi5dyTy5+WIjnu5Z6Sn4+mvN3IynIjv990UJUAINTaAg97knO1P89AVP9sZ8LTSq6MlObLe27juFQ79dxu1z22Fk8Pz99/Cpq9j/6wWUyBV4Y1hvLP/oLeb3u+4j5+L3n76ChVlFe82GZvSqxqMi+6t6snRflAAloBaBMpFdqKsLb58u+HD+x1WO+/3Mb7h4/jS2bdsGZ2dntWI3Rqf8/HycOHkSp06ehIOjC6xsbPDOezMhFFb0HM7KTMfubVsRGxOFhDgbpKfYQS7XaowlNWlMIqrPm98Vt28l4MIfEU0698smMzLJZLK2dXWLoSMUwdCIh3PnTml0fRcuXMDWLTsQG+2BzHSrBlmLFrcEZuapMDTKh1AvBwMG9GCe7Dhy5Aj8/UNRKNFHSGBlAdDAMAdtPAMxadIEpjgabZQAIbB+/Xr4+9+Bri4fpFCnTKZAfl4JLl1Sz/dfHYqDB49ERpoZ0pLtIS3SKR/C4chh65gAC6tYdOrUCZs2bWJ+Rp7SCA2Nhf+DUguDFat7Y8q7Xsx7zsb1d6q8ccflFcOrYyB0dNhwc7djbibVJqNy9ocfomefAWjfoSOsbUo9hmmjBCgBSqAmAndv3cCZk78wN/UH9O/PZIG/+GRkTePJz4kAU9UTl3fu3MG+/fthbWUNXV0hxGIxk01ubm4OCwsL5jv5qqmRzwdnzpzBlOmz0bP36xW6SwoKsG/PVugJBfj00+Xg8TRTc4iK7DWdIv05JUAJ1JaAJMflBYMYUvS0NKG9rDXWa13jipnsC1Zvh4erPX44fB43z24rF9l9/cOx5vufcGjLp+DxuFiwajs+m/8O2ns4UZG9tof9n/5UZK8nQDqcEqAEWjaBMpHdxdUd/1v/baXNPPK9h0t/nIGxsSFGjxrF2MCQx/Zf5kndFERIZvvBgweRlp6BsNAQmJiagTwiTDykyXc9PX3o6evDxt4Jfr73EfVMhZBA96ZYGp0DQOfudzFv3jRMmDBBozxIYbG9ew8hN0cHsVGuKCp8LjLWd2E6wgK0aRfCeElnZ9ogPdUCBfkG1YbVN8yBu0cYBg/phRUrVtR3ejq+hRPYsmULbt26gFnzMqGtrYRCwcKJoyaQSa3x889VZ4vXZcskm/306d8RFxeHYqkOlEou+HwJ2BwZzMyssHr1cnh6Pn/ygswxZvQEhIVYIzPNWq0pjU0z0KFTEn7//YRa/f/biXgKHzt+HFGRkRg/aSoGDB5epzh0ECVACbQOAnGx0Th78lcUFxVixozpjPjdXBqxuyJ1TYh9y8NHj6Cnb4gp02bD2MS00hJ3b90EIyN9LP246gSXptoTFdmbijSdhxJoPQQk2cSTvUxKb7rvQpOKmexPoxIYkb3DgPcriOwrNvyITl7umDi64s1PckIvZrJv238aEdGJ2PHVIrDZFevBtZ7TrN1OqcheO160NyVACbxiBMpE9o8//R+8O3ZhdhcSHIjgQD88vH8HlpaWMDY2QnpGJqRSKSNeFxdL4ehg36yEQvILDdkLEdjJn/X09JhfcEgxqG+2/YiNa77Ek6AUhAQ2n1/EmsOlRDLjj/42HndvJ+LTZdcabEm2DtGwd0zD5ct/NFjM+gQaN24C0tO4VWaZ1yfu85wM9T50kSx4Z/cwJpt94sSJ9Zuajm6xBEhNix07V2DB0mS4tZFCpQIWzHaAOFcH2tps6OppoVAiw9tvv4uxY6svHFpbAD/88APzGCzJXO/SpfT9vqwdP34cJ06cxqxZ76OoqAg7dxzE4we91ZrCyS0Sw0eaq113ICkpCf/88w9iYmMxedIkxm6MtMVLlqD360MqZXuqtQjaiRKgBF55AmXWMH9fu4QZ06dj3LhxzWrPX3zxJYhVnbWtLczNS5+gmzG7+hou+3ZvQVhIMNzc3NCpU0eMHz9eI/uhIrtGsNNJKYFXmoAky7VJvdjL9HyhWUWRvQzyf0X28R/8D8MHvIYr/zxCgaQQY4b0wkfT32C6l4ns/iGROHD0Ig5vXwEdgfYrfV4NuTkqsjckTRqLEqAEWhyBMpF9z8FjTEGoTetXo1CSj/6vvw5ra2tcv34dciULo96YCBtbe8bv3PfebXh7d2A82Zt727J1K2LjEvHBh/Px9dq1ePxQB2kp1I6g7NwSUxfDwFAb7T32NLh/u3eXx3Bz04OpqSkSE9NRUFAEZ2crdO7cmakDQG7gNGUbN+5txMVqI/pZqaCnqWZskgFXj1AsX76U4UBb6yPw6aefwtTyFmbPSy/f/P8+s4FPx0KI8zjwaCvF31f1IcppxxTKa6y2c+dOZGVl4eHDABQWqqCQs9CxkwO2b9+OMWPGIyHeELERNT8B5N3lIZZ+Mo2xTqqp3bhxAydPnWYKWfO1Bbjx10V88sknTK2PlStXYtf+hsvir2kt9OeUACXQcgicP3MCN29cYaxhiMBeW1uYxt7p33//jdNnzmH56vXMU5/qttSUJDzyvQvfu7dw6NBBdYc1aD8qsjcoThqMEqAEAEgyXMECi0mCIzV9iFVMU7zWMY+skv9/RfbBk5einbsjNq36EAWFRZi+6Gssnj0Bg/p0ZkT2jStn45vdx/HTts9gYVq5Zh095OoJUJGdXh2UACXQqgmUiewT3noXfr53YWFujvXr15UzOXDgAP766xpMzMwRGx2Jdu08MWvWzPLMw+YOLzw8HL/88ivEefnoP3g4ftq3D09DrZCeatvcl94k6yN+y3duJTB+yw3ddPXEsHeKRb5YD1KpABwtObQ4cpiYicDXFoPD4cPHpy1mzJgBDw+Php6+UrybN29izZeb4admdm5jLsjBORLt2svw229HGnMaGruZEnhj3BAsWZ4Cn86FVa5QLOJg1Sf2eH/GavTv379RdjF+/ETkZEuRm23K/OKTluQAr86++OKLFejbty9jLzNz5lxEhntClFPZ5qBsUbr6Inh6P8OhQzthY1NaKLW65uvrizVr1uCTFWvg0a49043ctL1x7SJSU1PRo1dfvDX1/UbZLw1KCVACLZNAUmI8Tv/2C/LFucznz+ZkDVNG9JvNmxEe9hRTZ3yItp5etQbt7+eLB3f+xvp1a2s9tiEGUJG9ISjSGJQAJfAigcJ0V40A0bFQP5N9wfvj0L9X6VPue4+cR1aOGKsXvcuI7NrafAh1tHF6/1po8zVTL0MjABtgUiqyNwBEGoISoARaLoEykZ1kIPbu3Rs+Pj6VNkOsDeLj4zFgwIBmlzmkLvnLly9j//4DcHX3QHJSFpISChEfa4TsTAuoVOpZfag7V0vpRwT23Tv8IBZLNbJkc4sU6Bvmw9g0hSketnXrd2oVEavrYsk18M2mffB/1AlKBaeuYRpkXOfut9CnTxesXauZX6gbZBM0SJ0JLFo8F7KScHy5IQnaAmWFOERgX7PKFibG3vhm09Y6z/GygaRWwZbvDyHgYfcK3dp3DIBAR4TLl/+ElpYWU/fil19OIzy4Iwolz4tL6+qLIS/hQi7nwsMzFEOGtVXryaa7d+/it5On8MaEd3D/zk0IhUJwuTzmKzExDuYWVsjKzEKPnr3g5OoGPb3qaxw0ChgalBKgBJoVgd9PH8f5syeYYsqarvFSHRhyg3De/PnYuvsn5n2zNq1YKkWxrBj/XLsCqSQXixcvrs3wButLRfYGQ0kDUQKUwL8ECtOei+xMBvsLZU8b87WOpXoi+6LPd+D1nj4YN7wPs+K9h89DnFeAT+e/w4jsxIP91J83YaivixULptBzrQUBKrLXAhbtSglQAq8eASKyDx06FFevXn31NvefHZEbBQsXLsTOfb/C9/5tXL9yHTHRYcjPs6RFUTV4+my2Ao4uMTAzz4C1jRk8PT0Yq6KpU6c22KpIFvv69d8gJtIVmemlPqmabM5uUczNBV1dIbp378jYZNDWugiMHTsUCz5Jga2tDFY2JeWbXzLXHrm5fJgY22HgwIF4++23GxzMvXv3sGLFJgQ+7FEe28wiBY4uUdDisuHt7YnIyETk5eUyfvFJcc7lNlsmZmkg1y+bo4JCoYBQqI/z59UreLpt2zZcuHAJHI4J0tPYjHDPZpOC1UoIBIWQFOiCxVLB0SUfQl1ddOrSHm+8OREGhvQx3Qa/CGhASqAZEwj0f4TTvx2Bs5MTPvjg/Sa3l6sNmpMnTyIqJgHTZn5Um2FM393bvkFIcAC0uFxMe+89jB49utYxGmIAFdkbgiKNQQlQAi8SKErVjCe7wFo9kf3arcfY/fPvOLTlU8gVCry74Ct8Ou9t9OvhU+7Jrs3n4433V+Gb1XPQ1afxn7p+Va4gKrK/KidJ90EJUAJ1ItCaRHYCaOnST2BkaoGxb06GiYkZ0lKTsWLpQty/1bdO/OighiNARD4ithkZ50GgI4G2thy9endmPNzt7Oygr68PUvTM1bV2jx8Se4rbt+9CnGuGZ2G1f4y74XZYOZKpeRps7RNgasbFypXLKhWjbMy5aWzNEpg4cQSKi2WQy4FNW5Ng7yhjFhQcIEBBAQeP7uvA76E+du06wFz/DdmCgoKweNEq+PuWFjZlBHbXZ/jss2XYuXMPMjNUSE2yh6RAH57ej6BQcJEY5wwevxg29jGYP39OnQoO3rlzB59//rVaBVW5vGI4OifD0bkYq9b8D5ZW1g2JgMaiBJo9AT2BFpQqQCKVN/u1NtQCxaJcnPrtCKIiwjHzgw/Qp09phmFzbgsWLsSoN96Cl3ep5YC6LTrqGXZu+RrHjh4Fm81Wd1ij9KMie6NgpUEpgVZNoCj5X0/2JspgJ7BJhry2zXNPdlFeAfq/WfqEkKxEDh639Gmjaye+h4mRPrb8eBKn/7wFLpeDCaNex7z/FD61MDPGjbsB2LjjV5w9uJ6xj6GtZgJUZK+ZEe1BCVACrzCB1iayE5HnwQNf3L5zG527dIO2wAA3/vLD3Zs1F/d7hS+DZrk1A8McWNulQFuQD5LtTr4ALlgsKVQqNjp4eWHL1s1Vrp0U7P3rr78Q4B+OggJtREe4olCi1yz3SRZlbRsPa7t08LhyGBjow8HRGsXFxSCZv7S1fAJnzpzBTz/9CBZbBS6Xjw/en4ugIF88fBgMFcT48ec48PjEGb1iO3LQHA/vWePw4TMNDmHs2MlITeYgMd4JhkZZsHVIwF9/XcK6detw8+Zd5InMIcnXhoNLOoyNTSGRFMPQkAsLCwt8/fXX1a6HvMcS67EXW3R0NEJDQ/EkJAT/3PCFUslHUaEecrJ4yEi3Zqxnqmqm5qlwbROLDz6chT6vD2pwBjQgJdBcCXC12DAz4ENUIENhMfm/79Vv1678yQjsY8aMYQT2ltKmTn0Xn6xcC3OL2hVzJ/sl9SgOHdRMsdMX+VKRvaVcbXSdlEDLIVCU5AbmcUjiyspUPSXVTxv/tcCu6kz2lkOu5a+Uiuwt/wzpDigBSqAeBFqbyP4iKpJ9FBoSh+DHnSGT8etBkQ5tSgIk293CKgntvDJx9uzJClPfuHEDX331NeRyPkQ5ZsjJMoYo16Qpl1fnubg8Gfh8KbQFEujoSGBingkdHRa++24D2rVrV+e4dKDmCJCM8f0HDoDL1cbT8CCs+DIJEeHaOH/GCPr6pnjnnWk4eGgbWKwSWFopYWNbiDkLMyss+MsV9oiN1sOIEaMxe/bsBtvMiRMnsHfvIbDAhork/rDkGDZsIEaMGAEnJyesWPE5oqPi0c7TGd9880218z569AiHDx9GQkIGJJJcKBTa4HCKwedrY8GCucjPz8elS5fh6OyKNu28YG1ty9jMhIUGI8DvMe7dkiIxvvLTKe5to+DuIcekd6bgtR4VRfsGg0ADUQLNlAAR2InQnp4rhYKks7/i7c/fT+GPcydhb28PKytrmJmZNuj7XWPiW7/+K7h7+qB33wFqTZMQH4vggMd4EvQYcbHR+OOPP9Qa15idqMjemHRpbEqgdRIoSnAr33hjerCTSV6ML7B/nsneOslrftdUZNf8GdAVUAKUgAYJtAaRnYhAx48fZ4q28vl8ptjeRx99hCNHjuDgweN4GuLN2CLQVkrAwEAbBoZ8JMSLy5HYOxjA0EAbwcHpzQKTa5tQuLWR4bfffquwHiKyb/r6e+TkGCIirC2USs0+gl1fWG29AtGxkwn27t1V31B0fBMSSElJwZFffkFQYBD6Dx6O/oOGYd7Md/DmpBz0HZiPIH8BDh80x7Gjp6Crq4vHjx8jLCwMf/55Ei7u+fjsf4nlq83N5eCfa/q4eN4AbT36gNgfNUQLDAzE8k/WIMqvM2RSHRjbxMLQLBc8YRbc3J0gEAgQGhoJuYwFNqcEdvZ2sLOzYuYn2e6pqRmIioqDXK5AUaEQacm2yBMbM1npWlolcHZ7Bh3dfGapJEufzS4Bj28AeUlR+fKVSiVKShQokWkj6PFrzN/rCPNhYpaBNm2LsWbjepiYmjXEdmkMSqDFEDDU5UGHz4GsRImsvOIWs+76LDQ3Jxt5eWLk5+chP0+MC+dOoWePbpg1axYT9tq1azh//g8YGBiAw+Fg4sQJ8PT0LJ9SJBLhvffeQ8eOHRvsPVLd/ZBC0iHhkZgxa16NQ37c9T3Cw56gb58+6NatW7OxiKMie41HRztQApRALQlI45+L7LUcWq/u2g5UZK8XwAYYTEX2BoBIQ1AClEDLJdAaRPb58+cjOCgBKhUfcjkHunpixhaBtLVr1+LWrbvIyrBFfIwzFApOyz3MBlr5lHe9GKF9985HIOL6nh9Hok9fexz95QnmzPqzgWapXxhSfNG7UxrOnTteZaDBg0ch/Ikn8sQtu2AiX7sIXh0fwd3dHqampli/fn39wNHRjU6A2Px89NE8dH6tJ1P7gcUqvdGzYc1iFEsLkZtLbl7JMOfDTzBoUGULlNFjhmLq9AwMG/X8JhcZHxPFx+pltjh69BQjNNWmRUREwNHREQEBASBF+iQSCRPDzy8AcUHdIM03LA9napcOA/MY5GWZgs2RIz2mLXgCCQytEmFsVSr+K5UcpKdaQ5RjgoJ89ddCrmeFotQPs6zpCAvg0iYcPJ4MLBYLAoE+evTug159+8LZRTO/oNWGLe1LCTQkAQMhF0Jt4sWuQn6hvFX5sb/IMSM9Db/+/CPiYqKgoyMEm8NBvwFDYWpmjuDAx7h98zrmzpnDWMuQlpiYiDlz5qCkpAS//vorzMya7uYcscNat/4rbPi25pvh82ZOwQ8/7IW5uXlDXjb1jkVF9nojpAEoAUrgPwSkcW4VMszJj5sio53vGEHPQsMEqMiu4QOg01MClIBmCbQGkf3SpUvY/M0PiHzmBl29PAweysf27dvLwScnJ2POnHlISjBGdAT1Zj924k3Ex4nw2fLrWLG6N1asKrVqCA5KR+/uhzR7wf47uxa3BJ1eu41r165WuZ7ly5fj6uVsxES2fJHOyCQTQmEezCzT4d7GBvt+3NMszoAuonoCy5YvR4eO3TBwyIgqOy2Y/S527NgOa2trbNy4EXfvXmfsKrW0WGCzVVj79fNCqC8G2LXVEoF+ljhxomaPdpKpfv78efj5PUGhRA4WWwKFnA9pgS6kBfrQNcxHepwjJLmmah+ljkEOHDr44vGDflDIK4rlagepoqNXp3D0G+CMWR8tBpdL6i4QA0/aKIHWQ4DDZoEI7No8DiOwZ+SWZrCTP7fmlpOdBVIg1LtjV/B4vHIUiQlx+GnfLri5OjM3EMlTbda29iCfaQcNeB2jRo1qUmzj33wT6zZth5GRcZXzikS5uHPzOkKDH2Pb1q1NujZ1JqMiuzqUaB9KgBKoDYHiWLfnJU+JFTuxZC8L0IivtZ1oJnttzqkx+lKRvTGo0piUACXQYgi0BpGdHMaePXtw9uxVFBWy4O1jjZ07d1Y4owsXLuDbb3+Av29P5j57a28dOlgwljFlmexlPD5bdp3JcG8OzaN9KDp11q/SSuXWrVv44otv8PjBq+PlTLzaO3Tyw7VrpU9h0NZ8CYSEhGDNmrXYtvfnSotMTUnChjUr8MnSpejRowemTR+PYaNi0bd/PgolHEgK2XByrtoiIvKZNtautoJAWw/u7l5o06YNpk6dWmkOcv2v+XILJPm6yEgzhzjHlLFO8vD2A+RcJIZ0qRM8PdM0WLmHIDSgK6RSQZ1iVDWIZLj36h+DHT/sBZvdsi2eGgwKDdRqCOgJtCAUaIHNYjGiuqigBFJZ6yh2Wt9DXrt6GSSSPPTrPwQjxryJAD9fXL9yHt9//319Q9dq/OLFS9Cxa08MHlZR3D98cA/8fO8xsRwcHDF48CAMGzasVrGbojMV2ZuCMp2DEmhdBIqjX0h0Kit6WoagEV/zXajIrukrjYrsmj4BOj8lQAlolEBrEdkJZGKT8MMPR6BSFWPgwH5YuXJlOXvyiPHEie+goCAPeSILpKeaIzdH/QxPjR5iI09O7GOIZQxpYpEU7T32QiyWNvKsNYcnvs8+Xe9j2rTJmDZtWqUBgwYRyxgv5Oepb2dR86ya68HhyNG5O8nev6K5RdCZ1SJA/Nj9/QOxbNW6Cv1FuTnYunkdhg8binHjxjE/+2zFx0hICMCG75JhZCyvMb6frw5EuVpITODh76sGOHPmErS0KmaVjx8/GWHBpkhPtq8Qz7vrPWTFu0KUblPjPNV1aNPzOjLSLZEQ0zBPibBYKnTteR8OTs74csNXVGSv88nQgS2NAClsSqxhiP86aURYzy+So0SubGlb0dh6r135Eyj/TbUAACAASURBVKRo6pyFn6CNR6lH++fLF+DAgf1NuqaLFy/ioV8AZs/7uHze9LRUrPv8E+zfvx/GxlVnuDfpIl8yGRXZm8tJ0HVQAq8OgeKofz8nkty1Fx/KauTXfFcqsmv6KqIiu6ZPgM5PCVACGiXQmkR2AppYx2zZshMqlQJ//XW5EvuoqCgmAyosNAn+D0lWO22EABHaN20eBH0DPi6cj8A7k2u2q2gKcsam6XD3iMWEiSMwe/bs8inJL7WHD/+JwEfdmmIZTTKHpU0CHJ1TcPHiqUqiapMsgE6iFoFTp07h5MlT+N/6b2FkbIJiqRR+j+7D/9EDPH70AEOGDmWy2EmbMWMqckXpUCqU+PFIPAQC9cW1n/aZ4s5NU5w8cbHCun744Qcc/fUygh91L/97PX0RdPVFsLBJRbRfTyjrYfWib54MM8cYBPl1hUpV/6xzPl8Kn9ceYP6S5ejyWg+1GNNOlEBLJkAy1o30eOBqsSCRKlAolUOhbN22MHU9z03rP0dCXDRWrdkEaxs7yIqLMX/2VJCnE5uyZWZm4sMPP8TOfb8+/xyyZxv0hHwsWbKkKZdSp7moyF4nbHQQJUAJvIRAcaQbY/9HtIYyXb0pXvNcqSe7pi9MKrJr+gTo/JQAJaBRAq1NZCewxWIxhEJhtUIlyXC/eycEAY+oyP7ixUksZPbsGwmvDuYYOfQobt9K0Oi1Wza5oXEWnN0iYGVljG++WYf09HSsXPkFIsLbICereRUXqy0wYqNhYpYOa9tEcLlkNBszZ87ExIljaxuK9m8iAocPH8bp06chk8lgYGiInOxsdO/eA3369Ebv3r0hEDy3WZk0eSw4nHz0G5gHUzM5SkpYGDG6YsHTqpYdTYqgfmKLZctWon///uVdNmzYgBt/30PUUw/IS7jQ4sogyjaHT/dbTLGpvExzpEW1rxcJQ8tEmDpEI6ABb0K+1uspxk9+HWPHT67X2uhgSqC5EiDZ6gI+sYQBSAa7rEQJcWEJzVqvx4Hd/Psqbly7CEtLS5ia22DCW+8iPi4ax37ej61bv2/yp2IWLFiIDp264fWBQ/Dbrz8hOiIco0ePwvjx4+uxy6YZSkX2puFMZ6EEWhMBGVPn7N8byOQbU2+n8V/z3Gkmu6avMyqya/oE6PyUACWgUQKtUWSvCbhUKsXo0ePxNLQ9xLnN+xHfmvbSGD9PSluCuDhRsymCWrZHJ9comFkkMxkTOVk2iI5oGDuLxmBYXUwWWwkb23gYGBVAIBCBzVEwn0mVShZysqxgaJyBN94YjEWLFjXlsuhcdSBALKiys7Ohp6fH3NSrquXl5TH1Ie7duwW5XAGOlgpHz8TUOFtcDB8bvrSCu1svcLk83LoZALCIhRPJhFeCWLAoFaSAqBKiHAsI9cTIjneGKN22xtg1dTCxjYWxTRyKinQQ/qRjTd3V+rmZRQp6D1Biw+bNavWnnSiBlkqACOwKharVFzSt7/nFxUTh8IHdWLJkMfMeO336dGz8bhesrG2x/buv0L9fHwwdOrS+09Rq/LVr1/DLr0chkRRg4MCB+HD27BZTxJmK7LU6atqZEqAE1CAge+peWuasrMgpI7Q3/mteG5rJrsbxNGoXKrI3Kl4anBKgBJo7ASqyVzyhhw8fYs2a9dDT00FGRh4K8o2Rk2WEgjwDFBbqNvfjbJL1rVjdGytW9Ya+4Osmma82kxBbjIJ8A6hULa94rZFJJpxdn0FHyMKwYUPQq1cvrPlyPTIz+QgN9kKHjn7o0tUFW7ZQIbI210Rz7kuy3k+d+gV9+udjwlvZMDaR4+xJI8Y2xtG5GClJPCQncfE0TBclJaU7kUpZyEhjw93dEyFP4lCQYwKhYTpYbBVys02RkuAMhZwDuZwHvnYh2vr4Q4tTjIIcMySGda4TDl3jDJg7RoMnyINcIQCbRbzjVVAouJDLuYh+5oESGR/yetjQvNbLH7PmTUPvvgPqtEY6iBKgBFoPgdiYKPxycA/27NnNbPqzzz6DibkNpkybyRQavXj+FPbu3dPkQI4dO4a2bdvCx8enyeeuz4RUZK8PPTqWEqAEqiJQEk4y2Z8L6+V9GtmTnduWiuyaviKpyK7pE6DzUwKUgEYJUJG9Iv7Vq1fjzu1AZKZbwdQ8E1xe4b+fDgCFQgtJ8U5IT61/NqhGD72ekxsYaKODt3mzsYup53YabLi9UySTQSwQyEFsXlQqHnPtqFQy5In0IJPxGCFSJuMDLBVUSg643GJweTKYWaRBqFuEKVMmMhl5pG3evBl/nH+AQL+ucHGPgLVtJs6ePQ0ej8SlraUTePvtCZAW56JrdwniYgSwsJAjMUELolxtaHE5TBa6gb4hzMwcYGpqCltb2/Kz79KlC1avWoPIMCAupC20dfOgLcyDpVMUlEoOnjzuBqWy1C+dFAju0OU+EsM6olBcuydziLhu5RoOFpuF4hIWIsO9IC3SKUdvbpkMK5sERuBns5VgsxXIzrRFXJSL2sdD/s14+jyDvoEYK7/4Ai5ubdQeSztSApRA6yQQFOCHW39fxsYNXzEA9u3bBxZXByNGl1qzrF39Cd5+axL69evXOgHVctdUZK8lMNqdEqAEaiRQEuZe7sle1rnMk70xX2u1fVbj2miHxiVARfbG5UujUwKUQDMnQEX2ygc0ftwkiMQFkBXrIzdbH1mZFtDWLoSjawR4vBJGJI2PcWnxft/N/NJsUctzcomBhXUyPDxc4OjoiKSkJLi5ueHMmd+ZffD5PPB4WpAVE5uA0ix7lUoJHlcAcwtdKBQK7N27t1xETU5OxrT3PkB4iA+MTTNgYZUEeQkfWlwpk7lHYtPWsgmMHjMcOjpy8LiG8PDwAZfLRUpKCrZu3Vq+MXLTb/369eWvL1++jLNnLyImOgYKBZAY5g3JC8I5V7sI1i7RTGa7UsFBSQkPRYUCmFnmIy3GGpnxtbtuTO2iYGIXh0f3+74Utr1jFOQKkj3PhZ1DPJM5n51pjegIj5eO0+KWwLvzU3Tu5ox3p8+EqVnLrqHQsq9IunpKoOUQ2L93G4oK8rBx4wZm0du2bYOppT36DxrGvA70f4TTvx3Ggf37W86mNLhSKrJrED6dmhJ4RQnIQ93LHNifW8aU7bXMQqYRXnM9aSa7pi8pKrJr+gTo/JQAJaBRAlRkrxq/v78/7t69i/PnryI32wApSXZMFrJ7uzDo6hVApWJDWsRDQpxjqxfbzcxTwOPLkJzoqNFruakn53AUMDYtLUpqaMTBxo1fwsbGBpmZmYwXNylwuXHjN8jJyURxsQAlMh4EOoUwMNDF6NHD8P7771e75GnT3kdQABsxka5MHyKykycouva8AX19AwAKFBbKYWtrgQED+mHKlClNvX06XwMQCAsLQ7t27aqMRKyrVq78nHkaQijko1CigLyEg/xsK+Smm6Mon1wHVTdDi2Tm5wbmqTCySIGevhDiHCmSwjuiuBa2V2wtOVw6PYCshIsnQd6AqjQ7vqZmaJQFV49wsNk8sMBDYpwJdPVFzPsmi6UNXT0FkuL1YOeYg+Gje2Lq9Bk1haQ/pwQoAUqgnMDOLRsxaMDrGDCg1F5qzpy5cHRtg0lvv4eQ4EC4uLrj15/3oaN3e0ycOJGSq4EAFdnpJUIJUAINTUD+5LknO1NgSkWU9X9rnzbia632VGRv6LOsbTwqsteWGO1PCVACrxQBKrK//DgjIiJw8OBBPH4chox0IyTEusHULA02dkkQ6CigUnEgLVJBBSOmAGHlRuxmntsrVPx52c+q78NCIVTVjpcAqLqgIkCKIGpXs7likltdx+uYGENzK4zV0koBm81GoJ8n44feGpqzWyTMLBJgYGAKBwdrpKRkIzsrH0pVAWMDo1CyoaUlR//+fZhf8A8cOICnT2MgkeQxP9cRCvDHH6erRDVr1hxEPMtEoF+XSt7yfEERDAxyINTNZyyNjIyzYW2XhOPHj8DExKQ1oH8l91hUVARfX188efIEBQUF8PDwQIcOHTD3w8VIjGgDga4Y4gxrFBXo13r/PO1Cxk7GyCIdOgaZjA2NSqWFghxLJD/1rDEeTyCBjUcw+DoFSEuxRUKcC2zs4mBolIfCQiGyMkwZaxpiIyPUzYOxWQbc3FUY9cYwmJlboCA/H//8fRNWVqYQ6AhhYWkJWXExngSFIOLZU/Tq0xMfzFlY4zpoB0qAEqAEygjMff9tHDp0EMbGpRZYo0aNwnc7D+De7X9w5eI5yEtKwNHSQn5eHo4fPw59/dq/d7Ym2lRkb02nTfdKCTQNAXmwZjzZtTpQkb1pTrj6WajIrukToPNTApSARglQkV09/EFBQVi1ag2k0gIUSYyQlWkMU4t0WFiw4ezsiByRGKPGTqgULCriKVzdq7ZMSIiLhb2jE17Wp64/S0lOhLWNXZWby0hPg7mFpXob/0+vvDzxv5nUFX/wLPwZHj8MhFiUDxW4yM0WQqEozW4vlgqYzmyOgrGweLF16GCBoyfGMdm6t28lID5eDLFIij27/Oq0vqYY5NLmGaxtcuDu7ozQ0CjIitlITbZBVqYlk61e1swsUuDo8gw//rgbLi7PPapv3rwJOzs7ODs7V1gusYiZMWMW8kSGiIpoA1lxzTdCHJwjYGGVCh0dXZw79xtzs4O2lkVg+/btOP/7RSjk2iiW6AEsJXjaxdDiScBiK5AR74LMhNInGhqicbRK4OzjC4VcC3GBPdQKqa0rhkOHh0wtASKoE09NYkNDrjceTwYWuwQsKGFsaoK27bzxxoTxsLSyrjF2gN9DdOzyWo39aAdKgBKgBMoI+N6/jasXz2HP7tKip1lZWZg3bz627D6E1csXYPGihcxNysTERAQHB2PkyJEUXg0EqMhOLxFKgBJoaALyoOee7M8T2EmtKtULCe0N/5rTgXqyN/RZ1jYeFdlrS4z2pwQogVeKABXZa3ec5Je5lStXIjY2EUolYGZuiFEjR+Kff25i3MSprVowiomKAF9bGwnxscgTi3Hn5k2kp6WgpEQLAMneFqJQUoTsTB3weALs2DkfnbtUfQNi7uw/8euRJ7U7nCbo3bZ9CEzM8iGTsZAn0kdKkhXyxEaVZibFIO0cozB06GAsW7ZMrZWFhoZiyZKlyEi3QUyE+t7ZltaJsLJJRq/e7bBhQ6k/LW0th8DZs2ex9bvDiPTrXWnRRBBXyCs+OVLfnRlZJcLCMQIR9wepFYpkwdt7+TF+64F+3WDnGI3EuMqFTXv2e4j/rVsDR+eGuyGg1gJpJ0qAEmg1BEgCwfZvv0KPHt0xd+5cZt9KpRLDhg3Dok9W4fKF09ixfXur4dFQG6Uie0ORpHEoAUqgjIAikBSyV5W+JN+IRUwTvOb40Ex2TV+FVGTX9AnQ+SkBSkCjBKjIXnv85NHjew8eYsaseQgK8MPJY4fh49MRHTp3R59+A2sf8BUf8c/fV+Hs4gZLKxvkiTKhxVLCytIcRoaG1e5cLJYiOCiDyWqfO/siyGtNNi5XhrZewTA0kqGwsASRT70gzi19TL2qRuxkuvfkMsVM1W3Lly+H74OnSE+zZrKMVSoWdIQFKCoUgvi/E8E1N9scBfn6YLOV8PAMQZ7YFEkJ1jC3TIZ3x0ycPnNc3elov2ZCICoqCgvmLUeJogAKmREKck2RmWQJWVF1NlN1X7jQMAcm1nHgakshzTeArnE2ZIV6KMzTg0rJRn6OOWMLw+bIwWIrYWCWQZ5BgbZuFoL9u0P671Mp/11B1x6PwOMrsG7TZljb2NZ9gXQkJUAJUALVECA38Ld9ux5vTZ6MsWPHVug1f8FCmFtaQ5KXi02bNlGGtSRARfZaAqPdKQFKoEYCCv825R7sZRbsZSnsjfma05Fmstd4OI3cgYrsjQyYhqcEKIHmTYCK7HU7n3HjxuHLDVsYz+GL58/g+tU/4eXTGdNnflS3gK/4KD6XDV0BF+T7i02pUkEqU0KbxwabyXCo3DSd1a6nL4J7uxAItFkokqrA4/FQVMgDn6+NuBhdpiDpf5uBYQ7a+0Tg0qVzap8s8f8n1iEKhaL8SywWM56z2traSEvLRE5OLiT5euALimFuLkRWlhh+9/tCT1+Mdl6h+OvaebXnox2bF4H09HRcvHgRf/zxB/LyJEiNaovctKotn+qyciOLJFi6hkMpF0CpVEBWwkN2ujUEunkwMUsHi/nNh6SFckEe5FVBCRXkkMm0weMC/g+rt3Xp2e8uxk+aVKVlVl3W2tRjkhLjIZfLEeTvBy6Pi9AnQZj10WIYGlZ+SqUx1nb7n2vo87p6TxY0xvw0JiXQ3AmQJ+W2ffsVZsyYjhEjRlRa7tChQ7Hn4HFs/WYtfLy9XlpYvLnvVRProyK7JqjTOSmBV5uA8jHJZGccQcsT2JviNbszFdk1fWVRkV3TJ0DnpwQoAY0SoCJ73fCvX78exSVKzF1YagVy6cJZ9O43EHp6tLjWf4ka6vKgxWYxTwlytUpFdlmJEoXFchQWK5i/M9DhgvcfAb4szp3bj/H2xNsayWY3MU2Hq0cIk1VeXKwLF1cLTJ7yDrKzMqGrp4efDxzAvZtuTLb5i43FUqFzt8fQ01egsFCGXbu2wN393wJAL3T88ssv4ev7GJcu/VHjhUgy3f39g5i1jBkzHESAv3I5EKnJ9rCwSsHgIR5Yu3ZtjXFoh+ZP4MqVK9jy3R6kxlk1iB+7jWs0DCxikJZih6S4ynYuHl5BEOgUgs2WQqnSYv6tlnpmqqBUsZCeYguxyLhCYWNiiSQtEsDcKhnde9ljxf/WaBRsbk420tNTkZGWhr79Xy5YS6VFiHgahkKJBH4P7yM2OgIcDgclJSVQKOSM4L7ii42ws3dstD1FRT7Ds/BQ+N67BS0OGyKRiHlPsbG1h0iUg9FvTEa79h0abf6mCsxhs6BQ/vu4eFNNSud55QhsWrcKXbt0wtSpUyvtrcyTfd2m7fB7dB9XL/6O3r16YubMma8ch8baEBXZG4ssjUsJtF4CSr82TA0f8nnyeQZ7479mdX7aeqE3k51Tkb2ZHARdBiVACWiGABXZ68b9+vXruHXnPj6cv7RuAVrpKJLJLleoqhRdiNgu1NZCiVwJuUKJEnmpMJOZHIsjR07j4X05Av15TOHFpmzE85xYtHTtEY1vd+yCUKhbPv2SeR/in78cKonspIOTWxTMzROZjGEtLRm0tLjQ4vAhK5Hgr78u4+eff8aRw0fBYqtw7NhRmJqavnRb0dHRyM7OBvn+9ttvgwixZ8+eR1JSBvh8Dg4d+hH6+vQmT1NeG405V3x8PGbPWoDUWDtkJVYsklvbedv1vgKlnI+4aDfkZFkww3X1xIxo7unjDy6/BGx2EZQKLaQkOqCwUIh8sREEOhKQAr4GRvng8QrAZvPA0eKCzeZA30AAAwNj6OoJMHX6DLUKndZ23er2fxYegpPHfgaPy0ViYgIGDh2Ftu28GOsaoa4us17SxKJc/Hn+NG5cuwxbWzvY2NqCzQKT9bpy5Spw+dp4d8ZsuLpVXStC3fW8rN+hfbsQ9iSQeVqlW7fXMGDAAHh7eyMpKQmnTp1i/vzgwQNoCw0xecr0hphSIzG0eRwYCLlQKFQolisZzlwOG3Jl6fs/l8Ni3utJP/I6J1+mkXXSSZs/gYM/7EBJsQRr1lR9I4/cHCPFTd3btEVWZgb0DYzQqWMHzJkzp/lvrpmskIrszeQg6DIogVeIgPLRv5nsTbwndleayd7EyCtNR0V2TZ8AnZ8SoAQ0SoCK7HXDT4pU7tq9B6vXbq5bADqqRgJlme2iXBECHvvitc6dIJcrkJJcamtB/NqDgzPwJCgdT55kICFeXGPMunZo0y4I4yZ1x/SZsyuEeJnIri0oRLsOAYzATlI4SCIHuUHA57Pg4GCL6OhYRIR5w9QiHcYm6Zg+/d0qs/TqumY6ruUTePr0KRbMX4LUGDfkpDjUeUOGFskQGuRAzyQDEoke+PwicHklxBsGCjkPyQmOEOrmM9ZHhZLnN5HKJiQ1AAwMs+HTNQGr125AyJMADBk2us7raciBmRnp2L9nC94YOwYDBw7EtWvXEBwcjPj4BCQkJsDY2BQfzFkIRycXhAQH4vDB3fj+u+9gbm5eYRmkAO2vvx7F5+s2MzZgDd3IOi/8fgopibFYsWIFbG2r964/evQoAgKDseTTL2q9jDJrruy84lqPbagBejpcCLU5kEgVyC8k1xltlEDdCFy+cA5XLp7DpEmT8Oabb1YbZOLEiXBxccXGjRuwcOFCdO3aFe+9917dJm2Fo6jI3goPnW6ZEmhkAkpfD414srNfo5nsjXy0NYanInuNiGgHSoASeJUJUJG9bqdLMooXL16Cr7fsZR6Fo61hCJDMR2Kd8KJ3u6hABg6HDR0+B8R6oLrWGN7tWtwSWNvGwd4pE3MXLEHnrt0rTL95w1e4fSMVEeFuzN/z+dLSTHsWI6szxSO53BJYWKVB3zAbKhUbJTIhCvJ5kBXzISvWhp1TLIRCJT744D1MmDChYUDSKK8MgTffnIiwhw4QZ1rVa0+GFimwcgmDVKrLZKzHRTuD2BrJ5VwUV1PQlNwosrJNgal5IjM3uabnf7wcXbv1qtdaGmpwWmoKUwhx1MgRICLbi40UP/TzewwdXV0sXLICVja2iI6KwIE9W+Hi4szYNyUmJjJPhZBi1g8fPsKS5Z/D3rF+Tw38d28hwQG49MdppKelwtLSEosWLYKDQ+UbJrGxsUwGu7OzM3x9fcHV1sPYN99SGxV5b7Qw0maywsnTQpoS2ckTSWYGfEikcoglVGBX+wBpx0oEjh4+gNiop1i1aiWsra1fSmjx4k8wdepb6NKlCyVZBwJUZK8DNDqEEqAEXkpA+eDfpwKb2pO9OxXZNX1pUpFd0ydA56cEKAGNEqAie93wp6WlYcnHS/Hdjv11C0BHVSJABHZiHVAmpJOiqHmSEsa3vawROxnS78WWmCCGnb0B81fvTDqDC39EqEVXoFMAU/M0KORcgEUKmhajpIRXPpbLlcHRWQo7Bxt08PbC6HGTKsXNz8/Dtxs2ICoyChy2AirwARSXlpBkKRlrjqhnnuXjeHwpDAxzYWKWA129bHC5HEyePI4WaVPrxFpnp1Ejx+OZX1tIxMb1AqBnmg67NkGIjvBETlbFLO7qAptbJsOtXSw2bvgKMpkMm7/9Dja2diiRyfDmW++ijcfza7tei6vDYGIL8ctPP8LJwRZz586tFGHevHlISU2Fg6MzI55zuaX/tg/9uAsx0RFQyOUQi0Ug/uxubdrhnXffb3CBPSwkCN99vRbLln3C2MJU1775ZjMe+z+GmZkFtAUCpCYn4e33ZqJTl25qkyG1L8j/52XvoURkJ3VDNNHIDVHSXnzv1sQ66Jwtk4BcXoJvN3wBIyMDrFq5kik2/rK2Z88eHD92EVyeHEuXLsTw4cNb5sY1uGoqsmsQPp2aEnhFCSjve7zgyc4U+2mS16zu4a8o0ZazLSqyt5yzoiulBCiBRiBARfa6Qb148SL+vHQZq77cVLcAdFQFAkQYIs1Yr/SXaSLOEIGdCO3/bdYmggp/tfGrOxg12h1eHczxJDgDvbodrIGuCm5tYuDqoYK+AQ+e7TuAzWGjID8fBgaGFca6t/WEZ3vvauMlxMfi2pU/ERH+BBs2bMDp06dx6dLfKJRwkJRgj6wMSxBh3cwiFRaWadDSKoaRsQm6dOmAYcOGMf7LtFECLyMwZPAoRD7uiuLCyjYutSEnNMyGvac//O69rvYwe6dIuHkU4MyZ3xgBd978+ejVsyckEgmehIQxxUE10Y4dOQj/R/fg4dEW/2fvLKCi2ro4/oehuxtRShBBRSysp/Jsn93dLdiFLXaiYjz12T7F7m5MRJFQpEWQlO4Z+Na9fKI8QQcYZoh91mLxhjln731+5zLy/nffvceOHVNilmtMTAzGjR+P8ZMckZ6ehof3biE7KxNNmzZBrVq1YGhoCOaG6S43N8jLKaBTt574s3N3gWzpg78vNrgshbPzYrRq1apYm8ePH4e4uDju3b+PvgNHwKZh4zL5/pY9HpeczX6GMjcqRSmyl2kTtIgIAGCeTtm3awtsrK0wZcoUvpj06NEPocHKyExXQB2z92jSpDHWrhXNZxNfAVfCSSSyV8JDoZCIQBUnkPfUUiQ7ELcnkV0k4H9wSiK7qE+A/BMBIiBSAiSylw3/9evX4en1jq31S0MwBNSVpNkyMYywHpuYXazAzrzPzPs2UpKz0bXjCbx7F8P+qJaR8i9rs6trxsDc8jOat7TDyLHjISNTVLDnZyfBgQEICQ5k68RHRnxCz55/oXv37khMTMS4cVMR9KEeEr9qQFIqB3Xr+UJOPglGtYxgbWMFJycnflzQHCJQSMDBoTMCnv9R8MRFOYdly3vISJNHWLA55BVSYFA7HOLiXERHGrDNfZMT1Yt4YJ70MKkbhBMnDv3UmHfs2HGwbWqP3v0GlzOq0i/ftGYpBg3sj6ZNm/52MXPzK+JzJLQ0NdjmiMWtuXfvHpgbp0wN/Ly8PDRu2gKTp8/5re1fTYiLjcbqpfMxYsRw9OhRfP36wYOHQENLBzLSkujVfxjqGJuWyae4mBjkZSWQkcWFqoIUOBwxxCUV/xlaJge0iAgIgYCfz1vs3bUFgwcN+mX99f+GwnxGvn3VArk50lBRi0Nt0yDIyQJ1jPXRrFkzuLufZxuPX7jgLoRdVE0XJLJXzXOjqIlAZSaQ51GvMDymsuqPeVMV+Vq8pX9lxlIjYiORvUYcM22SCBCBkgiQyF62a2PDhg1Q1dRHt7/6lM0ArSpC4Fs9YeaHJdXyZbLdFWUlkJrJhaR4HhTlZcBksa9d/eQnmozY3qhxJmxt68OmgRbCQlNgVEcJDg4Ncf7SdTRryX82L2M8JycbVy6cge87L/ZRR+M6ddCypT3s7e0LfX/9+hUDBgyC79smUFJJgqFRMCws6mL9ehcoKJQve+R7/gAAIABJREFUC5kul6pL4MyZM7h48SLMzMxgYmLCiri1a9dmNxQSEoKRI0eWuDmmrvjNa68Q8LI58vPL3/tBWesL9Mx8weNKgKme0qVLe1hbW+P48VP4/DkSqcka+OBbtASMeT0fKKvGo1kzO6xatYrNvGYG05yTqWXO3GgUdo32SaMH4siRI1BRKfrkiSCuEqb0xI0bNyAtLYOpTvNhVrfsmVifI8LZshfjx48DI2L9d/j4+GDrtm1oZNcCfQcMFUT4ZIMIVEkCzz0e4d7tqxg0cECJT34UtzEvLy/Mmb0Er5+3LvK2tu5nqKilQlYuE3GxKtAzCMedOzerJBthBE0iuzAokw8iULMI5D0RTUlB8VZ+NQt0JdwtieyV8FAoJCJABIRHgET2srEeN248evUfWqqauWXzVDNW/VhrnakjXFzTPiZbkxlMpjs3JwO1dNWxZdNdLF/yqgik3fu6Yehwa8TFxSMxMRm8PB4sLczZORGR0ZCSU2GbA/I7eDweXDe7IDMjDRPGj4eNjU2xS5l5Q4aMQlJSEjgcSUydOpbNnKVRMwlcunQJhw4dR1JiBlKSlJGfJwl5xXSIc7LYBrjM4HB44EhkQUxMhrmygTxp8PKzwCl4GzyuGD69b4D0pKIZ5iURlZFPhaxSEpTUkiAlk47sTCWkp8giN1MOyBeDdp0IyCmlQVtbDYyAr62tXWgqMjISI0eOxiuPdmyL0x+HnHwaGLHdqr4R3NxcC9969uwZ3M+cBcTEYdPQDh06dgWHU1D6qSLGm9cvcfn8KZiaGGPOnPJlmv8uvnnz5uHjx4/o1W8IOnYpPhP9dzaY969cdEdkeAhWrFhe7HSmXM3IkaOwZvMu6Or+urkjP/5oDhGorAQCP35AWEhQkZJMTEPgi+f+hY+3F1YsX4769evzFf6UKY6I/ByDrKw0pKUpwPdNw2LXSUjmoODz6x02blwDW1tbvuzXtEkkste0E6f9EoGKJ5D3yOqHGuwA8iGU12KtfSt+c+ThlwRIZKcLhAgQgRpNgET20h//u3fvsN11B1at/y42ld4KrfiRANPMlBHavw2mtnAut+SmfSud50NXqxE2bygoE/PjUFOTwOARPDSwq4c2fziUG/T1y+cR4P8WzNMLNIgAPwQKnmoYjIgQc8R+Mfj1H6JieVBVj0NGhgI4HC5b8kBMjPk/kXyYWvhDSjob3CwVJESrISNZFdwcaSipxyIxRr+IXXO7N5CQSYCGmjYa2lqAuenDfL5HRUUhJjoBmZnZaGRrBRcXlyLrRo0ahdxsSRw/+Te6deuFsGANfA7/uWyJpFQ2GjZ5iuHDhxTJvudyuXjx4gWY+uIpqWmob2OLEWMm8oOp1HP++XsX0lMTseY/eyi1IT4XnD59Gp6vX4Op7d64iT36DRrO58rv025dv4yXTx/Azc2txLVbt25ls+etrBvAuoEtOnXtWWo/tIAIVFYCTCPfKxfPwNfnDWRlZKGkogpjEzMwzYuZ5sBdu3Zl+5MwpV34GXv27MGpf68gNKgueDwOcrJlkMXcSPxhKKsmoI5ZMCQl0yElJQ9NTRUcPvy7fi38eK+ec0hkr57nSrsiAqIkwIjsohjibSiTXRTcf/RJIruoT4D8EwEiIFICJLKXHv/Nmzdx5tx5rFiztfSLaUWxBOSkOVBRKGh6yoxfNe07fGA37t16gdcvrCEvr4ARoyygoioFbZ08/NmxIZSUZOF+5hJMLOrBxLQgg708Y/HcaVjivBjGxsblMUNraxiBzp27IzJcF+lpSkiM1yrz7hmxSFUjBipqKeBwssDjSkFCMht5eWJISdACN1sWMnJ5kFOJwJat60rVTLfnX/0RGykJedV43LlzC+fOnYOb29+I/aKL8JCff3dqm76HpnY0evbsjunTp/+0J6Y0zltvb/j7+cGsrhW6dO8Fc4vvNTnLDAFA5OdP+HvXFmzfvg2ysqXvpVAu35GRYIRwiEtg1vxlpTKVnZWFDWuWoJV9CwwdWnJJmJycHLx69QquO3Zg2MgJbF14GkSgKhMIDQnExw/vcfbUUQwePJj9YspN7dixg81mZJ6k6d27NyQkvt9g/91+k5OTMWjQWLx/Z4TEr5rs9IZ2LwCxPHwOr434WF2234SlzWt07Nge8+fP/51Jeh9gy1ndvn2bWBABIkAEBEYg70H9ggcj2Qz2/9dkF8Jr8baUyS6wQyyjIRLZywiOlhEBIlA9CJDIXvpzZDJEe/XqhQVLXFDHxKz0BmjFTwR+FNmZDPaElJxiG5/GREfh4B43xH4xhV2Tuhg63AZ6ehqsva9fExEaHgEldR3IyysKjPL61c7QUFNB1Jcv2LplC2RkmNIeNIjArwkwGeKfwuMgJpaHpK+a+BqvBUWlROTmSiH6c0FN9rIMVY1YVrRnxHeD2mHIz8tDLlcCSipfsXOnKywsLPgy6+fnh+lTFuPDi9Ywb/oEk6YMxKBBg8DUCZ83bzGSkxQQ+N6czRL9cSgqJ8LU4j2UlMTQsGEDpKSkYNu2bUXmvHnzBjdu3oS3tzeGjZoAW7vmfMX0u0m7XTdCV1sDU6ZM+d1UpKWlgXnq6PHjxxATFwePl8fWw09LTYWDQwd06NDhtzZ+nJCRkcEKgjv2HoGColKp1iYmfsUmlyVsk2Tm346SRm5uLgYNGozO3XqyjZS53FyMGvf7vZYqGJpMBIRA4Lz7CTy4exMKigqYNHEi31nq/ITWsWMP+Hg1QEa6ArT1ImDdMAHdunXEhQvXkZaWzn7mduniUOElpfiJtarMIZG9qpwUxUkEqg6BvAfWbLPTbwK7sL5z2vlUHUjVNFIS2avpwdK2iAAR4I8Aiez8cfrvrBkzHNFn4AiBZWmWFAVTh5ypQV4ThpqiFJhS6SnpuSXvOZ8HFTkO5OQKMlmzs3OQmcNFbh7nl+VlysIv8WsCQoI+IjgoAC+ePkZqagr27t0Lff2iZTrKYpvWVH8C06ZNw6sXcYiJqoU6Zh/Ymuy8fDFISWYgwLcR0lOVBQahjnkA1LWi4ea2nW2wyu/o6NAbSfGKUNZIxO07l4ssc3Kag3feIYgI1/up5I2YeB6MjAPAEc8HI/ovWbIAf/zxczNhJmPV//0HzFm4ErJyRcs5fHOWnp7GPpGSkpwEz5fPwAjNnbr+xb7tPG8OvibEYu6iJewNzWceD3HB/QTGjh1TrD9mTXh4ONuU1dfPDzq6+tDS0UPtOiZsBq24mDiCgz4iNiYKYSHB+LPjn2hpb89XHejAwEA4Ojpi884DUFYufcPVqMjPOPbPbnRo3w49epRc4535tyU2Nha9evXE06fPoKVrgDETpvF7pDSPCIicANM7YfsmF0ycOBF9+/YVeDzdu/VHbIw4ewNQXSsGTk5TC3+nmGzsiIgIjBkzRuB+q7NBEtmr8+nS3oiAaAjw7lkLpQY7o2V8z5gXg3i7d6LZMHktJEAiO10MRIAI1GgCJLKX7fhnODqiW88BbP3cih5MGZWcXB4ysnkV7arK2E9P/golVTXwSi7bXqq9MMLeo/u3WRHva3wc2yxVS1ML8vLyUFJWgrKyMqzr1y9R2CuVM5pcIwgwjUWvXnmJd55NC/erofUFRqYf2FrtcdFlv1mjrBYPWbl0KCmnQ1Y+BbWMVODmtgMKCgp8s2Uy1i9fvoy7d59AV1cdx44d/WktU5P86NHTSE3hIo8nieQkFYQFmxSZV7+RJ+TkkyEjo4AxY0aw2d7fRkBAADZt2fpTaa33/j54cOcm0tMzER4ai5SUT5CR0URSohjExHOhpi6O/HwesjKzkZ/PhfOK1TA1t2DrN3t5voCfz1tISUpCRVUFykrKUFJSZPfO7CkoKAjde/VHj179f8niS9RneDy6j48BfsjOzIStbSNYWlpCU1OTFbmZOvP16tVDQkICgoNDwIjsLVq3w4DBI/hm/N+JnyPCsXfnZvTv1xedO3cu1g5Tlsbj6VOccXfH+fPn4e5+Bs3s26B/OfyWOWBaWKMIJMTHQV2joARLeYb3m9e4dvE0duyomL41TEPiWbPmISsri20YzTy5dvHi2fKEXOPXkshe4y8BAkAEBE6Ad9da4Db5McjpUDSTnXkCfdvfZ/DPqRt4fMEVqso/P+082mkd1NWUsWnpZNZF826TcfGQC7Q11fhxSXP+Q4BEdrokiAARqNEESGQv2/EPHzECM2Ythr5hrbIZKMUqJptdUkIM2bkCUpRL4bsmTGUy1R8/uIuH929Djsm2zQeY7NoDBw7A0NCwJiCgPVYAAUYA6ta1P14/a1VonalpLq+YAv83/DX4Ky4sjkQubOyewsKyNurUqcOWh/lVZnRxNuLi4jBs2ChwuRykJilCWS0WTOZ9z57FN9x89OgR3r9/jwsXriIlWQrRUfqIj9EtNM2R4EJH7xO0dKOhqCAJp5lT2HIsT58+xclTp7Fw6Vp2LvNEyJ6d2yApqY3oqGykpqggLk4H3BwpWNt6QlKCC0mpdOTnM8U7pcHjicOmUT107/kXLpz9F5kZadDT02cFdk/PV+jdfyiUVVTY39eMtHTEx8Wg3+ARUCxlORfmiRU/X2+89/UGUxZGW0eX/a6hqYWvX+PRuEkLgTRRZhi8fePJ1pafO3cue366ut85Mu9HR0dj85Yt4IiLQ1paGsnJKezPtuyipo0V8GtKJgFcOneK7XnwKSwEjZo0x4DBI8vM5cWzx7h36xoM9HUrrB766tWrcevmawT41Ud2lhzsWjyA646t7E0xGmUjQCJ72bjRKiJABEomwLtjI5Ka7JwORTPZpzu7wsK0FvYeuYSH57f/JLJfuPEEu/45jwZWpiSyC+iCJpFdQCDJDBEgAlWTAInspT+3yMhIMI/079j3c+Zn6a3RClETOH3iEB7dv4PGjW0LRUtGuGQFdxpEoIwEjh07hn17zxfJZK9b/w1yc6QQ+tGqTFZlZDNgXv8d6lroYt8+tzLZ+Lbor7964/MnBQQHWEG/VgjMLVNw4cK/v7T58OFDNsP7zp0HiI7UxqdQc1YQl5bJhKX1ezbrPC8vH9IyGejevTM6deqENWvWYu2W3YiJ/oJVS5zh/04TMdEGrB9dg1joGXzEB18bmFv6QkWVg7Nn3dlGiB4eHvj333+RB3EEfQyAiooyMjMzweVy2a+27Tti9Pip5WIgqsU7t65DYMB7VkRnGrmqq6sXhvLy5UscPX4Cnbr0xKsXT2HXtAU1QRXVQVVzv3GxMTjvfhzBgQHo378fWrVqhQkTJ2K+8yroGxiVavdJSYm4evEMW2KtUUMbTJgwoVTrSzO5S5feCArQLyxjZVI3AH920gLz9BCNshEgkb1s3GgVESACJRPg3W4gEjycP72L+P0Q9IkV2W3aj/lJZE9KScOwqS4Y3r8jXr39UKzIvn3/WXwMjsAOF0eIizOdW2n8jgCJ7L8jRO8TASJQrQmQyF624125ahXyxSQwfrJT2QzQqkpD4Nzp40iIjcKyZUsrTUwUSNUnwDQR/fhBEiEB9dnNyMqlwarRS3i/aAMuV6JMG7Rq5Ik6JjI4erT8N/iYTOqrl5MRGW4Mdc0YNGoSi7Nnj/MV1/Xr1+Hq6obUFGn4eNnBxvYVbBrqoEuXLjh48BCSk9KhoqoEd/eTYMqf+Pm/ByANX+90fPD73pjV2CwIRnXikJoC5OWJQ0IyHXfu3CqMISkpCWvXrkVAwEe2Lnn9Bo1YAV5CQpKvOCvrpAWzpsDM1JgtcTNz5swiYd66dQubN2+GhaUVZs5fBikpqcq6DYqrChM4f+YELp07jaFDh2LEiBGIiorCihUrUMfUAiPGTALTZDw8LJQVzUNDAmFtY4s/OnT8qekv8xSJ+8kj+BQWBHU1dfTr1xeNGjWqUDKjR4+Dx0MZxHwpuFmnphELK5tPuHL1TIX6rc7GSWSvzqdLeyMCoiHAu9UAYhBDQc10RpzOF8pr8Y5vi91wcSL74nX7YdegLuTlZHDroedPIruXbyAOnLiGI64LIScrIxqQVdAriexV8NAoZCJABARHgET2srPs378/nFduhKaWdtmN0EqREHj7+iU8Ht/HX30GYvO65ejQvj3bpI0GERAEAWdnZzx75onPYaaIiTKEhGQOrG1fID9fCt4vy1YqRl4xGRY2b3DnznVBhMgKamdPhyMuRo8V2du2l8KuXbtKZbtrl78QGaEOjkQ+1DUj0axZS6xevRwbN25EmzZt0KxZwV4nT54MP79ovH1VdO9KyomoW88fHRxawM7ODh07dizi/+bNmzh48B/MWbQC+gYVX5qrVJsv4+SkxETMmzkRVy4XbTT7o7kbN27g0uVrcF5JmbllxEzLiiGQkBCHzIxMvHz2GI/u32Jv8LRo0YKd6eXlhRUrVmL3wZOsaB780R8qKiqwtLRgv9+9exdMj4VBw8egXYfv/QT8fd/i0H43/HPwICQlhXPza/z48Xj5jIuw4Lps7HLyabBp7I2bN0v+naIL4tcESGSnK4QIEAFBE+DdbChok3zZ43TiT2R/5f0Bbocu4p+t83Hr4aufRPa1iyZgg9u/OLR9AbQ1VPnyTZMKCJDITlcCESACNZoAiexlP/6FCxfB1KI+unT/3uiv7NZopTAIrFm+AHoGtaCqqo4bV89DUlIKw4cPK7EWtTBiIh/Vj8DgQSPx7o0MIj8ZF27OsHYgNLRj8fZFyzJtWFUjFiZ1/XD5ygXIyJQ/m4bJlr569Q7ExPLZr1atWmD58uWliu3+/ftYs2YNQgItoaoej6bNmAasP5exYcq+7N9/CEEB9fA1XquIj3rWXtDUzsPlyz9noYaGhmLjpk1QVdPEVKf5pYqtMk7Ozc3Bji3rYFLHCJMnTyoxxGfPnoGpO92gkR2mzVxQGbdCMVUxAtcun4PnCw9wc3OgqqqGMWNGs41+v40pU6YgOjqGLWHUsFFDTJwwgRXXfxxHjhxB5Jc4jBw3pfDHgR/fY/Pa5RgzZgx69eolFCpdu/ZBgJ8h4mML+hmYmAfAxDwb7u4nhOK/Ojohkb06nirtiQiIlgDvesMfarJ/y2hnE9ohJlZxrzmdfy+y5+ZyMWjySmxaNgV1DHWKFdllZKTZDPez+1dCRpqeKizN1UQie2lo0VwiQASqHQES2ct+pNeuXcPhI0cwb/Eq6OoVPLZMo/ISyMhIx0rn2TAwrIO+A4eyYle7P9pg5MiyN3mrvLulyERJoG/foQgJ4hSpva5XKwTqGgnw9WpSptDYuucNX2Hy5JEYMGBAmWz8d9GWLVtYIY0RyMoyDh06hIMHLyCPKwUVtWzMmuWI9u3bF2vqzJkzcHM7gQA/c7bh6bfBlIzR0IpCq1ZNixX5XV1dkZ6Vi5Fjvwt7ZYm1MqzxeHQPVy+6syV0VFV/nRWVk5ODIUOGYOGyddDV068M4VMMVZRAVmYmFs2ZinXr1qJ27drF7oK5wcb87lpbWxd7bTLXI/P0i41tc7T+w6GIDR9vL5w9dRTaWppYtWpVhVLat28fjh29AW/PpqwfTe0o1DYNwvbtG2FlVbZeFxUacBUxTiJ7FTkoCpMIVCECvGsVWzqsJBScrm+KfevHcjG+H0IxdvYGSEsVPIGVk8tFTk4ubCyNcWj7QjTvNpmtwX7m6kOoKClg4fShVYi86EMlkV30Z0AREAEiIEICJLKXD/758+dx7tx5jJ4wHRb1Cmov06icBFYvm4/w0BBIS0thwJBRuHDmJPr06S0wwbJy7pqiEgWB27dvY+PGHUhLUYK/tzUbgpllABSUY/D2eZsyhWTT5DXqWalj9+7dZVpf1kWM+BYbGwtFRUV8+fIFSkpKCA2NRF5eHni8bKSlyEFVPR9Xr57/rYt58+bh2dNQeL9uXGSuibk/VNXjYG/fmM3g/jZ8fHywfPkKLFm5AVo6BVmrVXkwdbC9vV5i3969fG2DKZ9z4Ng5cDgcvubTJCJQEoFTxw8hwP8dRo4cATMzM2hoaBROZQT039X+Z558CfgYhEXL1yEjPQ0qqmpFXCUlfoXL8gWYNHECWrduXSEHceXKFbi67sNHfzMkJmhCS/czatUJwsKFc+DgUFT4r5AAqrFREtmr8eHS1oiAiAjwrjYSSg32/9Z8F+/mVeyOi6vJ/m1iceViLh5ygYy0NHqNWYwNzpPQpOH3nkIiQlpl3JLIXmWOigIlAkSgIgiQyF5+qseOHcOdu/cwe+FyqKtrlt8gWagQAm+9XuHIgd3Q1tZCZFQUzExN2aaKNIhARRBgROiOHTvj9bN2yM8Th0nd91BSTsbbl81L5U5KKhuaehHQM4zGrVvCrTnMiOtMY8TIiDpM6yrIyqUjLVWZrTEvLZ0LLZ2vAMTh5DQVnTp14mtfDg6d4feuMdJTFdn5BrVCoF8rFDk5sjAz08L+/fuL2Dl67BguXriAVm0dMGBI1X/qhMko7ta1Czp37szeuChp+Pr6wm33HrbvBw0iIAgCxw//jU9hIezvsqvrdtYkU/Lp+IkTkJeXR9s2bdC8eXPIycn9VCrm9evXOHL0KLhcHoKDAtGkmT0mz5hbJCyfd2+wb9cW7HZzg5ZW0bJQ5Y3f0XE2fN6F4FOoIdtHghkqavGwahCCa9fOldd8jV9PInuNvwQIABEQOAHeFVuB2+THIKf7d5E9KSUN7fo6scuYbHUpSQn2v++c3gJ1VaVCcyWJ7Nqaarjv8QZrdxzH+YOr2fIxNH5PgET23zOiGUSACFRjAiSyC+ZwJ06chJZtHeDQqZtgDJKVCiFw+8ZlNoNdWVkZTKkLGkSgogjExMRg6NDhePOyDSQlcmFp44mwQEskfeX/Rpy61hcYmX6CurosmjWzxezZs8sULpOBHhYWxq5NTk5mBV5mREZG4tGjR/B+54PcnBz069cXFhYWRcpF9O8/FImJcchIV0NqsjyiowyRky2DBo3fYNiIDpgwYUKpYho1aixePuPg8ydjiIvnwbbpE0hKiaNr1z/h6OhYrK3Dhw/j0WMPrFpfIAxW5XH7xhW88XyOkOBAmJmbY87s2dDVLT5Lf+SoUZg4dTZqG5tW5S1T7JWIQFJSInZuXQtZaWnk5GQjOycX/QaNQE52Nm7fvILY6C/Q0dHB1q1bfoo6OzsbTJ8E5v0FCxayf/N06Ni1yLw9OzYhOzMd69evK/OuIyIisGLFaowYMZR9imPt2s2Ij5XBp5A6SE//fmNKQ+sL6ll/weUrp8vsixYWECCRna4EIkAEBE2Ad8lWNDXZexSfyS7o/ZG9kgmQyE5XBxEgAjWaAInsgjl+Pz8/LFu+HBu27YWMjKxgjJIVgRN4eO8Wrl8+h3HjxqJNm7KV7RB4UGSwWhJgnnA5dOgo8vPlkcfLBYeTB4jlgceVQaBfPaSnfc+g0TUMRUaaIiSlcpCTI81mmioqJ0JbPwJz5swsFMV/BJWWlobo6GjEx8ezX4xgzpR9yMzMQmZmJhITv0JTU5N97ePzDrWMakNeXgFxcXGQlOQgOSkZObk5aNa8FYzN6sL33VsEfvBl3+/WvTscZ8wodJeVlQWmFvLt2w+RlcVlS8RIy6Shdx+HEoXxkg71yZMnWLp0LQLfWyErSxYNGj/D8eNHoa2t/cvrYPmKFZCUlkfjJs3B4/FgYlYXSkrK7JrU1BQEBwZAUkoKUpJSMKv7vaHjj0aZG2w6uvowMjZBXEw0bBoWLVsj7AvxyoUzeHDvBsxMzaCvr8dmEDPNwL5ERyM8LBwZmZmYtWA526iSBhEQFAHmKZsXzx7jU1goBg4dxZr94O+LsJAghIUGIejje7a2uomJSbEuGRF8z9698Pfzx+IV66Gn/70nTWZGBqZNGIaDBw+WePPod/sYM3o8/P2ToaiUyE4NDzFHTJThT8uMzT+ivk0ejh6lG+a/Y/q790lk/x0hep8IEIHSEuBdagzks11O2WanEGOanlb8a05PEtlLe1aCnk8iu6CJkj0iQASqFAES2QV3XDt27EAOTwyDh48VnFGyJHACW9avhIKcdLFNFgXujAzWaAIPHjyAjY0NmEzsmTNnsiyYuuRPPYLh59UUSipfoVfrExSUUiAjLQ8uLwcccQmIiYlDTCwPo0YPQZ8+fYow3LZtG5JTUvDi+XPo6OhCU0sbyqrqrOCspKwCaRkZSEvLID4uBkzDQ6Z2cpt2f0JCouARWWb4+XpDR0cPikpKkJKSZn/G5eZi++Y1CPD3hYuLCxo0aFDi2TFllvz9g3D06IEynS9T3/nGjfvIyeaAI5ELe3vbIrXYizPKZNDu3LWLFdGTkpPw+fNn9Oo7GA0aNcbpE0cQ9TkcOrq6YDJ1VVTVMWTEOCgqKSM1JQXRX6Jw79ZVZKSnQENDE/EJ8QgJDsaCJS4wt6hXpj0IatHD+7chKyOLuLgYJMTFQpwjAX0DQ+gb1oK+QS32xggNIlCRBJinK548uI2GDRvA3Nyc/TIyMirR5fXr13HqlDuGjp4Aq/o/f044z5sO58WLYGxsXOqwmbrrW7bswpuXrSAjk8Guz/ghe/1Hg3YtHmK1y1K0aNGi1H5oQVECJLLTFUEEiICgCfAuNGYTBwprpufnC+W1eE9PQW+F7JWSAInspQRG04kAEaheBEhkF9x5pqSkYPmKlWjRuj1atm4nOMNkSaAEmAy+d17PsWzpUoHaJWNEgB8CTFb44MGjkZSYCnEODxoaSjh16lSJS5ms7fDwcAQFBeHWrVtITEpCk+at0d6hCxR+UdObn1j+O+f+nRt4dO8G9vLZmLMsPn5cs27dOqirq7PNhxMTE1G7dm2+TYaEhODwkSMIDQmFvr4+Zs2ayWbuM+P06dN4+uw5wkJD2dJQzFf9+laFpW2Ymx9btmzFqvXboKmlw7dPmkgEqhOBmOgo3Lh6EXHRkXB0nPFLYf2/+x40aDAc5yyGUZ2fs92XLnDEooUL+BbZL126hL/++ot10aN7X3zw00NstP4vUYuJ5cPO/j6OHj1c5oz56nSW5d04ZFkkAAAgAElEQVQLiezlJUjriQAR+C8B3nk7kUDh9CaRXSTgf3BKIruoT4D8EwEiIFICJLILFr+/vz8WLlyE0eOnommLVoI1TtYEQsDz5VNcOX8a+/btFYg9MkIESktg69atYIReJsPHyqo+OnXqyGaaM9naHTp0YGseM4MR1Y8cOQpJSUnoGxqBw5HAxGmzSuuO7/mM6LbRZSkmTpyAtm3b8r2uvBOZUjTu7hdhbGyA+vXrgym/ZW9vz9YJFhcX/20pmeL8c7lcPHv2jM2gYpqIPvHwgEOHDhgzZgw7ffDgweg7aATsW/1R3vBpPRGocgTu372JC2dOoGuXLujXr98vm/AWt7kFCxZAWU0LI8dO/unt5YtmYsH8ecWK7MwTf4GBgYiIiENGRhp4vGy2pJaYWAbExSWQlSkNb8+mv+WpqJwEi/pv4Oq6FfXqifZplN8GWwUmkMheBQ6JQiQCVYwA75xdYakYtmLMD6ViKvI1p/erKkaq+oVLInv1O1PaEREgAqUgQCJ7KWDxOfXdu3fYsGEj+g8eiSbNW/K5iqYJgwCPx4XLsgXo+GeHn8pwCMM/+SAC9+/fx7Fjx7F45Qa2f8OVC+7wev0CKiqqSElOwteEBLbxKJfHg5ycPLr3HlBsSYaKIrli8SzMdHJkG6AKayxbtgoeHo+Rny/OFu3MzpaGBIcHSaksNku9tE2KfXx8MHv2QkhIyEFCQgy5uakwMTHGhg0b2LrnTA37CRMnYue+Y8LaIvkhApWGwOeIcCxd4ATmSZKGDRuWKa7Fzs5oat8OTZrZs+vfvH4Jph773dvXoKejjSVLnH+yy9RpP3nyJBLidJCYoIGsLDlkZ8qBx+NAQjIXcvKp4OZKISO95BJJHA4PapoxMDAKR+/e7UvdE6JMm60Bi0hkrwGHTFskAkImwDvbRMgeC9xx+pLILhLwPzglkV3UJ0D+iQARECkBEtkrBv/adeuQncPDoOFjC5vzVYwnssoPgQd3biIk5CO8vTzR9o+2mDZ1Kj/LaA4REDiB+fMXwKqBHRw6dSvRdtDHD5CVk2Nrcgtz3L11DS+fPsTKlStYoV+YIykpCZ6enti5cx94PDHIy0tDQUEKQ4cORbt2pSu/tX//fpw4cQ65OZKQlOJCQiIPK1Z8r93MNH7s2bMnOnb5C30HDhPmNskXERA5gdCQQKx0nouBAweypZoUFEpf93/y5Clo36k7ZGXl4PvuDXy8X8PSwhLm5mbsUzA/NjJOSEjA8uWr4esTiuCPZkhOVGd7TjCNnqVlsiAtnQkp6SxER9VCHo9TyKe26Qfk54lDTDwPcnJ5kJJOgZR0OlRUNNGpU3uMGzdO5CyrSwAksleXk6R9EIHKQ4B3pgnE8ENNduQL5bV4v5eVB0INjYRE9hp68LRtIkAECgiQyF4xVwKTSfnvv//iw4cAqKmrQ11TG3926gZLK5uKcUhWSyRw6vg/ePfmFVvz1c7ODoaGhkSLCIiEgKurK4JDwzHfebVI/P/K6ctnT/DvsYNwcVkNE5Of6yxXuoB/ExCTMcuU2+nRo8dPT63MmjUPrz0DISnJheOcmWjclBonVrXzpXjLRyAuNgYXzpxEWmoi1ri4sCWpSjOYzzKm5BXTfLlxY1tWsC9OrJ8xYwb8/QPwNV4XURGG4HC40DcKg4JiJsTFM1mXkhISyOVy8e51c2RnyUJaOgvmVn5QVcuBnZ0tpKWlISMjg9TUVIwePRoGBgalCZXm8kGARHY+INEUIkAESkWA5/770l+lMsjnZE5/Etn5RFVh00hkrzC0ZJgIEIGqQIBE9oo/JaY0wd69+xAYFAgDw9qwsmmItu06VrzjGuwhNycHe922IijgPWrXqY2VK1aw/5NOgwiIgsCVK1fw/PlzRMfEot+gEbBp2FgUYfzS56fwUGxcsxQtmjdnM0RVVFQqXYyCCOjatWvYtHE/MjJkYGomj6lOjsU2bxSEL7JBBCo7gZ1b18G+eRN0795d4KGuWrUKDx54MOkcbBko5otpWIr8fOTniyE5SRPRkfows/SFlFQeIj/pIyVFBaYWfmjWrAHWrl0r8JjIYPEESGSnK4MIEAFBE+Ceasr2HiosxZ6fL5TXnAEvBL0VsldKAiSylxIYTScCRKB6ESCRXXjnGRYWBnd3d7x65YnBw8eimX1r4TmvYZ62bVgFFWUFVizU0tKqYbun7VYWAkePHsWbt95snXULKxuMGDOpsoRWbBwej+/D49E9iCMPTk5OqFVLuOVqhAFnxMgxCPBPh7YuD3v+OSoMl+SDCFRaAt5vPNkGqHv37BZYjI6Ojnj/PgTcXCA4wALyisnQMwxDo0YN8OZNID74WkBLJwYqqgnIzJCBvGI6Bg/ug0sXbyAzMxMDBvaiUjACOw3+DJHIzh8nmkUEiAD/BLinmn2/x/rtXqsQvksMIpGd/1OqmJkkslcMV7JKBIhAFSFAIrvwD4ppjLpz1y4MGz0ZpmZ1hR9ANfYYEhyIi2dPQlZaiq0rTYMIiIrA3bt3sWvXLnTp0Qfd/uorqjBK7Zdpvnru9HH4+ryBtpY2dHS02TIQurq6qF27NmxtbUtt89uC169fIz09Hf7+/rCxsWHLPjCNTTmc73WYy2ycj4VXr17F5s272awqw1p6WLdlOx+raAoRqN4Etm9aDduGNmzJF0GMv/7qg09hCggNrFdoTlk1Aeb1/FnBJTZGGzp6MVi1aimOHj2JkSOHokmTggZ5fn5+sLKyEkQYZKMUBEhkLwUsmkoEiABfBLgnm/0/cz0fEBNjn2IqyGyv2NecQc/5io8mVRwBEtkrji1ZJgJEoAoQIJFdNIe0nanNHBKOBUsqX21m0RApv9dNa5cjLCQQI0eOZJsa0iACoiLAlIbZvWcvxkycDjNzS1GFUW6/Pt5eePXcA1nZWVBSVEZIcABioqPRslVLtG7VCs2aNePLB5fLxblz53Dr1m1oaGkjKysb0tJSiI6KhLqGOubPm1ekUSJfRsswac6cOXjxPBDi4hIYOrInuvfqXwYrtIQIVC8CMdFRWDRnGubOnYv27duXe3OvXr3C4sVrEBetytZhz8qSha7+J9g2zUCnTu3g7n4e7dq1xuzZs8vtiwwIhgCJ7ILhSFaIABH4ToB7orlIcEgMIZFdJOB/cEoiu6hPgPwTASIgUgIksosGf2hoKBjBZ9vuQ+BwJAqDSE1NgaKikmiCqsJe16xYCC1NdUyfNg2qqqpVeCcUenUgsG7dOohxZDB8zMTqsJ0ie0iIj4Xny+e4e+sq+vTu9VNT0eI2vHPnTvj4+mPC1JnQ1SvatPDKxTN4cPcmatUyhJmpKfT09KChoVGY2SpIgJ06dkc+cjF05Dj82fnnGtSJXxMQ8MEPj+97ID4+Ghb1LGFZrx6aNG8ptGx7Qe6XbBEBfglcPn8azz0eYtu2rVBWVuZ3WYnzvL29sXDBYgQH1kJ0ZC00avYMTk6j0atXr3LbJgOCJ0Aiu+CZkkUiUNMJcI83F2oG+7cMeYkhz2o6epHvn0R2kR8BBUAEiIAoCZDILjr6a9asRWJyGmbOc2aDYAQe181rICUlDT19A3Ts2hO6evqiC7CKeD683w283Ew4OxdwpEEERE1gzJixGDBsNGwaVL4Gp4JiExL8ETs2r8GJEyd+KUAzWf1/7z+AJSs3Qkpaulj3+fl5OHPqGHvDMejjB8THRbOZ8jweD3FxcbC3t2fL1Kirq/+0nrGfnJzMfjHNjZmSNkwpmv8Opgnj3bsvoaDAwa79RyApKclOefP6JTwePURgQCBSU5ORnaWOuBgOEhM1oKCYDH3DBMjK5qB7z574s3MPyMnLCwoh2SEClYrA/j2uEAcXzosXCyQuB4eu8HtrCzmFFJhZhOHGjUsCsUtGBE+ARHbBMyWLRKCmE+Aes/+h8bUQirGzDbbzITGMRHZRX3sksov6BMg/ESACIiVAIrvo8DP1idesWYPNOw+wwvrFc6fwwuMBGjdujPj4eLx8+RLde/ZD7/5DRBdkJfcc/SUKbtvXYf/ff1fySCm8mkLg6dOn2H/gH6ze4Frtt7zbdRO8Xr+AmZkZbKyt0bx5c9Sr970O8zcAvXv3wYp1W6GhwV8T4quXzrLCvbg4B8GBAcjL47HiO1NapomdHdTU1NC6dWvs378fTO176waNoKGhDS43Fx8/+ENDQw3qGhpQU1VFq1atEB4eDje3/YiNloOqeiIMjYyxev0mNryLZ//FhbMX8N7HDEmJGsWemZxcGgxrR0FN4wsaNW6GGbPnV/uzpQ3WPAJBgQFwP34QO3aU/7MrISEBgwePwdd4eaioxcPMzAS7dwuuuWrNO52K3TGJ7BXLl6wTgZpIgHvUHmL4VoO9gIAwXnOGe9RE3JVqzySyV6rjoGCIABEQNgES2YVNvKi/tevWIT4hCbMXLEN2dja2b1wJ58WL2HIJ9+7dw7kLF7Fo2TrRBlmJvT9/+ghP7t/Cli2bK3GUFFpNIsDUIz56/AQWLFlTI7adkZ6OJ4/vITkpEe/evEZGRhrMzcwwbtw4GBoa4smTJ9i6dRumOs2DRT3rcjH54O8L33dv4PXqOSQlJWBsZgGLevXRrEXrQrtvvV7h5rWLaG7fBq9ePEVuTjabfR4TnYAn96UgKZWNQSNMMX7ytMI11y6fw9lTl+D5zBLZ2TIlxshkthubRcHSShmTpk//qfRNuTZHi4mACAk8ffwAZ08dQ/PmTeHo6CiQSHx8fLB371707t0bHTp0EIhNMlIxBEhkrxiuZJUI1GQC3CNMJrvwh8SIp8J3Sh6LECCRnS4IIkAEajQBEtlFe/yxsbEYPXo0xk12QrMWrTBr6hg2i0xTUxNJSUkYMGAAtrn9AxVVNdEGKmDvTx7dw4unj5Cbk4OsrEzoG9RCZlYW8tnyEDEwNbeEsYk52rRzKPScmZkBWVm5IpH4+rzFtYunsW3rVgFHSOaIQNkIML+3o0aNhtuBE2UzUMVXvffzgb+vN+7dvg5VVRWIiXPQpXtv2LduJ9CdpaenQV5egW+bXp4vsG3jfkhIALPmT0F9m0aFa7OysjDfaRre+2rjU9jvs+2ZJo61TUIxesIUtPnj+2fU74KJiozAw3u30Kbdn2xpHKa8TXX7bP8dA3q/chK4evEs3r5+hl27dlXOACmqCiVAInuF4iXjRKBGEuAeshdNTfaRlMku6guORHZRnwD5JwJEQKQESGQXKX7W+fLly5GVw8OM2YuwfdNqKCvKY9GiRex7Li4uSE7NgNPcqlFv/ObVi5BXUISUlBRsmzSHuLgYYqKji9SWz8nJwfKFTtDX18PAgQMRHR0NMTExMI+XGxkZsWuZUjp3791Dxy492VIRD+7cQE5ONtr92RW9+g4qPLS01FS4bV8P58UL2ex/GkSgMhAYOmwYZs1fXqN7KjD11K9fPg/71n9ATV24v5vMDTnPl8/Qum3R7NlJo4cjNzcTB46dYS+TyM+fcGDPXkRFfUJMpDze+1nyffkwWe1WNqFo0boBxk6cWljjvTgDcbExWLrACapqaqhlaIBPnyKQlJSI2nVMMM95Nd8+aSIRqCgCzPXouskFMtJSWLt2DWRlZSvKFdmthARIZK+Eh0IhEYEqToB7qJVoarKPIpFd1JcOieyiPgHyTwSIgEgJkMguUvyFzqdNnwF5RWW2xMGNK+dhaVkXTo6ObAmZCRMnonf/oWjanPljpfINJhP9793b4OP9Bvp6+tA30EdSYiJSUtPwKTyMbVaoraOH4WMmseUVwsNCcOr4P2hqZ4shQ0quN+/r64sbN26BaYrYo0d3cLlcrF+/AZ269UL7P7sUgtjnthWNbKzQs2fPygeHIqpxBBYvdoaiijpGjJlU4/ZeWTbMCOy7XTdi0fJ1MDE1LwzLafIo5OeLY/KMWWzN9wN79+Ddm2x8iayFzIyyNTQ1twhCbZMsjJsyGTYNbItFwHxGrnKejeHDh6N9+/bsU0oqKiqYMmUqOnbrjabNW1YWdBRHDSfgOGkkNm7cwDYQplFzCJDIXnPOmnZKBIRFgHuwFZvJzmgNTDIV8vOF8lpi9GNhbZH8lECARHa6NIgAEajRBEhkrxzHn5KSgn379sHDwwNTnRbg4b0b4OVms41Rr169ivsPHmHWguWVI9gfomBqJB8/vA/16lli3NixUFZWLnw3ICAA5ubm7B9WZ86cwZMnHggPD2PLJEhISmDYsGHo3q1bqfYUGhqKlStXoVvPfoXlJ5hasvduX4EbPeZeKpY0WbAEHjx4gH///Re1TeqSwC5YtGWyNnX8UNSubYK5i1ey62NjorFkviOSEpkyLXKQkhZD0EcFfPlsVCb7Py5S14yBlU0ysrM/Q5wjCY64BCQkJKGgqAx5eWW0ad8K1y6dwa6dO9mmrd/Gs2fP8Pf+A1i9YUe5YyADRKC8BL5ERWLT2qU4eaJmlroqL7+qvJ5E9qp8ehQ7EaicBHIPtgbyf4hN7P+J7d9+VEGvJceSyC7qK4JEdlGfAPknAkRApARIZBcp/p+cP378GCtXrsS4yY549ewJGjW0RseOHbF6tQs0dfQxZsL3Zn2ijPzzp3Dcv3sDkRFh6PinA7p37/7bcJjyERkZGWxGuqqq6m/nlzSBuelw7cZNLF6+vnDK325boa+rxTZbpEEEhE2AuYl08+Yt/Nm1J1q1aS9s9+SvGALH/tmLB/duYfL0uWjctDnbLHXbpi0IC66D2Gi9imEmlg+OeB7ExXmQls5i/99SVS0BZhbxUFNXhYK8LHbsKCqoz503D8amluj5QxmsigmOrBKBXxN4/OAuAvzeYOnSJYSqhhEgkb2GHThtlwgIgUDu/tYiqckuOfaREHZHLn5FgER2uj6IABGo0QRIZK98xz9q1Ch07dkfRrWN4bZ9AyZPmgg9PT22VIqOviH6DhwOFZWyi9Tl3fGVi2fg89YTTewas+L6j5mZ5bXNz/oXL17g2PGTWLhsbeH0jx/8cOTAbhw8eIAfEzSHCJSbwJ49eyAtLY3nz5+zzT0nTZ8DLW3dctslA4IhwNzMmzJuCPt0zfRZi3Dy6AH4+fjgS6QRIsJMBOOETytMo1QJiVzoGkTg1q1rEBcXL1wZFxeHcePGY9b8pTCry39NeD5d0zQiwBeB/Xu2w8/nLcaPGwcHB/6b+fJlnCZVegIkslf6I6IAiUCVI5C7v41IYpYcRyK7SMD/4JREdlGfAPknAkRApARIZBcp/iLOIyIiMGfOXKioqmGq03xoaGrh1vXLeOFxH66urmxjvaVLl+Gt91t06d4bPfsMFHrwJ48eRID/O6xevQpaWlpC9884ZFiER0Rh9oJlhf6joyKxbNFMnDhxAoqKiiKJi5zWDALMZ+aatWsRGBSMRrZN2T4DTVu0Yhv20qhcBJ4+eYBjh/ZBSlKKvRnI5ebi06cofIk0RHhIHaEHa2ntg9p1uGBu0Pz4NM/Nmzdx6tRp6BnUgqFRHfTo1V/osZHDmkvgvPsJvPd9gylTpqBevXo1F0QN3jmJ7DX48GnrRKCCCOT83QZiKKjJztRmZ2rHCOO15PiHFbQjMssvARLZ+SVF84gAEaiWBEhkrzzH+uTJE6xatQrd/uqLfoOGFwa2YvFsGBrowdnZmf2Zn58fNmzchLWb3YQafF5eHjavWYoJE8bB0lJ0GZdMuZhz585jyapNkJKWLmTAZOLVq2uKfv36CZULOatZBM6ePYt79x9i8Yrv5YpqFoGqtdsNq51hVMuAbTqqoaGBwMBATJkyByEfayMuVrhPHqipx0LX4DPU1HNw9eqFIiATEhLg5eUFd3d3qGvqYPT4aVAo5oZhamoKAgPeo5ZRHfZGLA0iUB4C/r7e2O26Cfv27WWblNOomQRIZK+Z5067JgIVSSBnX1uR1GSXmkgie0WeKz+2SWTnhxLNIQJEoNoSIJG9ch2tp6cnDhw4CClpGdg0skPHLn8hPDQIR//ZB+v69dhMM6bUwPwFC5APcfQdNAKGhuVv3McvhQkj+7NNTGVkZPhdUiHztru6IjObV9hgUkaKg6dPn+L2tQvYvn0bQkJCsG/f35CQlERISDCbxerk6AhTU9MKiYeM1gwCkZGRbN3/5Wu2wLBW7Zqx6Sq+yzevX+LqhdNwc9tVuJODBw/i2LEz8H7dHLk5wn8CoX5Db1Zod3KaXGxpjgMHD+LOnTto0qwVWrZpx15rr148xa3rF8H0w9DU0kJqSir6DxkJ+1Z/VPETovBFSWDJ/Blo07oVRo4cKcowyLeICZDILuIDIPdEoBoSyN7TFmJiBZnswvwuNfFBNaRZtbZEInvVOi+KlggQAQETIJFdwEAFZO7kyZN49coTsXFxaGTXDAMGj8TS+Y4YMmQQmP8ZYsbmzZvBlBkYP9mJFWKEMRbPmYqNGzewGaGiHFFRUZgxYwamzlyAuhZWbCixMdHYvHYZjh49glOnTuHU6dNgmq3Ky8mBy+NBS1MTO3fuFGXY5LsKEzh//jxOnDgJ+9Z/YODQ0VV4JzUv9DUrFqB/3z5o27Zt4eaHDx+F4KAM+L61FQkQE3N/mJrnw939aLH+3dzckJ2Tg7dv3rK1/2Xl5NC7V080bdoUHh4eYJ4suv/wMWbMXiyS+Mlp1Sdw+YI7YqLCsXQJNTqt+qdZvh2QyF4+frSaCBCBnwlk72H+35RpAV9QKkZY36Unkcgu6uuRRHZRnwD5JwJEQKQESGQXKf7fOj927Bhu3b6NelYNUbdefTx/fBfr168rXMcI7SoaumyNdmGM1UvmomfPHujUqZMw3P3SB3OD4czZc5i/xAVycvLweHQPj+7fxA5XV3bd27dvYWBgwN4QGDxkCLS1tbFt61aRx00BVD0Ct27dwvETJzFushNMTM2r3gZqeMTfelvs3r27CAkHh24I+WiG+DgdoRPS0YtAPesYTJ48HlevXUP7du3Qq1evYuMIDw+HkZERsrKyMKD/UPDystnyHsxTFeu37YGGBpWNEfoBVnGHoSFBYErRMU91MP9O0qjZBEhkr9nnT7snAhVBIHs3I7KLAWxN9m8eKv619OR7FbEdslkKAiSylwIWTSUCRKD6ESCRvfKfKVP6ZOHCRdi88wA2rV2KAf36wt7eng38xMmTuH79BsZOnAFzi4pvWLZ2xUJ06uiA7t27VwpwK1euRFJyKpzmLcWVC+74HB6MNWtcfoqNEamYrHZjY+NKETcFUXUIMNfNgoWL0LpdJ9g1bVF1AqdIixDYtW09kJcLF5fvnw+TJ0/Gh/dR+OBXH+lpwm2YrKScBKsGfjAy0oN1Izu88XyOgwcOlHhqPj4+WLhwGRK/ikFFNQ9Xr57Htm3bcfv2LUhLy6CWUW1o6+ihjqk5tLS0UbuOKWRkZfm6CpKTk5D4NR6JCQmIjIxA957U14IvcFV40vrVztDX08G8uXMLdxEdHQ0dHeHfcKrCGKtN6CSyV5ujpI0QgUpDIMutvUhikZlCIrtIwP/glER2UZ8A+ScCRECkBEhkFyl+vp1369YNu/Yfx/Ur5/HW8wX27t1TuPbChQtsI1A9QyPMmLWQb5ulnRgS/BHrVy3BuXNnISkpWdrlFTbf0dERXxOT2JhmTJ+Ghg0bFvpav34D0tLTsGrlygrzT4arP4GhQ4dhyepNUFJSrv6braY7DAsNwvJFs7Fx40Y0aNCgcJdTp06Fl2cC/N59/9wQFgILK28oqSRj++692LdrC1xWr4KCgsJP7pmGqAUCuyLiYrRhYv4ed+7cKJyXnJyMV69eIS0tDa+9vBAbG4vIz5GsLR09PXBzuWyT6OSkRCgpKeFTeBhbbob50tLWQWLiV2ioa0BNXR0Rn8JhY9sUQ0eMExYG8iNkAu4nj+Br3BesWLG80DPz1Ny9+/fxp4MDBg8eLOSIyJ2oCZDILuoTIP9EoPoRyNrZHhArKBUjhoLa7MJ4LTP1bvWDWcV2RCJ7FTswCpcIEAHBEiCRXbA8K8Iak0k7efIUtPuzK9q274hFc6ahS+eOGDhwYBF3Tk4zoaGlizETp1dEGLh3+zre+3rBZfXqCrFfVqOMwBQQEMCWg2FKKnwbTJNKhpu2jg7GjhmN5s2bl9UFravBBJhGv/fuP4Tzyg01mEL12PqxQ/sQGRGK7du2FW5o69atuHjhPrxeFjwdJMwhKZkDqwbeMDZVAfJ5OHTo0E/unzx5glUrtyIsRBspyapo3Ow9xDniGD9uJHr06PHLcBmx/fPnz/D394elpSVUVVXZ5mNMI2imgTaHw2Gf8FFU/J7Fz+VysXjxYohLSGN6Bd60FSZn8vWdwIkjB+Dr/Ro7d+4ovKHDlIx5+eo1+/fFtUtn2b4mNGoWARLZa9Z5026JgDAIZO10EGot9m8132WmkcgujPP9lQ8S2UV9AuSfCBABkRIgkV2k+Pl2zmQyHj58BBxJKcjIyCHiUwg6/vknhg8fXmjj9evXcHXdgYaNm2Hg0FF82+Z34vpVi9GooQ1GjRK8bX5jKM28oKAgrFy5ChAXRx2jWlixYkVpltNcIoDTp0/jzt17aP2HAzp07EZEqgGBQ/vdICHGw7x58wp307fvIER/yUVcjA6iowyFuksZ2Qzo1wqFmno8WrVqirCwMFYEj4+PZ/tJ+Ph8QHiICWK+GEBLOwp2zZMxdNQonP33MCuGm5mZCTzexMRENpt58479UFVTF7h9Mih8AjwuFyeOHmQF9rFjx+CPP/5gg3j69Cl27nLDirVbwfxugJdTpKSS8CMlj6IgQCK7KKiTTyJQvQlk7nAoyGBnm54WDGG8lpl+u3qDrQK7I5G9ChwShUgEiEDFESCRveLYVoTls2fP4tr167BuYIe3Xi9hamIMZ2fnQlcZGRlgmqHGxMZj5rylkJWTE1gYTA3X0SOHFynHIjDjFWSIyXCfO3cuTE3NsGXL5gryQmarI4ETJ07gwoWLWLRiHbS0qE5xdTnjtLRUrFg8C1s2b8tpri4AACAASURBVGaffmHGs2fP4O7uDm/v94gIq4PoqFpC3a6YWB4aNH7BPkWdmqKIzAx5KCilIDtLBlmZcoXCv33bABibqMJ5pQvu3LyKa5fPwcBAHxIcDvr06YPGjRuz2emCGEyG/8tXnmjWojX6DBgKCQkJQZglGyIgcPm8Ozwe30Nj20Zg+hBISUkVRjFm7Fj0GTAMtnbNMWf6OKxatRImJiYiiJJcipIAieyipE++iUD1JJDpymSyC3/IzrgjfKfksQgBEtnpgiACRKBGEyCRveod/8uXL7F9uyua2rfGrWuXsHTpUjRr1qzIRtavX4+4hETMmr9MYBtkhKnZs2bC3NxcYDbLY4jJwNPT02Nr/Kmrq7MikFwxNxWuX78OAwMDWFtbl8cdra1hBMaOG4fm9m3RjZpAVquTT0xMwNL5jmBuWP53XLx4Ea6uu+HzpikrbgtzmNQNgKRkBj74NirWraxcOlq3j8TmHdsKe2KEhgQhLTUF9+/cQHTUZ1jbWGP2rFkCC5spM7Nnzx6kpWVg+JhJqGtpJTDbZKjiCSR+TcC508cRHhqE0aNHoWXLlkWcXr58Gf+eOo2N2/fhzeuXuHXtArZv21rxgZGHSkeARPZKdyQUEBGo8gQytjmwJeqYTPZvNdmF8VrWkTLZRX3xkMgu6hMg/0SACIiUAInsIsVfZucHDhzAs+cvkZT4FRs2rIexsfFPtjZv2YLklHRMmj6nzH5+XDhnxnhsWL+OFaxFMa5evYqPgYF49+4dmN45TMYm07iPaXgaHxfH/iHXrn07mBgbo0uXLqIIkXxWEwKHDx/G/QcPsWbTrmqyI9rGNwJZWZnYtn4lHBza46+//voJzPTpM+Hx+CuCAiyFCk1BMRl1rXyQx5NEZoY00tKUkJykitRkVTaOhnbv0L6jNSZMcSoxrmULnGBubso+vSPIcffuXWzfvh3tHLpUSCkyQcb6O1svnj2BtLQUJCWlYGUt/Ga3v4uvPO+np6chIz0NSUmJeHD3Jl4+90DfPn0wevRo9t/H/47w8HAsWboM67bsxm7XjWjWxBbdu3cvTwi0tooSIJG9ih4chU0EKjGBjG0dRVKTXc6pqMjO9J7Z9vcZ/HPqBh5fcIWqckEfmrT0TKzYchger3wgKSGBwb06YNKIgr8Lm3ebjIuHXKCtqVaJCVfe0Ehkr7xnQ5ERASIgBAIksgsBcgW4yMzMhKenJ9vIrn79+iV6mDxlCuyatUKX7r3LFUVOTjYmjhqE69evsQ3zhD1c1qyBv58/bBrZITgwAAnxsUhLS0fjJs0wbeYCNpzoL1G4e/saXj1/Auv69SGvoIDcnBz079+/2JsQwt4D+as6BI4cOYLg0E+YOG121QmaIuWbwKfwUBzevwtmpiaYOXNmEQEyKSkJ/fqNQFCAKb7Ga/FtUxATFRRTwGSsy8qlQVklDVLSaeBwuMjL47ClZBo2aoTZC7+XB/uvzw/v/XDp7AnUMjTALAFmtDN+goODsWDBQgwcNhr2rQrqeVe1cfPqRdy7fQ1KSkqIT4jHmk1ukJWVrWrbKBIvI6yfPXUMOrr6uHvrKvJ4PKipq0NDXY3t2VLcDfgfDYwZMwZt2nfGzasX2GaozFNhNGoeARLZa96Z046JQEUTyNjKiOzMDd7vNdmF8Vpu5s0iW5vu7AoL01rYe+QSHp7fXiiyu2w/hsTkVKyePxZfk1IxePJKbF42BXYN6pLIXs6Lg0T2cgKk5USACFRtAiSyV+3z+130vr6+2LN3HxYtX/+7qb99f9LoQfj7732FdYx/u0AAE5jmf0xG/tfEJCgpqyAzIw1tWrXCgAEDsGjRYsTGxbHlYtTUNaCgqIyxE6cjKPADfN56QU1Dk23yFhz4EVOnTkHbtm0FEBGZqO4E7t27h3PnL6DvoBGoa0HlMarzef+9exuUFeTh5DSjyDYdHDrh9fPW4PFEX4ecI8GFrGw65BVSYWwWjCWr1sHYpOSSXUwG89PHd7Fzxw6BHh1Tt37duvWYMXsRLK2qTumtq5fOIi4mGvKKSggPDYahvg57Y8XFxQWJyWmYNX+pQDkJyxiPx8X9Ozdx5+YVGBvXQXp6Ojp36oQOHTqUKgQPDw9s3LiR/Td1yJAhpVpLk6sPARLZq89Z0k6IQGUhkL6lk0hCkZ9VVGT/EPSJFdlt2o8pIrLf93gDcxND6OtosHFOW7wd7ewboW+3NkVE9u37z+JjcAR2uDhCXPznp8JEsslK7pRE9kp+QBQeESACFUuARPaK5VsZrM+ZOxeWVo3QpUf5stm3rF+J2rX0MW3aNIFsKyUlhW04KC8vj69fv7L11JmfMQ38vg0ul4vBgwdDUVEJ1tb1MWrUKDZ7/9tg5sfFxbFfTEmDJx4esGlgCwkJSejo6qHvwGHw9XmL4//shb6+HtasWSOQ2MlI9SUwfvwEdOrWC/at21XfTdLOCgksnjsNc2bPgpXV9xsqDg6d8dazBXKypSsVqRatX2LxiiUwNbcoNq6srCxs27gSo0YMh62trUBjj4iIgLPzErRs2wHdK2mfAuYpJ3/fd/gSFYH4uFikpqYgOzuLfbKJl5fH/rswfdpUKCoqIjExEYudl2DC1FnQ0tYVKKuyGsvISMfxw/uRlpoMOTkFmNW1hLlFPRgYGrElYJi6+xHhYfgY8J5tfN6gYUPUt7Iqtzj+4cMHmJmZCaxpbln3T+tER4BEdtGxJ89EoLoSSN/MiOzfMtmF911+9o1ikf5XZP9xElM6psfIhTiweR6MjfQKRXYv30AcOHENR1wXQk5WproelcD3RSK7wJGSQSJABKoSgZycHHTr1g0tWrRAdHQ0lixZAkNDw6q0BYr1NwS8vLzwz6EjWLhsbblYZWdnY+NqZ6xataLMj5QzQs39+/fx1tsbQYFB0DcwhJqaGrJzciAjI8tmGo4cOQIODmXrSJ+WlsaW0fn8+TOu37iBTl16waFzNzDixYkj+xEWEghNDU107twJ7dqRiFquC6KaLp40aTIWrVgHCQmparpD2taPBM65n4CUOA8TJkwo/HG3br3xKUwV4SGVo8kzE5i8QgqatwrFrv0Hiz1Ar1fPce3KORjo62HRwoUVcsixsbFYtmwZrBrYoU//gqznmOgoPHl0D3duXkW/gcPRoWPXCvHNj9GD+3YiNSmezeaWkpJi+4fk5ubC0rL4+vrDR4zAhCmzYGJWlx/zFTrn2ZOHOHXiHxjXqYOePXsiOTkZz5+/QEhoKBYsccGu7euRk50FSwsL9ob0wIEDi9xwrtDgyHi1J0Aie7U/YtogERA6gfRNnf/vU7glY+TnlE5kz8rOgdPSnbCx/B97ZwFVVdeE4ZduEARBQRSxA7u7u/3sBBMlVSQFDDAwQAWxuzuwu1sRwUQskJRu8V/7+IsiqBe4lxvMXouFF/aemf3swwXfM2emCszHD+BiZjXZPR0nY4nvHmzxtoeu9s8ErxIHKYYOSWQXw0OjkIkAEeAfgR+Z7KyUBmuCFRf3BYaGFbF8+XL+OSFLQiXg4+ODyOg4TLeeU+w4fLwWonGj+lyd88IO1qR03vwFSM/IQotW7dCsZZt8JhxnTYeNtRXq169fWPP55vv7+yMg4BTqNWgMFWUVjJs4DU8e3sPLl89x7fI5tGvblsuiNzMzK7YvMiAZBNiTESy7tV6DJiKbrSsZpEVnF77eS6CsJJ9HmD569Ch8fPzwhGWzZ4pGNrtx9TCMGGeC0eMmFAhvve8KZGemYf78+QKFy/2MODkjPiEBsnJySPgSh67dukFRQQHhkbGYMGm6QP3/zfialYtRtUolrtEnL2PdunUIe/8pt68HL2v4PYfdvF7vuxJxsZGYMnkyGjZsmOviyJEjOBlwGmZTLLF6pSd2bN/Ob/dkjwhwBEhkpwuBCBABfhNIXtoTUpDCt19qspfEa5XZAQVupaBM9qTkVJg7rESzhjVhYfrzSWomsisqKkBFWREHN8yDogIl3hTm+iCRvTC0aC4RIAISR+D3cjGs/vXniAi0adOGy6aiId4EWE3z6TNmYKzpNDRs3KzYm9m7cwseP7gDL6+l0NHRKZQ9VhJm8uQp8PHfVuC6Vcs9UV5XG5aWeesjF8rJb5N37NgB1lX+zJkz6NK9L3r0+Z6hcPH8KURHRuLtm5eIj4+Di7Mz97g8DSLASg/NdXVFr37/oXHTFgREwgls9PdBk4Ym6NmzZ56dWljYIDDwDT69r4Soz/pCp9C6w0M4uzvDyDjv+9TNa5dw+MAulNEoAx8f7xIp+cHqf7Os9uvXr3PNNdk4d+4cTp46AzsnwYr8fzqIc6dPYPf2jVx98Xr1eKsZz57ec3J2RofOPYWWge+zbCFkpIGFCxbk2xp7Mmvw4MHQ1SuPmjVrCOwJBaFf3BSA0AmQyC70I6AAiIDEEUheIpwn21TteBPZMzKzYGa7BD06NsPowV3z8GciO6vBfuDkFZRRV4WDxSiJOx9BbohEdkHSJdtEgAiIPIGCarLPdXVDVFQ09A300bN7NzRp0kTk90EB/pmA2cSJXGbu0BHj+ILp5NEDuH/nOry9vaGoyHt9OlbGZY3vWixcmr8h36sXIdi8bhW2bNnMlxh/NeLm5oYnTwJRqbIRsrKzICMtw5UQ0CpbFpGfI5CRno7FixfhzZs3OHr0GGRkpLl6xixj8/nzF1BQUECHDu3RqlUrqKqq8j0+Mih6BNauXctluLImjzQkm8Cxw/uQkRIPKyurfBudOXMmnjwJQdgbY6EI7VJS36BZNgoVK0WhSlUNeC5bli9Gx5nmMDMzhbGxMSpUqCC0w2Lvn56LlmDeopUlGkNQ4CNcOBuAsNDXsLKy5N6nCzPevn0L25kzYdKgMdp36oaateoWZnmx5q7zXQFlBVnY2dnls+Pr64vPkZF48vgx1/Qb375h+PBhXHk/GkSA3wRIZOc3UbJHBIhA0uJeuZnsPzLYS+Kz6pyTBcL/PZPdd8sRxMQlYK5t/v8fM5H96JaF3FN6A0ydsMR5Kpo2KLgfDp10fgIkstNVQQSIQKkm8LvIzmq0TzOfjlkO7mD1TRXkZLBggXAy00r1wfBx80+ePIGjoyMmmVujWYv8JVqK4mrRfCe0aNakUA3XWNNReSU1jBw7MZ/L82dP4OHdm1i5YkVRwvnrmsDAQISFhXGZ91JSUmDNVO/du8fdPGLXf4sWLbj6vaysDsvGNKhkhGrVaiIqMgLVqtfCl7hYhId/QHJSIlq3asmJWexJDxqSS4Bdqx8+RcBl3hLJ3STtjCNw4/plXL94Bt7eBYvDV65cwfz5ixD1WQ9hbwRfu1taOgeaZaNRwSAeKqoRMDKujfYd26FR0xZQV9fIc2pZmZlwtrPA1q1bIC0tLdQT5UT2xUswz7NkRPaE+C9gInVKUgL31F1xxOfTp0/j9u3b+BTxGe4e/P8dVNDBPA8JwpZ1q7Ft29Z83z5x4gR27NiJLj36omXrdtDUKgvWeNywYgVYWlgI9ZzJuWQSIJFdMs+VdkUEhEkgaZFwbgqr2f8U2eMTk9FxsDWHITMrG/Jysty/z+9bjmFT3REdGw9pKVYz/vsY3r8T5swYmdv4VFdHC5duPILnqp04vGkBVz6Gxr8JkMj+b0Y0gwgQAQkmUFAmu5OTE6KiY6GupopevXpyTcRoiDcBPz8/nD17Fk1btEGf/oOhraNbrA1t3eiHF8FPuRswrLnc3wZrQrpn714um9xqlhMq6OdvrLt9sz/ioiOwePHiYsVV3MVM3Nh/4CA8l/nmM/Xo/h2cOnEYMdGRaN68OWxsbIrrjtaLKIH9+/fj6vWbcJjrIaIRUlj8JGAxZQxWr1qF8uXLF2iWPQ1z9sxzBD1uwE+3kJfPgIJi2v8/0lFO9wsUFBNRxbgO2nVqx5UrUlNTL9BnUlIijhzYg3t3rmOeuztq167N19gKa4zdjNizdz9c5i8t7NJCz09PT4OXhyuqV68K6wKeQCi0QQB37tzBsuUrsNTbH3Jygq+9unPrBqQkxoJdW7+POfYOMGnYFB27fC9hdPXSOVy5cBp+fvl/LxVlr7SGCPxOgER2uiaIABHgN4Ekz95Cqcmu6nCC31she4UkQCJ7IYHRdCJABCSLQEEiO3t8mmX/Uk12yTrrtLQ07N69G08Cg9Cjz0DUb1i8MkDbNq7F7ZtXoK2tg2rVq2GOnR1YDdmrV6+C1V9/9+49QkNDwfxWMjLGxKlWUFJWzgf1WeBjnDp5GF07d8xXF7m4J3DhwgUuQ5GJZyYmJgWWPnJzd+ey23O+fkWzZs2wb99+9OwzEJ27f8/AiImOAmvaGhYWCqlv33D96kUkJydBS1ODq6ObmpqKgwcPcnNZGZoqVaqgQ4cOxQ2d1guRwKdPn2Dv4IjFK9YKMQpyXVIEtmzwRUJc1B9v8iUkJGDI4PEIfFQXaakqRQ5LVS0RrIGpskoWgGTIySlBq2w56OrpoVJlA8TFxWL46AlQVVX7q48zAcdw7NBeVKxogJo1a8Lc3LzIMfFzYf/+A7Bk5Vqo/ZZxz08f7G8WL09X1K5ZHZMmTeKnae5pprTMHIyZMIWvdgsy9vJ5MJZ6zMWaNWtQuXLlPFNmzZ6N6rXqczfEH96/gyMHdmHSRDPu5q4gBrupyIaRkRF0dXW5p74KUwpOEDGRzZIlQCJ7yfImb0SgNBBI8ujzS8tTgOWLf/tl44J6re5IIruwry8S2YV9AuSfCBABoRIoSGQXakDkXOAEbty4gX37D0BFVR2Vq1RFrTomXLmUioZ5/6PPayCsFu6+3VsR9TkcsbGxqGJcFdVq1IaqmgaaNGsJvfJ/rhPMxG07q8lQUFSAj7c3NDTylkPgNYaC5rGa6hYWFtDS1uUet/8Q9gapaamYMX06WrZsyS1hJQ4cHByhqaWN2JgoyMrJ4du3HOgbGHJcmFh0ZP8uyMnLcbHJSEtzonpaejp69ezJlcth2fcvXr6GRhlNZGRkID4uBqtW+aBs2bLFCZ/WCpEAO0fWcHDd1u/iEw3JJhD/JQ6rVyyCooI8Jk40KzAr3MpqJm7f/IyQIN6aav5OzKRRCLS0U9Gle1c0b9kGuroVIK+gUCiwLE4lJWUsXzIPDUzqwszMrFDrBT15zhx7tO/SCw0aNRWIq8SEeHh7LUS1asawFcCTRKxc3gRTU7Tv2A19BvwnkD38apQ1a31w5zrXsPbXceTIEZw+cwZJiUlQUVHB6NGj0K5dO4HEw0qpWVlbo069BoiJ+oyE+Hiutv+KFcsF4o+MiiYBEtlF81woKiIgzgQSF/bBT2n9h6Qu+M/qTsfFGZtExE4iu0QcI22CCBCBohIgkb2o5MR7Hcs4v3XrFk6dOoW4uC/Q0tbGkOFjUdmoapE3duv6Fa68QWGFIxvzCVzZmWrVqhXZ958Wskz2I0ePcRn2igqKCA19g2HDhsLU1DR3Ccu2Z6V0WDahuro6NzclJQUnAwIQ/yUeDg72UFZWhqamJvT09Lh1QUFBqFv3e4M8tnbnzp0oo6kJGRlZVK1qDPNp0/i+FzJYcgTYjZRhw4bBf8u+knNKnoROYL3vSsR/icaK5QULjD169Ed0pAZePf9emkVRKRXpafmfzvl9IxUM3qFtJwW4e3gWeY+PHtzFkQO78TniExo3aYpBAwdwT+eI0pg9ezaUVctgygxbvod14dwpnAs4is6dO2HcOP408S4oyPXr1yMbcug/aBjf91CQQQ83e9SrWxtTpuTPnv/194yggtmyZQu+JKRi2OgJnAv/1cuRkZaERYsWCcol2RVBAiSyi+ChUEhEQMwJJC7o+/8dCCpn/QegvPbVnUlkF/alQyK7sE+A/BMBIiBUAiSyCxW/yDhfvnw51/SzTbtOGDR0FJeVXVLD3dEWLi5O/6ztXtR4WFbys2fPoK2tDUNDQ57NsAy/169fo0uXLjyvoYmSQYA94TB/wUJ4eK2RjA3RLngm4O40E+PGjkarVq3yrWFlhCZPnoYP77UQF62Lug2DIS2lhm/fUvD1axoUlXSQmpKN7Ex1pKYlIitTE19iVVC9zjMsXr4Gunp/fqrnTwGGPAvknqpZuXQBDCrowtLSkue9lPTEu3fvYvfe/ZjtOI9vrlmprn27tuLW9cto1aqlwHthHD9+HBcuXYGdU8k0fE9NTeGa17LMfFaurKTHrFmzYdKwGbr0YBmHACtjs3n9KmzdsqWkQyF/QiRAIrsQ4ZNrIiChBBLm9xNKTXZ1l6MSSlR8tkUiu/icFUVKBIiAAAiQyC4AqGJqMioqCsuWLcOTJ0/QolVb6JXXR5v2naFVVltgO2LlYpYscIK7myuVVxEYZTJcWAL+/v74+CkS06xmF3YpzRdzArdvXMW500fh51twk0l2Q/LEiQtITlRD+85V0LlbL9SuYwJpGRlISUnh2dPHXMmNFyFBCAoMQmJSAgb9NxS9+g7imcz7d2/xPPgpwkLfIDoqAokJCSinWw7jxo4Vuez1XzeVlJTEldDi5xMgG/xWIjE+Fq6urlBT+3utep4B/2Xi4cOHERgUgknmeRtb37h2Ca9fhGDcRP7Xv79/9xYO7t2GNatXQ1VVlR/b4NnGNHNzjJ4wDUZVfj7FZm87DQsXzEfFivmblPNsmCaKFQES2cXquChYIiAWBBLm9RdKnBpzSWQXCvhfnJLILuwTIP9EgAgIlQCJ7ELFL5LOWakUltV+4+YtvHsXhvIVDNC9V/8/1tn9+vUr3oWFoopx4cu9HDm4G29eBmOZl5dIsqCgSieBqVOnYcS4yahWvWbpBFDKd81KWC1b5vXHp2sGDRqExMR09Oo3AMNHjfkjrZycr5CWluGZ5qeP77Fnx2YEs+z1WrXRtEljDBkyhGsezUpZicOYOHESTKdaobKRcbHCZb9Xtm70w+OHdzF1ypQSe6LIw8MDVWrUQ7sO359g+pqdDa9F7pzQr6CggM49+qF1247F2ltBi319liLszUuubEzbtm35br8gg+/evQOro28/1wPldL+XQnv88B4O79uB9evXlUgM5EQ0CJDILhrnQFEQAUkiEO/en0s+YFpDSX7WmHtEkjCK5V5IZBfLY6OgiQAR4BcBEtn5RVJy7bC65vv3H0BKagqqVquFxs1aolGT5nh4/w4CHz9AZMRHpKen4UvcF1SpWp2r7aqrW/6fQB7eu439e7bCzNSUq3nO/sPPap7Lycnhxs2bSElO5kq8sGx3Vg991KhR/7RJE4gAPwhMnjwFzVu1Q89CZB/zwy/ZEA0CWzf4AjmZcHBwKDCgzZs348rVa3wvJ7Rtkx9Sk+Lh4uLCvQ+K41i2fDkSktIwtYh12U8c2Q+W2c1qz9erZ4L+/fuVaBkV9rNft0FjmDRojC9xcTiwZxuaNG6EESNGgJXDuXrtBmzt3QRyNE8e3ceurRvQpk2rAmu089spu4HzNScHS1b6Q0VFFYf278LpE4cxYMAATJw4kd/uyJ4IEyCRXYQPh0IjAmJKIN59APCN9T79pWZ6Cbwu40Yiu7AvGRLZhX0C5J8IEAGhEiCRXaj4xco5q1O9Z88exMTGIiszC7KysmjSpDF69+7NieDh4eFgZTbef/iAPgOGomXr9n/dHxPpt2/xh6aGJrTL6SEnJxspyUlIT0+HvoEhKhgYIjEhHvLy8ngb+gpS+MaVS6hXr55YcaNgxYvAkSNHEHDqNNw8VohX4BQt3wiw+t+sDnjz5s1ga5u/iae3tzeiY+Jhbm3HN58sg3jvzs0wnTAe7dv//b2Tb04FYIj1v3Bydoan15pC9/aI/ByBufZWXPZ+z549Ua5cOQFE+HeTjx8/xsmTAXj58gVUVNUwYfw4NG3alFvEfjcNGjQYG7YfEFhc8fFxcHecCWtrK7Rs2VJgfphh9sTOfyMnoFad779THWeZw3TCBLRr106gfsm46BEgkV30zoQiIgLiTiDedWBuBvuPvfzIaBfkaw23Q+KOTuzjJ5Fd7I+QNkAEiEBxCJDIXhx6pXdtSEgIatWqVSAAVmpmrb8/Bg8djQ6du/MN0vZNa/H2zSsMGjQA3bp145tdMkQEfhBgNaUtLCww4L9RaNaiDYEpxQRCX7/Cji3+MDCogBnTp6NMmTK5NJYuXYrPUTGYWcyM5uCgQDwLeoxXz4PxLecr+vbtgx49eog99U2bNuH9xwhMnp7/BsXfNrdlgy/SUxMxz91dJBhkZmZyN3l/HSyj3dFtMcpq6wgsxkvnT+Px/VtYunSJwHwww7NmzYJOeQOMGT+Fu6G90HUOtm/fJlCfZFw0CZDILprnQlERAXEmwET2byxz/f+DJbSXxGvNeYfFGZtExE4iu0QcI22CCBCBohIgkb2o5Gjd3wiwrPe5rq5o0qwVho2awDdYVy6ewbvQF7CfM4dvNskQEWAEcnJy0KdPHzRq3JyvGcpEV7wJHNy7HdcuX8CMGdNzM3xZCa2TAacxy3FekTbns8yDa5Ba2cgITRo3Rvny5SXuxuHkKVPQsnVHdO/Ne+Ozwwd2Q+ZbJqZOnVokriWxaPZsO1SrVQ99+g8RqDvraeOxapUPdHV1BeaHPZFx6/YdVK9RG52794KPlwfWrFnNlW2jUboIkMheus6bdksESoLAF5eB30vFMGW9BD9rzqNM9pI437/5IJFd2CdA/okAERAqARLZhYpfop1/+vQJrq5uqGBQCSPGmBa6dEBBcPbv3oaEuEjMnTtXotnR5oRDYN68eUhMToXtHFfhBEBeRZJAUOAjHN6/E927deXqVbNhZjYRo02nokbNOjzFzLKiIyPCuRJZRpUqcjWvNTQ0eForjpNY3fqQF69hPduZ5/Dv3r6Ox/duws1NdH/+du7cicjYBAzn483jggCtWbkIXTp1QMeO/G+y+qs/JrSfP3+e6z8RHfkZb0NfctdlztccDBo0UOD+eb44aKJACZDILlC8ZJwIlEoCX1wGCWXfmvNJZBcK+F+cksgu7BMg/0SAtW6aAgAAIABJREFUCAiVAInsQsUv8c7Z9cWa+MXExCIuLhZaZXWgV8EAk82ti7T3pQtd0KF9W/Tvz3t2ZJEc0aJSS8DGxhZtOnb7Z0+BUguolG48Ivwj/HyWokf3blzNcDd3d2holcOwkeP/SuTunRs4dfwQcrKzkf01G927dcPw4cMlnmJcXBzc3edjpqM7ZGV5a+L69MlDHNq7Hf7+a0WWD6s57+2zSuA9G06fPIKUxFhYzJghUBaxsbGYPmMGWrftBHkFRTwPfoqmLVpDVkYGN69dQkxMFObY2VEvFIGegvCNk8gu/DOgCIiApBGIcxoslJrsmgsE1zdF0s5IUPshkV1QZMkuESACYkGARHaxOCaxDzIyMhJycnK4fPkynj4NwsOHD1DBoCLq1G2AOiYN8CzwMQwrVUGT5n9u9Bb+6QO2bfSFj/dKsedBGxBdAn5+flw9aQtbB9ENkiITCoHQN6+wZsUiNG7cCK1bt8b+A4fylYw5E3AMwUGPuVreH96FQVFJEQP69+dKzaiqqgolbmE5nThxEsymWaNS5So8hZCUmADH2TNw8IDo/gc5OTkZ9g6OaN2uM9p3+t4bhJX+ObhvB9LT0jB05Hg0aPS9UWpxxr07N3DhzHH4eHsXx8w/165atRqXLl2CjIw0ateujeyvX/Hxw0dISUujS48+CHryCPXr1QarRU9DcgmQyC65Z0s7IwLCIhDnNAT4pSY7pFAir7U8RPdvCGGdRUn7JZG9pImTPyJABESKAInsInUcpSYYJlQwwT3k+XM8f/4cKsoqCHsXhnmeK1BOt3yBHEJfv8SR/Tvh5SXYZnCl5hBoowUSWLhwIeKTUmFTiDIXhLL0ELhx9RJOnzyMSoYV8eLlKyz1XsdtPiryM3ZtW4+E+DjUNzGBiYkJWJZwaX7qZvHiJTCoXA0du/DWzDU5OQneS+ZjzZpVIn1Bsd9Zfmv9McfFg4vzwrkAvHz2GCoqKpCRV8aocZOKHX/Y2zfYtmEN1q71K7atvxk4ePAg11+gUZPm+PDuDRYv8sSRI0cQGBiIyKhoqKppIDoqAosXLYKOjuCavQp0k2T8nwRIZP8nIppABIhAIQnEOgzJzWSXkpIC0xxK4rOWx/5CRkrT+U2ARHZ+EyV7RIAIiBUBEtnF6rgkNtgHDx5wddZZZuDo8ZML3GfO168wGzMYZ86cKREOrPaumpoa+vXrVyL+yIloELh48SIuXbmOaZazRSMgikLkCLwNfY2N/j7ITE9DSkoKyunqITEhHsbGxrCzs4O6urrIxSyMgDw8PBDxOQoOrp48ub9wNgDv3oTA2Zn3Ou48GebzJPZklrW1DZat3shZPn5kP+SkshEfH8/VN9fTKw99w8ro1WcgKhkZF8l7yLNABBzbj2VeXkVaX5hFM2fNQkZGNrS1NeHm+rMe/sOHD7HW3x9RkZHQ1tbhrut27drm9iUojA+aK9oESGQX7fOh6IiAOBKIdfhPKGGX9SSRXSjgf3FKIruwT4D8EwEiIFQCJLILFT85/4UAy547dOgw6jdqihFjzPKxuXb5Au7cuITly5cJlFtGRgY8PT0R9u4DUpITOdHM0NAQa9as4Wops0fqaUguAVZzea3/OnTp3perTUxD8gmoKMoiJT27UBsNCX4K/1XLuEzjjx8/cpnrhR1paWnYsGEDqlevju7duxd2uVjMnzxlCvoOHI7GTVv8M16XOZaYMH4c2rRp88+5wpwQEhKCRYuXwHOZLxeGl8dclNcrh2nTpkFWVpb7OHz4MFiW+MD/RqFthy6FDvfB3Vu4d/sq5rm7FXptURaYmpqhV6+eqFWrFurUydvMd+/evdizdy969hmIwEf3YT9nNgwMDIrihtaIKAES2UX0YCgsIiDGBGLth0JKCvj2S8mYknit5blPjKlJRugkskvGOdIuiAARKCIBEtmLCI6WCYRAWFgYfHxWoUWbjujXpycnfGVk5XC+dm/fBOlvmbCxsRGIb2b03LlzOBlwClJS0mjdvhNOHN6PxYsXgWW1Bz59Bs0yGpg0aSK+fv1KjeAEdgrCN8zEsYuXrmDg0FGoXafw4qnwd0ARFIaAmrIcklKzeF6SkpwMq2nj0LZtWzg48Fa7PycnB6xM1ocPH7iPwKdP8TzkOZSUVZCenoaNG9bz7F+cJl64cAGHDh+Fk/vif4Y9zXQEdu3ayZVdEeWRlJSE8ePHw2q2CwwrVQaLe/fu3ShTpkyesG/duoUNGzdh/mKfQm9n7aplUFGW55qOlsRgfwu+ffsWlpaWMDIy4m4mDxgwAOXLl8eXL1+wZMkSfP0mjZyv2Rg0sD9atWpVEmGRjxIiQCJ7CYEmN0SgFBGInTNMGCXZob14bymiLJpbJZFdNM+FoiICRKCECJDIXkKgyQ3PBFi9W/9169CtR29079oJ0fEZ+JrzDcsXuaNvn55o3749z7b+NjE9PZ2rC//o8WMEBQVBTlYOikrK6DPwPy7tYuNaH05I0NTUxIULF9G6XSfExUbj/bswJCZ84UoaFCV7lS/BkxGBE/Dx8cGz4GDolTfAiLFmUFfPK6AJPAByINIEtm7wRUhwIGysrdGwYcM/xnr9+nWuvnVwcAiX8W5Q0RAyMjLQ1NJGjVp1oKyiggunj8PHR7ANLoUJk71X5kjJYob1nL+GIS4iO9sEe8JJW9eAE9mfP3uUp8zKr5ucNZvNq4CxE6bwdATsZsyW9WsQ9fkjZs6ciUqVKvG0rrCTzMwmomvXLtzTWb+OKVOnoayOHtdbwNioEncjaevWrYji6rOrQUFBCeX1dLjybjQkhwCJ7JJzlrQTIiAqBKJnD8vNZP+RwV4Sn7WXkMgu7GuARHZhnwD5JwJEQKgESGQXKn5y/gcCu3btwvUbt+E872f248kj+5GYEIuZtsXPZH/z5g1YU76s7K+oYlwVXXv2RWJCAuqa/BTLZltNQkZ6Otp37oGGjZqiStXqudHevnkNp48fhK2tDTIzMyEvL881OYyIiMCQIUNy57H68UzMZ2UhmNBWtWpVvHv3DnJycngTGopaNWth9uxZXCMgGqJJwNHREekZmfhv5ARUqlxFNIOkqIRC4OihvXh49wZWr14NBQUF7mecldYoq62NqMgovHz1EoaVjFBGUwu65fXRf+DQfHFevnAaL0Oews1VckVLduPU1dUNK3w3//WcxEVkZ+/5gwcPwYIlPtiwdiX69u6Fbt26Fbi3Q4cOcSL16AlTUK9+I6ira/yRwfUrF3Dk4G4YVa4M1oBZUIP1ndiwYSPat2+HKVN+iv+s1ryH5yJo6+jh+tWLYIL/j+x8GRlZyMjKwKRePXTu0gVNGjcWVHhkVwgESGQXAnRySQQknAAT2YUxdJaSyC4M7r/6JJFd2CdA/okAERAqARLZhYqfnP+BAGset2//Qbh5LM8zw9XBGr179Sx24zXPRYu4MjSTzf8s2NvbTEViYgJ8N+4uMMrd2zbi0cO7UFZWgYyMNBQVlfDp0weupu2okSM50Z3V9q5WozaXAfjubShCX7/kRAv2+P2Q4WOxd+cmnDx5kq4DESfASoKoapTFhEnTRTxSCq+kCezZsQlPnzzkmiRnZWVDRU0NjRo3R5kymlBQVEKtOvX+GtKq5R4wNKjA1fOW5DFr9mxUrFQV/40Ym2+bCfFfsHfnZrA695s2bhT5cjFRUVGYPn0GZjm4Y8XSedizu+DfET82unHjRjwNeoaYmGjUqlM/3/tIakoK1ngvxrecbIwfNw4NGjQQ2KWQlZUFK2trZGRkolGjhphubp7HF6uhr6erh9u3b0FVVQ0qqqqoXasWFBTkcffefe7375gxYwQWHxkWDgES2YXDnbwSAUkmEDVruFBqsuss3SPJWMVibySyi8UxUZBEgAgIigCJ7IIiS3aLQ4AJz0ePHoeSiipXmsVmzlxoa5fDk0f3cfLofowYPgytWxe9KeX48RNgbj0HBhULfhT/wJ7teBf6EjExMejYtRe69ezL03aSk5OwbaMfIj+Hc2Ug2nboilZtOuSuXbFkPqIjIzi7WVmZ6NChIxwc7HmyTZOER4A9kXDq1BmU0dLG5OnFf5JCeDshz4IgkJKchOSkJOiWr1Bo81PGD+V6Pqirqxd6rTgt2LdvH54Gv8A0i1n5wt62cS0SvkRx7+msaWiPHj1EfmsTTM1QXr8iZKVyMG/ePJ7jXbFyJVc6yN1zJbeGCewrlsxD7do18wnePBstxMT5Cxbg2bNgtG7VEhYWFvlWxsXFYfXqNVArUxZVq9XE3l2bMWH8eK7EUUBAAJgYyz5oSBYBEtkl6zxpN0RAFAhEzRoBYRRlL7fs7ze+RYGNpMdAIruknzDtjwgQgb8SIJGdLhBRJXDjxg2sWrWKy6ZjrU979B6ANu064dnTxzi4bzuGDhmCTp065Ql/8+bNXMZgRHg46jeozz3a3r17d04g+DGOHj2K/fsPYNGKtZCWli5w+8eP7EdcVDikpaVQpmx59GV12vkw0tJSuWz2Wzev4OO7MFQyrIixY8eiYsWKfLBOJgRJICUlBUygSs/Ihp0T76KaIGMi2+JN4G3oa2xZvwrr160T743wEH1CQgJGjBiBtZv3ckL6j/Hm9QusX7MCa9f6gZUJCzh1Cl06d4b5bxnWPLgosSmhoaFwdXNH0+atoSD7jdsXrzdJ7t69C7+1/li4dDU+fnjH3ZRt1LA+TE1NBR7/osWL8fDhQ67UC6spX9Bgpc2srW3QtWc/PLh3C9WMjXJji4+Px6jRo1G3Tl2YmZmievWfJdQEHjw5ECgBEtkFipeME4FSSSDSdgRXDpNpDSX5udyyXaWStyhtmkR2UToNioUIEIESJ0Aie4kjJ4eFIJCamgplZWXs378frISMoVE17lH7kKBAbFrngwYNG6Jjhw64desWQp6/4GrIVtA3RETEJ2jrlEN8XCykpYCJE81Qr149rFmzBnfu3kPnbr3RtUefP0aSkpwMV0dryMsrYMqMmQKrxe0w0xzWVpZ/bZxYCFw0VcAE2PXIBKgOXXuhQ6eCazALOAQyL0EE/FZ5ITsjFZ6enhK0qz9vxdHRCZWMa6DvgO83LS+cC8Cbl89x9/YNsJIq3j4+aN66I04dP4wWzZuWiPBcFPAs1riEFFTQr4jDB3ZBR6cc7GbPgpGR0T/NrVu3DsHPX6Fl63bYssGXq4k+YMCAf64r7gRWIiY6Oga65cph+fJlf+0DEhwcDFtbW+jplcf69eu4HiIPHjzgBHp2k7p9p+54/fIZ/NeuLW5YtF5ECJDILiIHQWEQAQkiEGkzUii70V1BIrtQwP/ilER2YZ8A+ScCRECoBEhkFyp+cl4IAkxkP3TkGJzdvzdDvXzhDF6/DEF4+Eeu/nGnrr24cjJPHt7lxI7PkZEYMGQUrlw8i/gvsUhNSYZ+xUqYYeOQJ7P9TyE8DwlC2bI60CmnW4goCzd1+6a1ePf2NfT1K2DixInQ1RWcr8JFRrP/RICVjjl0+AhcF+btF0DEiEBhCcy0MIObqytq1KhR2KViOZ/d5Lx46RJs7OaiinE1sJuMLZo345pFs0zwvn37wn/LXq5ZtNOsGRg9ehQGDRokcnudO9cVRtXroPv/y4gdObgHGSnxsLH5dykpltE/evRolC2rjTlz7LgeHoIezs7OePjwEYYNH4ZxY/PXxC/IP7txfezYcdSvb4I2bdpgjr09atSqx91wbtOuI3yWeWD5sqU8/S4V9P7IfvEJkMhefIZkgQgQgbwEPluP+lmTXQpc6RgpKeDbNwACfK27YicdhZAJkMgu5AMg90SACAiXAInswuVP3nknwMQJVzc3xMbGQVFBgat/rKqmgbGmUzkj3l4L8CU2BgMHDkDPnj1x+PBh7Nm7DyvWbOIa6slIy6B6zdq8OyyhmexmQVDgI4SFvuIEJSY40RBdAuw6nDHDAotX+otukBSZyBM4tH8XIj68xcKFC0Q+Vn4GePbsWfivWwc9vQpQV1eFp4cHZ/7IkSM4GXAa7p4ruNe7t29CalIcXFxc+OmeL7ZsbGzx7l0Yho02Rdv2nZGSkow1KzxhZWnBUzZ7RkYGVzLn1zJmfAnsD0ZY42Z2A6NVq1b/dMPe3w4cPMiJ8gaGRggJeoLklGQ0btoyT8NWN0cbzJhuDhMTk3/apAmiT4BEdtE/I4qQCIgbgc/WowUuqBck2Jf33iFuqCQuXhLZJe5IaUNEgAgUhgCJ7IWhRXNFgcD169ehr6+Px48f4+TJAMjIyqFKtRpcRnjN6tVgaWnJhcm+z2rQLl+9SRTC/mcM78NCsWndatSrVwcWM2b8cz5NEB4BRydnyMorYeoMW+EFQZ7FmoCrgw3atW2NMWPGiPU+ihI8E9pv3rzFZXIrKSlxJlgpku07dmG203zudU7OV1hOGYuVK1fC0NCwKG4EtoZlhr9//x5aZbXRsk0ntO3QGYvmOWL8uDFo1KiRwPyWhGHWoDbg1GlMNrdBRPgnXL18DqPHT4G+Qd6+IQtc7dC2dSuuHj0N8SdAIrv4nyHtgAiIGoEIy9E/U9d/pLCXwOfy3ttFDUWpi4dE9lJ35LRhIkAEfiVAIjtdD+JMgAnpQUFBOHDgIAwqGkJHWwuurq65W3JycoaMvCKmzpgpFtv89i0Hbk4z0bhhA0yd+j1Dn4boEQgPD4ed3RxUNq4Gc8vZohcgRSTSBO7euo7LFwKwcsX3rG0awKdPnzDH3gFLfnlChL0Xtm3dUmRvRLx48QLOLi7oN3AY3r55hS+xkVgh5mfKRHOThk3x6UMY1xi8Zo3quHX7Dhav+F5//cP7MLAbwoGPH6JFs0bo3bs3Xb4SQIBEdgk4RNoCERAxAhGWwkkiKO9DIruwLwUS2YV9AuSfCBABoRIgkV2o+Mk5nwjs3buXy4js169fHouZmZlgj/Y3ad4G3Xv355M3wZo5d+YE7t64jFGjRvH0eL9goyHrfyLAegRcuXoVYWFhaNu+K/oMoDI/dLXwRsDdeSZGjxyBtm3b8ragFMzKzs7mBNvNu47k7nb5Ynf8N3ggmjdvLrIEfH19EfTsOZznLYaXpytSkhLQq1cv9O8v/N83UVFR8PHx4X43zpw5E4qKin/lmJWVxTWbLVdOF/b2c6ChocGV8Tl27ASWePvjy5c4eLrZIz4+HoaVjTB4YH907txZZM+GAuOdAInsvLOimUSACPBGINxiDNdkm2kNP2uwC/51eZ9tvAVIswRGgER2gaElw0SACIgDARLZxeGUKMbiEHj27BmWLV+BBUtWFcdMia7dv2cbLp4NQKdOnWBlZVWivslZ4QiwGzyXLl9GtRp1MGKMWeEW82H2l7hYvHwRAhUVFaSmpkBRUQlMsGzURHSFST5sW2xNXL18HrevX6Qs9gJO0NZ2Jho1a41OXXuCZfsfO7QH7u5uqFgxb6kSUTr8jx8/YtGiRdDQ0sHEKZa4fvUCzp8JQK2a1WFvby/UUOfPnw95RVWkpaUjJiocXl5L/ym0/x7wo0eP4LNqNRYuXY2oyM9wmj0D7Tt0wMULF3DixAmutjwN8SdAIrv4nyHtgAiIGoHwGWNZr9Pc8f9epwJ/rb+aRHZhXwsksgv7BMg/ESACQiVAIrtQ8ZPzEiIwePBgzF/sgzKaWiXksfhubl67jMP7d0JXtxy6dOkCVVVV3Lx1CynJKVBTV0N9ExNOMGnfvn3xnZGFYhFgT0zYzpwJNbUyXDPEcrp6xbL3r8V3bl7Dk0f38OzpY0hJSUNLS4vLOs3++hXycnL48PEDjKvWwBQxKZP0r/1KyvezsjJhZz0VTo4O1DCygEMNCQnBnDlzoFGmDLQ0tdCjR3euibWojzdv3mDhQg+MNTPPba7ts8wD2ZnpsLKyFMpNgnXr1yM45AXs/l/j3tp8PCaamaFbt26Fxukydy5SUtLRd9BQ7NiyDvXq1EadOnXAhFkakkGARHbJOEfaBREQJQIfzcfmZrL/yGgvic/6a7aKEoZSGQuJ7KXy2GnTRIAI/CBAIjtdC5JO4M6dO1jj6wdzKzsYVjISq+1GR33GvTu38Dn8I96GvkLDJs2hrl4G2dlZCAp8hKePXkJWLgd16lZHjRo1MGnSJLHanyQFm5OTg927d4M1Duw/eDh69B7A1+09D36KB/du4/aNKzCuWhUVypfH8OHDoadXsKC/ePFixCckw2KmI1/jIGNFJ7B35xYgJwM21tZFNyLhK58+fco9lVGlShWh73Tz5s34/PkzVxKF/Zzp6upCQUEhX1zp6ekYOHAgNu44lOd7p04cwbVLZ+Hi4gxjY+MS24+HhweiYuK4fhGqauqc35vXLoHduI2JjkSLFs3RsWNH1KpVi+eYjh07ht2794C9z3l7r/zj+w7PBmmiSBEgkV2kjoOCIQISQeCj+Tih7MPAl0R2oYD/xSmJ7MI+AfJPBIiAUAmQyC5U/OS8BAiwhno2trZY6bulBLwVzkXQk4dY6bUE9Ru2goWtZaEW29vY4sFVRWSmKUPX6C0UVeMwduxIjB07tlB2aDJ/CVy6dAlbt23j+gAM+m9kgcYjP0fg6ZOH+BwRjs/hH5CalgoVFVVUNqrKZf0YGFZGsxatubUvnwfjysUziI2JQrOmTThxTF9fn6eghw4dihm2DqharSZP82mS4Ag8C3qCYwd3w9HBHuXLlxecI7LMFwJnzpzB9h07UaaMJhSVlBAdFcl9NGrcGAvmz8/j4+LFi9ixYxec3BdDSVk5z/fW+62EorwM5tjZ8SWuvxm5d+8e/P3XQb2MJmY5uBc49eLZUzh39gR6du/G3aQr7GB/M7L3KBqSRYBEdsk6T9oNERAFAh+njf9/LXZWk10KXO0YrmaMYF8b/Pb/va9fv2Ll+gPYvPc0rh3xgaaGGocnPSMTrl6bcfnmYygpKmDGhIEY0uf708Etek/D0S0LoasjPk9Ai8KZ/4iBRHZROg2KhQgQgRInQCJ7iSMnh0Ig8N9/Q+Hotgi6eqIjbrFa2l6eC/Hwbhp0K3yG74btUFZR5YkOq8Ht6eqBp9da5s5X04qGQc0naNK0CRYvzisC8WSUJvGNQEJCAtzc3ZGZmYWuPfqhWcs2nG2WiX721DF8fB/GZba2atUK5cqV48r+REREICYmBmHv3iM6OgoR4RFQVlbmBK0qVYzg5uYGaWnpQsW4ZMkSfAyPgL2Lx/f/UKSnIz0tFWFv3+D6lQtc+aTR4ycXyiZNLjyBtNRUuDnaYOJEMyrvVHh8Qllx5coVrFmzBiPHTUKzFt9/ftlYu8oLGuoqmGlrmyeuBQsWID3zK/fE1O9jvsss2NpYo1q1agLby9GjR3H23Hl07dkvT7y/OmQ3CZztLNC2XTsMHDBAoPEIbKNkWCAESGQXCFYySgRKNYGP0yZwevoPYf17qRjBv664dnMe7hbOPqhZ1RD+247hymHvXJF91cZDCHn9Dl5zpyEyJh7jLD2wcbkdqhkZkMhezCuXRPZiAqTlRIAIiDcBEtnF+/wo+n8TyMjIQN++feG3aTeUlPJmGf57ddFnPHl0H5kZGVBSVkFdkwacobehr3Hq+GFERsbifdhrxMdpIySoFho0eYLGTatgtpMzTw6TkxJhOXUyAi+3yzNfQSUJVerfRouWjbFw4UKebNEkwRFgQt2RI0chLSOD1NRUTkxv07oVBgwYABkZmb86joqK4kT32rVrFyvAhR4eCAl5Dn2Ditz1Jy8nj3LldFCzZk3cun0bQ4aPRcPG1CS1WJD/sXjRfCfUrV0TkyfTDQ1Bcua37SdPnnA14q1nO8OkQeNc8yuWzENWRhpWrlyZ+7XAwECs9V8P53lL8oWxZKELRgz7D82bC+bn7NatW1jrv45rvPxrnL8GcufWNbAnp54HB8HPzxfq6t/LyNAgAowAiex0HRABIsBvAu+nTBBKTfaKazfl2crz1+85kd2kk2kekb3vOEcsmGOG+rW/l3Nb4rsHqsqKMB8/II/I7r3hIF6++YBVC60gLU1PcvFynZDIzgslmkMEiIDEEiCRXWKPljb2fwJZWVkYNmw4ho4aj3YdupQYlzm2MxAZEQVpKXUoKGZDSVkJX+KSEB+nisiIsoiLLZcbi7x8Btp2egn3RR7Q1v759b8FO8/JBTfOZSD2U+XcaQrKyaja+DqysxQwaHB3WFhYlNh+ydGfCSQmJiI0NBQNGny/2VLS4+rVq8jOzgZ7ZPbXZoUBAQHYt/8AGjVpgSHDx5R0WKXC375dWxEV8QEeHnTTSxwP/Pbt25yA3a1nX3To3IPbQlpqCtb5roCWpkZuGZjk5GQ4OjphjJk59A0M82x1nvNMmE+bKpBmt69evYLPqtXo3f+/PwrsLJjli9ygpCgPJycn7mYfDSLwKwES2el6IAJEgN8E3k8x5bdJnuwZ+ucV2X8s+l1kr9/FDFcP+XBPp7Gx79gl3A98gSXOU3NF9odBr7BxVwC2+ThAWYl+d/J0AOxhhW9MYaJBBIgAESilBEhkL6UHX4q2zdVkt7GB2TRr1DNpWKI7Hze8P+7e6Agl5RSoqccjMsKgQP+VjV+ifRctOLjwXubl4rlT2OJ/BMG36ufarNLgLtKzZJCeqoRKVeJw8uThEt0vORM/AqyO89KlXpg83Qa16/68lsRvJ6IXMSsNdOv6JaxYvpwr/UNDPAlcu3aNq3Ver2ETjPmlvJKXpxtysjO5MkB169YFK9ly7PgJTJ0xC/oVfwrtyzzd0LNHV3Tpwt+bvOxpl9mz7dCtV3907PL9BkBB48LZADx5cBteXkvF8wAoaoETIJFd4IjJAREodQTeTTL7Xor9lxrsJfHacN3GAln/KrJnZ38FE9kfnF4HRUV5bv7RM9dx7uoDrF5oxYnsno6Tuez2Ld720NXWLHXnV5wNk8heHHq0lggQAbEnQCK72B8hbeAfBNzd50FaVgFmUwvXWLS4YBMT4uE4ywnnT1X/p6lmrUMw034i6jds8s8BPxJXAAAgAElEQVS5PyasXrkcFwOC8f5ZI+5LalpR0K/xDPdvt4GU1Dc0bXUZGzb4o3Lln5nuPBuniaWKwJYtW/Dm7XtMs5xdqvYtyM3u2bEJt25cwfJly1CxYkVBuiLbJUAgKSkJFpaWGDx0DBo3+9kL48De7Xhw9ybmz5sHQ0NDWFvbwLhGHQweOio3Kj+fpWjauAH69etX7EhZY+WHDx8h9G0okhKT0KZDF/TpP+Svdtf7rgBysuDq6lps/2RAMgmQyC6Z50q7IgLCJMBE9p/NTn/UYhf850ob/i2yMy5MZL+wbzm0tTQ4TDsOnkNgyJvcTHZFRQWoKCvi4IZ5UFT4LsTT4I0Aiey8caJZRIAISCgBEtkl9GBpW1xW4c6dO1Glag1YznQUCpEpE0bj/VtVpKWqIjqyAr5+LbgOd+PmzzBhcn906d77j3FePHcewU/vIyPzG6pWr4KAYycR/kYDMeGVkZWuhGpNbyAxSQVvXtThbNSq+wwDB9eBvb29UPZOTsWHwIkTJ/DkaQgmTJ4hPkGLcKQnjx7EuTPHMWTwYAwdOlSEI6XQCkPg5s2b8FvrDye3RVDXKJO79Nzp47hx9QL3xML58+exfv0GDB89AZ269uTmHNy7A1cvn8PsWbPQrFmzwrjMM3ffvn04evQYatdrgDbtO6GiYWUoKirxZI+VrOnVswdfhH6eHNIksSJAIrtYHRcFSwTEgkCYGctkZ81Ov5Xo50obNhTI5/dyMQMmOMPJajSaNqjJzXdfvhW6OpqYOqYfl8nOarAfOHkFZdRV4WDx88a5WMAXcpAksgv5AMg9ESACwiVAIrtw+ZN3wRGYM8cezdt0QotWbQXm5MP7MER8+oBmLQv2cfb0CTx9/ADBQcG4f7shMtILFkQMKoWiTXtluHl45on10oUz0NQsi5joSJw6cRwvn2chI00ZTFfR1PqAbyxF5Js0vmbLAdIyeHK/EbKzv2dbaGlHoVbdNzh16qjA9k+GJYOAnd0cyMgpwsKWbsgU50TTUlPh7bUQcrLSsLObDV1d3eKYo7UiSMDXzw+XLl7CqPGT0KxFm9wID+zehnt3b6CKURUkJMQjNTUNOrrl0XfgUBhWMsLa1ctQtowarKyseN7V8+fP8f79e3Tr1o1bM2vWbLTr1ANNmrfi2caPibdvXMHNqxcEUjLGz88P8vLyMDMzK3RctEA0CJDILhrnQFEQAUkiEGY2USjbqbyRN5Hdf/txPAp6hRXu0/EhPBqmNouxfbUTjCrq5dZkV1RQwABTJy67/YcYL5RNiZlTEtnF7MAoXCJABPhLgER2/vIka6JB4O7du/DyWgYLWwcYV6vBl6Du3LqKbRs3QlFJhcvIYB8pyWlIS03GkBHD0LvfoHx+9u7cghNHz+F5UHUkJf7MfPx9orxCOlq1C4XZ1LFo0qwVrl46h1vXr+Hli9DvAjoUISObjMf3ayE1RZVbrqiUijKaMcjJkYGsbDbCP1bKY5aVjKnb4DHUNTLg7b0E1av/u2wNX0CREbEjMHjwYLguXA5tHd6a7ordBksg4Ns3r2Lvjs1o2aolLC0sIC0tXQJeyYUwCDx48AAbNm7C4GFj8vQxePzwLtdcODgoEOfPnOTKx6SkpmL8xBmobFQFjrNnwM/Xl6ebL9HR0bCwsISKqiqSkxIhJycPbR0dTLOaAzU19UJv+/rVizh2cDeWLVvGk//fHcTHx+PIkSMYPnx4nsap7Ot2c+wRFRmJUaNGokePHlBTUyt0fLRAuARIZBcuf/JOBCSRwFvTSbk12b9ntKNEXlfeuD4XZ3xiMjoOtuZeZ2ZlQ15Olvv3+X3Loa6qDLdlW3D+2gMoKynAZtJ/6Ne9Nfd9lsl+dMtC6Opo4dKNR/BctROHNy3gysfQ+DcBEtn/zYhmEAEiIMEESGSX4MMtpVtjNWv379+P6rVMMHTkOL5R2LtzM3Ztu4bIcANkZbFs8W+Qlv4GVfV4NG6WiTETxnM11dPSUnE24BguX7yKxIREPA+qhNiYf4uXGmXiUNskDEpK35CZURahr6UQH1cWqanfRfWijsYtrmHxYtdilSkoqm9aJ/oE7t+/j7Vr12HeYm/RD1YEIwz/+AEnjx3Ap4/vMHXKFDRq9L1HAg3JJnDs2DHcvvsAM2wKfvrj1YsQHNizFQ3qmyAgIAAamlr4mp0F75UrUabMn2+4/qDmPm8epGTkMXGqFV6/egFlZRVU0C+4cTavpE8cPQBW2sZu9mw0bdo0d9nSpUsRH5+ARo0aonnz5pwILyfHbu5+H+w9YvnyFcjKysL06ebo0KFD7vcuXryI8xcuo45JQwQcP4RpU6egTZufGf68xkbzhEuARHbh8ifvREASCbw1nZxbk/1HyZgfNdoF+dpo8zpJxClWeyKRXayOi4IlAkSA3wRIZOc3UbInTAKWlpaQkpJBkxZt0LlbL76Gcu/ODWzduB7xcVK4f7tBrm2WRV6u/EdUrBSKevUbIuJTFN6/S8W70MpITChcN3pFxTRISecgM0MBX79+z7YoztAqG42qNUMwcuQQmJqaFscUrZVQAp8+fYKTswsWLl3NPZ1Bg3cCb0NfY92a5ahooI8FCxbwvpBmSgSByVOmYpqlHXT1yhe4nyeP7mPbJj8smD8fycnJ0NDQ4LkR9QRTU5hb2UPfgD9Nc48f3o+Q4EBEhH+EvJwctm/fDtbMdeFCDyiqqKGuSUNcOn8aCV/iEBMTDaMqxoiJjkZmViYqVqwEFVV1KCnIws0tb/NUb29vvPsQjlkObvD1XoIWzRqjT58+EnG+pWkTJLKXptOmvRKBkiEQOn7yj9T13Jrs/09lF+jrKpv9S2aD5OWPBEhkp4uDCBCBUk2ARPZSffwStfmEhARMmTIVy9dsEsi+rKaZI/xDGhLiK+B9WP7MdJaJzkq4ZGfLIT5O+49NTgUSXAFG1TW+oFa9h5g4cSKGDRtWUm7Jj5gROHz4MK5cvQ47Z8kUiaWlpJDDnlHm82CloM6dPgFLSwuuRAaN0kdgja8vviSmwHTSnxsGr1u9HK9fP8eE8ePRuXNnniDl5OTAytoGVrNduAz24o7UlGTYzjCDubk5ateuDS0tLaiqqmL+/AV4+eoVqteohejoSGRmZOLr12xkZ2dzWevGVWsgOTkJaakpSElJwlo/Pygp5e0rcu/ePezavZcrm3PtygVMnjSRMtmLe2BCWE8iuxCgk0siIOEEQsdNEcoOq2wlkV0o4H9xSiK7sE+A/BMBIiBUAiSyCxU/OecjgfUbNiAyKg6mUyz4aPWnqfEjBuLujXbIyRGPWsvl9D6hsvFLrnFqhQo6nLCio6PDCS00iMAPAqtWrULWNxkMHzVBoqAoK8hAXk4G7HNqxlfEJ2fybX8hwU+xeIELJpqZYejQoXyzS4bEi8CFCxfg6+uHsaZT0bTF9zquBY2gwEfY4LcSLi4uqFevHk+bNDU1w1TL2TComLfXBk+Lf5t09NAePLhzAxs2/GwGx7LYZ1hYIiU5iWtYymrJV6tWDbKystxHWFgYl+n+5MkTtGvXDsbGxqhQoUI+9yxDn9VpZzcGRo0ahd69e/+1HA4T738tRVOU/dAa/hMgkZ3/TMkiESjtBN6MnVoiNdh/lJ75UfO9yta1pR290PdPIrvQj4ACIAJEQJgESGQXJn3yzS8CXK3YGRYwt56DcuX0+GU2jx0vzwV4dP8tHtwxEYh9QRjVLf+RuykgJ58JOblMlNOLwKRJ4xAYGIiaNWty4oi8PKsvT6M0EsjIyIDtzFkwm2oNvfL5BTRxZVJGVZ4T138dsYkZyMjKKfaW3r97iyULnGFlZYX27dsX2x4ZEG8CTIR2dnbGiLET0aFTtwI3c/HcKYQ8fYiFC3l/WsTObg509PQxatykYgNipc4e3bsJN9e5ubZOnTqFw0eOQU5WGmvWrMnjIzExEaGhodzHoEH5G3r/HtDkyVMQFRWFpUuXcEJ9QePDhw9gT828ev0acrJyaNCgPkxMTFC/fn0qU1XsEy6+ARLZi8+QLBABIpCXwJux03K/kFuD/f9fEeRr421+dBRCJkAiu5APgNwTASIgXAIksguXP3nnD4HlK1Yg9O07OLp68sfgH6xYTJ6Im1crIyVZTaB+BGXcpNEjqKmnITlJBt++yUJJKQEKiqro2rU9pk2bRoK7oMCLqN0DBw7g8pXrcHQT7M9NSW+/Qtm8JS2Yf36I7Czrd9kid/Tt04vL2KVBBBgBJlivW7cOy1ZvhKJi/mvv6ME9uHntEtq0aY0JEybw9D57+/ZtrN+wEfMX+xQLMstQX7ViEbS1NLiGpz+Gk5Mzqteuj0vnAtC/fz9OHN+6dRtYj4bklGQoyCsgMTEBx48f/2e8ISEhmOvqiv79+2P0qFF54h09ejSYaK+uUQb6+hUxxnQqPn18j+fBQXhw7xZqVK8OJyfHYu2RFhefAInsxWdIFogAEchL4NXoaT9KsOfWYGetf75nnEvhu9DO/9dVt5PILuxrkUR2YZ8A+ScCRECoBEhkFyp+cs4HAiyLnf3nftEKP2hr56+VzgcXuSYcZs3E9csyiP6sz0+zJWarRu0XkJZOR0hQfc6njEw29A3DoK6RAmWVWOiW00ebts04wZ2G5BPYsmUL7j14BCe3RRK12d9Fdn6Vi9m1bSNSkuLgOvdnRrBEgaPNFJnAypUrIS2njCHDxxRo48G92zh76jga1q/LcxNqR0cnpKSlY7K5DTS1yhY6tuCgQOzcug4N6ptgxowZkJH5/nRHeHg4XFxcMXehF2JjouHhZg/W06R7r/5o074Tdm/fCG2tMmjevDm6dSs4O//3YFh5mcqVK+f5cnp6OiZPnoyyOnpcI/LKRsbQKqudOycrMxMLXe3g5+ebG1uhN0kL+EKARHa+YCQjRIAI/EKAiezCGNV2kMguDO6/+iSRXdgnQP6JABEQKgES2YWKn5zzicDoMWNgY+eK8hUEK37b29rizk0g4mPx6+Tyaet8MyMvn4Hy+u+hoxcBM7NRXH1dGpJPYNo0c3TvMxDNWrSRiM2yRqd6Woq5e0nP/Iq4pOLVY09LS8Xxw/vxPuw1+vbpjY4dO0oEK9oE/wiwciksa9t1gReMjAsumRL8LBD7dm7COn/emrKxeucLPTygqKSKSeY2hQ728P5diItmgrpLnrWPHz/Gxk1b4PD/J78+vA9DenoazgYcx8P7t9GseXO4u7kV2l9BC1iW+507d3Dv3n2kpadjwZJVeaa5zLGEg/0cVK1aNc/X2brdu/cgKOgpMjOzoKuri549e6Bt27bcv2nwlwCJ7PzlSdaIABEAXo00z63J/v0fLIOdZa7/+IdgXlfd6Uv4hUyARHYhHwC5JwJEQLgESGQXLn/yXnwC0dHRXH3kidNs8OzpY/TsOxDKyirFN1yABXOz8bh5tQbS05QFYl8UjGrrfEbteh/h7bOYq6Fbp04d9OzZUxRCoxgEQIAJYDt27YbVLGeB/dwIIOw/mlSUl4GW2s8+A8XNYv/2LQfzXGZDv7wepk+fjrJlC59RXJL7J1/CI8Bqs+dABjNs7P8YxNKFc6FZRo2r59+yZct/lmK5f/8+du/dj5n2hRe99+7cAn29svma8zo6OUFaRgHmVj/Lx7C/BWdamGHQwIECa+br6bkIgU8DoaamzjVK1Smnx+2/besW6NKlSy4z93nzEPwsGL36DUa7jt+//vJ5MG5cvQj2REDPXr3QqGFDNGzYEEpK+cvz8OsK4MrcqKvzy5xI2yGRXaSPh4IjAmJJ4NXI6blxC7IGO3Pyq/1qu/L2GRFLeGIeNInsYn6AFD4RIALFI0Aie/H40WrRILBu/XoEnDwJRUVFtGjdAUNHjuN7YCzTb5rpKNy6KtnNDlmz1EpVXnEZJ5lZypCWyoGsXAY0NbXQqFE96OnpoUKFCmBNM9PS0jBs2DC+syaDJUtgw4YNePP2HSxsxb82soy0FDRU5MDEdTa+5nxDVnbRGp7GxETBz3sJDAz04eQo/mxK9qoqnd7YkyGVjatjzIQpBQJ4FxaKa5fP41ngI9SsWQMODg5/BcXKsLjMdcXiFWsLDXTJQhcYGlSAra1t7trnz59j5sxZ8Fy2Bto65RD+6QP2796G2vXqo1r1WnBztIWPjw/XGLsw4/Lly8jMzAQr38ay0FkJt9+boLLyVA8ePMDbt2HQ0tKCrLw8GjRsis+fwuDh4cG5Y/1VPn6MgK29K6SlpfOFEB31GXt2bMaXuFi8fxeG6tWroU2bNmAisYaGRmFC/uNc9nexvb0DXr16iRYtWsDOzo4vdkXZCInsonw6FBsREE8CL4ZP/39j628AftRgl2KSuEBfV9+9WjyBSVDUJLJL0GHSVogAESg8ARLZC8+MVogmgfPnz8PLywsu85b88XH94kT+5tULzHNehDs3GhTHjFisVVNPQFLiT8FCXiED6hpx0Nb5AkXlJOAb+yNZClJS2VBUysHgwX252rs0xJeAlZU1dPT0YTp5hvhugs+RXzp/Cs+ePICHx0I+WyZzkkqAPf3j7+8P69nOMGnQ+K/bdJhpjp49umP48OF/nMdKxri5z8OzoKeoVNkISUmJ6NK9L+o3bIwnjx4gIvwjevcbxGWF/z7sbafB3c0VRkZGud+6desWVq9eg6U+67mvLZrvBHlZaSipaGCa5SxcvXQOZ04ewfr16yArK1tgXKwp66VLl5D9NQc1a1TnBG4zs4moa9IAUlLSeP/uLXJyviIlORn9+vXFmDHf69QzcT88IhzjJ05HvfqNuK89enAXZwOOQlZWGsZVquDps2C4zFvK8+Vx68ZVBD99jOtXL6JDh44wMqr8V568Gl67di2uXruG9LQ0qKmpoVWrVpgypeAbJ7zaFOV5JLKL8ulQbERAPAm8GC6cvydr7CGRXdhXDInswj4B8k8EiIBQCZDILlT85JxPBF6/fg0PT0+07dAN3Xv145PVvGaY+LBq2VE8fVxwvV2BOBUDo5plo1GpSig0y8iidZumpSLrTwyOpUghOju7QFmtDMZPNC/S+pJexLLWWaa6IEZqagqWebqhqrERZs6cKQgXZFNCCTAhe8GCBRg5ZiI6du3xx10u9ZiLQQP6cXXG/zVYlvjDhw+hqakJL69lXKPSli1bcHXOP3+ORFxsLGrUqQezyRbIzMzA2YBjOHPqGA4eOJDP9NSp0xATG4OJU61weP9O1KpZA9GxCZhubYcXIc+wdpUX9u7d88eQ3N3d8Sb0LQwNjfDh/VtYWVnCzc0NBgYVERkZCSlpKWRnZUOvfAXExUZj3759ubb27t2Lc+cvwMZuLk4eO4h2HbrAsHIVXLl4FoFPHmDQf6Ogb2D4Lxz5vs9+Xm9cvYTrV85zzVxZBjorx8Oat7KSNEUd27dvx+kzZxEXG4ORI0fm3jAoqj1RXUciu6ieDMVFBMSXwPNhFrk12KWkWCb7zxrsgnxdY0/e3h/iS1B8IyeRXXzPjiInAkSADwRIZOcDRDIhVAJ+fn44fvw4Ro2bhI5d/ixoFDXIpMQEyCso4NC+nVi3+hkiPkle09Oisvl1nVHV59DRDcfQoUMoq50fQIVkY+5cVySnpGGWo7uQIuDdrYqiLFLSs3lfUIiZ9+/ewqljB+DnRw20CoGNpv6fwKpVq/A0KBhuHsv/yMRmuim8V67gSnAVZsTExEBbWzt3yZcvX5Ceng57e3toltXBqxchUFVV5eqJr1//PWP91xEREYHNmzejgqExnjy6hxbNmuLQocPo3K0Xevcfgvkus9CrZw/061fwDWtWcubK1at48eIlunXtgh49vv/eZVn3zC8b2dnZCAgIwObNW7BgwXyutwcbV65cwRpfXygpqUBPVwfBwcHo2qMvBg8b/f+yAoUhUfBcJrI/fniP21tOdha6du1S5L4i9+7d48rfnDhxEkzI/++//zBuHP/L0RV/18WzQCJ78fjRaiJABPITeD7MMveLJVmTveZeHzoOIRMgkV3IB0DuiQAREC4BEtmFy5+8F5/ADAsL1GvQFH0H/Fd8Y79YOH/mJCI/h+PxwxeIiX4LKSlFBAcaI/4LNT78E2iNMnGoXusp2ndoiblz5/L1PMhYyRGwtLJC42atOfFLVIe0lBTKqssjOiGD7yGmpaVivsts9O7VkxPVaBCBohBwcXFBTNwXDB0xHjVqfReZf4y3oa+xd8dG+HivLIrpAtc8evSIE4S7devG9czQ19f/o212EyApNRNfYmMwoH8frn66tbUN5i7wwoG9O3Dr+mV4enrCxMSEb/H9MHT69Gkuvj59+iA+Ph6bNm3Go8ePUbN2PegbVET9hk1QQb8iX/wGPwvEvp2bUV5PFywDv7BjxIgRXEPotPQ0rhROfRMT2Nn9bBhbWHuiOp9EdlE9GYqLCIgvgeD/LIVSk73WPm/xhSYhkZPILiEHSdsgAkSgaARIZC8aN1olGgTYY/lr166D53L+ZZuGvX2DbRs3421oON6HqSM1WQ1f4n5mDYrGzkU3CiXlFNSs8xQaZaTRrl0rrjGqjo4O15SWhngQYM0Wp0+fjtmO81C9Zm2RDFpBThplVOUR+SWd7/F5ey2E1LdsLFq0iO+2yWDpInD27FmsW7cOrdt1xrBR43M3H/M/9s4CKqrtC+MfHdIlSEoqqGB3Prt95tNn9zOwRURFVGwFC7vr2d3d2CIlpZRIg4DS/Ncdn/U3mIGZuXdm9l3LxRo5Z+9v/84dwW/O3Sc5CcsWzsbevXtZAbJu3Tooq2sjNjoKbf5oCQcHB7jNckdyUhLU1NWgo60HY2MjLFjgJRZ9TC97Zve7v78/Xr9+zTPcW/zRDk7Vy38GCvN77sa1y1FYkI/FpZyvwJj+zI58MzMz3i57pg1O8z/a4cGdm7we9b1790LHjh15TFJTU6GvLx0fupPJLpbbnJIQAZkiENzblZV6HQ+Tyc4K+G+SksnO9gpQfiJABFglQCY7q/gpuRAIMAc2Nm/dAQ0aNSt3tBNHDuDksaN4HWGFd2+Fs5Ou3KIkMICKykfo6qfAxCwBioofgBIlVKlqjfXr6RdfSVnONWvWICbuLabMnMdJyUqK8jDUVkHq+zzkFRQLTWNeXi7GDO2HI0eO8A48pIsIlJfA+/fv4e7uDk1tXUyY4s4L9y4hHmtWLMLOnTvKG75M8/v06Yups+bjzIlDaNGsMf744w/ExMSA2Q2/d98+tGjVDvExUWI59Dc+Pv67XffM76VnzpzhtYFTUlaBYzUX9Ojdv0x1fjuJeV8z7Z++3eHP9Lp//PgxzM3NeR8Ge8yZg1ehoWB2sD/wf4hqLnUQERYKBztrDB827Eu42NhYuLvP5h3sKg1Pu5DJXu7biwIQASLwfwSCek1ipSe742HhPSFGi1o2AmSyl40bzSICREBKCJDJLiULKcNlnD9/HucuXMKsud7lpjBl/Fj439VBarJgPXLLnVjKAygqFsC59kPMnTcFLVu2lPJqpae8Hj16YIqbJ2xs7TlZFGOyMz3ZP+QVCU3fnVvXEPT8EebP9xRaTApEBBgCq318EBYegdZtOyM5ORFXL56Fm9tM3lM+SkpKsLcX3/ts5cqVCA4JQWpKCiZOnIhWrVrxFonZxe3mNgtpaWkYM2Y0mjUr/4fXv1v9BQsX4vGjRxg/fjwYo/f/r6NHj2L37t1Y6rMJWlra5bqRDu7ZzjsMtkmTpmjVqiUaN26MoKAgMG19VNXUebvSGVNfSVEJOTnZMK5khqiIUJhWMsWsWW5QV1f/Lv9ff/WHegV1DBo4EM2bNy+XNrYnk8nO9gpQfiIgfQSCek7+UlQJSiAHObG8djq6WvpgSlhFZLJL2IKRXCJABIRLgEx24fKkaOInwDzOzexknTBlVrmSX710Dnt27MWD2/XLFYcm/5yArUMouna34j1+T5dkEGB2s+cVgneoMBevSvpqyMjOF6rJvsXPF2rK8pgxYwYXSyZNEk6AadOS+T4LHz/k8PqQm5mZQ1FRidcqRVVFGbVr10KnTp1+aEPy8eNHqKmpCbV6ph2KoyN77aCioqIw38sLRYVFGDt2DM/0/tm1afNmJCalYcTY8rceyP34EQ/u3YL//dtQUlTAkMGDcPXqVbx+HQ11DU3o6ukjNy8Pb2OjUVJShE4dO6JLl5+fTcFoT0vPRGT4K0yYMAHt2rUT6vqIMxiZ7OKkTbmIgGwQeNljMis92asd+/WB47JBnv0qyWRnfw1IAREgAiwSIJOdRfiUWigEXrx4gV27dgPyChg5dhK0dXTLFPfG1QvYtXUP7t+uV6b5NOn3BPQNE+FSKwHHTxwkVBJCYNfu3Xj65Dlmzl3EScVMT3bmep9TgOKSEqFo/HffTjx7fB/Tpk0TyaGPQhFJQSSeALNb3NLaHt169vtSy8MHd3D98nl8yMnm7SLX09NDhQoVeDuovb2XIDMzHbVr1+bdl8wfZeVP97+kXkyrlq5du0JbRwcb/fygq/vzn93JyckYMWIk/LYfEEqpBQUFOHf6GO7dvo5mTZtg5MiRYFr63L17F9ev3+Dx7tSpI+rWrVtqvhEjR0JOXhGJCfHw8vICc07M2LFjS53HtQFksnNtRUgPEZB8Ai97TGGliOrHyWRnBfw3SclkZ3sFKD8RIAKsEiCTnVX8lFyIBHbv2YMrV65i6MjxcKjqJFDkU8cO4fiRY4gKN0digplAc2kwfwQqVMiCk/NTXLl6nr8JNIoTBKZMmQI9QxMMGzWeE3q+FSEvJwd9rU9GY3JmntD03bx2CTevXYDfhg3/7cISWmgKRAR4BJgDodPT01G3fkOMm+T2HZUTR/YjODAAHz7k4OPHD8jJzuYdBNq2Q1eEhgQiLDQQsTHRGDJ4MLp16ybRRKdPn85rIfb5MNFfFTN8xAiMGDMJlpVtyl3vvTs3cOrYQTRv1ozXDsfOzq7MMZlDWr0WLICWphbs7Gxx8eIl3qGp3t6LeCmZaS4AACAASURBVB8aFBcXQ15evszxxTWRTHZxkaY8REB2CAR0n8L7HYrxGsT5tfrxlbIDmaOVksnO0YUhWUSACIiHAJns4uFMWcRDwMfHB9Gx8Zju7sV3QuY94D5tCh49KEZctDXf82ig4ARq1n2ARo2rYvHixYJPphmsEHjy5Ak2b9mKeYu4uTOIMdoNdVSQnJEntN3sQS+f4+Debdi2dSsrzCmp7BBgPsRKz8hEtRq1YGNnDxtbB6QkJ/F6tCsoKcHSsvJPYbwKCcLaVd68fuqVKlWCkZERdHR0pBLciRMnsHPnTgwZOQ71GjQRqMbwVyFQr1ABpmYWX+YxLWNWLJmHP7t3Q+vWrQWK97PBOTk5vCcOmIvpMX/v7l1eXMbAX7FiBapWrcr5Nmlkspf7NqAARIAI/B+BgO5Tv/4N87Dh15bsgAhf1zhBJjvbNyOZ7GyvAOUnAkSAVQJksrOKn5KLgMDAgYPQvnMPtGzdnu/oY4YOxBN/W2S9l06Tgm8QIhwoJ1eCeo2v4fDhw1JrBokQH6uh+/Tpg1nzlqCisQmrOn6VXE9TGbn5RULrzc60jJEvyYera/l7QHMSGIniDAGmdUlISAiY/ujBwZ++amlp8Q5DVVRierUXoXa9hrC2sYND1Wrf6T5x9CDioqOQkpLM+2NgYIiOHdqje/fuP9THHGTK9HU3NTXlq/Znz56hZs2afI0V5aAHDx7A13cNRo2fAj19AxTk56OSqflvUzK7x3dt80NIUACYD+GYtjR6+vqoXbcR7Byqwta+CgIDnmHPjk1o1LCB0Nu7ZGZm8kz3d+/ewctrAbKysqCsrMTrtc/8W8rFi0x2Lq4KaSICkk3gRbep/x12+slR/3r4qWhf1zi5QrLBSYF6MtmlYBGpBCJABMpOgEz2srOjmdwkcP78ed6ut9Hjp/IesefnunD2JHZsPo0XT/gbz09MGvM9AU3tDFR3CcGFCycJjYQRYHZjGlayRJt2nTmp/PNu9sT0XKHo27l1AzTVlXmHGdJFBNgkwDxJcuvWLQQFhyAtNRWVTM14544UFRVBQ1ML+XkfYWZRGQ0aNcO7hHhcOncK4eGhWLRwIapVq4YPHz7gypUrYHaDJ7x7BxtrG1SubIWpU6fi4sWLePr0KW8nvXVlKzg4OODmzZuIj3+LtLRU7Nq1CxoaGt+VHx4ejkOHDsHc3BwJCe/w9m08fH19RYaof//+MLOwhr6BAUKDXiI7Owt5ebmoVqMmRo+fAiWl7/vSM4b6ulXeMDLU5+0kb9CgAU8bw3Hr1q0wNbfCsNETeX+Xm5uLRfNmolPH9vjzzz9FUgNj+C9duhR3796DvLwcli1bhmPHjsHaxgb9+vYVSc6yBCWTvSzUaA4RIAK/I/Ci6zRWADmfIpOdFfDfJCWTne0VoPxEgAiwSoBMdlbxU3IREVi8ZAlU1LXQb8BQvjJkZmTAe/4cPLynjIT4r4+V8zWZBvFFwNQiCk1bKGLzpg18jadB3CEwy90degYmGDB4BHdEfaOEMdnVVBRQWFSMvILicmv8d/9OvI19jeXLlpU7FgUgAsIiwPRwZwxzY2NjvHnzBgYGBkhKSkJGRgbvwE4dXV1kvX8PZ+cavF7tzs7OWL5iBYKCgmFcyQxqKmrIfJ+BiLAQnsl++MgRAAqwsKqMyPBXyP34AR9zP31QZW9ni4ULF36RnpiYiGXLlyM5OQUGBkZQVlVFVPgraGpqwstrPt875AVlsWPHDqipqfHa5zCm+IABA3g7wzdu2oTo6FiMm+wGbe3vn0BzmzwWc+d6wNbW9rt0zAcTgwYNRqfuvdCiVTve92LeRGHhPDfs3LmD94SVoqKioBL5Gh8REQHfNWswfdo03od3jJajR49CRUWFr/miHkQmu6gJU3wiIHsEnneZJtZe7J97vzufWi57sDlWMZnsHFsQkkMEiIB4CZDJLl7elE08BBhDYOjQofDduAsVKny/E+9XCmJj3mD+bC88vFsF+fnc+I+veGiJPou8fBFq1ruPevWceLv66JIcAkzrgzlz52HaLC9e+wpZuebPnoLOnTqiS5cuslIy1SnhBI4cOYJevXp9V8XEia4oLCqCgrw8NDQqoFGjRrCysoKhoSGYp74Y85ox72Nj42BhaQFbGxvY/PeHObDzxo0buHX7Nh49fAQLSytYWFnjbVwMKqiroUOH9mjatClr1JjDzu/euYvcvDxU0NCAjq4+CvJyERkRhiVLlsDe3v4HbRs2bMCNGzfhOm02Ktt8OvD06L97cfniGdSuVRvz5s0VST1xcXE8U51pwXP58mW8evWK16t9/vz5IsknaFAy2QUlRuOJABEojcDzLjPwufn6ZwNcHK9dTpPJXtraiPr7ZLKLmjDFJwJEgNMEyGTn9PKQuHIQWLV6NdQ0dNHtT/4eyX4bH4e5blOhoKCDF0+NkJFmwMtuavEaxibZeOL/+1YyCoqFUFHJhYrqRxQWKFF/92/WrnrNR3B0MsKWLX7lWFGayhaBv/8eiJ79BqJ+Q/YMtfLUzux0Z67iEqYPKH/X+TMnkJoUhxnTp/M3gUYRAY4S+GpufBLo5eUFf/+H0NXTQ0lxMfr27YOuXbv+VP2YsWNhbGKOOvUb4fD+nWjYsAGvDYujoyMnqmU+UGdaxLx+/Rrx8fG8nehM73N1dfVf6mPa5Jw5ex7tOnVHrTr1eeMCXz7Dri0boKqqAg8PD1Su/PMDZ8tadGBgIObN84S2jg4U5OVgaGiEFwEvMN/TE3Xq1ClrWKHNI5NdaCgpEBEgAv8ReNaZMdmZ378+n3Iqnq81z9BmHrZvQjLZ2V4Byk8EiACrBMhkZxU/JRchgaioKMyYMRO+G3dCTk6e70yPH97HxrV+yM9Xg4LCR5hbmiA+Nhp3bzT8ZQy7KpEwNc+BmroSlJRU8DY+FY/v1+U7pzQPtKsSDMvKhTh2bL80lynVtTFPHxTLKWHw8LESWSdjajGHo6a+z+fbaGd6P3tMn4CpU6egfv1PRhxdREAaCPj7++Pq1at4+TIQ+oZGSElKxLJlS2Fh8X2rtLNnz+LI0eOo16Axzp05Do/Zs6XmvfDo0SMsX74cxiZmaNqyNc8Gsqpsi6ULPVCxohHv8Ng//viD1+pAGBfzu/bSZcsQFRmFzMwMrF27Fj4+PryWPMwTA2xfZLKzvQKUnwhIH4GnnWayUlSts2SyswL+m6RksrO9ApSfCBABVgmQyc4qfkouYgKTJk9GRRNzgc3BoJfPUVhYiJycHNjY2mGG6wz43/3eNFdV+wA9gyRYWb+DY3VHTJrmBkVFJVw8dwpbNpxA4HNnEVfH/fD2VYNgaVWMo8f2cV8sKfwlgdTUVCxYsAiduveGU3UXiSSlXUEJuflFAvVsv3b5PPzv3cQCr/m8fs10EQFpIhAUFIQjR49CQV4BHh6zfyiNORSV+YCtRg1nmJgYY9iwYZwu//r162jYsCFUVVX50snsgmdat8TExCAlNQ2voyJR2doWikrKCAsNxpIli1GlShW+Ygk6iGkds337dji71ES7tm3QvHlzQUMIdTyZ7ELFScGIABFgDpzuOJOVnuy1zi4h/iwTIJOd5QWg9ESACLBLgEx2dvlTdtESYA4bmz59Olas3Qo1tV8/Pv47FdFvojDXbRbexhlBV68AGemKvJYw2tpFsHUwwpARo2FV2eZLiBtXL2LH5qPwv+sk2uI4Ht3JORDmFsChQ3s5rpTk8UNg27ZteBkUghmzF/AznHNjNNWVkF8gmMnOFOExYwKaN2uKwYMHc64mEkQEJInA+/fvsX79esyaNUvoshnDev/+gzAyqoj9+/eUOf7du3fB7HI3MjJC//79yxyHn4nzvbzw4P593gGtzM52Ni8y2dmkT7mJgHQSeNKR+bf+U4sYcfZkr32OTHa27ygy2dleAcpPBIgAqwTIZGcVPyUXAwHfNWtQIqeMPv3LbpIdPrAbYaFRqGRmCGOTSogIewUzcwv06P3jf8IDnj/BisUb8PBuDTFUx80URsbxsKsSjfPnT3FTIKkSmACzS/TEydOYOWeRwHO5MEFFSR5qKorIyM4XSM6mdSvRolljtGzZUqB5NJgIEIHvCbRp0xZFhUpQUABatmoMd3d3oSHq3XsAwkKUYWicjitXTggtrigDffjw4Uv43/WQF6WGz7HJZBcHZcpBBGSLwOP2swCm5RZzHo4Yv9Y57y1boDlYLZnsHFwUkkQEiID4CJDJLj7WlIkdAikpKfj777+xeOUGVDQ2EbkIpqf7ep+VeBVUBWmphiLPx7UE8vLFqFX/DiZPHosuXbpwTR7pKSMBpq3C9Ru3MX6K8HehllGSQNNUlRV4fdnfpn4UaJ63pxvq1qkltJ3sGRkZvHYW/La0EEgsDSYCHCawadMmHD58AkkJJtDVT4OmZglatGwKTU1NtG/fHpaWljzj3cDAgPdn0KBBfFfTunV7vHxSH041n2Hw4J5Ce7/yLUDCB5LJLuELSPKJAAcJPGr33wepn88+/axRxK/rXiSTne3bgUx2tleA8hMBIsAqATLZWcVPycVEYNfu3Xj06AncPcXzCGFgwHOsWbkM0VG6iIu1RlGhopgqZT+NY42nsLNXx549O9kXQwqERoA5RFhDSxcjxroKLaY4A1XUVUVRUQlS3ucJlHbnlvWoUa0KOnfuLNC8Xw0eMWIE1NTUWG8PIZRiKAgRKIXAmTNnsHnzLsjJFQNQQE5OJqIjHZCZrg9tnTToGyVDSbkAqqqZKIE8CguUUVSkBBXVLMyZM5uvXuWrVq3CsaP3Efi0DoyM42BbJQ7nzh+ntRGAAJnsAsCioUSACPBF4GFbd1Z6ste9KJlPXPIFVUIGkckuIQtFMokAERANATLZRcOVonKLAHOI6YgRI9G7/xDUrF1PLOIS373Fji1bEBb6EnJySsh6r42Ap1XFkputJCam0bC2i8eWLRtgZmbGlgzKK2QC+/btw+MnzzBdQvuxMzh0NJR5PUEzcwoEorN90zrIleRj9uwfD4YUKBCAe/fuYcvWbbzzIVo0b4o+ffoIGoLGEwGJIeDn54fDhy4hId4YBXkqKC5WQPZ7beTnq/xQg4pKLpSU85Cdpc37Xs36tzB0WF++drOPGzcOD+7lIDK0KlTUPsDJ5RGGDevPe4KNLv4IkMnOHycaRQSIAP8EHrb1+K8n++fO7F+3sH/q1C6a1/UufW+yX7j+EOt3nkBBQSFMjPTgOW0oLM0qYoLHGrRtXgdd2jTivygayRcBMtn5wkSDiAARkFYCZLJL68pSXf9PgDnQjDG4vFesFzuc9LRU7N6+Bc+evERqsj7eRJmjIF9Z7DpEmbBq9ZfQ1MrE6tWLUb16dVGmothiJLBkyRIEh4RipsdC6OrpizGzcFMx7WI0VBUF3sl++cJpZGckgzHyynutWbMGKenv0ahJS5w8uh9+G8T/b1F5a6D5RIAfAs+fP8e0aW6ICKmOjDQDfqbwxjCHiptXjkQls1ycOnWYr3mdO/VAZJgxEuKseOMtrF/BsXohDh7czdd8GgSQyU53AREgAsIm4N+GMdk/G+ni+1r/8oIvpSSlZKDrEHcc2TwfZpUMsffoZVy59Rg7fWeRyS7sBf8mHpnsIoRLoYkAEeA+ATLZub9GpFB4BNxmzYKBkSn6DxouvKACRIqKCMP+PTsQ8yYJebn5yM1VQ0SYOXKytASIwr2h6hWyUM3lGXx9l8PJyYl7AklRmQmMGDkSf7Ttguat2pQ5BhcmKinK83qyJ6bnCiTn+pULSHkXA1fX8rXJYZ4G2L9/P6a6eaKKYzUsXeCBunVq0m5bgVaDBnONQGJiIipWrPiDrKFDRyI6Oh5P7zcXSHL1Wo+gq1+CvXt3QEuLv5+LTD/2Fw8bo6Dg0wfXhsZxcHBKwJkzRwTKLcuDyWSX5dWn2omAaAg8aD1HNIFLidrgyleT/fGLV1iwejdO7vy0uz38dRyGTVmG28fXfGey33n4Egt99mD/eg/o6fL3s4eV4iQkKZnsErJQJJMIEAHRECCTXTRcKSo3CSxctAhaOgbo1Y//A9VEUUnwyxfQ0dPD7RtXcOXifdy+JtnGtKV1GCwrJ+PMmdOiwEUxWSJw//597D94CLPmSschUgZaKviQV4gPeUV8E7114wri34Rh6tSpfM/5/4ELFizAi4CX6N6zH1q16cD79tF/90JTXQlDhgwpc1yaSATYIHDnzh1s3boTcXFvIQcFdOnaBhMnTvwi5cSJE1izZjNCAmrjY46GQBJd6t3FH63rYs4c/syZ4uJitGndGc/8m6K4WJ6Xy8TsDcysYnD58lm8evUKDg4OAmmQxcFkssviqlPNREC0BO7/MYeVnuwNrnh9KSw75yM6DXTDpmVTUcXWApv2nEZkdDyWeYz5YrJXq2KNUdOWw2/pFNhamYoWioxEJ5NdRhaayiQCRODnBMhkpztDlgg8fPiQ1zJm/mIfTpRdVFSISWMn4PolGxQWKnFCU1lEGBnHo3mrD9i2bVtZptMcjhLwmDMHDo4u+KNtR44qFEyWgrwc5OXlUFDIHMLI33Vw7w7euQob/fz4m/CTUe7u7jA2tUKvfgO/fPfOrWuIehUIN7eZZY5LE4mAOAl8+PCBZ6ZHR0cjLaUiUpOMeX3WrR2C4eBgjk2bNvDkdGjfDZFhFkhKEOxcDmOzaNhVScTp00cFKqtdu+4ID7ZBWorRl3mMWa+mXoL8/CI4O1cBcziqpF/BwcFwdHQUSRlksosEKwUlAjJN4P4f81jpyd7w6leTnVmAU5fuYc6ybdBQV4OKijJ2+syEhemnnuyNajvh4MlrmDm+PxrVkewNT1y62chk59JqkBYiQATEToBMdrEjp4QsE5gzdy6UVCpgxJivO+/YlLTQ0x03L2cjNtqGTRnlym1g9A6166Xi8OE95YpDk7lFoH//ARg7cTps7GR3J2heXi5WL/HEP/+MRZUqVQRaoKKiIvj4+iIq6g1meCyEktLXD9JePH2E08f/xQbqyy4QUxrMHoGOHboh670CosKqICf70wGlzCUvXwRHl2dQr/ARqqpKyM/PR9wbU8QJ8DNNQbEQznWeYNlyd9SpU0egIlu37oig59/vmjcwSgATsyBfBVZ2IWjbthnc3NwEisulwWFhYZgxcyY6d+6MEcOF3+6OTHYurTZpIQLSQeBeK8ZkF18v9s/Hqza65vkF4KvIWEyY7YsdPm4wNTbAxRuP4Lv1CE7vXoxJc9fh0fNQoKQEe9d70C52Id52ZLILESaFIgJEQPIIkMkueWtGistPwMfHByGvwtBvwFA4VK1W/oBljBAXE435HrMQFFD5u114ZQzH2jQ9gyQ410zAyVMHWNNAiYVLICIiAp7z52OZz2bhBpawaIcP7EZ2Zipmz3YXSHlKSgqWLl0GfSMTDBo25oe5JcXFmDllLNq3a0t92QUiS4PZIDDg78GICs9DSEDNn6ZnjHYd/RRoaadBQaEIryOqorhIQSCpVaq/gK7+B/Ts2RkjRozge27btp0Q9coOKUkmP51T0SQW1g7xOH/+ON8xuTaQMdm9Fy9GUlISzp09K3R5ZLILHSkFJAIyT+Buy69mtzhhNL7+Ne/uwxfxMvQ1ls/5+nuYS5sRuLBvGRat2ctrIVPRUBeHTl7HAb85UFAQ7OeWOOuSpFxkskvSapFWIkAEhE6ATHahI6WAEkLg5MmT2L//AGrWqY8/+wyAhobmb5WrKMlDS10JaVn5KCouEVqVk8f9g7s3jPA+U1doMcUdqJJZNCrbJuD8+RPiTk35RETAz88P+UXy6P0Xu+cXiKg8vsNOdx2Fbl27oE+fPnzN8ff3x61btxAQEICmLdqgc/feP8y7ee0S9u3aAg1NTczx8KDDgvkiS4PYIjB27Fi8DEhE4NP6IpdgaBwPM8t4GBiqws7OEt7evz8P4tixY1i/bgue3G/xS22GFeNRpXosTp+WXJM9Pj4e8+Z5IjklGevWroW5ublQ14JMdqHipGBEgAgAuNvCE5CT4+0U/7qhXfSvG19ndtB/uu49CsS8FTtwaLMndLU1cf9JEKbN98Ot476YNG892javgy5tGmHUjJVwcbTBP0O609oJgQCZ7EKASCGIABGQXAJkskvu2pHy8hPIy8vD9h07cOniJfTo3R+t23X6bVDmoEJ1FQUkZ+ShmPmlUQjXqeOHsGfbOSQlGqG4WA4lJZ/+pCYbCyG6eEIYV4pB0xaF2LZNtnc9i4e2eLJMnjIFtes3RavW7cWTkINZli2cA+OKBqW2mQgPD8e5c+cQHBICNbUKkFdQhK2dA7r3+uunVT1+eB8nj+yDkZERFi9ezMHKSZKsE8jNzYWqqiqGDRuFt2/fIjzYTmw/k+Tki2FiGg1jsxjo6WngyJFDv1wOLy8vnD31Cq+CavxyjLJKLmrUuY8rVy5I9LK+e/cOrq6uqOHsjNnugj1ZU1rhZLKXRoi+TwSIgKAE7raYz0pP9sY3vt9Bv3X/WRw9ewuM56GloY4Z4/5CHWeHLwefMib7u6Q09Bo5D5uXT4OjvaWgpdL4/yNAJjvdEkSACMg0ATLZZXr5qfj/CISGhmLr1m1Iz8xE+07d0bhpy1+yYUz2vIJioe1mfxsfi2uXz4Pp38wchJr1PhfPnjzA4/sNJeYw1CpOwejVpxpmzJhB95SUEOjVqxe8lq6Bjo7kPmFR1qX4kJODbZvWoCD/I2a5uUFfX/+3oZYuW4acjwWwtrFF2w5dS0379m0cDuzajJUrlpc6lgYQAXETYHqqd+7cFRoa6khPz0fOe228jbVEdtbXPuzi0MS0oLGtGoSKxrkYN34k2rf/8QO/Dh264W2sPqIjf39uhEv9uxgxoo/Et2Zav349Ll68yPtwzslJeIf0kckujjuachAB2SJwpzljsov/anLz60528WenjAwBMtnpPiACRECmCZDJLtPLT8X/H4GHDx/i30OHkJWVg/adu6NBo2ZiZ3Tz2mXs2XEQd67/emee2EWVkrBWvQdwn/0P2rZtyzVppKeMBLp264ZV67ZBXb1CGSNI3rTXURE4dexfvHj2GDVr1cKihQshLy//20IKCwvh6joZnbr3gUst/g5s3LV9I/I+vIfnPPqPoOTdJdKvuG/fv/E6AtDSTYacXDGCX9RDTpYWa4VbWr+Gjn4aVFU/oGevrhg1ahRPy9WrV7FggR+e+9ctVZtZ5XBUMkvBtm3Cb7VSanIhD3j27Blq1vx5b/yypiKTvazkaB4RIAK/InC7mRcrcJremstKXkr6lQCZ7HQ3EAEiINMEyGSX6eWn4n9B4P79+9i2fTssrWwwfIyr2DnNdXNHaHAq3kQZ432GntjzC5JQTq4EdRrcw9Fje6CjoyPIVBrLYQJMu5hWbTujdt2GHFYpHGkH9+7A27gYME+VODjYY+LEidDV5W8H/+rVq/EmJh4zPRbwLWb8qL+xft06mJj8/KBGvgPRQCIgZALMWSWrV23H84eNYFMlGCqqHxEZ6oi8XDUhZxI8XCWLKJhaxKFmTSdeT/Jz5y4gIa4S3kTY8hXMyeUZevdtgEmTJvE1XpYGkckuS6tNtRIB8RC41dQLcpBDCUrE+rXp7TniKZCy/JIAmex0cxABIiDTBMhkl+nlp+J/Q4DpQzvfawGatWyLliz0pfacPR23rhXibawVp9dJ3zARdlUicOnSaU7rJHGCEZg2fQb+aNcVzjVrCzZRwkbfvnEFB/ZsR9euXTBs2DCB1e/cuRNpmR/Q7++hfM8dNbg3jhw5wut5TRcR4BKBadOm4eGDNwh4UvrucDZ0a2plwNA4CRU0c5D41hBJCWZ8y6hsFwynGkXYu3cv33NkZSCZ7LKy0lQnERAfgVtNFrLSk73ZHTLZxbfKP89EJjvbK0D5iQARYJUAmeys4qfkHCcQGBiI3Xv2IDMzC6PGTYFJJVOxKb566Rx2bTuLh3ftxZazLIlc6j5Bq1ZO8PT8/qChssSiOdwhsHz5ciQkJmPaLHZ6aoqDxJWLZ3Du9DHM9/SEg8Pvezr/Ss/Ro0fh//gZJk2bzZdkpiXNlvWrsHPnDr7G0yAiIE4C3br1QHysJiJChNfvW5z6f5erskMQqlUvwZ49e7giiTM6yGTnzFKQECIgNQRuNmZMdvFfze96iD8pZfyOAJnsdEMQASIg0wTIZJfp5afi+SQwevQYdO35F2rWrsfnjPIPO3PyCLasv45Xwdw12RUUC1G7/m1cuXKx/AVTBM4RmD/fC+qauhgweATntJVHUF5eLvbu3IyYN5GY4+EBCwuLMocLCAjABr9NmLtwBV8xjvy7B8zhySOGD+drPA0iAuIi0L17X8TFqEilwc4w1NFLRpXq4bhw4aS4kEpMHjLZJWapSCgRkBgCNxotYkVri3v8bXpgRZyMJCWTXUYWmsokAkTg5wTIZKc7gwiUTmDjxo1QVNVCxy49Sh8spBFuU1wR8CwPUeFVhRRR+GEqaGShRq0AXLxIrWKET5f9iAUFBXB1nYTOPfrCpRY320cISokx2H2WLYCaqjKvN7OxsbGgIX4YP278BAwYNBJWNnalxlo8fxZGjhiGGjUk52DjUouiARJPYObMmfD3D8Vz/0YSX8vvCnB0fgkNzQy0bNUYkydPppZN/8Eik12qb3sqjgiwQuB6w0WQk5MD4zWI82uLe+6s1EtJvxIgk53uBiJABGSaAJnsMr38VDyfBM6ePYtnAcEYNmo8nzPKNyw25g3mzZqDezfrlC+QiGdbWoejss17nDp1WMSZKDxbBI4fP4579x9i8sy5bEkQWt7goAAcPbgHLi41MHrUKKHFZfpYGxqbY+DQ38cMDQ7Ewb1bsXnTJqHlpkBEoDwELl26hK1btyI19T1iIh2QnFipPOEkYq6WThoqWcRCSzsbgwf3xYABAyRCtyhFkskuSroUmwjIJoHrDRd/6cn+iYCcWF63vE8mO9t3HJns5lQN3wAAIABJREFUbK8A5ScCRIBVAmSys4qfkksIAabv8p17DzDd3Ussih8/vI+Na7fg3s1qKC5WEEtOQZOoqeeges2HGDt2FHr27CnodBovIQQiIiIwbtw4rN+yF+oVNCRE9c9lLpw7A7VqOmPECOG2v5k0aTIaNm2Fpi1a/5bPrm1+sLY0Rd++fSWaI4mXXAIhISGYPdsTmRkfISeniMLCImSmGyDpnTFysrQkt7AyKNc1SIKlTQTsbE3gu2YV1NXVyxBF+FPmzZsHDQ0NTJ8+XfjBfxGRTHaxoaZEREBmCFxrwJjsny45OaCk5Gvponzd6sEsmWHM1ULJZOfqypAuIkAExEKATHaxYKYkEk7g5cuX2Lx1G2bN/foLoyhL2rNjG47964+QQO4ePlej1iO0blOdDjwV5Y3AkdjLli2DfkVzdOjcnSOKyibDfdo4LPZeBBMTk7IF+MmssLAwTJs2HUtX+0FbR/e3cZn8S5csRsWKFYWWnwIRgd8R2Lt3Lx4/fgxDQ0PcuPEARUVFyMrUw5twB6iofkR2lrZMA1RR+QgL60iYWeTi+An2n8jKzs7GiBEjoaWjA1VlJd4HguJoLUUmu0y/Dah4IiASAlfrLxG7wc4k/MPfTST1UFD+CZDJzj8rGkkEiIAUEiCTXQoXlUoSOoHw8HAsX7ESnt6rhR77ZwFTUpLgMX0ublzmZj92e8dAWNsU4dChA2LhQUnYJcB8yLRx0xbMnr+UXSHlzL53xyaoKMnB1dW1nJG+TnefPRtGxubo03/wb2M+feyPG1fOYsXy5ULLTYGIwK8IMLugnz8LQV6+EooKVVBUKI/4GAtkZf7+gyBZJGpglAAru1B4e3uhXj3xHW7+K9aXL1/Gpk2bUc25FjJSk+HoWAWjhNje6md5yWSXxTufaiYCoiVwpd4SsfZi/9z7/Q//maItjKKXSoBM9lIR0QAiQASkmQCZ7NK8ulSbsAgEBQVh8eIlWOa7WVghfxsnPT0N0yeOx53r9cWST9AkNes+gNus0ejQoYOgU2m8hBJYsmQp1DV10avfQAmtACgsLMTi+W4YPGggGjRoUO46fHx88PDRI0yYPAuWlW1+G2/7prVwqmqHHj3Ed3hyuQukABJHIDExEZNcp+Dt22xER9ohI81Q4mpgQ7CpRRQq26XhzBn2d7Mz9R88eBBHjx5Dm/ZdcPf2NdStWwfjx40TGRoy2UWGlgITAZklcKXe140ZTKcYpiP750uUr1s/JJOd7ZuOTHa2V4DyEwEiwCoBMtlZxU/JJYRAYGAg/DZuwuz5y8SiOOFtHNwmu8H/bl1ePgXFQhQVKoold2lJ5ORKULfRdRw7dgRaWrLVw7c0NtL8/fT0dMzznM/rPd68ZRuJLXXvzi3QVFfC2LFjy1VDfn4+OnfujC27D0FJSaXUWONH/g0/vw3UKqZUUjRAUALBwcHw89uCpMQUpKW/Q06WPkJeOqOkWF7QUDI93qXePUydNgJdunThBIcHDx5g/4GDcKhaHczTbWnJifDymg9tbeG3+CGTnRNLTiKIgFQRuFT36/+ZRNmDnYH2bfy2j2ZIFUdJLIZMdklcNdJMBIiA0AiQyS40lBRIiglcvHgRDx49xcixk8RS5evIcKxYvBjZWcUoKipBBQ1lfPwoh9g3mkiItxCLhp8lqWgSB3OrKOjr6+Dw4f2s6aDE7BB49uwZduzcjYnTZkNdvQI7IsqZ1f/+bZw5cQh+GzZAWVm5zNHOnj2LU2fOYt7ClaXGePHsMS6cPgpfX59Sx9IAIiAogTFjxiEyMgz5eRoIfl4LBQVlv68FzS1N480rh6OSeQIUFZXh6joWbdu2Zb28pKQkbNy4CXFx8SgsLoJNZSvMnj1b6LrIZBc6UgpIBGSewMU6y4CS/wzwzzTE8LrdEzLZ2b75yGRnewUoPxEgAqwSIJOdVfyUXEIIbN++HXlF8uj2Z1+xKc7Ly8Pb+BjEx8XC1q4KXoUEYd+uvXjxxAqZGXpi06GgUIjiYgWoqn1A9ZqP4Oo6jjM7/cQGgRJ9ITB69Bg0aNIS7Tp2lUgqzM+8of2749KlS+XS/+7dO0yZMhUr1m4tNc7enZtRUpiLmTPpEeZSYdEAgQm0bfsnst8r4V28KdJS6FBdgQH+N4E5CFbfKAGqavnQ1U/AlCkT0KlTp7KGE+q8R48e4f79+2jfvj3s7e2FGpsJRia70JFSQCIg8wQu1FrGSk/2dk+myzx7tgGQyc72ClB+IkAEWCVAJjur+Cm5hBDw8lqA6jXro36jpqwqdpsyBVcvaCPrvY7IdCgq5kNDMwua2hnQN0gDs9lXTi4LkCuBtbU9Nm1aL7LcFJj7BObN80TtBs1Qp15D7ov9icKcnGys9J6LjRv9yqW/oKAAgwYPxrhJbrC2sfttLPdp4zDbfRbs7H4/rlyCaLLMEmjbthOiQu2RkmwsswyEXbi9UzB69naUmQ/GyGQX9h1E8YgAEbhQi52D3ts/JZOd7buPTHa2V4DyEwEiwCoBMtlZxU/JJYTA6DFjMHj4OFhZ27Kq2HP2HNy6lo23sVYi0WFkHA8Lq0ioqqmiatXKvMMhu3XrVq62GiIRSkFZI7BwkTccq9dGg8bNWNNQnsRPHt3H6eP/YvOmTeUJw5u7d+9ehLyKwLhJv96h/i4hHsu95+LAfmqvVG7gFOAHAtnZ2ejerQ9ePG6AgvzSzwYghPwRMDaNRmW7aJw/f5a/CRI+ikx2CV9Akk8EOEjgfM0VX1SJsyd7h2fTOEhDtiSRyS5b603VEgEi8H8EyGSnW4IIlE6gc+cuWLraD7p6+qUPFuGIyxfOYO/Og5CXl0NRkSYe37fltXIpz1XZNhQqKsXQ0EqBqqoahgzpiz59+pQnJM2VYgIz3dxQQVMXI8ZMlMgqMzMzMc/NFTt2bEeFCuXrK88ciOzjuxZeS37da505aDUlMQ7Llonn0GSJXBQSXWYCQ4YMQUhQPl4FOpc5Bk38OQGHaoEwqZSHTZvXSv2BxWSy07uACBABYRM4V3Pl157sJczppBDL647Ppwq7FIonIAEy2QUERsOJABGQLgJkskvXelI1wieQmJgI10mTsWrdNuEHFzBi7sePiIwIg6KiItb5rMT9W5WRnaUlYJRPw5WV82BjHw4d3QzUreeCnj17ombNmmWKRZNkh8CJEycQEhaFwcPHSlzRz58+wqnj/8LUxBhz5swpt/6UlBSMGTsWazbu/mWs+bOnYMzoUfTeKjdtCvAzAh079EDEKzMkJZgRIBEQcKj2Ajp6WRgwoDcGDRokggzcCEkmOzfWgVQQAWkicNZ5JSs92Ts+nyJNGCWyFjLZJXLZSDQRIALCIkAmu7BIUhxpJfD48WPsP/Avprl7carEscMG44l/ZbzP1BVYl0XlcFQ0iUdVxypYt/bXu3AFDkwTpJ5AcHAwfNesxbxFqySm1ts3ruD2zSv4kJMNF2dnTJwovF3448aNR/WaddG1x/dPf+Tn5+PqpbO4ff0ydu7cITGsSKhkEZg+fTru3YlD0HMXyRIuQWqt7IJhYJSCFSsWwcVFOjmTyS5BNyRJJQISQuCs89ffEz9vZP8sXZSvO70gk53tW4RMdrZXgPITASLAKgEy2VnFT8klgMDx48cRHhmDv4eO4ozaqMhwLF/kg1tXrVFUpCiQLg2tTDjVeIzmzZvDw8NDoLk0mAgUFRWhQ4cO2Lr7CBSVlDgNZPP61QgNfglbWxtUq1YN/fr1E7reixcvYv/+A9DR1UPNOvVR3bkWLpw9iajwUOjr66NJk8bo2rWr0PNSQCLAECguLkb7dl0RFlwFGWmGBEVEBIxNY2BpE4t9+7bDwMBARFnYC0smO3vsKTMRkFYCp2usxude7OL82vnFZGlFKjF1kckuMUtFQokAERAFATLZRUGVYkoTgblz58LQ2Bw9+/7NmbJ2bl2Pm9euIz9fB08eVOdbF9MipkatR+jWvQ1cXV35nkcDicC3BFwnTULr9t1Qu24DzoJZ77MMmRkpGD1qFKpX5/89UtaCNm3ahFevwpCZmYFmzZqhS5cu0NPTK2s4mkcE+CLg7e2Ne/cfICerGM8fNkFJCdP0li5REHCq+RT9BzTDuHHjRBGe1ZhksrOKn5ITAakkcKqGj1h6sH85VPW/nu9dX06SSp6SVBSZ7JK0WqSVCBABoRMgk13oSCmglBHw8JiDBk3/QK069TlV2Ytnj3H+7Ck8uJ2M0KAqfGkztXgNO4dEnDp1gq/xNIgI/IzAgQMHcP/BI7jNXcRZQGtXecPCrBLGjhVv7/icnJxyH6jKWagkjHME/vyzNzIysiEvX4SXjxsjL0+VcxqlRZBF5TBY27/HiROHpaWkL3WQyS51S0oFEQHWCZys5vNNT3agpARied31JW0iYnvxyWRnewUoPxEgAqwSIJOdVfyUXAIIMD2X+w0aCRtbe86pZYz2lUu24+FdB760udR5jF69mwm1JzVfiWmQVBGIjY3FjJluWLl2K2freuR/D3u2b8SRI9JniHEWOgkTO4F27TqhqKgASW9tkfi2IpnsIlwBPcN3cHB8jfMXpO9DajLZRXjjUGgiIKMETjqxc+ZTtyDayc72LUcmO9srQPmJABFglQCZ7Kzip+QSQKB//wFwm+sNA0Mjzqld7j0fjx4kIOBpVb60VakWhI6dbODp6cnXeBpEBH5FoE/fvpgyYy4srKw5CenS+VMIfvkUy5Yu5aQ+EkUEhEHg1KlTWLNmPQKfNkDuR3VhhKQYvyCgpZOG6rUicPbsUaljRCa71C0pFUQEWCdwwtEX+K+Fy/+3dBHl6+5BtJOd7cUnk53tFaD8RIAIsEqATHZW8VNyCSDQsWNH+G0/ACUlZc6ovXfnBg7t34/XkYqIeGWDokL+Dj+1dQhE3foVwPSPposIlIfA2rVrUVCsgH5/Dy1PGJHN9fKYjj69/0SrVq1EloMCEwEuEBg8eDBehRYgNMCZC3KkVoOZZSRMzONx+fJZqauRTHapW1IqiAiwTuC44xpWerL3CJnIeu2yLoBMdlm/A6h+IiDjBMhkl/EbgMr/LYGHDx9i1649mO21jBOkmPert+ccRITHICFeE28iBWth4+QciH5/1aVDTzmxmpItIi0tDbM95qBN+65o0LgZ54oZN2IAdu3aCS0tLc5pI0FEQJgEXr58CVdXNzy9z733oTDr5EKsGnX80e+v1vjnn3+4IEdoGshkFxpKCkQEiMB/BI5VWfNND3Y5MP+HkZMT/dceIRNoDVgmQCY7ywtA6YkAEWCXAJns7PKn7NwmsGDBQphXtkfbDl1YF5qenoaVi70R8CwPYSG2ZdJTq/5DDBjQASNHjizTfJpEBL4lcOPGDfj6+mLqrPmwtrHjDJzkpET4LF+AHdu3cUYTCSECoiTQsUMvREfpIz6Gm+2bRFm7OGObWkbCxj4Np04dEWdakecik13kiCkBEZA5AseqrGWl5j9DyWRnBfw3SclkZ3sFKD8RIAKsEiCTnVX8lJzDBKKiojBj5kz4+u3i7bxg87p/5yb27tyF1xF6iIowL5MUe8dAGBhm4cKFk2WaT5OIwM8I7N69G/6PHmO2J3d6n3u6T4FzjWoYN24cLRoRkAkCvN3sE+fixeM6fLcPkwkwQi7SoOJbNGyaiT17dgo5MrvhyGRnlz9lJwLSSOCIwzp87r0uzq89Q8dLI06JqolMdolaLhJLBIiAsAmQyS5sohRPWgjcunULh48ew6y5i1ktKS42GgvneiA2Wh2RYY5l0uLk/AyGhkVYsdIb9vaCtZgpU0KaJFMEvLwWoJKFDTp26cFq3c8eP8SFcydgXNEQw4YOhYmJCat6KDkRECeBQYOGIuCZIt5ElO1JJ3FqldRc9k4vYG1bjIMHD0pqCT/VTSa7VC0nFUMEOEHgiMN6lJRA7EZ77zDaYMH2DUAmO9srQPmJABFglQCZ7Kzip+QcJhAQEICt23bAba43ayoT3sbBy2M2gl8aITHBrEw6TEyjYV8lCafPHC3TfJpEBEojwDz1MXnyZCxdvRFa2jqlDRfJ99PTUuHt6YYaNapj5syZIslBQYkAlwm8efMGw4ZOwfOHdVFcLM9lqRKrrWb9hxg2vDsGDhwosTX8TDiZ7FK1nFQMEeAEgUN268XSg/3/e733DpOuMzM4sZgCiiCTXUBgNJwIEAHpIkAmu3StJ1UjPAIRERGY7+WFpas3CS+oAJFeR0Vg8fy5SElWQlhwDRQWKgow+9NQVbUPcK59H15eXmjYsKHA82kCEeCXAGNsV9DUw4ixE/mdItRxjMFuZ2cD14ns5BdqMRSMCJSBQEZGBnr+ORBP7jcpw2yaUhqBChrv4ejyApcvnyltqMR9n0x2iVsyEkwEOE/gkN0GVjT2CSeTnRXw3yQlk53tFaD8RIAIsEqATHZW8VNyDhO4fPkyrl6/hYlT3VlTOXfWFKioqCIiLAZBL2zxPlNXIC2O1QPQopUFlixZItA8GkwEBCWQnZ2NwYMHY8yE6XCq7izo9HKN37drC0KDXmDbNjrotFwgabLEE2jduiPCAmsI/LNC4gsXQwGV7YJQyTwdZ8+eFkM28aYgk128vCkbEZAFAv/abBB7qxim93ufiO9N9oTEVMzy3ozAV29gbmqEhTOHw8neChM81qBt8zro0qaRLCyHWGskk12suCkZESACXCNAJjvXVoT0cIXAlKlT4eDojC7de7Mu6cG9W9jqtwEF+eqIeaODhHjLUjVZ2YSiklk6HXRaKikaICwC69evx4uXgfBctEpYIUuNc+/OdWxe74PVq1fDycmp1PE0gAhIM4HBg4ci4Lk8XofR2RvCXmcL61eo7pKHffv2CTs06/HIZGd9CUgAEZA6Av/a+LHSk71f1NjvWA52XYwWjVwwsGdbHDl7E88DI7Bk9igy2UV4x5HJLkK4FJoIEAHuEyCTnftrRArZITB37jy41G2MBo2asiPg/7JGhIUiN/cjzpw4iZCgWES/1sW7t+Y/1VbRJA6W1hFo1qwR5s6dywn9JEI2CHh7L4aahjb6Dhgq8oKZ98TaVYvx55898Ndff4k8HyUgAlwnEBsbi6FDhyPwaUPkflRnRa6mVgavJ7y8QhEUeH8KkZurhpwsbVb0CCuptUMoOnc157Vfk7aLTHZpW1GqhwiwT+BAZT9WerL3ixrzpfi4t8kYNNEbVw6tgry83HdQvt3JfufhSyz02YP96z2gp6vFPjwJV0Amu4QvIMknAkSgfATIZC8fP5otvQS2bNkCKKihU7eenCvyyME9OH/2DBJizREV8b3R7uAUAG2dTHh6zkKTJtSbl3OLJ+WCPnz4gKlTp2Ho6IkwMy/9iYuy4ggMeI61q7zh6uqK1q1blzUMzSMCUkegR/c/Ef1aA1Fh4nuyw9g0GopKBTAwSoGiYi4UFZUgr6AIBQUlFBcXIS8vB1mZ+khP1UX2e218yNGUOO7MoaeDBnfG0KGi/wBR3HDIZBc3ccpHBKSfwP7KG1kpsv/rryb71TtPsffoZVhUMsLdx4EwNzHEnMmDYG1Z6ctO9mpVrDFq2nL4LZ0CWytTVjRLW1Iy2aVtRakeIkAEBCJAJrtAuGiwDBE4e/YsngUEY9io8ZysOjU1BSu8FyIooABhIfaQly9C9ZpPUNFYBaNGDUXbtm05qZtEST+BgQMHYeK02TA1sxBJsTevXcLl8ycxfPhwNG7cWCQ5KCgRkFQCzE7rK5cDEPC4rtBLYHamm1rG8D7I/ZCjzDtcW1U9C4qKKqhWzRbNmzdH165df5p33rx58Pd/huLiQhQWyONtrAWSEsx5u965flWsFItqLik4evQg16WWSR+Z7GXCRpOIABH4DYF9VptY6cne//XoL6pOXLgDr1W7sHHpFNR1qcIz3I+dv43j2xbwTPZGtZ1w8OQ1zBzfH43qiO+DaWm/cchkl/YVpvqIABH4LQEy2ekGIQI/J7B161YEh4Zh2qz5nEY0a+okPH+iiLy8IlR1SsXx44c5rZfESTeBW7duYf2GDbz3jShM9o1rVyIiPARjRo9Gs2bNpBsmVUcEykBg6dKlOHo4GGFBjmWY/fMpmtrpMLOMQgXNTJiamsLGxgqqqqp4/fo1JkyYAEdHwXKdO3cOu3YdQEpyMp7cb/lLncoqucjPUxVaHWUJpKufhMp2kRg3fiB69uTek21lqen/55DJLgyKFIMIEIFvCeyz2sxKT/a/o0d9kcHsZPfbdRJHtnz6v1xxcQlqtRuJ60dWY+7yHXj0PBSMyL3rPWgXuxBvXzLZhQiTQhEBIiB5BMhkl7w1I8XiIcAYFeaVHdDij3biSViGLEmJCZg7aybCQ/RQyTwG8+bNIuOxDBxpivAIPH36FGvXrcei5euEFxTAiSMH8OLZY2hra2L6tGkwNDQUanwKRgSkhcDff/+N4EA5RL2qJpSSqtd+CvUKOTAzq4hRo0ahfv36QonLBGnbtgOSEkzxJsLuh5iKigWoUecekhMrIfb1j98XmojfBLKtEgRdg1QMHNgXgwYNEkdKVnKQyc4KdkpKBKSawB6Lzaz0ZP87euQXrmGRsfjH3QdX/l3J+7ui4mLUajsSd06ug/viLahia4GKhro4dPI6DvjNgYKCglSvibiKI5NdXKQpDxEgApwkQCY7J5eFRHGAwF9/9ccMjwWoaFyJA2p+LiEyIgwL5sxCbq4KzM21sG/fLs5qJWGyQ4DpWfzPJDeBdrIzP4vk5D4dShX9JgqWVta4deMK/O/dRmJCPAyNDNGhfXu0b99edkBSpURAQALTp0/Hi+fBiAyzQ2qSiYCzfxxuXjkclcwTcfHi6XLH+lmAxMREDBkyEglxRt8Z7fLyxXB0eQptnVxERxojLtpWJPl/F5Qx+V3q38Latb6oWrWq2POLMyGZ7OKkTbmIgGwQ2GOxhZVCB8Z8NdkZAT2Gz8HAnm3Qo0NT7Dl6GWcu3cOhzZ5ferJ3adMIo2ashIujDf4Z0p0VzdKWlEx2aVtRqocIEAGBCJDJLhAuGiwjBG7evIkDB//F3IWfdj6I8wp6+QKXzp3CpBkeX0zH3+UfM3QArK0t4OPjI06ZlIsI/JLApEmTYVCx0i/PM4iLjcajB3cRFfEK2dnZYF4XFhb+Z8qXQEVFhddGQkdHm9eaYuDAgbCxsSHiRIAIlEKAMUvDg12QkWZQKisbh2Coa+RCXj4fSsofUFIij/w8DZSUKEBergjyCnlQVgYmuo5C586dS41X1gHv379H795/IS7aDPHR1mD6n5taRkFPTxNZWTl4HV4ZSQlmZQ1f5nl2VQNhbpWLY8ekvwUbmexlvk1oIhEgAr8gsNt8Kys92QfGjPhOUVhUHGYv2YLYt8mwsaqEBdOHfXfwKWOyv0tKQ6+R87B5+TQ42lvSmpaTAJns5QRI04kAEZBsAmSyS/b6kXrREFi1ahXUtfTRtUcf0ST4TdTrVy7g5NEDUFOvAFu7qqigqYHOXXtCQ1Pru1mJ7xKwdtViODlWwdSpU8WukxISgV8ROHjwIE6cOAErG3u0adcJVZ1q8Fq9XDh7AqkpydDW0oaTU1U0aNAA7969Q4sWLaCsrIzo6Ghcv34dAwYMQGpqKszMxG+s0aoSAUklwOwKHzb0H2RnFyH2tTXSUir+UAqzQ9zC5hU0td5DT18effr0QEpKCu+DrLS0NDBnKjC/FxYXF8PFxYX3vnR2dhY5ktGjR+PRg49IiLOCU01/TJ48ESEhIThx/B7SUwyR9V4H7zP0RK7jcwJt3VTYOYZh1671vA/6JPVi1vTff/9FtWrV0LRp01+WQSa7pK4w6SYC3CWw22wrSgAwzyiK8+vguO9Ndu4Skl5lZLJL79pSZUSACPBBgEx2PiDREJkiwJh7jMm3ZtNuaGhoir322Jg3OLB7KzIz0lG7di1kZmbi9u3bMDUzh46uHtTVK/D+LjL8FXr16snbYUj9qcW+TJSwFAJRUVFgDje8fPkyNLW0IS8vhyaNG6Njx45kntPdQwRESGDGjBkIeBGKzIwKSEkyhIJCIc+k1tLOQEXTROjqAhYWZvD19RWhCsFC+/n54cSJc8jPK4G9gyXWr/dFp47dkfROD/pGiUhPMUHkK/G1bDG1iEKTFgrYtGmDYIVwbDTzocmq1auR+/EjmDZeffv2/alCMtk5tnAkhwhIAYGdplshBzneB7dMO8ASlIjl9eD44VJAT7JLIJNdsteP1BMBIlBOAmSylxMgTZc6Ajt27kRyaib+HvL1dHo2ijx9/BBOnzgMT09PWFlZ4fnz59DV1eXt/I2IiMCwYcOgqSn+DwHYYEE5JZfAtWvXeB8COTk5QV5eXnILIeVEQMIIMD87Hvo/5xkczC5CVVU1dOr0B0aO/L5fLZfKYg4c79GjB6ZPn4mc7A8AlOFQxQIBz1Px8mlNsUhldvtXr/MI06cPE2mbHLEUA2DhwoV48yYWxSVFPLO9d+9ePMbfXmSyi2s1KA8RkB0COyptY6XYoW/JZGcF/DdJyWRnewUoPxEgAqwSIJOdVfyUnIMExk+YiE7desO5Zh3W1S32ckfvnj3QrFkz1rWQACJABIgAESAC4iDAtI1iPlRmWtb06vUXUlOyUVCgifgYE6SnGIlUQtUaz+FYTRPbtm0WaR5xBX/16hWWLV+OZi3bIS8vF7Gvw7BgwQIy2cW1AJSHCMgoge0m21npyT707TAZJc6dsslk585akBIiQARYIEAmOwvQKSVnCTCPVh8/eRrT3b04oXG9z1Loamvweq4zj1rSRQSIABEgAkRAlggwT25FRkbyWk89fx6IpHeVEBPpIBIETGudWg1v8PqY6+mJrwe8SIr5JmhMTAymTp2GOvUa4ekTf6xbu+a7NnO0k13UK0DxiYDsEdhusgMlJRC70T783VDZg82xislk59iCkBwiQATES4BMdvHypmzcJjDP0xOO1WujaYvWnBD68eMHrFq7kVO1AAAgAElEQVTihapV7DB+/HhOaCIRRIAIEAEiQATYILBkyRJcvHgPzx40Fkl6U8tIWFon4dy5EyKJz2bQS5cuYdu2bahoYgZdHU2oqqqia5cuvFZeZLKzuTKUmwhIJ4Ftxjt4x55+6sn+uUbRvx7+boh0ApWgqshkl6DFIqlEgAgInwCZ7MJnShElk8DFixfh67sGG7cfgKKSEmeKmOc+BQ3q1cHw4dRjkDOLQkKIABEgAkSAFQJt23RG0HNn5GRrCT2/lV04mreswKlDYYVZpI+vL+LfvkNKUhLS0tN4h1CvX7eWTHZhQqZYRIAI8AhsrciY7OK/RiTSTnbxU/8+I5nsbK8A5ScCRIBVAmSys4qfknOEQGxsLCZMnIgevfqjTfvOHFEF3L5xBdcun8WmjRs5o4mEEAEiQASIABFgi8DgwcMRGvwBrwJdhC6hao1naPmHNby9vYUemysBBw8eAj0DQ9St3xjnzxzH2DGjMW/ePF47HrqIABEgAsIisNloB6/V5deWMcyOdtG/HplIO9mFtYZljUMme1nJ0TwiQASkggCZ7FKxjFREOQmkp6dj1KhR8N24u5yRhDc94W0c5rpNwvLly+Ho6Ci8wBSJCBABIkAEiICEEmAO8pw0aTpSUzTw+lVVFBQo/7ISHb1kaGplIvaN7Q9j1DWyYGwaBy3tVMjLF0NOThEGhlrw8vKAg4Noer5zAbmvry/0K5qjVZsOOHn0IK5fvYD0tDQy2bmwOKSBCEgRgc1GO1HCaxgDsX4dnUQmO9u3EZnsbK8A5ScCRIBVAmSys4qfknOEQEFBAf4ZNx7zF/uwrigqIgyPHt7D8yf+6NK5M3r16sW6JhJABIgAESACRIArBBISEjBmzHjk5GShIF8d6al6yM9T5bWQycrUhZxcCeydgqCtm46iogIEPG6MgnyVL/LtHF9CWzcVtWpVR7NmzWBpaYkKFSrA2tqaKyWKTIe7+2xY2VZF5249v+QY3K8rmewiI06BiYBsEthotPOTwf758NPPhruIX5PJzv79RiY7+2tACogAEWCRAJnsLMKn1Jwi8M8/49C7/xA4VK0mUl0H9myDqZklcrKzoKuvj/S0VKSlpiIzIxVv4+NQUlKM5s2aoWnTprCxsRGpFgpOBIgAESACRECSCUyaNAkKCgqIj09Gako6CgrlIYciWNtUwrZtm9G505/IywdSk7WRlmIAS5swWFnpY9eu7ZJcdpm0x8XFYfLkyXCb4w0TUzMy2ctEkSYRASLADwE/w538DBP6mLHJtJNd6FAFDEgmu4DAaDgRIALSRYBMdulaT6qm7ARWr14NeSV19P5rUNmDlDIzJvo1lni5o3HjJoiJiYGRkRGMjAxhYGDA+5OTk4OOHTuKLD8FJgJEgAgQASIgzQSOHTuG0NBQuLu7fykzLS0NHh6eeB0VjxYt62HmzJnSjOCnte3dtw//HjyIdh274c8+A74bQzvZZe52oIKJgMgJbDDY+V8P9s+92MXzdWzyYJHXRgl+T4BMdrpDiAARkGkCZLLL9PJT8d8Q+Oeff9CgSSu0btdJpFw8Z03C8OHDUL9+fZHmoeBEgAgQASJABIgAEWAILF26DG9iYtCmXRfUb9SUZ359vshkp3uECBABYRNYb7DrazP2z8E/N2kX4etxqWSyC3stBY1HJrugxGg8ESACUkWATHapWk4qpowENm3ahCdPn8PTe1UZI/A3LS7mDdas8sbePXv4m0CjiAARIAJEgAgQASJQTgKFhYW4fv06Lly4iOISYPrsBWSyl5MpTScCRODXBNbp7+Kdesrryf55mBhej08hk53t+5JMdrZXgPITASLAKgEy2VnFT8k5QsDHxwd6RmZC3cVeXFwMeXn57yqMCA/FBt9lOHjgAEcqJxlEgAgQASJABKSXANOazcLCQnoL/E1l0dHRePbsGbp37/7dqNGjx6Bug6bo2PVP3Lx2Cds3r6ODT2XyDqGiiYDoCKxlTHYWrgm0k50F6t+nJJOd9SUgAUSACLBJgEx2NulTbq4QcHWdhG69BqCKo3AOPQ0MeIZzp46igoYmnGvVhamZBWKjX+PpY39kvU+H34YNXCmddBABIkAEiAARkEoC/foNQEpKChQUKqBSJT1Ur+6I8PBwpKS8R2ZmDkqK89C1W0dMmDBB6urfsmULDh8+DGOTSqjp4gx7e3vk5uaidu3aGDVqFLyW+MCkkhk83ScjLjaGTHapuwOoICLALgFfvV2s9GSfmCq6s7XYJSo52clkl5y1IqVEgAiIgACZ7CKASiEljgCzy2uZz2ZoaGoKRfs6nyUwNtSHra0tzp0/D+YxbSOjilBTVcGsWbOEkoOCEAEiQASIABEgAr8m8NdfgxERVoS3MZbQ0kmDYcU05OaqIi1FB9nvdaBvlIDGzYDNmzdLHcZRo0ajVdvOUFRSxOH9u1DRxATRr6NgbmGBkhJ53uGn+3ZtQa2azjh58iSZ7FJ3B1BBRIBdAr56uz+1imFaxOBTyxhxvJ6UTiY7uysPkMnO9gpQfiJABFglQCY7q/gpOQcIBAUFYZH3YqxYs0Voao4d2gdtDRUMHDhQaDEpEBEgAkSACBABIsA/gbCwMPzzzwSEvqyN7PfaP0xkTPZadVNx+Ih0nZMyZ85c5HzIxTT3+bya42NjYGpugZmTx6L/X33x8OFDvAgIwOBBg9CtWze0adOGTHb+bysaSQSIAB8EfHR380Z9NtY/TxH1azLZ+VgcEQ8hk13EgCk8ESAC3CZAJju314fUiZ7AzZs3ceHSVVSooIGU5ES079wDNVxqlyvx3VvXcWj/Dri4uOD58xdo0qQxXF1dyxWTJhMBIkAEiAARIAKCERgxYgRCQzIR+LTODxPtnAJgZ6+E/ft3ChaUw6PPnDmDy1evY6bHwu9UbvBdjvTUJKxfv+4H9WSyc3hBSRoRkFACq3U+meziviZn0E52cTP//3xksrO9ApSfCBABVgmQyc4qfkrOAQJ+fn6QU1IHs/u8Y8eOCAl9hXmLVpVb2evIcJw5cQRFxcVIfBeH+Z6esLKyKndcCkAEiAARIAJEgAjwRyAwMBCuE6fjyf0W301QVslDjdqPcODgdhgaGvIXjOOjmB3q+/YfQO/+Q2BtY/9Frf/929i3cwsmTXJFkyZNfqiCTHaOLyzJIwISSGClzm7IQQ4lKPnam10Mr6dk0FPEbN8uZLKzvQKUnwgQAVYJkMnOKn5KzgECQ4cNg2P1mngXFw0HB3sUySmj2599y63s4N4diAwPQf16ddG4cWPY2NiUOyYFIAJEgAgQASJABAQj0LtXf4SFaiA68tPPYUPjeJha/I+9uwCTsurbAH5vd3d3sEssSEurqCCCYIP5GugHFliAr2IgoaKI8BooKggoiogi3d2wwLLAdnd3fdc5uMuigBsz88zO3M91zbWOzpz4nYfwnjP/kwRTsxps2rS+dY1p6auXLVuGzVu24r7xjyGqR6+mUe7ZtQ37d2/DY48+gq5du1519AzZtXRROSwKdGCBD+2/b6rF3jiNxtrs6nw+lSG74ncNQ3bFl4ADoAAFlBRgyK6kPvvWBoFFixdj965dGDlyJPbt2497xz+O0PCIdg3ts0/mAHW1mDFjOiwsLNrVFt9MAQpQgAIUoEDbBRITE/HEExNRVOgANBjAzqEAw4YNxLBhw9C3b9+2N6wF7xQl7374YQUcHJ0x+KZb0a375bI4VVVVeOOVyZgy5SV07979mqNlyK4FC8khUEDHBObZfa+xw06bH646tYg72ZW+lRiyK70C7J8CFFBUgCG7ovzsXAsE9u/fj/DwcBgaGmLChIfw+dJV7R7VEw+Nw5o1a2BmZtbuttgABShAAQpQgALtE/jiiy+Ql5eH0tJSedDnkCFXlo9pX+uafXdCQgJOnjyJrdu2o7KiEsFhnfDQY083DSI9LQVbN/2J5ISLSEpOxGOPPopx48YxZNfsMrE3Cui1wFxbZQ6UfqWYIbvSNx5DdqVXgP1TgAKKCjBkV5SfnSssUFhYiEceeUTWTfdw94CpuTmmvzWnXaPKysrA3HdmYMWKH9rVDt9MAQpQgAIUoAAFmgtER0fjgw8/hK2dAwYNuQU3Dhp6BVByUgK+W7IIvXr1xOBBg2Bvby//u6OjI0N23koUoIDGBObYfH+5FruBAUTmYKCBn68UT9DYHNnR1QUYsvPOoAAF9FqAIbteL7/eT/7IkSNY9sNKvDztbRw/ehDBIeGwtbv0P6StvY4dOQh7ewfs27MDZcUFmDnzrdY2wddTgAIUoAAFKECBqwqsXbsWYkf+409NRr8Bg6/6mkUL5iEk0E9uIGjpxXIxLZXi6yhAgZYKzLZZ1tKXqvR1r5UwZFcpaBsaY8jeBjS+hQIU0B0Bhuy6s5acSesFVq1ahdTMXDww4fHWv/mvd1RXVWHl8m8Qf+EcTExN5C6NyZMmISwsrM1t8o0UoAAFKEABClCgUWD16tXYuGkznnz2RXj7+F0VJjUlCW/PmIoFCxYgMDCwxXgM2VtMxRdSgAItFHhfhuyNO9gb36T+56+XjG/hCPkydQkwZFeXLNulAAU6hABD9g6xTBykmgQmT56MwTeNQP+Bba/NOn/O27CyMsf0adNgYmKippGyWQpQgAIUoAAF9FEgJiYGU6ZMwTtzPoGHp/c1CT77eA66du6E++67r1VMDNlbxcUXU4ACLRCYZb28Ba9S/UumlTJkV71q61pkyN46L76aAhTQMQGG7Dq2oJxOiwW+/PJLHD12AvdNeAxh4ZEtfl/zFyYmxGHBh+9h5YoVbXo/30QBClCAAhSgAAWuJ7Bu3TqsWLEKI0ePg5WVNULDI2DvcLnG+tHDB7B31zYYGTTgvffebTUmQ/ZWk/ENFKDAvwi8a7UcBgZAQwM0+nM6Q3bF702G7IovAQdAAQooKcCQXUl99q2UwEsvvYSS0rLrfu26JWOLv3Ae77z5Kp5//jmMGDGiJW/hayhAAQpQgAIUoECrBMTGgLKyMiQkJCIm5iz8/APRqXNXnDsTDUNDA9w0bCjuueeeVrXZ+GKG7G1i45soQIHrCIiQvUEWjLl8aeL5G2Xcya70jcmQXekVYP8UoICiAgzZFeVn5woJfPzxx8jOyUVCfDyKi4vw5qwP4e199Rqn/zbE+LgLWPbN56ivq8GYMWNkLfagoKB/exv/OwUoQAEKUIACFGi1QE5ODtavXw9LS0ukpqbiP//5D2xtbVvdDkP2NpPxjRSgwL8IvG0pdrL/VYMduBS4a+D5G2UPcm0UFmDIrvACsHsKUEBZAYbsyvqzd+UEkpOT8cmCBTAyNsVjT02GnZ19uwazft0vSE5MQEpyPBZ++imsrKza1R7fTAEKUIACFKAABdQtwJ3s6hZm+xTQP4GZlj8oMuk3yxmyKwLfrFOG7EqvAPunAAUUFWDIrig/O1dIoK6uDq+88ip8A4JxzwOPqGwUWzb+gaT4c3hjxgyVtcmGKEABClCAAhSggLoEGLKrS5btUkB/Bd6y+EGjtdgba78zZFf+nmPIrvwacAQUoICCAgzZFcRn14oJrFmzBsdOROOZ515WyRjKykqx6c912LdrG555ZiIGDBigknbZCAUoQAEKUIACFFCnAEN2deqybQrop4AI2ZW43qrgTnYl3Jv3yZBd6RVg/xSggKICDNkV5WfnCglMnfoKBt9yO27o2bfdI9i0YR1+XL4Uw4cPx9ixY+Hr69vuNtkABShAAW0ROHPmDJZ8/TV69+qFG2+8Ed7e3rKuKi8KUEA3BBiy68Y6chYU0CaBN81FyG6ABjQ0O/xU/c9nVj5wVYbDJ87h0Rdm4/fv3keArwcmz1iA4YN7YtQt/bWJTSfGwpBdJ5aRk6AABdoqwJC9rXJ8X0cWeOKJJ/DUpKnw9mnbYafN5/7KC0/jsUcfwU033dSRSTh2ClCAAlcV+P7773HseDSMjIyQmZGKrKxMfPDBB+jWrRvFKEABHRBgyK4Di8gpUEDLBP5rtkIedtp4iY/mNfH8nap/huzVNbV44Jm3kZNXiG8/eZ0hu5rvFYbsagZm8xSggHYLMGTX7vXh6NQjMGXKVIwYfQ86RXZtVwc/rfgOpUV5mD59Wrva4ZspQAEKaKvA7DlzUFxSjp59bkRVZQV+/+1n3H/vPRg1apS2DpnjogAFWiHAkL0VWHwpBSjQIoEZZivkDnYRrIsvv8ma6Rp4frWQ/bOlv0JkHpt3HsHHb0/6R8i+51A03v34e/zw2Qw4Oti2aH580bUFGLLz7qAABfRagCG7Xi+/3k7+7bffQZcefdCn38A2GcRdiMWOrRuRm5OJl158AX5+7d8R36aB8E0UoAAF1Cxw6NAhrFixAo5OzrCytICJiQkmT56s5l7ZPAUooCkBhuyakmY/FNAfgelmK+RkNbWDvVH2vb/tZE9MycSLby7Eqs/fwj1PvvmPkL1zeCCemjoPi+e8hGB/L/1ZIDXOlCG7GnHZNAUooP0CDNm1f404QtULvP/++8gvLMGLr7zR6sb37dmB7ZvXY/CggRg5ciSsrKxa3QbfQAEKUIACFKAABbRBgCG7NqwCx0AB3RKYZipCdk1H7AaYVX3/FZCPvzQXEx8ahd7dO2H0o9OvCNn73xCJlWu34dVJD6J/z0jdWgAFZ8OQXUF8dk0BCigvwJBd+TXgCDQvkJOTg6cnTsQTE59HVI9eLR6A+PUy990ZePCB+9CnT58Wv+/fXijabTxIMDk5Ga6urjA3N/+3t/G/U4ACFKAABShAgXYJMGRvFx/fTAEKXEXgdZOViri8X3M5ZF+7cQ8On4jFu6/+R47l7yG7OAxV1LFZ9tkM7mJX4WoxZFchJpuiAAU6ngBD9o63ZhyxagSmvvwyQjt1xR2j725Vg4sXzEP/vr1w++23t+p913rxmjVrcODgIdhYW8PY2Ai7d++WAftDDz2EMWPGqKQPNkIBClCAAhSgAAWuJsCQnfcFBSigaoHXjFc2K8LeWIxd/T9nNwvZn5uxAMeiL8DQUOyoBwqLy2BrbYn3XvsPVv+xC+HBvnBzccCPa7djxeI35AHvvNovwJC9/YZsgQIU6MACDNk78OJx6G0WELvF58ydh8lTZsDWtnUH3IhyMevXrsbXXy9pc//ijb///juWLVuOwOBQWevY2NgEZaWl6DdwME4cPYx9u7fjgw/mwd/fv1398M0UoAAFKEABClDgWgIM2XlvUIACqhZ4VYTsClxzaq8sF9N8CH/fyT58cE+MuqU/nnrlQ0RFBOHZR7m5SRVLxpBdFYpsgwIU6LACDNk77NJx4O0U+Gj+fCSnpOP5qdNgZtay0izLv/0KZmZmOHn8CNBQh/nz57c6pG8c9h9//IFFixbB1c1NlorJzsqCrZ09SoqLERoWhh7dozB+/Ph2zpJvpwAFKEABClCAAtcWYMjOu4MCFFC1wCtyJ7sBZEnMxsY18HxuzX3XnMq1QvbM7Hzc/eSb+GLeVESE+qmaQu/aY8iud0vOCVOAAs0FGLLzftBXgVOnTuHPPzdg9+5duPnWO9CjZx8Eh4b/gyM3Nxt7d27D/r07UFxUhNraOlhYWMDa2grffPNNu/j27NmDmpoaDB06FOnp6aioqEBQUFC72uSbKUABClCAAhSgQEsFGLK3VIqvowAFWirwsvEqUe686TIwkOXP1f78g7prh+wtHTtf1z4Bhuzt8+O7KUCBDi7AkL2DLyCH3y4BEZKvXLUK5mZmqKqqwth7J+CO0eOuaHP2O9NQmJ+HhgYDjLv/IRnEb1q/FiePHca8eXPlIaW8KEABClCAAhSgQEcUYMjeEVeNY6aAdgtMMVwlNrLLYF2TPxmyK39fMGRXfg04AgpQQEEBhuwK4rNrrRBYtWoVVqxYCU8vb8THXYCllRUGDBqGQUNvgYWFJaa/MhnV1dVYsHgpLK2sm8b87ZJFMDcxxIsvvqgV8+AgKEABClCAAhSgQGsFGLK3VoyvpwAF/k1AhOxi47ooFaPJnx/Vcyf7v62Nuv87Q3Z1C7N9ClBAqwUYsmv18nBwGhLYvXs35s6di4jOUcjNzkRmZjrq6+thZGyM+ro6DBpyCx7+z8QrRiP++6y3XoWHuxsefPBBlnnR0FqxGwpQgAIUoAAFVCfAkF11lmyJAhS4JPCi4arLCXsjSmPirsbn81kuRvFbkCG74kvAAVCAAkoKMGRXUp99a5PAzp07sWv3bsSei0VIWASGDR+BQwf2wNcvEDcOHHLVoZaVlmDLpvXYtnk9/P39MWjgQAQEBMiHlZWVNk2PY6EABShAAQpQgAL/EGDIzpuCAhRQtcCLhivlDnY15ulXbf/j+vtVPRW210oBhuytBOPLKUAB3RJgyK5b68nZtF/g5MmTWLZsGZKTUzDkplvRo1df+Pj6X7fh40cP4eC+3TA3N0dqSiLi4y7KNpydnds/ILZAAQpQgAIUoAAF1CTAkF1NsGyWAnos8LzhSs0n7AA+Yciu+F3HkF3xJeAAKEABJQUYsiupz761WSAuLg7rfv8dInTPzclFQGAQwiO7IrxTZ4RHdJZDT0tNxpL/fYrSkiJ5cKq3rx9ysrMQGBCAt9+eqc3T49goQAEKUIACFKAAGLLzJqAABVQt8FzzkF3VjV+nvQUM2TWoffWuGLIrvgQcAAUooKQAQ3Yl9dl3RxEoKyvD/v37ERsbi3Ox51FXV4eC/HzU1dfh5ptvxoTx4/HHH3/IkjGiTEx4eDgMDQ07yvQ4TgpQgAIUoAAF9FSAIbueLjynTQE1Ckw2XAkDA6ChWc0YTTxfUMdyMWpc1hY1zZC9RUx8EQUooKsCDNl1dWU5L3UK5OTkoLa2Fh4eHurshm1TgAIUoAAFKEABtQowZFcrLxungF4KTDJc0TRvkbOLM08bL3U+X1j/gF56a9OkGbJr02pwLBSggMYFGLJrnJwdUoACFKAABShAAQpQQCsEGLJrxTJwEBTQKYFnDVfIYF0G6n/taNfE888Ysit+HzFkV3wJOAAKUEBJAYbsSuqzbwpQgAIUoAAFKEABCignwJBdOXv2TAFdFRAhu6YDdtHfYobsit9SDNkVXwIOgAIUUFKAIbuS+uybAhSgAAUoQAEKUIACygkwZFfOnj1TQFcFJhqtUKQm++JalotR+p5iyK70CrB/ClBAUQGG7Irys3MKUIACFKAABShAAQooJsCQXTF6dkwBnRV42uiHprmpswa76KR5+5/XPaizph1lYgzZO8pKcZwUoIBaBBiyq4WVjVKAAhSgAAUoQAEKUEDrBRiya/0ScYAU6HACTxr9oEhN9i8Ysit+rzBkV3wJOAAKUEBJAYbsSuqzbwpQgAIUoAAFKEABCignwJBdOXv2TAFdFRAhe+MOc03+/Iohu+K3FEN2xZeAA6AABZQUYMiupD77pgAFKEABClCAAhSggHICDNmVs2fPFNBVgf+InewGQINI2P+6NPH8q1qWi1H6nmLIrvQKsH8KUEBRAYbsivKzcwpQgAIUoAAFKEABCigmwJBdMXp2TAGdFRAhe4Pcy37pMoCBRp5/XTdeZ007ysQYsneUleI4KUABtQgwZFcLKxulAAUoQAEKUIACFKCA1gswZNf6JeIAKdDhBB4zWn45YNfgjvZvGLIrfq8wZFd8CTgAClBASQGG7Erqs28KUIACFKAABShAAQooJ8CQXTl79kwBXRV4tFnIrsk5LmXIrknuq/bFkF3xJeAAKEABJQUYsiupz74pQAEKUIACFKAABSignABDduXs2TMFdFXgEaPlitRkX1rLcjFK31MM2ZVeAfZPAQooKsCQXVF+dk4BClCAAhSgAAUoQAHFBBiyK0bPjimgswIPN9vJLiqzGzSbqTqff8ed7IrfUwzZFV8CDoACFFBSgCG7kvrsmwIUoAAFKEABClCAAsoJMGRXzp49U0BXBSYYLWs67NTAwAAic2g8/FSdz79nyK74LcWQXfEl4AAoQAElBRiyK6nPvilAAQpQgAIUoAAFKKCcAEN25ezZMwV0VWC80TJFpra8boIi/bLTywIM2Xk3UIACei3AkF2vl5+TpwAFKEABClCAAhTQYwGG7Hq8+Jw6BdQk8KDYyW4ANIjaMH9dmni+vJYhu5qWtMXNMmRvMRVfSAEK6KIAQ3ZdXFXOqaMLlJaWIiYmBr169eroU+H4KUABClCAAhTQYgGG7Fq8OBwaBTqowAMK7WRfwZ3sit8xDNkVXwIOgAIUUFKAIbuS+uybAlcKLF++HHv37kNqWipcXFxRUJCPhZ9+Ck9PT1JRgAIUoAAFKEABlQswZFc5KRukgN4L3Gf0vUZqsDegAc1rvK9kyK74vceQXfEl4AAoQAElBRiyK6nPvvVdYN26dSgvL8eRI0eRlJQELx8feHr5wtnFDSeOHUJ2VgbmzZ0Lb29vfafi/ClAAQpQgAIUUIMAQ3Y1oLJJCui5gAjZlbhW1T2kRLfss5kAQ3beDhSggF4LMGTX6+Xn5DUokJqaCiMjIxmmHzt2DLt27UZtbQ2qa2pQWVEBMzMz2Nk7wMTEBN26dkGPHj3g6+sLf39/DY6SXVGAAhSgAAUooE8CDNn1abU5VwpoRuAesZP9r5rsBgBEaXZNPP+xliG7Zlb42r0wZFd6Bdg/BSigqABDdkX52bkeCJw4cQKbN29BXHw8iouLUV5WJsN1UQJmxIgRCA0NRadOnVBdXY3Y2FiEhITAwsJCD2Q4RQpQgAIUoAAFlBZgyK70CrB/CuiegAjZm515isagvXGm6nq+mjvZFb+ZGLIrvgQcAAUooKQAQ3Yl9dm3rgvMnTtXloLxDwzGE888j88//QDmZiYYP348IiIidH36nB8FKEABClDgXwXEh9Hm5uYIDw//19fyBaoXYMiuelO2SAF9Fxhn9N3lWukGBhCZQ1PtdDU+X82d7IrfegzZFV8CDoACFFBSgCG7kvrsW1cFdu/ejV9/Xd/6dJQAACAASURBVIvKqmq8PP0dmJqaoqigAAvnz8Jnny3U1WlzXhSggIoECgoKkJGRgZKSEqSlpcHPzw+5ubmyjJQII21sbFTUE5tRl8CqVatw+MhRGBoaoEf37hgyZAjc3d1V2l1ZWZm8T4KDg1XarqYbGzXqTpiZm2HY0KF49tlnNd293vfHkF3vbwECUEDlAmONv1N5my1p8Jfah1vyMr5GjQIM2dWIy6YpQAHtF2DIrv1rxBF2HIH33nsPZ2NiYG1tiyE33YpOkV3g6ubRNIF5s/6LvNxsfDx/PhwdHTvOxDhSClBArQI///wzSktLcfDgIWRlZYrKpfKMBmcXF1RVVcLYyBjFxUWy5JSHhwdcnJ0wdOhQ9O/fX63j6oiNZ2Vl4fDhw7jjjjsUGf6yZcuwY+dOuLl74abhI3Hxwjnk5+YgJTkBgQH+uO222xAZGdnqsYkw/ZdffkFeXr4sL1ZYWIiLFy/KP0tqamvQt08fPPXUU1r3AUx9fb0cr/hAQJw9UllZiaqqKhw6dAj29vbYtWsXikvLcc8Dj2DZ14sxc+ZbcHJyarUP39B2AYbsbbfjOylAgasLjDEWO9mBhgbxNxrN1WRfU8OQXel7kiG70ivA/ilAAUUFGLIrys/OdURgzZo1WLfudzg4uWDMuPsRFBImZ1ZQkI9fV69A3IVzKCwskDvaAwIC8P6sWToyc06DAhRoj4DY7SyCU3sHJ4RHdEZgcBiCgkPh6OR8zWbLy0qx4Y+12LltE779diksLS3bMwSde+/kyc8hJycHAYGa/b32iy++wIGDB2FjY4dbbh+FHj37XmFbU1ODdWt+xK4dm9GvXz/cNWbMdQ+2zsvLk/PYtGkTMjOzUFRcAm9fP7i6ecLdwxMpSYkYOXqcPFA7JTkRO7ZuxLmzp2TJlc5/hfjnz5+XwbuVlVWL1nnLli3YsnWrDMVFMV0HRwcUFRZi0KBBMiS3tbVFXFwciktKZXumpiZwd3OT96A4pFuMV3wQdOLESRQVFaGurg6JiQnyzz4jY2PZpruHh2zL0sICbh6esLVzQN8bByEwKBS//bIKZ04dw8SJT//rBxHZ2dlN55eI9sRZJrW1tbIcgThAvPEhfHhdX4AhO+8QClBA1QIiZJeHnTYG7Br6ufZvO9m37T2Gj/73E3LyCxEa6IO3X34MAb4emDxjAYYP7olRt3CzgqrXniG7qkXZHgUo0KEEGLJ3qOXiYLVQ4JVXXkFpWQUiukRh7D0PNo1w/bpfcPTQPnSOjMCwYcPkQad2dnZaOAMOiQIU0ISACCB//PFHWfpF7EAWO9ezsnNw+x3jEHVDr1YPYeH82Th6+IA83+Hxxx9Hly5dWt1GR3iDCGrPnTuHwMBAGaSWl5fj9OnTMDQ0RHJysgxTRfkccXC0CHftHJzw3JRpWPDhe8jLyZI7x0XIK3aPi/eKIHbHjh3o2/dSCO7i4oKKigr53/bt2yf/vdg1ftdddzXxxMfHw9nZWb5OrJvoSzx3dXWV5XyWLVsOE1Mz9B80DIOG3Hxd1rLSEmze8Du2bPwDDg4OsLWzhdjtLeZRU12D/IJ8FBcVwdTMDE5OLrC2sUH/gUMR1aO3LBV0vSstNRm//PgDzMxMYWpmjtTkRBnAi3tDHLAt+ujdu7f0ErvKRfCfnp4uPfft2w9Tcwt4+/iha1RPFBUWoAENOH7kIKysbZCTlQFHZ1d4eHrBzMwc5mbmKCsvQ0lRofwQuSA/F2VlpQgJi0R1dRUGDr4JTi4usLNzaNVt9ufva7Bt03oYGBrIUF/YiOBc7NwX43V2dkF83EV4efvIfkWKY2FpIXfHi298iL/XiteJ3f011dWwtbODv58/brihB26//Xb+OXyV1WDI3qpblC+mAAVaIHCn8bcwgIH8c6SpFrsGnjcP2bNyCzD6kWn439wp6NopCAu/+QXHT1/EN/NfZcjegjVs60sYsrdVju+jAAV0QoAhu04sIyehkMAnCxYgKzsPk158rWkESQnxWPbt5zA2NMBzzz2HoKAghUbHbilAAaUExI7gkJAQGcKKAHPt2rU4evQYvHx8EBQchtzcHPTs3Q/duveEvX3rQsjmcyotKcHqVd8j5swplJaWwNnJGdbW1rjppmEYOHDgVQNFEVr++uuvOHPmLKKiusnAtXv37loVPoqa9L/99huio0/j1KmT8PH1Q3ZWJoKCQ2TA6h8QJANjKysbWFhaoaKiFDU1teg3YDC639AbRkbGkmn/3p24GBuD1NRkiG8AWFpayXBehK82trYyuK2vr0NtbR3Mzc3knjsRypYUFyEtNQUODo7Iy8uVwXJuTo4s3yNCfytra5iamiE3J1u2OWjoLfLRmquurlbORfxMiLsAP/9AJCXGo0fPPnB0cpHzU8WVkpSA7Ows2Uf8xViUlBSjrLQU7p6eSE9NlXMJCe2EQcOGIzAoRBVdqqSNjPRU+WGDmbk5SkuK4eHlDRNjE7nL3snZGQYGhv/aT31dnZzv2dOnsH3rBgQF+uPFF1741/fp2wsYsuvbinO+FFC/wCjjb9XfyVV6WFf7SNO/FSF79Nl43DzoBvnvYi4k4f+mfYJtP310Rci+51A03v34e/zw2Qw4OtgqMm5d6pQhuy6tJudCAQq0WoAhe6vJ+AYKNAl8+OGHSM/MwZTX3mz6dwvnvw8PNxdMnjyZUhSggJ4IpKSkyN3N27dvR2zseVhaW8kdXJUVFTIQ7NN/sNyt7uLipjYREbgXFOTJ3e3paSlIT0mCr68vbG1tEBUVJct8iLIae/ftQ3inznB2cUNJSRHSU5ORmZEBXz8/lBQXy9Iifv5+sLK0bCpFI3aQ33PPPWobu2hYlP9ISEiQ5VEOHToML29fWUZk6M23NQXOhfn5sNfQeRZiJ3dubjY8PX1gwZI8al17TTS+bfN6rFy2FMHBQfJbCuJDMPENM14AQ3beBRSggKoF7hA72RWoyb6u5nLI/vc5LVmxHrFxyZg7Y2JTyN45PBBPTZ2HxXNeQrC/l6oZ9LI9hux6ueycNAUo0CjAkJ33AgXaLiBKPiz8bBEee/q5pvDs049mob62GnPmzGl7w3wnBSigMgER2g4YMEAltcvFn5mZmZnYs2ePDH4Tk5IQfSoaOTnZCA4JR8++N8LHx6/pXAaVTaINDZWXl+HYkYNIjL+I8rISFBYUonvPPnIHd9/+g/7RojxYtbBQ7v52dXOXpTgaxKGVVVXYt2eHrJMtSl+p8hKec+fORVpaOi5cuIDgkFB0iuyKwOBQdI26tPOMFwVUJZCVmYE9u7YhIzUZWVkZKC8rk2V0amtrZFkhLy8vWT5I3845YMiuqjuM7VCAAo0CIxXayf5Hs53szVdj7+FovDP/O3y3YDpcne1lyN7/hkisXLsNr056EP17tv5Acq721QUYsvPOoAAF9FqAIbteLz8n3wIBUU5A7FJ1c3OTpR+aX9OnT0dNHfDCyzOa/rXY+fjj8qXIz81Gnz69ZU3Z5rV9W9AlX0IBCqhAQJQc+fa77xB9+jSyMjJgY2OLfv374blWfstE1AMXAfCePXtRVFwsD3Z0cXWVO5w9vHxkuY9bR4xWwYi1t4nYc2cw99038OmnnyI4OFglAz116pT8MDIoJBydu/bAjYOGyrqtvCigKYHsrAxcvBCLY4cPyF/HWRnpsn6/+HNf/Hkv6tZHRkbIEkEijBf/7ejRo9izdy+MDI3Qt28fWcO/R48emhqyWvphyK4WVjZKAb0WuN14qSI12ddfJWT/Y8sBLP52LRbNfgG+Xpe+UShC9sMnzgENDVj22QzuYlfh3cqQXYWYbIoCFOh4AgzZO96accSaERAB3VtvzURySjLs7OyRn5eLsWPH4tFHH5UlF+bMmYvC4hK89sZ7Vx3Q3l3bkJ6WivPnzqC2phqBgQF49dVXNTN49kIBPRcQf7ZNmzYdJaXlmPL6m/KgRvHrcdWyJbLWdufOneHgYC8PwSwpLcWE8eNlaZXm1+w5c3Ds6FFxriI6d4lC9xv6IOqG3jA2vlTvW9+uLxd9DE93Fzz55BPtnvrJkyfx9dffICS8M8beO77d7bEBCqhSoKAgH3m5OTi8fw+sxKG6Mafl7nZRy9/YxBS33DZKlhD6/dfVSEqMk6WVhg4dAnd3d3Tr1k1+uC5q/3eUiyF7R1kpjpMCHUdAhOxKXH/WPnpFt9v2HsOnS37Blx+8DGdHu6b/JkL28GBfuLk44Me127Fi8RswMjJSYsg61ydDdp1bUk6IAhRojQBD9tZo8bX6JPD669Pg6e2Pcfc/JKd9cN8uLP1qMWbNeg/x8fHYuGkrpr31fotI9uzchg1/rEFQYADE7ndeFFBSoKioSK2HXFZUVMgdoJoKmSorK3HmzBmID8bEDtQjR48i5uxZRPXohacnTfkHdXpqCk6fOgbxPnMLC5w/F4PTp46je4/uCA8Lk7tVt23fDkMjEzz9fy/B0clZyeXSir7TUpPl73/9+/bC+PHXD8XFrl9RUkf8Pikso6Oj4ejoiNzcXKSkpCI9PR3WNrYYPOxWWXOdFwU6usCPP3yL2poaJCfFIy0tBeJ8hIjIzvKMA2dnZ3h4uOP555/X2mkyZNfapeHAKNBhBW4VO9kVqMm+oeZyyF5cUoYxj7+B7xa8Dm8PlyssRcg+fHBPjLqlP5565UNERQTh2UfHdFhvbRo4Q3ZtWg2OhQIU0LgAQ3aNk7PDDiJw55134uNFS2UI13j9tuZHHNi7A926dkVmTj6enzKtxbNJSUrAok/m4Mknn5T1oXlRQNMCNTU1+PXXX7H/wCHY29nIIFzsuMzKysaYMaPl4Zh/v06cOIEjR47g4sU4iPBc7OY0MDTAMxMnIjExEb/+uhZVVVUoKi5CQX4+qqur0SkiEudizsqmxCGaosaxubklXF1dYGVlCX9/f4wZ07b/kRE7z0WYLnZCiyB3+44dMrT19w+Ak7MrHBydUViQh/vGP9aqcLywIB8njx/BiWOH4ejojKDQMLi6uiM4NFzTy6RV/W3esA4njh5Ebk4OunePwt133/2PHf/NB3z+/Hl89tlnyMvLh7mFJZycnGSpDTcPLzg4OMHQyAiRXbrB09MbRnr6jQCtWmAORm0COdmZ8oO81JQk7Ni6ERXlpRg6ZIg8cFV8k0ab6r4zZFfbbcCGKaC3AsOv2MkuvhPYvByc+p5varaTfc2fu/HG3K9hYnzlDvXtP38s/31jyJ6ZnY+7n3wTX8ybiohQP71dM1VNnCG7qiTZDgUo0CEFGLJ3yGXjoDUg8MILL+HpyVNhZ+9wRW9Lv/zsUgmYujpMee0tuLl7tHg027ZswME92/F///cswsP1O7xrMRpf2CYBsWt4zZo1cHBwkGF0bOx5xMaeQ6fILhh37wSkp6Ug7uJ5eHh6Iy83G4cP7IW3txdmzZoFc3NzGaB/++23SEpOwQ29+smDMF3c3FFZUYGD+/cgMf4CrK1t4OsXKHcjiw+jXFzdYGJi2lRXW/z5UlpaIkstHTm4D57ePhAfNsWcjYa5qYksv2RtbY3k5GT5EGVY8vPzm8InEZ67uLjKkFbsUBfzcHB0RFZWJqysrNG5S3dZviU8onObjPim6wus/H4JLsSewc0334zevXvDx8fnum9ITU3Fhx/NR+/+gzB46HDyUoACzQQOHRC/b8Yh5szJSx9a9eiO4bfcIg9bbfwwSvy+LWrBWzT7cF8TiAzZNaHMPiigXwI3G3+tSE32zbWP6Re0Fs6WIbsWLgqHRAEKaE6AIbvmrNmT9guIAw1FeYPTp0/j+2U/YMrrM69af/mD999EXW01GhoM8Np/Z7VqYju3bZK74Z99ZiLCwsJa9V6+uGML/PjjjygpKZGlWsQO79tvv/26E/q3si4ikGkMnzdv3izDmfT0DCQkJMjd5W5u7ggMCZeHdIqgetgtI+T9fbUrOysTG/74FfEXziE5OUl+eOTnH4SJk/9ZbkW8PzcnG84uVx4E3JrV2bppPU4dP4ya2loZ9NfW1MLbzw/lpaVw+Ks8y/lzZ9EpogsMjQxhZGQMP/8AuLq7wwAdp9Zxa0y07bX7du/AquXfyA9QKsrLMW/eXAQEBFx1mAsXLsTOnbtw68jRGDFqrLZNheOhgFYJiPJLP69aJs9rycxIh5GxEQoLCmBrZyd/it+/Q0LDkBAfJ3/vFmdKiG8emZubyd/PPdzd5Td6xo0bh9DQUNjY2LRrfgzZ28XHN1OAAlcRuMn4a0VcttY+rki/7PSyAEN23g0UoIBeCzBk1+vl1/vJp6WlYdeuXTh27Lis6Sx2/RYVFcqDTkeOvhtDbrr1qkaihMLhA7sREhyMi3GJeP3N1gXtX/1vAYwN6jBtWsvLzej9Ymk5wIEDB7Bly1aI3bwiQDc1NYEoOdSvXz858g8/+gjR0acR2aU76uvrcGj/HvTt2wfBwcEyFBcBubgf09IzIA7dKyoshH9gEM6dPSN3loeGheHlqVNx+PBhbNu2DVlZWRAhvNhhLgLxmppadO7aXe4mb2ioR4+efdskduTQPnTr3gsmJiZtej/fpFsCCfEXsOanH2BpYY63Z771j8kdO3YMH3/8ifzGz4OPPAk//0DdAuBsKKABgbq6WvlBYuMl/m4u/gywsraGkZEh6mrrUF5RjrSUJIgix7nZWThyaD+qqypRXl4mizAEBQXB1tYGjz/+uPwzozUXQ/bWaPG1FKBASwSGmiy5tJO9oUF+w7EBDRp5vq2GIXtL1kedr2HIrk5dtk0BCmi9AEN2rV8itQ5Q7IJdvHgxiotL5Inqrm6uyMzIQN++feXXlcUOKj8/P7i7u8sAWuyczc7OljVFO3oIJ3b+LliwAAMG3wQvLx/cOGgYzFr4P6bfLfkfCvKzMGf2bDw9cSK6RPXC2HsebPFaXTgfg5+Wf4OFCz9t8Xv4Qu0V+GzRIpw4cQoDh94EX99AiMDkTPRJiMBalFcxMTWR/5Mx5bWZ8PD0khPZs2sbMtPTUFVViazMDBlOurp7yJrmnbtEyR2NFhaW8n1VlZVY/t2XOBN9AuGdusDHz7+phIv2qnBkHV0gOSkBH81+S9bQnzt37j+mIz6gXPXjTwgJi8S9Dz7S0afL8VOgQwqIv6elJCdC/L3i3JloiG8AffTRh/Lvbi29GLK3VIqvowAFWiowxGRJS1+q0tftqPmPSttjY60XYMjeejO+gwIU0CEBhuw6tJhtmIo41FDspvb08pF1lcVOqpPHDsPFzQ2FBYUoLyuBOCwxLy8H7u6eyM7OhIGBIby9PDFz5sx2f0W5DUNW2VtEQLRo0WJE3dAHTs7OEAcqnj19UpbTSIi/iHvufxiDhw1HWWkJUlKSsHXjerlrOCM9BSlJiXjkkYcxfPhw6WBsaonHnprU4rGVlhTj0w/fY232Fotp5wtXr14tS2QYmZhiymtvXrETUYxY1CIXBz2KkgDi15Eoi8KLAh1FoLCwAB/MelMeJNupUwQcHR3kNzXs7R2QkpqC2to6uXtdfCjEiwIUUF7g4L7d2PDHL3jn7bflt6NaejFkb6kUX0cBCrRUYJDJV4rUZN/JkL2lS6S21zFkVxstG6YABTqCAEP2jrBKqh2jCJMnT56Mrl27yh3pZWVl+PPPP1FeUSE7EjvZxS518fX/yopyGT6LWsiiNqiJqSl8ff1w9sxpWQt04sSJbRrcpk2bsH37Dowdexd69erVpjZU8abY2Fhs2LABlVVVcHVxkQcrDhw4EO+++y7q6+thaGgo66CK+ZubmaJ79+7ygDKxq9/e3h6bt2xBTEwsHnj4CfgHBLVqSEu/XITa6nL8979vtOp9fLFyAklJSbJcy8WLcdi/fz8Cg0Mw7Jbb5a5yXhTQVYHDB/fKA22LCgtw8vhR9Ok/QH5gZO/gAFtbe12dNudFgQ4lsPbnlfJQ1UcfeRg9evRo1dgZsreKiy+mAAVaIDDQ5KsWvEr1L9ld84TqG2WLrRJgyN4qLr6YAhTQNQGG7NdfUXFI4ZEjRzBgwIAOXx6lcaaHDh3CrPffR2TnbjJAFuUq8vPzYGdrB2MTE5SWlsHUxBhZWZlwcHCEsZEhevXqiZEjR8La2roJTBy6JcLm5pcoJSMeogyNeIggOjIysul1YjfvypUrsf7PDRg4+CYcOrAHhgYGiIiMgLmZmSxLIw4fTUlJkYdC9u7du8W/5H7++Wf5/htvvLHF77nWC8XYDx48KA+oFP8sxiTqX2dn58j5iV2cVlbWcHP3xIRHn4Srm0er+zywbzeWfvUZ3p45E1FR3AnaakANvEH8WpGhelwc0ADk5ecjIDAYzq5uGHbz7XBwdNLAKNgFBShAAQpQ4NoC4hDVi7Gn8dZbb/3j72UtcWPI3hIlvoYCFGiNwI0mX16qxS5qsova7KImuwae76lmyN6adVLHaxmyq0OVbVKAAh1GgCH7tZdq4cKFWLduHWxs7VBcVIjAwCD07HkDunXrJneBi4C68ZoydSqiT52Cu4cHrK2sERoa0hQYiyD66NGjCA4JwRP/aVmduO3bt2Po0KFqu49eeOEFODi748lnnr9uH2IX++lTx/HbLz/K0jE33NBDzkuE5cbGxsjJyUFqahry8/ORnp4GGxtbuQNelF+prwfq62txITZGlhcQob24wiM64+HHn5GlV8QVG3MaGelpiLtwHpZWVrC2sUFGWirS01JgYNAAR0dHmBibQHzgIVzFTnIRdIvQPyAgABkZGfj444+RlJwMewdHWaLDw939rw8MSuUBYD4+PvD28sJdd911xbqJ/vPy8vDbb7/JHfviYMrExEQ5N1ETWxwiaW1tAytrW1mj3s3DE46OzjC3sGj1zvWrQb857SXcNXoURowYoba1ZsOtFxD391szZyIrKxvePv4YMHgYHJ2c4e5xqZ46LwpQgAIUoICSAoUF+cjNzcb6335BeWkxZs5sW8Au5sCQXcmVZN8U0E2B/iZfNptYAyCPaG681Pd8X82TugnagWbFkL0DLRaHSgEKqF6AIfu1TQ8cOCDD3PPnLyAmJkaGxFVVVX/t/q7CpEmTMHr0aNnASy9NQXx8vDyQUJRasba2RW5ONoqKCuRBhg319ejduxduu+022ebFixfl4aLiQDlbW1tZ51bUCM8vKMDePXtl0Ozl6SFLl4j/+VH1JYLkufM+gJu7l6w7LgJkc0tLuLi4XbOr1Su/g7GxCaqrq1BZWQlzcws4itIpjs5wcnaBh4fXNQ8OLSwogJW1dau/DbBx/W/yoEgRep47exrOLi4oyM9H3IVzKCsrRUZGOhwdndDvxsEYNOwWuLq6y3BePCytrOVu84L8XOTn5WH3ji3IzsqEn58vbO3sUVxUhNLSUogd+c6urojq0RuhYRHw9feHlZWNqsn/0d7qld/j1PHDePfdd+QHF7y0R2DRokXYu3c/htx8K4KCQxEe0UV7BseRUIACFKCAXgoUFRViy8Y/cP5sNDIzM+Dm5gYvby+8PHWq3BzQ1oshe1vl+D4KUOBaAn1NPtfoDvbGHfP7a57ioigswJBd4QVg9xSggLICuhCyizraYse52LEcH58gg1OxK1nU1PbwcJchdm5uHvIL8mVI7uHhAS9PT+Tm5iI0NFS+ThwAKoJOUQ6koqJC/s+Knb2dDHS7dOkiy6SIAzFFgC52PovQV4TlYWFhsm63COH9/Pywc+dOeRioCNYrKiphbW0lDz7MysySIbP43N7JyQVFhYWoq6tFakqS3CmPhgYZJgeFdEKPXn3lP3++8CNciD2L+++/D3fccQeOHTsmg3gRvKuijrlw++qrJdKhvLxM7vwOCArDfeMfa9f/rGnyjhbrUFZSDPsWlu0Q3hfPn5M77oW7+MCgc9fuah+y6FPce+JDl5gzp+TBqfZ2Npg6dWqrDidT+0DZgRQQ344QZWJWrVolf008+/zLlKEABShAAQpoXGDntk04uH8X0lJS5N8bb+jZE488/DC8vVV3kDZDdo0vKzukgM4L9DH5XJE5Hqx5WpF+2ellAYbsvBsoQAG9FtDWkL2urg7iIcJyURNbBNmiXIgoTyKeJycny0A9ITEBRoZGsjZyROdu8Pbxk2GxKPFx4XyMPLhTHMxmJw+qdERxcZH8n5ScrEx5kKcoayLaTk1JRlSPnrKd8vJy2NnZo6S4CIcP7oOvX4AMoSvKy9DQUA8jIxMYGRujtKQY1ja2MqQX7Tm7iBIp9fIhas41vs7IyEiWmwgMCr3qvVZZWSF3hV/tEjuWxA7sosJ8WarCyMhYjj8hIQ5enl4ICwuV5VREDfP7778fwcHB/2jmUimXdERHR8sPAsQHBWlpabLsjbOzs/xQQFwiBP7vm2/iwoULGDXmHtw64tIufV7tExBr+Ofva+DgYA9vL284OTkiMDBQLd9QaN9I+W7xAdvmzZuxYeNGpKelITQ8Ei+8PIMwFKAABShAAY0KlJWWYMnnnyIzPRV33TVGnjcj/s6mjoshuzpU2SYF9Fugl+n/Lu1kFzXZRS12UZNdA88PVTNkV/rOY8iu9AqwfwpQQFEBTYbs4vDIPXv2yMA3NS0NpiYmmDhxogzTxc7RU6dOySA9JuYcDAwNceH8eZiYGMtd1aIGtij9IR82tvAPCIa3j6/ckRwQFKKooSY6FyG/paVVU1fiK8PRJ4+hproa4p/PRp9EWVkJCvLzZOheV1cvQ3NRziU7Kwtu7h4y/Ld3cEBtTQ1KSorlbnvxegtLK5ibmcrXGBoA0adPy5B95J3jNDE1newjMyMNsTFnsH3LBrkud4wciQceeEAn59qRJyU+bBKlk86dOyd/36mUv2Zc4OntizvvurcjT41jpwAFKECBDigQf/ECjhzah4vnzyI8PAyj7rhDbpBQ58WQXZ26bJsC+inQ0/R/zSauvhrslzq53P6R6on6Ca5Fs2bIrkWLwaFQgAKaF9BkyP78Cy+grKwCvfsOkDWwxYGaudmZfu4iUAAAIABJREFUsta5qKXt7OIGTy8fBIWEIjA4FKamlw8W1bxMx+xR1BkvLMyXduJgVvEBhrOL63UnIwJ3cbBrTnaWfIiwvWvUDR0TQMOjzsxIx8XzMRAfIOXlZiM/LwfJiQkwMDRA1y5d4e3thQkTJmh4VOzuagJxcXHygF7x88DBQ8jNzUFFeQU8vLzlt2BE7XVnVzd5tgAvClCAAhSggKYFRDm577/5HN27R6F/v34qKQ3YkjkwZG+JEl9DAQq0RqCH6WJ51KmMvw1kZVSNPD9a/UxrhsnXqkGAIbsaUNkkBSjQcQQ0GbJPmzYdhiZmePa5y/WNa2qqYWJi2nHAOFK9FRDfHEiMj0NGegrS01ORm50NKysr+Pr5wd3NFT4+PrK+uijHo4qa+XoL3cKJi29mnD9/Xn4NtfEcBlGjX3wjRpy7IAL1rKxsWWIqJSUZFhaW8gMkb98A+c2YPv0GyrMPeFGAAhSgAAWUFhCHuc+cPgX9+/XFs88+q9HhMGTXKDc7o4BeCHQ3XazIPI8zZFfEvXmnDNkVXwIOgAIUUFJAnSG7OAxUHASal1+AstJS5OfnwcjEDNPfmq3klNm3HgqIHfrJifEwNbv07YikxAR4enmhsrISVZWViDkbjdCwCFlr39jICOLr2gHBIairrUVBQT4S4y8iNTkRXbp0lgG6r6+vDNRFaR5e6hVITU2VBxOLklLpGRnIyc5BTk42CgoKEBHZGVVV1fLQYzNzc1laSnybw9c/EHb2jrI8kqWFJYJCw2ErDhjmRQEKUIACFNBCgf17d2L7pt+xcOFCjY+OIbvGydkhBXReoJvpoku12EVNdlGLXdRk18DzE1Xcya70zcWQXekVYP8UoICiAuIPvuHDh2P27Nm44YZLJULEwZ+Nh4yKfxZhltgN2rt3b4SGXv3wTvH67du3yzrgorZxckoyGhoMZBkGcbioq5sHLK2sZF1xcTgpLwpoUmDlsq+xc/tmeHp6ybMAxDconJxdYGFuDktLC4gg19/fXx60Kx4ZmVnw9HCXoa14iF3TkyZNkn855KV+gdzcXOzYsUOeD3Dq5Cn4+Qcioks3uLi6o7q6Cp27RMlDinlRgAIUoAAFdEFAHJAeF3sas2bN0vh0GLJrnJwdUkDnBbqaLmo2R83VZD9VrdlvAun8QrZhggzZ24DGt1CAAroj0BiyB4eEwtDQEBcvXJC1vK2srWFhYQEnJ2fY2tnLkD09LRneon5xRCeUlZWhtLRMhpOFhYVyR7B/QAB8fAPgHxQCW1t7dO4apTtQnEmHF/ju68XIycpEfl6e/FaF2P0cFdUNERERGDlypAzTeSkjEB0djaysLJw+cwYXL1yUhyN3iuwMZxd33PvgI/xwQ5llYa8UoAAFKKAhgaOH92PFd0sQGRmB6dOna6jXS90wZNcoNzujgF4IdDZdeHnneuMOdg38jK76P73w1eZJMmTX5tXh2ChAAbULNIbs3678DZkZaXKnqJGR0VX7FTt8ly394tKudEtLWeM4KysDAwYNg6OTs9rHyg4o0F6BosIC2Nk7yGayszIQc/Y0tm78Hbk52Xj44YcxduzY9nah1e//888/5YcLpqamSEtLkx+SZWRkIiwsFF5eXnB2dlZbPXnxYVxycrJ87Nq1S57FkJ6RjsyMDISFdYK1rR2CQzvBysoaNw4aqtWOHBwFKEABClBA1QKVFRV449XnMHToEDzxxBOqbv6a7TFk1xg1O6KA3ghEmmm+9JXAPVM1SW+MtXWiDNm1dWU4LgpQQCMCjSF7r743YuhNtyIsPBLGJiYa6ZudUEDdAvn5udixdRPSU5OQmpIMezt7xMbGyANLRfkiGxtbpKenISw0DHfeOQoDBgxQ95AUaV98QLbk669xYP8BWXfe2cVVfljm5u6Jgvx8mJiaICcrAynJicjISMfAAQMwcOBA9O3bt93jLSoqwscff4Ls7BwYGBrCw9Nbfmuma/eecHVzlw8eftxuZjZAAQpQgAI6IBB96jiWff0/GBoawM7OHtbW1rCxsYGLi7PagneG7Dpw43AKFNAygU5mnwLNarADDRp5HlPJkF3pW4Ehu9IrwP4pQAFFBRpD9j59+qC0rBxnTkcjvFMkbh05Bj169lF0bOycAu0VOLR/D35d/QMef/wxWXNdHFgq6quXlpbKx7lz5zBs2LD2dqPV7//www9x+MgRGapPevE1WFvbXHe8Bfl5OHxwH3bv2Iyxd42RpXTacx07dgyfLFiA9z9c3J5m+F4KUIACFKCAXgikpyYjMSEeJaXFyM/Nld+2O3c2GmPH3oWHHnpI5QYM2VVOygYpoPcCYSJkb7o0V5M9tmqy3tsrDcCQXekVYP8UoICiAiJkv/XWW7Fp0yY5jurqaqxYsQK79+xBeXmF3EUjykuYmZujvKwM3r4BsLG1lTuAi4oKEBgUKne+mxibyJrWOTlZ6NNvoKJzYucUaBTYtWML9u/agmeeeQbh4eF6B/Piiy+isKgYI+4chxsHtq4ES0L8RXy/ZBGee26yrFvf1mvlypXYuWsP3nhn3hVNiN97ykpLUFZ26QOPtJQkWFhaobamBjW1NfKn+ECgdz/d/HZBWz35PgpQgAIU6PgCe3dvx+lTx1BXW4u6ujr5EH8mFhTky7NjPDw85AHtjo4OcHJ0lKUcxaaAwMBAlU+eIbvKSdkgBfReIMTsExjAQOxfFxvaIf7er4nn56ue03t7pQEYsiu9AuyfAhRQVODvIXvzwSQmJsoDTSsqKuTj6NGj8Pb2hij/IB7xCQmwbAzFRDBWUwMjYyOcj42Ff0AQPL18ERwaBv/AYPmcFwU0LZCVmYEdWzfg9Knj8v58bvIk9OzZU9PDuGZ/R44cwcWLF+WhY05OTiob18aNG7F69c9w9/TBnWPvhZe3b5vafue/L6NLZASeffbZNr1fvKmgoADvvPseYs6euaINcahyeXmZ/Bq8tY0NzMzMYWtrCxMTE5ibmcr1On7iJOZ/9nWb++YbKUABClCAAtokIHap/752NTIzUtGvb18EBATITSoiRE9ISMDgwYNlwK7JiyG7JrXZFwX0QyDY7BNFJnqx6nlF+mWnlwUYsvNuoAAF9FrgeiF7W2GqqqpkcLhjxw65Gz72fKz8eeuI0bjltjva2izfR4F2CWzZ+Ad2btuIkJBg9OndG6GhoXB3v/ZBv23pLDs7W4bE4n+WGx/i15iFhcUVzeXl5eGj+fMRFxcHd3cvnD8fgy6du2DOnNmt6laUu8nMzERWVhYyMjORmZEJ0baNnb2st/7QY0+3qr3GFycnJSApIQ4b1/+GMaNH4c4772xTO41vEjXhr3aJYOFal3jP7NmzkZqeiXH3jkdkl6h2jYFvpgAFKEABCigtsOSLT5GTkYoFCxYoPZSm/hmya81ScCAU0BmBQLGTvakmu6zIrpHncZXcya70TcSQXekVYP8UoICiAuoI2f8+oejoaGzevBlHjx3HvE++UHS+7Fy/BfJyc3DyxBGcPnEM6ekpyMrMhIWFJWxtbWBrayd3UgcFBcLLy0t+a0M8F3XcW3KJb32MHj0aRkbGMDMzQ31DPerr6uDt7YuEhLhLZZfMzGFubia/N9mjZ1+MuPNueQjriu+X4Gz0CSxZ8lVLupKvOXXqFObOmwf/gGA4ObvKw0xdXN1QX1+HqB69/7UdUaZF1Hk9dGAPzM0tkJGWgvS0FJibmcsSLuLDiJCQENx8882ws7P71/ba+4Ly8vKmb8mIb8rs2bNH7nI/fPgwUlNT8fGib2Bjq/5xtHcefD8FKEABClDgagJLv1qE8zGn8frrryEsLExrkBiya81ScCAU0BmBgCt2smuuJnsCd7Irfg8xZFd8CTgAClBASYHmIbvYeR4UFCR34oqH2GUqHmJnuniUlJQ0PUTAN3z48H/UuS4sLJRlZfLz83E2JkYeLGlhYYWIzl0xYPBN8PULUHK67JsC/xCQNcFLSpCfl4vi4kJkZ2UiKyMdWZnpMmxGQ4P8n2FRT/D222+XX+0W4fvVrtjYWHz++edyh7qnlzfMLazg6OiEmpoqWXqpqqpS/hRBvAjfLa2sYWpqis0b1mHChAkYN25ci1dIBM+TJ0+GuYUFQsMi5U8RtDf+ujUyMkH8xVi4eXiipLgIJcXFKCkpQllpKTIz0lBf3wA3NzeYmpkiqls3+WGCn58fXF1d4eDg0OJxXO+FIjgX32oRv3/k5ORA7PQ/c+aMDPXF7yelpeL3lFKI0jGpqckyRBe24swHUS4moksUPL18pKXYmc+LAhSgAAUo0BEF5r77BnJzsvD0009h4EDtOruIIXtHvKM4Zgpot4Cf2fy/dq43q8kud7ar93li5QvaDaMHo2PIrgeLzClSgALXFmgess+ZMwdbtmyRB5kaGRrJA0qMTYzh7u4hwzBxCKGVtQ2sra2RnpYmQ8fMjHQZOooduklJiRAlHrx8fGUJjPCILggKCYWrm2ZrS3K9KaBKgdSUJCTEXcDe3TvQUF+H5OREWFlawd7eHv4B/rC2spK70cXD0tISSUlJsqZqbm6uDJXFbmwRpIuH2OEuzjoQQfalkLlU/nR0dMTYsWPbNOy0tDSIb4uIsjHi1594iIBa/BT/Ljg4WI618VFcXIxevXpd84OC6w1CtHfhwgW5u1yE+fX19fL3icafSUnJ0kDMXTwaGuplgO7o7AwHRxc4OjkjLzcb3W/oAytra1hZWcvfU4SN+GdeFKAABShAAV0UWPXDUqSnJCPmbDRCQkLx8MMPoXv37loxVYbsWrEMHAQFdErA13y+IvNJrnxRkX7Z6WUBhuy8GyhAAb0W+Hu5GBHOiZ2nYrfpwYMHkZaWjqDQcHSK6NK0o9Ta5vIu3rLSEsTGnIaJmbk8XFHs2uVFAV0XyMnOxPatG+Hh4Y2KijJUlJejvKIcleXlcpe4CLhFaZri4iK4uLjKUN3WzhadIyPlbnHxcHFxUQtTWVmZDPfFTnfxSElJQXZ2jtxNUldXJ8vJ1NXVy8OMrW2s5QcGVtZWsJGht5X89S9KxIgxizGKn7t378a6339HcnIyAgJD4ODkDC8vHxgYGsLQwEC2LR7JSYnoGtUDDo5OcHR0hqWVlVrmyEYpQAEKUIACHVXg19UrcXDfLvTs2UOeeSL+TqDkxZBdSX32TQHdFPA2/6hZDXYDNKBBI89TKhiyK31HMWRXegXYPwUooKjAv9VkP3TokNyZK3aoioBNlHwYffcDGDTkZkXHzc4p0BEEGsP23NxsZKSlyhI0ou55Wkoyamtr4Ofnj4AAf/j7+8vd5y0tFyNKziQkJMjH2bNnUVZejuysbBmuixI3oja7KLMiSqy4e3qhsqIc3j5+MDQ0gqGRofymivigwMHRGRUV5Sgv/+uDgvIynD19EnZ29sjPy0Ge3JGeA3cPT9x51724cdCwjsDOMVKAAhSgAAW0WuBM9AmcO3sap04cgaWFBXr16ik/1BalGDV9MWTXtDj7o4DuC3iZf9RskpqryZ5W+ZLu42r5DBmya/kCcXgUoIB6Bf4tZP977++99x5MzKww4bGn1Tswtk4BHRcoLipCWmoSUlOSkZaajPMxZ+Dl5YG77777iq+QHz9+XO46j4+Px8W4OKSlpiEtLRU+vv4yOK+tq0P3Hr3g5OwiH/YOjiqVE79HiEvsVOdFAQpQgAIUoIDqBMSfsWdOn8SZU8eRlBCHC+fPISwsHF5enujZs6c8gNzTU71nkjBkV916siUKUOCSgIf5BzCA2MHerAa7Bp6nV07hEigswJBd4QVg9xSggLICrQnZf/rpJ+zasw+TXnxNHkzIiwIUUK3Ajq0bsX/PDjg5OcDJyUkeIix2lYuDQr18/OHj5w8zMwtE9eip2o7ZGgUoQAEKUIACiguIb5fFXzyP7Vs2AGhAQnwcqquqZPm28PAwGbg3f5ibm7d7zAzZ203IBihAgb8JuJt/oIhJZuVURfplp5cFGLLzbqAABfRaoKUhe15eHp57/nk89PhEhIR2goWFpV67cfIUUJeAqO++etX3cld6ZJco+PkHqqsrtksBClCAAhSggJYLFBbk4+KFWBQXFSIrMwO52ZnIysqQB6uPvWuMPGy9PRdD9vbo8b0UoMDVBNzM58kt7CJrEDvaxYeGmnieVcGQXek7kiG70ivA/ilAAUUFWhqyi3rRjz32mPzDUZS5ELWmbW3tYGNrC3t7RwwfMRqRXbopOhd2TgEKUIACFKAABShAAX0QOBdzGj/9sFQevm5ra3vpYWcLu7/+WZR5u+eee2BkZPQPDvH3/8zMTDg4OGDUqFHYvHmzPpBxjhSggIYEXM3nyVIxjddfMbvan+dUvqyhGbKbawkwZOe9QQEK6LVAS0P2vyNVV1ejqKhIPrZu3YrDR47AAIawsraGtY0NLK1sLv2ztY18ZGdnISQ0HAaGhjA0MPjrpyEMDA1gaHD5Z2BwqF6vBydPAQpQgAIUoAAFKECBlgiUlBSjVD5KUFpa8tfPS8/FQeuxMWfg6ekBHx9fFBQWoLCgEAUFBSgsLICLqyuKCgsh/k7PkL0l2nwNBSjQUgEn87nyPCdxtJM41knuaNfA89yKK0P23QdPYdaC5cjJK0RUZDDmzHgaTg4se9vSdWzL6xiyt0WN76EABXRGoK0h+9UA4uLiUFJSguLiYvlo/s9paemwsLBAfX096hsa0CB+yn+uR0N9A+rq65CYkIAXX3kDnSK76owvJ0IBClCAAhSgAAUoQAElBLKzMrH+t58REhYBO3t72NrZy7NexM/GA80fuf9OhuxKLA77pIAOCzhazFVkdvkVrzT1W1JajlsffBkf/PdZ9I4Kx/wvf0JGVh4+euv/FBmbvnTKkF1fVprzpAAFriogQvbhw4djwoQJyM/PR16+2OWSj/yCAri6uiMlJQkW5hawsDCXhy+KoFwcsiR+Wlpeel5WVoZu3brBzc0N7u7u8sDG5ldOTg5yc3Mhfp4+fRqmpqYQNd7z8vLlbhrRb1lZKfr0H4Cn/48ngvNWpQAFKEABClCAAhSggCYEGLJrQpl9UEC/BBws5mikBvvfa74XlF8O2TdsP4Rf/tyNL+ZeyhdKyiowZOzz2P/7IpiaGOvXgmhwtgzZNYjNrihAAe0TaAzZ77r7AdjZO1x6iF0u9g6wsLREfV0dKisrUVVZicqqiks/5fOKpn+flpaC2ppq5OZkIycnS4bubq5u8r/n5eXCwdERjo7OcHRygqmZOTy9fGT79o392TvI+u68KEABClCAAhSgAAUoQAHNCTBk15w1e6KAvgjYW8xpVpP90uGnl2u0q+95UcWrTcSff78OeQVFmPbchKZ/N3js8/huwTT4ebvpy1JofJ4M2TVOzg4pQAFtEmgsF7N0xVqVDau6qgriMCYvb184OjrJ+uu8KEABClCAAhSgAAUoQAHtEmDIrl3rwdFQQBcEbC1mN03jUk32y7NS5/PiiteaOvrkq59RW1uLKRPva/p3w++fik/emYxOIX66wKyVc2DIrpXLwkFRgAKaElBHyK6psbMfClCAAhSgAAUoQAEKUKDtAgzZ227Hd1KAAtor8MWydcjIzsebLz3SNMh+o/4PKxf/lzvZ1bhsDNnViMumKUAB7RdgyK79a8QRUoACFKAABShAAQpQQB0CDNnVoco2KUABpQU27zqC5T9vxtJPXpdDyckrxG3jX8GBdYtgwprsalsehuxqo2XDFKBARxBgyN4RVoljpAAFKEABClCAAhSggOoFGLKr3pQtUoACyguUlVfKUH3O9KfRq1sY5ny2AqVlFZg9/SnlB6fDI2DIrsOLy6lRgAL/LsCQ/d+N+AoKUIACFKAABShAAQroogBDdl1cVc6JAhQQAgePxWDmR0uRnVuIXlHheH/ak7C3tSaOGgUYsqsRl01TgALaL8CQXfvXiCOkAAUoQAEKUIACFKCAOgQYsqtDlW1SgAIU0E8Bhuz6ue6cNQUo8JcAQ3beChSgAAUoQAEKUIACFNBPAYbs+rnunDUFKEABdQgwZFeHKtukAAU6jABD9g6zVBwoBShAAQpQgAIUoAAFVCrAkF2lnGyMAhSggF4LMGTX6+Xn5ClAAYbsvAcoQAEKUIACFKAABSignwIM2fVz3TlrClCAAuoQYMiuDlW2SQEKdBiBxpC9R8/eHWbMHCgFKEABClCAAhSgAAUo0H6Bo4cPYvPmze1viC1QgAIUoIDeCzBk1/tbgAAU0G8BEbIfOHBAvxE4ewpQgAIUoAAFKEABCuipQL9+/fR05pw2BShAAQqoUoAhuyo12RYFKEABClCAAhSgAAUoQAEKUIACFKAABShAAQrolQBDdr1abk6WAhSgAAUoQAEKUIACFKAABShAAQpQgAIUoAAFVCnAkF2VmmyLAhSgAAUoQAEKUIACFKAABShAAQpQgAIUoAAF9EqAIbteLTcnSwEKUIACFKAABShAAQpQgAIUoAAFKEABClCAAqoUYMiuSk22RQEKUIACFKAABShAAQpQgAIUoAAFKEABClCAAnolwJBdr5abk6UABShAAQpQgAIUoAAFKEABClCAAhSgAAUoQAFVCjBkV6Um26IABShAAQpQgAIUoAAFKEABClCAAhSgAAUoQAG9EmDIrlfLzclSgAIUoAAFKEABClCAAhSgAAUoQAEKUIACFKCAKgUYsqtSk21RgAIUoAAFKEABClCAAhSgAAUoQAEKUIACFKCAXgkwZNer5eZkKUABClCAAhSgAAUoQAEKUIACFKAABShAAQpQQJUCDNlVqcm2KEABClCAAhSgAAUoQAEKUIACFKAABShAAQpQQK8EGLLr1XJzshSgAAUoQAEKUIACFKAABShAAQpQgAIUoAAFKKBKAYbsqtRkWxSgAAUoQAEKUIACFKAABShAAQpQgAIUoAAFKKBXAgzZ9Wq5OVkKUIACFKAABShAAQpQgAIUoAAFKEABClCAAhRQpQBDdlVqsi0KUIACFKAABShAAQpQgAIUoAAFKEABClCAAhTQKwGG7Hq13JwsBShAAQpQgAIUoAAFKEABClCAAhSgAAUoQAEKqFKAIbsqNdkWBShAAQpQgAIUoAAFKEABClCAAhSgAAUoQAEK6JUAQ3a9Wm5OlgIUoAAFKEABClCAAhSgAAUoQAEKUIACFKAABVQpwJBdlZpsiwIUoAAFKEABClCAAhSgAAUoQAEKUIACFKAABfRKgCG7Xi03J0sBClCAAhSgAAUoQAEKUIACFKAABShAAQpQgAKqFGDIrkpNtkUBClCAAhSgAAUoQAEKUIACFKAABShAAQpQgAJ6JcCQXa+Wm5OlAAUoQAEKUIACFKAABShAAQpQgAIUoAAFKEABVQowZFelJtuiAAUoQAEKUIACFKAABShAAQpQgAIUoAAFKEABvRJgyK5Xy83JUoACFKAABShAAQpQgAIUoAAFKEABClCAAhSggCoFGLKrUpNtUYACFKAABShAAQpQgAIUoAAFKEABClCAAhSggF4JMGTXq+XmZClAAQpQgAIUoAAFKEABClCAAhSgAAUoQAEKUECVAgzZVanJtihAAQpQgAIUoAAFKEABClCAAhSgAAUoQAEKUECvBBiy69Vyc7IUoAAFKEABClCAAhSgAAUoQAEKUIACFKAABSigSgGG7KrUZFsUoAAFKEABClCAAhSgAAUoQAEKUIACFKAABSigVwIM2fVquTlZClCAAhSgAAUoQAEKUIACFKAABShAAQpQgAIUUKUAQ3ZVarItClCAAhSgAAUoQAEKUIACFKAABShAAQpQgAIU0CsBhux6tdycLAUoQAEKUIACFKAABShAAQpQgAIUoAAFKEABCqhSgCG7KjXZFgUoQAEKUIACFKAABShAAQpQgAIUoAAFKEABCuiVAEN2vVpuTpYCFKAABShAAQpQgAIUoAAFKEABClCAAhSgAAVUKcCQXZWabIsCFKAABShAAQpQgAIUoAAFKEABClCAAhSgAAX0SoAhu14tNydLAQpQgAIUoAAFKEABClCAAhSgAAUoQAEKUIACqhRgyK5KTbZFAQpQgAIUoAAFKEABClCAAhSgAAUoQAEKUIACeiXAkF2vlpuTpQAFKEABClCAAhSgAAUoQAEKUIACFKAABShAAVUKMGRXpSbbogAFKEABClCAAhSgAAUoQAEKUIACFKAABShAAb0SYMiuV8vNyVKAAhSgAAUoQAEKUIACFKAABShAAQpQgAIUoIAqBRiyq1KTbVGAAhSgAAUoQAEKUIACFKAABShAAQpQgAIUoIBeCTBk16vl5mQpQAEKUIACFKAABShAAQpQgAIUoAAFKEABClBAlQIM2VWpybYoQAEKUIACFKAABShAAQpQgAIUoAAFKEABClBArwQYsuvVcnOyFKAABShAAQpQgAIUoAAFKEABClCAAhSgAAUooEoBhuyq1GRbFKAABShAAQpQgAIUoAAFKEABClCAAhSgAAUooFcCDNn1ark5WQpQgAIUoAAFKEABClCAAhSgAAUoQAEKUIACFFClAEN2VWqyLQpQgAIUoAAFKEABClCAAhSgAAUoQAEKUIACFNArAYbserXcnCwFKEABClCAAhSgAAUoQAEKUIACFKAABShAAQqoUoAhuyo12RYFKEABClCAAhSgAAUoQAEKUIACFKAABShAAQrolQBDdr1abk6WAhSgAAUoQAEKUIAC/9+OHdMAAAAgDPPvGhP7qAESygcBAgQIECBAgAABAgRKASd7qSmLAAECBAgQIECAAAECBAgQIECAAAECBK4EnOxXcytLgAABAgQIECBAgAABAgQIECBAgAABAqWAk73UlEWAAAECBAgQIECAAAECBAgQIECAAAECVwJO9qu5lSVAgAABAgQIECBAgAABAgQIECBAgACBUsDJXmrKIkCAAAECBAgQIECAAAECBAgQIECAAIErASf71dzKEiBAgAC/BjmHAAAC20lEQVQBAgQIECBAgAABAgQIECBAgEAp4GQvNWURIECAAAECBAgQIECAAAECBAgQIECAwJWAk/1qbmUJECBAgAABAgQIECBAgAABAgQIECBAoBRwspeasggQIECAAAECBAgQIECAAAECBAgQIEDgSsDJfjW3sgQIECBAgAABAgQIECBAgAABAgQIECBQCjjZS01ZBAgQIECAAAECBAgQIECAAAECBAgQIHAl4GS/mltZAgQIECBAgAABAgQIECBAgAABAgQIECgFnOylpiwCBAgQIECAAAECBAgQIECAAAECBAgQuBJwsl/NrSwBAgQIECBAgAABAgQIECBAgAABAgQIlAJO9lJTFgECBAgQIECAAAECBAgQIECAAAECBAhcCTjZr+ZWlgABAgQIECBAgAABAgQIECBAgAABAgRKASd7qSmLAAECBAgQIECAAAECBAgQIECAAAECBK4EnOxXcytLgAABAgQIECBAgAABAgQIECBAgAABAqWAk73UlEWAAAECBAgQIECAAAECBAgQIECAAAECVwJO9qu5lSVAgAABAgQIECBAgAABAgQIECBAgACBUsDJXmrKIkCAAAECBAgQIECAAAECBAgQIECAAIErASf71dzKEiBAgAABAgQIECBAgAABAgQIECBAgEAp4GQvNWURIECAAAECBAgQIECAAAECBAgQIECAwJWAk/1qbmUJECBAgAABAgQIECBAgAABAgQIECBAoBRwspeasggQIECAAAECBAgQIECAAAECBAgQIEDgSsDJfjW3sgQIECBAgAABAgQIECBAgAABAgQIECBQCjjZS01ZBAgQIECAAAECBAgQIECAAAECBAgQIHAl4GS/mltZAgQIECBAgAABAgQIECBAgAABAgQIECgFnOylpiwCBAgQIECAAAECBAgQIECAAAECBAgQuBJwsl/NrSwBAgQIECBAgAABAgQIECBAgAABAgQIlAIDhL/eVm3FiGcAAAAASUVORK5CYII=)"
      ],
      "metadata": {
        "id": "JsU-QvXOAICY"
      }
    },
    {
      "cell_type": "markdown",
      "source": [
        "***Respuesta: Los compradores son principalmente del Reino Unido UK, pero hay compradores en todos los continentes.***\n",
        "\n",
        "---"
      ],
      "metadata": {
        "id": "dMG48YMe86yi"
      }
    },
    {
      "cell_type": "markdown",
      "source": [
        "### **Clustering**\n",
        "Vamos a realizar clustering para segmentar a nuestros clientes en diferentes grupos segun sus caracteristicas."
      ],
      "metadata": {
        "id": "alGbgafNL2Ja"
      }
    },
    {
      "cell_type": "markdown",
      "source": [
        "###### ***KMeans***"
      ],
      "metadata": {
        "id": "feR4xzfCL9nx"
      }
    },
    {
      "cell_type": "code",
      "source": [
        "df"
      ],
      "metadata": {
        "colab": {
          "base_uri": "https://localhost:8080/",
          "height": 419
        },
        "id": "pEb7Dj_WN7rA",
        "outputId": "1f30d8ec-533e-47e5-c7c9-59dca7c516f8"
      },
      "execution_count": 124,
      "outputs": [
        {
          "output_type": "execute_result",
          "data": {
            "text/html": [
              "\n",
              "  <div id=\"df-0c362162-14f7-4b13-ae95-2125e58fc247\">\n",
              "    <div class=\"colab-df-container\">\n",
              "      <div>\n",
              "<style scoped>\n",
              "    .dataframe tbody tr th:only-of-type {\n",
              "        vertical-align: middle;\n",
              "    }\n",
              "\n",
              "    .dataframe tbody tr th {\n",
              "        vertical-align: top;\n",
              "    }\n",
              "\n",
              "    .dataframe thead th {\n",
              "        text-align: right;\n",
              "    }\n",
              "</style>\n",
              "<table border=\"1\" class=\"dataframe\">\n",
              "  <thead>\n",
              "    <tr style=\"text-align: right;\">\n",
              "      <th></th>\n",
              "      <th>N° de factura</th>\n",
              "      <th>Fecha de factura</th>\n",
              "      <th>ID Cliente</th>\n",
              "      <th>País</th>\n",
              "      <th>Cantidad</th>\n",
              "      <th>Monto</th>\n",
              "      <th>month</th>\n",
              "      <th>year</th>\n",
              "      <th>pais_codigo</th>\n",
              "    </tr>\n",
              "  </thead>\n",
              "  <tbody>\n",
              "    <tr>\n",
              "      <th>0</th>\n",
              "      <td>548370</td>\n",
              "      <td>2021-03-30 16:14:00</td>\n",
              "      <td>15528.0</td>\n",
              "      <td>United Kingdom</td>\n",
              "      <td>123.0</td>\n",
              "      <td>229.33</td>\n",
              "      <td>3</td>\n",
              "      <td>2021</td>\n",
              "      <td>GBR</td>\n",
              "    </tr>\n",
              "    <tr>\n",
              "      <th>1</th>\n",
              "      <td>575767</td>\n",
              "      <td>2021-11-11 11:11:00</td>\n",
              "      <td>17348.0</td>\n",
              "      <td>United Kingdom</td>\n",
              "      <td>163.0</td>\n",
              "      <td>209.73</td>\n",
              "      <td>11</td>\n",
              "      <td>2021</td>\n",
              "      <td>GBR</td>\n",
              "    </tr>\n",
              "    <tr>\n",
              "      <th>3</th>\n",
              "      <td>549106</td>\n",
              "      <td>2021-04-06 12:08:00</td>\n",
              "      <td>17045.0</td>\n",
              "      <td>United Kingdom</td>\n",
              "      <td>1.0</td>\n",
              "      <td>39.95</td>\n",
              "      <td>4</td>\n",
              "      <td>2021</td>\n",
              "      <td>GBR</td>\n",
              "    </tr>\n",
              "    <tr>\n",
              "      <th>4</th>\n",
              "      <td>573112</td>\n",
              "      <td>2021-10-27 15:33:00</td>\n",
              "      <td>16416.0</td>\n",
              "      <td>United Kingdom</td>\n",
              "      <td>357.0</td>\n",
              "      <td>344.83</td>\n",
              "      <td>10</td>\n",
              "      <td>2021</td>\n",
              "      <td>GBR</td>\n",
              "    </tr>\n",
              "    <tr>\n",
              "      <th>5</th>\n",
              "      <td>576630</td>\n",
              "      <td>2021-11-16 08:38:00</td>\n",
              "      <td>13816.0</td>\n",
              "      <td>Germany</td>\n",
              "      <td>91.0</td>\n",
              "      <td>199.98</td>\n",
              "      <td>11</td>\n",
              "      <td>2021</td>\n",
              "      <td>DEU</td>\n",
              "    </tr>\n",
              "    <tr>\n",
              "      <th>...</th>\n",
              "      <td>...</td>\n",
              "      <td>...</td>\n",
              "      <td>...</td>\n",
              "      <td>...</td>\n",
              "      <td>...</td>\n",
              "      <td>...</td>\n",
              "      <td>...</td>\n",
              "      <td>...</td>\n",
              "      <td>...</td>\n",
              "    </tr>\n",
              "    <tr>\n",
              "      <th>25945</th>\n",
              "      <td>579252</td>\n",
              "      <td>2021-11-28 16:47:00</td>\n",
              "      <td>17450.0</td>\n",
              "      <td>United Kingdom</td>\n",
              "      <td>432.0</td>\n",
              "      <td>1034.40</td>\n",
              "      <td>11</td>\n",
              "      <td>2021</td>\n",
              "      <td>GBR</td>\n",
              "    </tr>\n",
              "    <tr>\n",
              "      <th>25946</th>\n",
              "      <td>574908</td>\n",
              "      <td>2021-11-07 15:37:00</td>\n",
              "      <td>16009.0</td>\n",
              "      <td>United Kingdom</td>\n",
              "      <td>28.0</td>\n",
              "      <td>82.76</td>\n",
              "      <td>11</td>\n",
              "      <td>2021</td>\n",
              "      <td>GBR</td>\n",
              "    </tr>\n",
              "    <tr>\n",
              "      <th>25949</th>\n",
              "      <td>553060</td>\n",
              "      <td>2021-05-13 10:44:00</td>\n",
              "      <td>15826.0</td>\n",
              "      <td>United Kingdom</td>\n",
              "      <td>488.0</td>\n",
              "      <td>720.00</td>\n",
              "      <td>5</td>\n",
              "      <td>2021</td>\n",
              "      <td>GBR</td>\n",
              "    </tr>\n",
              "    <tr>\n",
              "      <th>25950</th>\n",
              "      <td>577049</td>\n",
              "      <td>2021-11-17 13:58:00</td>\n",
              "      <td>17397.0</td>\n",
              "      <td>United Kingdom</td>\n",
              "      <td>104.0</td>\n",
              "      <td>298.78</td>\n",
              "      <td>11</td>\n",
              "      <td>2021</td>\n",
              "      <td>GBR</td>\n",
              "    </tr>\n",
              "    <tr>\n",
              "      <th>25951</th>\n",
              "      <td>550122</td>\n",
              "      <td>2021-04-14 12:39:00</td>\n",
              "      <td>12931.0</td>\n",
              "      <td>United Kingdom</td>\n",
              "      <td>1176.0</td>\n",
              "      <td>1488.00</td>\n",
              "      <td>4</td>\n",
              "      <td>2021</td>\n",
              "      <td>GBR</td>\n",
              "    </tr>\n",
              "  </tbody>\n",
              "</table>\n",
              "<p>18565 rows × 9 columns</p>\n",
              "</div>\n",
              "      <button class=\"colab-df-convert\" onclick=\"convertToInteractive('df-0c362162-14f7-4b13-ae95-2125e58fc247')\"\n",
              "              title=\"Convert this dataframe to an interactive table.\"\n",
              "              style=\"display:none;\">\n",
              "        \n",
              "  <svg xmlns=\"http://www.w3.org/2000/svg\" height=\"24px\"viewBox=\"0 0 24 24\"\n",
              "       width=\"24px\">\n",
              "    <path d=\"M0 0h24v24H0V0z\" fill=\"none\"/>\n",
              "    <path d=\"M18.56 5.44l.94 2.06.94-2.06 2.06-.94-2.06-.94-.94-2.06-.94 2.06-2.06.94zm-11 1L8.5 8.5l.94-2.06 2.06-.94-2.06-.94L8.5 2.5l-.94 2.06-2.06.94zm10 10l.94 2.06.94-2.06 2.06-.94-2.06-.94-.94-2.06-.94 2.06-2.06.94z\"/><path d=\"M17.41 7.96l-1.37-1.37c-.4-.4-.92-.59-1.43-.59-.52 0-1.04.2-1.43.59L10.3 9.45l-7.72 7.72c-.78.78-.78 2.05 0 2.83L4 21.41c.39.39.9.59 1.41.59.51 0 1.02-.2 1.41-.59l7.78-7.78 2.81-2.81c.8-.78.8-2.07 0-2.86zM5.41 20L4 18.59l7.72-7.72 1.47 1.35L5.41 20z\"/>\n",
              "  </svg>\n",
              "      </button>\n",
              "      \n",
              "  <style>\n",
              "    .colab-df-container {\n",
              "      display:flex;\n",
              "      flex-wrap:wrap;\n",
              "      gap: 12px;\n",
              "    }\n",
              "\n",
              "    .colab-df-convert {\n",
              "      background-color: #E8F0FE;\n",
              "      border: none;\n",
              "      border-radius: 50%;\n",
              "      cursor: pointer;\n",
              "      display: none;\n",
              "      fill: #1967D2;\n",
              "      height: 32px;\n",
              "      padding: 0 0 0 0;\n",
              "      width: 32px;\n",
              "    }\n",
              "\n",
              "    .colab-df-convert:hover {\n",
              "      background-color: #E2EBFA;\n",
              "      box-shadow: 0px 1px 2px rgba(60, 64, 67, 0.3), 0px 1px 3px 1px rgba(60, 64, 67, 0.15);\n",
              "      fill: #174EA6;\n",
              "    }\n",
              "\n",
              "    [theme=dark] .colab-df-convert {\n",
              "      background-color: #3B4455;\n",
              "      fill: #D2E3FC;\n",
              "    }\n",
              "\n",
              "    [theme=dark] .colab-df-convert:hover {\n",
              "      background-color: #434B5C;\n",
              "      box-shadow: 0px 1px 3px 1px rgba(0, 0, 0, 0.15);\n",
              "      filter: drop-shadow(0px 1px 2px rgba(0, 0, 0, 0.3));\n",
              "      fill: #FFFFFF;\n",
              "    }\n",
              "  </style>\n",
              "\n",
              "      <script>\n",
              "        const buttonEl =\n",
              "          document.querySelector('#df-0c362162-14f7-4b13-ae95-2125e58fc247 button.colab-df-convert');\n",
              "        buttonEl.style.display =\n",
              "          google.colab.kernel.accessAllowed ? 'block' : 'none';\n",
              "\n",
              "        async function convertToInteractive(key) {\n",
              "          const element = document.querySelector('#df-0c362162-14f7-4b13-ae95-2125e58fc247');\n",
              "          const dataTable =\n",
              "            await google.colab.kernel.invokeFunction('convertToInteractive',\n",
              "                                                     [key], {});\n",
              "          if (!dataTable) return;\n",
              "\n",
              "          const docLinkHtml = 'Like what you see? Visit the ' +\n",
              "            '<a target=\"_blank\" href=https://colab.research.google.com/notebooks/data_table.ipynb>data table notebook</a>'\n",
              "            + ' to learn more about interactive tables.';\n",
              "          element.innerHTML = '';\n",
              "          dataTable['output_type'] = 'display_data';\n",
              "          await google.colab.output.renderOutput(dataTable, element);\n",
              "          const docLink = document.createElement('div');\n",
              "          docLink.innerHTML = docLinkHtml;\n",
              "          element.appendChild(docLink);\n",
              "        }\n",
              "      </script>\n",
              "    </div>\n",
              "  </div>\n",
              "  "
            ],
            "text/plain": [
              "      N° de factura    Fecha de factura ID Cliente  ... month  year  pais_codigo\n",
              "0            548370 2021-03-30 16:14:00    15528.0  ...     3  2021          GBR\n",
              "1            575767 2021-11-11 11:11:00    17348.0  ...    11  2021          GBR\n",
              "3            549106 2021-04-06 12:08:00    17045.0  ...     4  2021          GBR\n",
              "4            573112 2021-10-27 15:33:00    16416.0  ...    10  2021          GBR\n",
              "5            576630 2021-11-16 08:38:00    13816.0  ...    11  2021          DEU\n",
              "...             ...                 ...        ...  ...   ...   ...          ...\n",
              "25945        579252 2021-11-28 16:47:00    17450.0  ...    11  2021          GBR\n",
              "25946        574908 2021-11-07 15:37:00    16009.0  ...    11  2021          GBR\n",
              "25949        553060 2021-05-13 10:44:00    15826.0  ...     5  2021          GBR\n",
              "25950        577049 2021-11-17 13:58:00    17397.0  ...    11  2021          GBR\n",
              "25951        550122 2021-04-14 12:39:00    12931.0  ...     4  2021          GBR\n",
              "\n",
              "[18565 rows x 9 columns]"
            ]
          },
          "metadata": {},
          "execution_count": 124
        }
      ]
    },
    {
      "cell_type": "code",
      "source": [
        "df[\"month_cohort\"] = df[\"Fecha de factura\"].apply(lambda x: x.month if x.year != 2020 else 0)"
      ],
      "metadata": {
        "id": "CoR2w7HqN5JI"
      },
      "execution_count": 125,
      "outputs": []
    },
    {
      "cell_type": "code",
      "source": [
        "df_c = pd.pivot_table(df, index=[\"ID Cliente\"], aggfunc=\"mean\")\n",
        "df_c = df_c.reset_index()"
      ],
      "metadata": {
        "id": "BmZS6WTy4uN3"
      },
      "execution_count": 127,
      "outputs": []
    },
    {
      "cell_type": "code",
      "source": [
        "X = df_c[[\"Cantidad\", \"Monto\", \"month\", \"month_cohort\"]]"
      ],
      "metadata": {
        "id": "McZ0KbRUNDBc"
      },
      "execution_count": 187,
      "outputs": []
    },
    {
      "cell_type": "code",
      "source": [
        "scaler = StandardScaler()\n",
        "scaler = scaler.fit(X)"
      ],
      "metadata": {
        "id": "F7WTln8QNjCv"
      },
      "execution_count": 188,
      "outputs": []
    },
    {
      "cell_type": "code",
      "source": [
        "X = scaler.transform(X)"
      ],
      "metadata": {
        "id": "d___Kk_sNvZC"
      },
      "execution_count": 189,
      "outputs": []
    },
    {
      "cell_type": "code",
      "source": [
        "X"
      ],
      "metadata": {
        "colab": {
          "base_uri": "https://localhost:8080/"
        },
        "id": "oNtCDdJpOmXf",
        "outputId": "b7fbbd58-bf78-4bff-c44f-5b59c0c322cc"
      },
      "execution_count": 190,
      "outputs": [
        {
          "output_type": "execute_result",
          "data": {
            "text/plain": [
              "array([[ 5.63484639e+01,  4.27356072e+01, -1.97474569e+00,\n",
              "        -1.97474569e+00],\n",
              "       [ 7.46632513e-02,  1.09670524e-01, -2.92373688e-01,\n",
              "        -2.92373688e-01],\n",
              "       [ 2.53019747e-01,  1.70319657e-02, -1.10881892e+00,\n",
              "        -1.10881892e+00],\n",
              "       ...,\n",
              "       [-1.53622179e-01, -1.83541492e-01,  1.14259067e+00,\n",
              "         1.14259067e+00],\n",
              "       [-1.26338125e-01, -1.60212653e-01,  1.46774886e-01,\n",
              "         1.46774886e-01],\n",
              "       [ 2.09911258e-01,  1.07840281e-01,  5.65306156e-01,\n",
              "         5.65306156e-01]])"
            ]
          },
          "metadata": {},
          "execution_count": 190
        }
      ]
    },
    {
      "cell_type": "code",
      "source": [
        "pca = PCA(n_components=4)\n",
        "pca = pca.fit(X)"
      ],
      "metadata": {
        "id": "YsBR5Ce8Om_N"
      },
      "execution_count": 191,
      "outputs": []
    },
    {
      "cell_type": "code",
      "source": [
        "sns.lineplot(x=range(pca.n_components_), y=pca.explained_variance_ratio_)"
      ],
      "metadata": {
        "colab": {
          "base_uri": "https://localhost:8080/",
          "height": 557
        },
        "id": "vIM9Nd1pO1qL",
        "outputId": "45d12907-461f-4a3e-de82-c666d5225a14"
      },
      "execution_count": 192,
      "outputs": [
        {
          "output_type": "execute_result",
          "data": {
            "text/plain": [
              "<matplotlib.axes._subplots.AxesSubplot at 0x7f224f840a10>"
            ]
          },
          "metadata": {},
          "execution_count": 192
        },
        {
          "output_type": "display_data",
          "data": {
            "image/png": "[encoded data removed]",
            "text/plain": [
              "<Figure size 1080x648 with 1 Axes>"
            ]
          },
          "metadata": {}
        }
      ]
    },
    {
      "cell_type": "code",
      "source": [
        "pca = PCA(n_components=2)\n",
        "pca = pca.fit(X)"
      ],
      "metadata": {
        "id": "eH-3dlUyPIAa"
      },
      "execution_count": 193,
      "outputs": []
    },
    {
      "cell_type": "code",
      "source": [
        "X = pca.transform(X)"
      ],
      "metadata": {
        "id": "HC47eO5xPctl"
      },
      "execution_count": 194,
      "outputs": []
    },
    {
      "cell_type": "code",
      "source": [
        "X = pd.DataFrame(X)"
      ],
      "metadata": {
        "id": "j1cuRvfcPmjY"
      },
      "execution_count": 195,
      "outputs": []
    },
    {
      "cell_type": "code",
      "source": [
        "sns.scatterplot(x=X[0], y=X[1])"
      ],
      "metadata": {
        "colab": {
          "base_uri": "https://localhost:8080/",
          "height": 574
        },
        "id": "gTriWrBNPgNF",
        "outputId": "7aabf1a6-e89c-405a-e6a8-d06cb89b8503"
      },
      "execution_count": 196,
      "outputs": [
        {
          "output_type": "execute_result",
          "data": {
            "text/plain": [
              "<matplotlib.axes._subplots.AxesSubplot at 0x7f224f7a8050>"
            ]
          },
          "metadata": {},
          "execution_count": 196
        },
        {
          "output_type": "display_data",
          "data": {
            "image/png": "[encoded data removed]",
            "text/plain": [
              "<Figure size 1080x648 with 1 Axes>"
            ]
          },
          "metadata": {}
        }
      ]
    },
    {
      "cell_type": "code",
      "source": [
        "wcss = []\n",
        "for i in range(1, 11):\n",
        "  kmeans = KMeans(n_clusters=i)\n",
        "  kmeans = kmeans.fit(X)\n",
        "  wcss.append(kmeans.inertia_)"
      ],
      "metadata": {
        "id": "slCZsI7RPhAN"
      },
      "execution_count": 197,
      "outputs": []
    },
    {
      "cell_type": "code",
      "source": [
        "sns.lineplot(x=range(1, 11), y=wcss)"
      ],
      "metadata": {
        "colab": {
          "base_uri": "https://localhost:8080/",
          "height": 557
        },
        "id": "3ObsqIP9Q07Y",
        "outputId": "e25d13ba-586c-47bb-892b-9d1719641daf"
      },
      "execution_count": 198,
      "outputs": [
        {
          "output_type": "execute_result",
          "data": {
            "text/plain": [
              "<matplotlib.axes._subplots.AxesSubplot at 0x7f224f71c110>"
            ]
          },
          "metadata": {},
          "execution_count": 198
        },
        {
          "output_type": "display_data",
          "data": {
            "image/png": "[encoded data removed]",
            "text/plain": [
              "<Figure size 1080x648 with 1 Axes>"
            ]
          },
          "metadata": {}
        }
      ]
    },
    {
      "cell_type": "code",
      "source": [
        "kmeans = KMeans(n_clusters=3)\n",
        "kmeans = kmeans.fit(X)"
      ],
      "metadata": {
        "id": "-0F1TngoRM2G"
      },
      "execution_count": 200,
      "outputs": []
    },
    {
      "cell_type": "code",
      "source": [
        "df_c[\"group\"] = kmeans.predict(X)"
      ],
      "metadata": {
        "id": "iSUtJbIhRWCJ"
      },
      "execution_count": 203,
      "outputs": []
    },
    {
      "cell_type": "code",
      "source": [
        "df_c"
      ],
      "metadata": {
        "colab": {
          "base_uri": "https://localhost:8080/",
          "height": 419
        },
        "id": "cJAR32WxRoqy",
        "outputId": "387b6f90-378d-4e4e-b3e6-b09a85f7174c"
      },
      "execution_count": 204,
      "outputs": [
        {
          "output_type": "execute_result",
          "data": {
            "text/html": [
              "\n",
              "  <div id=\"df-a4c7ea11-597a-42b5-88bb-cf0da9a4e2a8\">\n",
              "    <div class=\"colab-df-container\">\n",
              "      <div>\n",
              "<style scoped>\n",
              "    .dataframe tbody tr th:only-of-type {\n",
              "        vertical-align: middle;\n",
              "    }\n",
              "\n",
              "    .dataframe tbody tr th {\n",
              "        vertical-align: top;\n",
              "    }\n",
              "\n",
              "    .dataframe thead th {\n",
              "        text-align: right;\n",
              "    }\n",
              "</style>\n",
              "<table border=\"1\" class=\"dataframe\">\n",
              "  <thead>\n",
              "    <tr style=\"text-align: right;\">\n",
              "      <th></th>\n",
              "      <th>ID Cliente</th>\n",
              "      <th>Cantidad</th>\n",
              "      <th>Monto</th>\n",
              "      <th>month</th>\n",
              "      <th>month_cohort</th>\n",
              "      <th>year</th>\n",
              "      <th>group</th>\n",
              "    </tr>\n",
              "  </thead>\n",
              "  <tbody>\n",
              "    <tr>\n",
              "      <th>0</th>\n",
              "      <td>12346.0</td>\n",
              "      <td>74215.000000</td>\n",
              "      <td>77183.600000</td>\n",
              "      <td>1.000000</td>\n",
              "      <td>1.000000</td>\n",
              "      <td>2021.000000</td>\n",
              "      <td>2</td>\n",
              "    </tr>\n",
              "    <tr>\n",
              "      <th>1</th>\n",
              "      <td>12347.0</td>\n",
              "      <td>351.142857</td>\n",
              "      <td>615.714286</td>\n",
              "      <td>5.857143</td>\n",
              "      <td>5.857143</td>\n",
              "      <td>2020.857143</td>\n",
              "      <td>1</td>\n",
              "    </tr>\n",
              "    <tr>\n",
              "      <th>2</th>\n",
              "      <td>12348.0</td>\n",
              "      <td>585.250000</td>\n",
              "      <td>449.310000</td>\n",
              "      <td>3.500000</td>\n",
              "      <td>3.500000</td>\n",
              "      <td>2020.750000</td>\n",
              "      <td>1</td>\n",
              "    </tr>\n",
              "    <tr>\n",
              "      <th>3</th>\n",
              "      <td>12349.0</td>\n",
              "      <td>631.000000</td>\n",
              "      <td>1757.550000</td>\n",
              "      <td>11.000000</td>\n",
              "      <td>11.000000</td>\n",
              "      <td>2021.000000</td>\n",
              "      <td>0</td>\n",
              "    </tr>\n",
              "    <tr>\n",
              "      <th>4</th>\n",
              "      <td>12350.0</td>\n",
              "      <td>197.000000</td>\n",
              "      <td>334.400000</td>\n",
              "      <td>2.000000</td>\n",
              "      <td>2.000000</td>\n",
              "      <td>2021.000000</td>\n",
              "      <td>1</td>\n",
              "    </tr>\n",
              "    <tr>\n",
              "      <th>...</th>\n",
              "      <td>...</td>\n",
              "      <td>...</td>\n",
              "      <td>...</td>\n",
              "      <td>...</td>\n",
              "      <td>...</td>\n",
              "      <td>...</td>\n",
              "      <td>...</td>\n",
              "    </tr>\n",
              "    <tr>\n",
              "      <th>4333</th>\n",
              "      <td>18280.0</td>\n",
              "      <td>45.000000</td>\n",
              "      <td>180.600000</td>\n",
              "      <td>3.000000</td>\n",
              "      <td>3.000000</td>\n",
              "      <td>2021.000000</td>\n",
              "      <td>1</td>\n",
              "    </tr>\n",
              "    <tr>\n",
              "      <th>4334</th>\n",
              "      <td>18281.0</td>\n",
              "      <td>54.000000</td>\n",
              "      <td>80.820000</td>\n",
              "      <td>6.000000</td>\n",
              "      <td>6.000000</td>\n",
              "      <td>2021.000000</td>\n",
              "      <td>1</td>\n",
              "    </tr>\n",
              "    <tr>\n",
              "      <th>4335</th>\n",
              "      <td>18282.0</td>\n",
              "      <td>51.500000</td>\n",
              "      <td>89.025000</td>\n",
              "      <td>10.000000</td>\n",
              "      <td>10.000000</td>\n",
              "      <td>2021.000000</td>\n",
              "      <td>0</td>\n",
              "    </tr>\n",
              "    <tr>\n",
              "      <th>4336</th>\n",
              "      <td>18283.0</td>\n",
              "      <td>87.312500</td>\n",
              "      <td>130.930000</td>\n",
              "      <td>7.125000</td>\n",
              "      <td>7.125000</td>\n",
              "      <td>2021.000000</td>\n",
              "      <td>0</td>\n",
              "    </tr>\n",
              "    <tr>\n",
              "      <th>4337</th>\n",
              "      <td>18287.0</td>\n",
              "      <td>528.666667</td>\n",
              "      <td>612.426667</td>\n",
              "      <td>8.333333</td>\n",
              "      <td>8.333333</td>\n",
              "      <td>2021.000000</td>\n",
              "      <td>0</td>\n",
              "    </tr>\n",
              "  </tbody>\n",
              "</table>\n",
              "<p>4338 rows × 7 columns</p>\n",
              "</div>\n",
              "      <button class=\"colab-df-convert\" onclick=\"convertToInteractive('df-a4c7ea11-597a-42b5-88bb-cf0da9a4e2a8')\"\n",
              "              title=\"Convert this dataframe to an interactive table.\"\n",
              "              style=\"display:none;\">\n",
              "        \n",
              "  <svg xmlns=\"http://www.w3.org/2000/svg\" height=\"24px\"viewBox=\"0 0 24 24\"\n",
              "       width=\"24px\">\n",
              "    <path d=\"M0 0h24v24H0V0z\" fill=\"none\"/>\n",
              "    <path d=\"M18.56 5.44l.94 2.06.94-2.06 2.06-.94-2.06-.94-.94-2.06-.94 2.06-2.06.94zm-11 1L8.5 8.5l.94-2.06 2.06-.94-2.06-.94L8.5 2.5l-.94 2.06-2.06.94zm10 10l.94 2.06.94-2.06 2.06-.94-2.06-.94-.94-2.06-.94 2.06-2.06.94z\"/><path d=\"M17.41 7.96l-1.37-1.37c-.4-.4-.92-.59-1.43-.59-.52 0-1.04.2-1.43.59L10.3 9.45l-7.72 7.72c-.78.78-.78 2.05 0 2.83L4 21.41c.39.39.9.59 1.41.59.51 0 1.02-.2 1.41-.59l7.78-7.78 2.81-2.81c.8-.78.8-2.07 0-2.86zM5.41 20L4 18.59l7.72-7.72 1.47 1.35L5.41 20z\"/>\n",
              "  </svg>\n",
              "      </button>\n",
              "      \n",
              "  <style>\n",
              "    .colab-df-container {\n",
              "      display:flex;\n",
              "      flex-wrap:wrap;\n",
              "      gap: 12px;\n",
              "    }\n",
              "\n",
              "    .colab-df-convert {\n",
              "      background-color: #E8F0FE;\n",
              "      border: none;\n",
              "      border-radius: 50%;\n",
              "      cursor: pointer;\n",
              "      display: none;\n",
              "      fill: #1967D2;\n",
              "      height: 32px;\n",
              "      padding: 0 0 0 0;\n",
              "      width: 32px;\n",
              "    }\n",
              "\n",
              "    .colab-df-convert:hover {\n",
              "      background-color: #E2EBFA;\n",
              "      box-shadow: 0px 1px 2px rgba(60, 64, 67, 0.3), 0px 1px 3px 1px rgba(60, 64, 67, 0.15);\n",
              "      fill: #174EA6;\n",
              "    }\n",
              "\n",
              "    [theme=dark] .colab-df-convert {\n",
              "      background-color: #3B4455;\n",
              "      fill: #D2E3FC;\n",
              "    }\n",
              "\n",
              "    [theme=dark] .colab-df-convert:hover {\n",
              "      background-color: #434B5C;\n",
              "      box-shadow: 0px 1px 3px 1px rgba(0, 0, 0, 0.15);\n",
              "      filter: drop-shadow(0px 1px 2px rgba(0, 0, 0, 0.3));\n",
              "      fill: #FFFFFF;\n",
              "    }\n",
              "  </style>\n",
              "\n",
              "      <script>\n",
              "        const buttonEl =\n",
              "          document.querySelector('#df-a4c7ea11-597a-42b5-88bb-cf0da9a4e2a8 button.colab-df-convert');\n",
              "        buttonEl.style.display =\n",
              "          google.colab.kernel.accessAllowed ? 'block' : 'none';\n",
              "\n",
              "        async function convertToInteractive(key) {\n",
              "          const element = document.querySelector('#df-a4c7ea11-597a-42b5-88bb-cf0da9a4e2a8');\n",
              "          const dataTable =\n",
              "            await google.colab.kernel.invokeFunction('convertToInteractive',\n",
              "                                                     [key], {});\n",
              "          if (!dataTable) return;\n",
              "\n",
              "          const docLinkHtml = 'Like what you see? Visit the ' +\n",
              "            '<a target=\"_blank\" href=https://colab.research.google.com/notebooks/data_table.ipynb>data table notebook</a>'\n",
              "            + ' to learn more about interactive tables.';\n",
              "          element.innerHTML = '';\n",
              "          dataTable['output_type'] = 'display_data';\n",
              "          await google.colab.output.renderOutput(dataTable, element);\n",
              "          const docLink = document.createElement('div');\n",
              "          docLink.innerHTML = docLinkHtml;\n",
              "          element.appendChild(docLink);\n",
              "        }\n",
              "      </script>\n",
              "    </div>\n",
              "  </div>\n",
              "  "
            ],
            "text/plain": [
              "     ID Cliente      Cantidad         Monto  ...  month_cohort         year  group\n",
              "0       12346.0  74215.000000  77183.600000  ...      1.000000  2021.000000      2\n",
              "1       12347.0    351.142857    615.714286  ...      5.857143  2020.857143      1\n",
              "2       12348.0    585.250000    449.310000  ...      3.500000  2020.750000      1\n",
              "3       12349.0    631.000000   1757.550000  ...     11.000000  2021.000000      0\n",
              "4       12350.0    197.000000    334.400000  ...      2.000000  2021.000000      1\n",
              "...         ...           ...           ...  ...           ...          ...    ...\n",
              "4333    18280.0     45.000000    180.600000  ...      3.000000  2021.000000      1\n",
              "4334    18281.0     54.000000     80.820000  ...      6.000000  2021.000000      1\n",
              "4335    18282.0     51.500000     89.025000  ...     10.000000  2021.000000      0\n",
              "4336    18283.0     87.312500    130.930000  ...      7.125000  2021.000000      0\n",
              "4337    18287.0    528.666667    612.426667  ...      8.333333  2021.000000      0\n",
              "\n",
              "[4338 rows x 7 columns]"
            ]
          },
          "metadata": {},
          "execution_count": 204
        }
      ]
    },
    {
      "cell_type": "code",
      "source": [
        "sns.scatterplot(x=X[0], y=X[1], hue=kmeans.predict(X))"
      ],
      "metadata": {
        "colab": {
          "base_uri": "https://localhost:8080/",
          "height": 574
        },
        "id": "o_NfR0aXRsN6",
        "outputId": "6781ce4c-8a52-4a0a-edce-5f8d87008fcd"
      },
      "execution_count": 205,
      "outputs": [
        {
          "output_type": "execute_result",
          "data": {
            "text/plain": [
              "<matplotlib.axes._subplots.AxesSubplot at 0x7f224ce22050>"
            ]
          },
          "metadata": {},
          "execution_count": 205
        },
        {
          "output_type": "display_data",
          "data": {
            "image/png": "[encoded data removed]",
            "text/plain": [
              "<Figure size 1080x648 with 1 Axes>"
            ]
          },
          "metadata": {}
        }
      ]
    },
    {
      "cell_type": "code",
      "source": [
        ""
      ],
      "metadata": {
        "id": "qAmt69DYR8u9"
      },
      "execution_count": null,
      "outputs": []
    }
  ]
}